{
 "cells": [
  {
   "metadata": {},
   "cell_type": "markdown",
   "source": "## specifically: stride time (cadence and stride length should be redundant)",
   "id": "fb407ae3a1fb260a"
  },
  {
   "cell_type": "code",
   "id": "initial_id",
   "metadata": {
    "collapsed": true,
    "ExecuteTime": {
     "end_time": "2025-04-02T11:34:30.298224Z",
     "start_time": "2025-04-02T11:34:30.025828Z"
    }
   },
   "source": [
    "import json\n",
    "from pathlib import Path\n",
    "\n",
    "import biopsykit as bp\n",
    "import matplotlib.pyplot as plt\n",
    "import pandas as pd\n",
    "import pingouin as pg\n",
    "import seaborn as sns\n",
    "from biopsykit.questionnaires.utils import compute_scores, wide_to_long\n",
    "from biopsykit.utils.dataframe_handling import convert_nan\n",
    "from fau_colors import cmaps, register_fausans_font\n",
    "\n",
    "from stressgait_analysis.dataset import StressGaitDataset\n",
    "\n",
    "%matplotlib widget\n",
    "%load_ext autoreload\n",
    "%autoreload 2\n",
    "from stressgait_analysis.gait_helper_functions import compute_HS\n",
    "import numpy as np\n",
    "import warnings\n",
    "warnings.simplefilter(action='ignore')"
   ],
   "outputs": [],
   "execution_count": 1
  },
  {
   "metadata": {
    "ExecuteTime": {
     "end_time": "2025-04-02T11:13:00.920842Z",
     "start_time": "2025-04-02T11:12:59.853018Z"
    }
   },
   "cell_type": "code",
   "source": [
    "plt.close(\"all\")\n",
    "\n",
    "palette = sns.color_palette(cmaps.faculties_light)\n",
    "sns.set_theme(context=\"notebook\", style=\"ticks\", font=\"sans-serif\", palette=palette)\n",
    "\n",
    "plt.rcParams[\"figure.figsize\"] = (10, 5)\n",
    "plt.rcParams[\"pdf.fonttype\"] = 42\n",
    "plt.rcParams[\"mathtext.default\"] = \"regular\"\n",
    "plt.rcParams[\"font.family\"] = \"sans-serif\"\n",
    "#plt.rcParams[\"font.sans-serif\"] = \"FAUSans Office\"\n",
    "\n",
    "palette"
   ],
   "id": "c09a6675f9fb4603",
   "outputs": [
    {
     "data": {
      "text/plain": [
       "[(0.37254901960784315, 0.48627450980392156, 0.6392156862745098),\n",
       " (0.6666666666666666, 0.7647058823529411, 0.8196078431372549),\n",
       " (1.0, 0.8235294117647058, 0.44313725490196076),\n",
       " (0.37254901960784315, 0.7725490196078432, 0.9254901960784314),\n",
       " (0.5372549019607843, 0.803921568627451, 0.4745098039215686),\n",
       " (0.8627450980392157, 0.4117647058823529, 0.48627450980392156)]"
      ],
      "text/html": [
       "<svg  width=\"330\" height=\"55\"><rect x=\"0\" y=\"0\" width=\"55\" height=\"55\" style=\"fill:#5f7ca3;stroke-width:2;stroke:rgb(255,255,255)\"/><rect x=\"55\" y=\"0\" width=\"55\" height=\"55\" style=\"fill:#aac3d1;stroke-width:2;stroke:rgb(255,255,255)\"/><rect x=\"110\" y=\"0\" width=\"55\" height=\"55\" style=\"fill:#ffd271;stroke-width:2;stroke:rgb(255,255,255)\"/><rect x=\"165\" y=\"0\" width=\"55\" height=\"55\" style=\"fill:#5fc5ec;stroke-width:2;stroke:rgb(255,255,255)\"/><rect x=\"220\" y=\"0\" width=\"55\" height=\"55\" style=\"fill:#89cd79;stroke-width:2;stroke:rgb(255,255,255)\"/><rect x=\"275\" y=\"0\" width=\"55\" height=\"55\" style=\"fill:#dc697c;stroke-width:2;stroke:rgb(255,255,255)\"/></svg>"
      ]
     },
     "execution_count": 2,
     "metadata": {},
     "output_type": "execute_result"
    }
   ],
   "execution_count": 2
  },
  {
   "metadata": {
    "ExecuteTime": {
     "end_time": "2025-04-02T11:13:03.502181Z",
     "start_time": "2025-04-02T11:13:03.489173Z"
    }
   },
   "cell_type": "code",
   "source": [
    "deploy_type = \"local\"\n",
    "\n",
    "config_dict = json.load(Path(\"../../config.json\").open(encoding=\"utf-8\"))\n",
    "\n",
    "base_path = Path(config_dict[deploy_type][\"base_path\"])\n",
    "gait_data_path = Path(config_dict[deploy_type][\"gait_data_path\"])\n",
    "\n",
    "base_path"
   ],
   "id": "5c717bdece26e361",
   "outputs": [
    {
     "data": {
      "text/plain": [
       "PosixPath('/home/rzlin/ys64ofuj/Data/StressGait/Data')"
      ]
     },
     "execution_count": 3,
     "metadata": {},
     "output_type": "execute_result"
    }
   ],
   "execution_count": 3
  },
  {
   "metadata": {
    "ExecuteTime": {
     "end_time": "2025-04-02T11:13:05.748637Z",
     "start_time": "2025-04-02T11:13:05.735056Z"
    }
   },
   "cell_type": "code",
   "source": "dataset = StressGaitDataset(base_path, coarse_condition=True, gait_data_path=gait_data_path, specify_bouts=True, specify_speed=True)",
   "id": "d3213df16abc01b0",
   "outputs": [],
   "execution_count": 4
  },
  {
   "metadata": {},
   "cell_type": "markdown",
   "source": "## computation",
   "id": "2b79f00b8ddf9f39"
  },
  {
   "metadata": {
    "ExecuteTime": {
     "end_time": "2025-04-02T11:13:33.604818Z",
     "start_time": "2025-04-02T11:13:14.167569Z"
    }
   },
   "cell_type": "code",
   "source": [
    "data = []\n",
    "for trial in dataset:\n",
    "\n",
    "    keypoints = trial.load_keypoint_trajectories()\n",
    "    hs_events = compute_HS(keypoints)\n",
    "    hs_events = [i for i in hs_events if i > 30]\n",
    "    stride_times = np.diff(hs_events)\n",
    "    data.extend([\n",
    "        (*trial.index.values[0], i, st)\n",
    "        for i, st in zip(range(len(stride_times)), stride_times)\n",
    "    ])"
   ],
   "id": "a5b67b688998e44d",
   "outputs": [],
   "execution_count": 5
  },
  {
   "metadata": {},
   "cell_type": "markdown",
   "source": "## store as multilevel df",
   "id": "25432729b8308c8e"
  },
  {
   "metadata": {
    "ExecuteTime": {
     "end_time": "2025-04-02T11:15:37.076535Z",
     "start_time": "2025-04-02T11:15:37.042801Z"
    }
   },
   "cell_type": "code",
   "source": [
    "stride_df = pd.DataFrame(data, columns=[*dataset.index.columns, \"stride_idx\", \"stride_time\"])\n",
    "stride_df.set_index([*dataset.index.columns, \"stride_idx\"], inplace=True)\n",
    "filename = dataset.base_path.joinpath(\"kinematics/stride_times.csv\")\n",
    "stride_df.to_csv(filename)"
   ],
   "id": "2fa8ecc5728e4fbc",
   "outputs": [],
   "execution_count": 9
  },
  {
   "metadata": {
    "ExecuteTime": {
     "end_time": "2025-04-02T11:23:24.697251Z",
     "start_time": "2025-04-02T11:23:24.680272Z"
    }
   },
   "cell_type": "code",
   "outputs": [
    {
     "data": {
      "text/plain": [
       "                       stride_time\n",
       "participant condition             \n",
       "VP_01       omc           1.169091\n",
       "VP_02       control       1.121491\n",
       "VP_05       control       1.134398\n",
       "VP_06       omc           1.135896\n",
       "VP_07       control       1.128527\n",
       "VP_08       control       1.230708\n",
       "VP_11       control       1.095589\n",
       "VP_12       control       1.130466\n",
       "VP_13       omc           1.132073\n",
       "VP_15       control       1.139115\n",
       "VP_16       control       1.075086\n",
       "VP_17       omc           1.156976\n",
       "VP_18       control       1.184986\n",
       "VP_19       omc           1.191063\n",
       "VP_20       omc           1.109594\n",
       "VP_22       omc           1.268812\n",
       "VP_23       control       1.166898\n",
       "VP_24       control       1.141514\n",
       "VP_25       control       1.079356\n",
       "VP_26       omc           1.196603\n",
       "VP_27       control       1.326201\n",
       "VP_28       control       1.230254\n",
       "VP_29       omc           1.184932\n",
       "VP_30       control       1.181463\n",
       "VP_31       control       1.111777\n",
       "VP_32       control       1.129922\n",
       "VP_33       control       1.225955\n",
       "VP_34       control       1.273411\n",
       "VP_35       omc           1.050769\n",
       "VP_36       omc           1.287906\n",
       "VP_37       omc           1.224930\n",
       "VP_38       omc           1.150895\n",
       "VP_40       omc           1.221229\n",
       "VP_41       omc           1.371724\n",
       "VP_42       omc           1.184715\n",
       "VP_43       omc           1.173978\n",
       "VP_44       omc           1.174477\n",
       "VP_45       omc           1.224314\n",
       "VP_46       control       1.064854\n",
       "VP_47       omc           1.156931"
      ],
      "text/html": [
       "<div>\n",
       "<style scoped>\n",
       "    .dataframe tbody tr th:only-of-type {\n",
       "        vertical-align: middle;\n",
       "    }\n",
       "\n",
       "    .dataframe tbody tr th {\n",
       "        vertical-align: top;\n",
       "    }\n",
       "\n",
       "    .dataframe thead th {\n",
       "        text-align: right;\n",
       "    }\n",
       "</style>\n",
       "<table border=\"1\" class=\"dataframe\">\n",
       "  <thead>\n",
       "    <tr style=\"text-align: right;\">\n",
       "      <th></th>\n",
       "      <th></th>\n",
       "      <th>stride_time</th>\n",
       "    </tr>\n",
       "    <tr>\n",
       "      <th>participant</th>\n",
       "      <th>condition</th>\n",
       "      <th></th>\n",
       "    </tr>\n",
       "  </thead>\n",
       "  <tbody>\n",
       "    <tr>\n",
       "      <th>VP_01</th>\n",
       "      <th>omc</th>\n",
       "      <td>1.169091</td>\n",
       "    </tr>\n",
       "    <tr>\n",
       "      <th>VP_02</th>\n",
       "      <th>control</th>\n",
       "      <td>1.121491</td>\n",
       "    </tr>\n",
       "    <tr>\n",
       "      <th>VP_05</th>\n",
       "      <th>control</th>\n",
       "      <td>1.134398</td>\n",
       "    </tr>\n",
       "    <tr>\n",
       "      <th>VP_06</th>\n",
       "      <th>omc</th>\n",
       "      <td>1.135896</td>\n",
       "    </tr>\n",
       "    <tr>\n",
       "      <th>VP_07</th>\n",
       "      <th>control</th>\n",
       "      <td>1.128527</td>\n",
       "    </tr>\n",
       "    <tr>\n",
       "      <th>VP_08</th>\n",
       "      <th>control</th>\n",
       "      <td>1.230708</td>\n",
       "    </tr>\n",
       "    <tr>\n",
       "      <th>VP_11</th>\n",
       "      <th>control</th>\n",
       "      <td>1.095589</td>\n",
       "    </tr>\n",
       "    <tr>\n",
       "      <th>VP_12</th>\n",
       "      <th>control</th>\n",
       "      <td>1.130466</td>\n",
       "    </tr>\n",
       "    <tr>\n",
       "      <th>VP_13</th>\n",
       "      <th>omc</th>\n",
       "      <td>1.132073</td>\n",
       "    </tr>\n",
       "    <tr>\n",
       "      <th>VP_15</th>\n",
       "      <th>control</th>\n",
       "      <td>1.139115</td>\n",
       "    </tr>\n",
       "    <tr>\n",
       "      <th>VP_16</th>\n",
       "      <th>control</th>\n",
       "      <td>1.075086</td>\n",
       "    </tr>\n",
       "    <tr>\n",
       "      <th>VP_17</th>\n",
       "      <th>omc</th>\n",
       "      <td>1.156976</td>\n",
       "    </tr>\n",
       "    <tr>\n",
       "      <th>VP_18</th>\n",
       "      <th>control</th>\n",
       "      <td>1.184986</td>\n",
       "    </tr>\n",
       "    <tr>\n",
       "      <th>VP_19</th>\n",
       "      <th>omc</th>\n",
       "      <td>1.191063</td>\n",
       "    </tr>\n",
       "    <tr>\n",
       "      <th>VP_20</th>\n",
       "      <th>omc</th>\n",
       "      <td>1.109594</td>\n",
       "    </tr>\n",
       "    <tr>\n",
       "      <th>VP_22</th>\n",
       "      <th>omc</th>\n",
       "      <td>1.268812</td>\n",
       "    </tr>\n",
       "    <tr>\n",
       "      <th>VP_23</th>\n",
       "      <th>control</th>\n",
       "      <td>1.166898</td>\n",
       "    </tr>\n",
       "    <tr>\n",
       "      <th>VP_24</th>\n",
       "      <th>control</th>\n",
       "      <td>1.141514</td>\n",
       "    </tr>\n",
       "    <tr>\n",
       "      <th>VP_25</th>\n",
       "      <th>control</th>\n",
       "      <td>1.079356</td>\n",
       "    </tr>\n",
       "    <tr>\n",
       "      <th>VP_26</th>\n",
       "      <th>omc</th>\n",
       "      <td>1.196603</td>\n",
       "    </tr>\n",
       "    <tr>\n",
       "      <th>VP_27</th>\n",
       "      <th>control</th>\n",
       "      <td>1.326201</td>\n",
       "    </tr>\n",
       "    <tr>\n",
       "      <th>VP_28</th>\n",
       "      <th>control</th>\n",
       "      <td>1.230254</td>\n",
       "    </tr>\n",
       "    <tr>\n",
       "      <th>VP_29</th>\n",
       "      <th>omc</th>\n",
       "      <td>1.184932</td>\n",
       "    </tr>\n",
       "    <tr>\n",
       "      <th>VP_30</th>\n",
       "      <th>control</th>\n",
       "      <td>1.181463</td>\n",
       "    </tr>\n",
       "    <tr>\n",
       "      <th>VP_31</th>\n",
       "      <th>control</th>\n",
       "      <td>1.111777</td>\n",
       "    </tr>\n",
       "    <tr>\n",
       "      <th>VP_32</th>\n",
       "      <th>control</th>\n",
       "      <td>1.129922</td>\n",
       "    </tr>\n",
       "    <tr>\n",
       "      <th>VP_33</th>\n",
       "      <th>control</th>\n",
       "      <td>1.225955</td>\n",
       "    </tr>\n",
       "    <tr>\n",
       "      <th>VP_34</th>\n",
       "      <th>control</th>\n",
       "      <td>1.273411</td>\n",
       "    </tr>\n",
       "    <tr>\n",
       "      <th>VP_35</th>\n",
       "      <th>omc</th>\n",
       "      <td>1.050769</td>\n",
       "    </tr>\n",
       "    <tr>\n",
       "      <th>VP_36</th>\n",
       "      <th>omc</th>\n",
       "      <td>1.287906</td>\n",
       "    </tr>\n",
       "    <tr>\n",
       "      <th>VP_37</th>\n",
       "      <th>omc</th>\n",
       "      <td>1.224930</td>\n",
       "    </tr>\n",
       "    <tr>\n",
       "      <th>VP_38</th>\n",
       "      <th>omc</th>\n",
       "      <td>1.150895</td>\n",
       "    </tr>\n",
       "    <tr>\n",
       "      <th>VP_40</th>\n",
       "      <th>omc</th>\n",
       "      <td>1.221229</td>\n",
       "    </tr>\n",
       "    <tr>\n",
       "      <th>VP_41</th>\n",
       "      <th>omc</th>\n",
       "      <td>1.371724</td>\n",
       "    </tr>\n",
       "    <tr>\n",
       "      <th>VP_42</th>\n",
       "      <th>omc</th>\n",
       "      <td>1.184715</td>\n",
       "    </tr>\n",
       "    <tr>\n",
       "      <th>VP_43</th>\n",
       "      <th>omc</th>\n",
       "      <td>1.173978</td>\n",
       "    </tr>\n",
       "    <tr>\n",
       "      <th>VP_44</th>\n",
       "      <th>omc</th>\n",
       "      <td>1.174477</td>\n",
       "    </tr>\n",
       "    <tr>\n",
       "      <th>VP_45</th>\n",
       "      <th>omc</th>\n",
       "      <td>1.224314</td>\n",
       "    </tr>\n",
       "    <tr>\n",
       "      <th>VP_46</th>\n",
       "      <th>control</th>\n",
       "      <td>1.064854</td>\n",
       "    </tr>\n",
       "    <tr>\n",
       "      <th>VP_47</th>\n",
       "      <th>omc</th>\n",
       "      <td>1.156931</td>\n",
       "    </tr>\n",
       "  </tbody>\n",
       "</table>\n",
       "</div>"
      ]
     },
     "execution_count": 36,
     "metadata": {},
     "output_type": "execute_result"
    }
   ],
   "execution_count": 36,
   "source": [
    "mean_stride_time = stride_df.groupby([\"participant\", \"condition\"]).mean()\n",
    "stride_time_variability = stride_df.groupby([\"participant\", \"condition\"]).std()\n",
    "mean_stride_time"
   ],
   "id": "e01496065030c4ec"
  },
  {
   "metadata": {
    "ExecuteTime": {
     "end_time": "2025-04-02T11:22:27.662596Z",
     "start_time": "2025-04-02T11:22:27.648500Z"
    }
   },
   "cell_type": "code",
   "outputs": [
    {
     "data": {
      "text/plain": [
       "           stride_time\n",
       "condition             \n",
       "control       1.158599\n",
       "omc           1.188345"
      ],
      "text/html": [
       "<div>\n",
       "<style scoped>\n",
       "    .dataframe tbody tr th:only-of-type {\n",
       "        vertical-align: middle;\n",
       "    }\n",
       "\n",
       "    .dataframe tbody tr th {\n",
       "        vertical-align: top;\n",
       "    }\n",
       "\n",
       "    .dataframe thead th {\n",
       "        text-align: right;\n",
       "    }\n",
       "</style>\n",
       "<table border=\"1\" class=\"dataframe\">\n",
       "  <thead>\n",
       "    <tr style=\"text-align: right;\">\n",
       "      <th></th>\n",
       "      <th>stride_time</th>\n",
       "    </tr>\n",
       "    <tr>\n",
       "      <th>condition</th>\n",
       "      <th></th>\n",
       "    </tr>\n",
       "  </thead>\n",
       "  <tbody>\n",
       "    <tr>\n",
       "      <th>control</th>\n",
       "      <td>1.158599</td>\n",
       "    </tr>\n",
       "    <tr>\n",
       "      <th>omc</th>\n",
       "      <td>1.188345</td>\n",
       "    </tr>\n",
       "  </tbody>\n",
       "</table>\n",
       "</div>"
      ]
     },
     "execution_count": 31,
     "metadata": {},
     "output_type": "execute_result"
    }
   ],
   "execution_count": 31,
   "source": [
    "mean = mean_stride_time.groupby([\"condition\"]).mean()\n",
    "mean"
   ],
   "id": "ca06a796a435a5d2"
  },
  {
   "metadata": {
    "ExecuteTime": {
     "end_time": "2025-04-02T11:22:28.930317Z",
     "start_time": "2025-04-02T11:22:28.914933Z"
    }
   },
   "cell_type": "code",
   "outputs": [
    {
     "data": {
      "text/plain": [
       "                W      pval  normal\n",
       "control  0.929832  0.153271    True\n",
       "omc      0.944561  0.291953    True"
      ],
      "text/html": [
       "<div>\n",
       "<style scoped>\n",
       "    .dataframe tbody tr th:only-of-type {\n",
       "        vertical-align: middle;\n",
       "    }\n",
       "\n",
       "    .dataframe tbody tr th {\n",
       "        vertical-align: top;\n",
       "    }\n",
       "\n",
       "    .dataframe thead th {\n",
       "        text-align: right;\n",
       "    }\n",
       "</style>\n",
       "<table border=\"1\" class=\"dataframe\">\n",
       "  <thead>\n",
       "    <tr style=\"text-align: right;\">\n",
       "      <th></th>\n",
       "      <th>W</th>\n",
       "      <th>pval</th>\n",
       "      <th>normal</th>\n",
       "    </tr>\n",
       "  </thead>\n",
       "  <tbody>\n",
       "    <tr>\n",
       "      <th>control</th>\n",
       "      <td>0.929832</td>\n",
       "      <td>0.153271</td>\n",
       "      <td>True</td>\n",
       "    </tr>\n",
       "    <tr>\n",
       "      <th>omc</th>\n",
       "      <td>0.944561</td>\n",
       "      <td>0.291953</td>\n",
       "      <td>True</td>\n",
       "    </tr>\n",
       "  </tbody>\n",
       "</table>\n",
       "</div>"
      ]
     },
     "execution_count": 32,
     "metadata": {},
     "output_type": "execute_result"
    }
   ],
   "execution_count": 32,
   "source": [
    "normality_results = mean_stride_time.groupby(['condition'], group_keys=False)[\"stride_time\"].apply(lambda g: pg.normality(g))\n",
    "normality_results"
   ],
   "id": "1c61f1cefe2f80bf"
  },
  {
   "metadata": {
    "ExecuteTime": {
     "end_time": "2025-04-02T11:22:30.021457Z",
     "start_time": "2025-04-02T11:22:30.004738Z"
    }
   },
   "cell_type": "code",
   "outputs": [
    {
     "data": {
      "text/plain": [
       "                W          pval  normal\n",
       "control  0.957412  4.935340e-01    True\n",
       "omc      0.551474  9.627790e-07   False"
      ],
      "text/html": [
       "<div>\n",
       "<style scoped>\n",
       "    .dataframe tbody tr th:only-of-type {\n",
       "        vertical-align: middle;\n",
       "    }\n",
       "\n",
       "    .dataframe tbody tr th {\n",
       "        vertical-align: top;\n",
       "    }\n",
       "\n",
       "    .dataframe thead th {\n",
       "        text-align: right;\n",
       "    }\n",
       "</style>\n",
       "<table border=\"1\" class=\"dataframe\">\n",
       "  <thead>\n",
       "    <tr style=\"text-align: right;\">\n",
       "      <th></th>\n",
       "      <th>W</th>\n",
       "      <th>pval</th>\n",
       "      <th>normal</th>\n",
       "    </tr>\n",
       "  </thead>\n",
       "  <tbody>\n",
       "    <tr>\n",
       "      <th>control</th>\n",
       "      <td>0.957412</td>\n",
       "      <td>4.935340e-01</td>\n",
       "      <td>True</td>\n",
       "    </tr>\n",
       "    <tr>\n",
       "      <th>omc</th>\n",
       "      <td>0.551474</td>\n",
       "      <td>9.627790e-07</td>\n",
       "      <td>False</td>\n",
       "    </tr>\n",
       "  </tbody>\n",
       "</table>\n",
       "</div>"
      ]
     },
     "execution_count": 33,
     "metadata": {},
     "output_type": "execute_result"
    }
   ],
   "execution_count": 33,
   "source": [
    "normality_results_var = stride_time_variability.groupby(['condition'], group_keys=False)[\"stride_time\"].apply(lambda g: pg.normality(g))\n",
    "normality_results_var"
   ],
   "id": "e4cb85e153682db5"
  },
  {
   "metadata": {
    "ExecuteTime": {
     "end_time": "2025-04-02T11:24:31.923461Z",
     "start_time": "2025-04-02T11:24:31.903250Z"
    }
   },
   "cell_type": "code",
   "outputs": [
    {
     "name": "stderr",
     "output_type": "stream",
     "text": [
      "/tmp/ipykernel_76572/599718129.py:6: FutureWarning: A value is trying to be set on a copy of a DataFrame or Series through chained assignment using an inplace method.\n",
      "The behavior will change in pandas 3.0. This inplace method will never work because the intermediate object on which we are setting values always behaves as a copy.\n",
      "\n",
      "For example, when doing 'df[col].method(value, inplace=True)', try using 'df.method({col: value}, inplace=True)' or df[col] = df[col].method(value) instead, to perform the operation inplace on the original object.\n",
      "\n",
      "\n",
      "  test_results[\"p_corr\"].clip(upper=1, inplace=True)\n"
     ]
    },
    {
     "data": {
      "text/plain": [
       "    Contrast        A    B  Paired  Parametric  U-val alternative     p-unc  \\\n",
       "0  condition  control  omc   False       False  142.0   two-sided  0.119856   \n",
       "\n",
       "     hedges    p_corr  \n",
       "0 -0.423852  0.239711  "
      ],
      "text/html": [
       "<div>\n",
       "<style scoped>\n",
       "    .dataframe tbody tr th:only-of-type {\n",
       "        vertical-align: middle;\n",
       "    }\n",
       "\n",
       "    .dataframe tbody tr th {\n",
       "        vertical-align: top;\n",
       "    }\n",
       "\n",
       "    .dataframe thead th {\n",
       "        text-align: right;\n",
       "    }\n",
       "</style>\n",
       "<table border=\"1\" class=\"dataframe\">\n",
       "  <thead>\n",
       "    <tr style=\"text-align: right;\">\n",
       "      <th></th>\n",
       "      <th>Contrast</th>\n",
       "      <th>A</th>\n",
       "      <th>B</th>\n",
       "      <th>Paired</th>\n",
       "      <th>Parametric</th>\n",
       "      <th>U-val</th>\n",
       "      <th>alternative</th>\n",
       "      <th>p-unc</th>\n",
       "      <th>hedges</th>\n",
       "      <th>p_corr</th>\n",
       "    </tr>\n",
       "  </thead>\n",
       "  <tbody>\n",
       "    <tr>\n",
       "      <th>0</th>\n",
       "      <td>condition</td>\n",
       "      <td>control</td>\n",
       "      <td>omc</td>\n",
       "      <td>False</td>\n",
       "      <td>False</td>\n",
       "      <td>142.0</td>\n",
       "      <td>two-sided</td>\n",
       "      <td>0.119856</td>\n",
       "      <td>-0.423852</td>\n",
       "      <td>0.239711</td>\n",
       "    </tr>\n",
       "  </tbody>\n",
       "</table>\n",
       "</div>"
      ]
     },
     "execution_count": 38,
     "metadata": {},
     "output_type": "execute_result"
    }
   ],
   "execution_count": 38,
   "source": [
    "test_results = pg.pairwise_tests(data=mean_stride_time.reset_index(),\n",
    "                                 dv='stride_time',\n",
    "                                 between='condition',\n",
    "                                 parametric=False)\n",
    "test_results[\"p_corr\"] = test_results[\"p-unc\"]*2\n",
    "test_results[\"p_corr\"].clip(upper=1, inplace=True)\n",
    "test_results"
   ],
   "id": "331a23da013c4103"
  },
  {
   "metadata": {},
   "cell_type": "code",
   "outputs": [],
   "source": "",
   "id": "374d56013d601fc6",
   "execution_count": null
  }
 ],
 "metadata": {
  "kernelspec": {
   "display_name": "Python 3",
   "language": "python",
   "name": "python3"
  },
  "language_info": {
   "codemirror_mode": {
    "name": "ipython",
    "version": 2
   },
   "file_extension": ".py",
   "mimetype": "text/x-python",
   "name": "python",
   "nbconvert_exporter": "python",
   "pygments_lexer": "ipython2",
   "version": "2.7.6"
  }
 },
 "nbformat": 4,
 "nbformat_minor": 5
}

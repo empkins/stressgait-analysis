{
 "cells": [
  {
   "cell_type": "markdown",
   "id": "fb407ae3a1fb260a",
   "metadata": {},
   "source": [
    "## specifically: stride time (cadence and stride length should be redundant)"
   ]
  },
  {
   "cell_type": "code",
   "id": "initial_id",
   "metadata": {},
   "source": [
    "import json\n",
    "from pathlib import Path\n",
    "\n",
    "import biopsykit as bp\n",
    "import matplotlib.pyplot as plt\n",
    "import pandas as pd\n",
    "import pingouin as pg\n",
    "import seaborn as sns\n",
    "from biopsykit.questionnaires.utils import compute_scores, wide_to_long\n",
    "from biopsykit.utils.dataframe_handling import convert_nan\n",
    "from fau_colors.v2021 import register_cmaps\n",
    "\n",
    "from stressgait_analysis.dataset import StressGaitDataset\n",
    "\n",
    "%matplotlib widget\n",
    "%load_ext autoreload\n",
    "%autoreload 2\n",
    "from stressgait_analysis.gait_helper_functions import compute_HS\n",
    "import numpy as np\n",
    "import warnings\n",
    "warnings.simplefilter(action='ignore')"
   ],
   "outputs": [],
   "execution_count": null
  },
  {
   "cell_type": "code",
   "id": "5c717bdece26e361",
   "metadata": {},
   "source": [
    "deploy_type = \"local\"\n",
    "\n",
    "config_dict = json.load(Path(\"../../config.json\").open(encoding=\"utf-8\"))\n",
    "\n",
    "base_path = Path(config_dict[deploy_type][\"base_path\"])\n",
    "\n",
    "base_path"
   ],
   "outputs": [],
   "execution_count": null
  },
  {
   "cell_type": "code",
   "id": "d3213df16abc01b0",
   "metadata": {},
   "source": [
    "dataset = StressGaitDataset(base_path, coarse_condition=True, specify_bouts=True, specify_speed=True)"
   ],
   "outputs": [],
   "execution_count": null
  },
  {
   "cell_type": "markdown",
   "id": "2b79f00b8ddf9f39",
   "metadata": {},
   "source": [
    "## computation"
   ]
  },
  {
   "cell_type": "code",
   "id": "a5b67b688998e44d",
   "metadata": {},
   "source": [
    "data = []\n",
    "for trial in dataset:\n",
    "\n",
    "    keypoints = trial.load_keypoint_trajectories()\n",
    "    hs_events = compute_HS(keypoints)\n",
    "    hs_events = [i for i in hs_events if i > 30]\n",
    "    stride_times = np.diff(hs_events)\n",
    "    data.extend([\n",
    "        (*trial.index.values[0], i, st)\n",
    "        for i, st in zip(range(len(stride_times)), stride_times)\n",
    "    ])"
   ],
   "outputs": [],
   "execution_count": null
  },
  {
   "cell_type": "markdown",
   "id": "25432729b8308c8e",
   "metadata": {},
   "source": [
    "## store as multilevel df"
   ]
  },
  {
   "cell_type": "code",
   "id": "2fa8ecc5728e4fbc",
   "metadata": {},
   "source": [
    "stride_df = pd.DataFrame(data, columns=[*dataset.index.columns, \"stride_idx\", \"stride_time\"])\n",
    "stride_df.set_index([*dataset.index.columns, \"stride_idx\"], inplace=True)\n",
    "filename = dataset.base_path.joinpath(\"kinematics/stride_times.csv\")\n",
    "stride_df.to_csv(filename)"
   ],
   "outputs": [],
   "execution_count": null
  },
  {
   "cell_type": "code",
   "id": "e01496065030c4ec",
   "metadata": {},
   "source": [
    "mean_stride_time = stride_df.groupby([\"participant\", \"condition\"]).mean()\n",
    "stride_time_variability = stride_df.groupby([\"participant\", \"condition\"]).std()\n",
    "mean_stride_time"
   ],
   "outputs": [],
   "execution_count": null
  },
  {
   "cell_type": "code",
   "id": "ca06a796a435a5d2",
   "metadata": {
    "scrolled": true
   },
   "source": [
    "mean = mean_stride_time.groupby([\"condition\"]).mean()\n",
    "mean"
   ],
   "outputs": [],
   "execution_count": null
  },
  {
   "cell_type": "markdown",
   "id": "11efabce-0462-424c-b646-6fae549aed91",
   "metadata": {},
   "source": [
    "\n",
    "# Great! Stride times can now be loaded directly from the dataset!\n"
   ]
  },
  {
   "cell_type": "code",
   "id": "c15b76bb-38ed-419b-ac9f-4b8374b3c3a0",
   "metadata": {},
   "source": [],
   "outputs": [],
   "execution_count": null
  }
 ],
 "metadata": {
  "kernelspec": {
   "display_name": "Python 3 (ipykernel)",
   "language": "python",
   "name": "python3"
  },
  "language_info": {
   "codemirror_mode": {
    "name": "ipython",
    "version": 3
   },
   "file_extension": ".py",
   "mimetype": "text/x-python",
   "name": "python",
   "nbconvert_exporter": "python",
   "pygments_lexer": "ipython3",
   "version": "3.11.11"
  }
 },
 "nbformat": 4,
 "nbformat_minor": 5
}

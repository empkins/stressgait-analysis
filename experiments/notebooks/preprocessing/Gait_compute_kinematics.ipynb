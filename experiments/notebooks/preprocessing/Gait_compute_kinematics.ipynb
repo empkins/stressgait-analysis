{
 "cells": [
  {
   "cell_type": "markdown",
   "id": "18a26b7ed447ed5e",
   "metadata": {},
   "source": [
    "# Script to compute the kinematics (for the first time)"
   ]
  },
  {
   "cell_type": "code",
   "id": "5d03f9b86c0d3dcc",
   "metadata": {},
   "source": [
    "import json\n",
    "from pathlib import Path\n",
    "\n",
    "import biopsykit as bp\n",
    "import matplotlib.pyplot as plt\n",
    "import pandas as pd\n",
    "import pingouin as pg\n",
    "import seaborn as sns\n",
    "from biopsykit.questionnaires.utils import compute_scores, wide_to_long\n",
    "from biopsykit.utils.dataframe_handling import convert_nan\n",
    "from fau_colors import cmaps, register_fausans_font\n",
    "from scipy.interpolate import interp1d\n",
    "\n",
    "from stressgait_analysis.dataset import StressGaitDataset\n",
    "\n",
    "from src.stressgait_analysis.gait_helper_functions import compute_leg_kinematics, compute_arm_kinematics\n",
    "\n",
    "%matplotlib widget\n",
    "%load_ext autoreload\n",
    "%autoreload 2\n",
    "from stressgait_analysis.gait_helper_functions import compute_HS, resample\n",
    "import numpy as np"
   ],
   "outputs": [],
   "execution_count": null
  },
  {
   "cell_type": "code",
   "id": "d0658c933a18d149",
   "metadata": {},
   "source": [
    "deploy_type = \"local\"\n",
    "\n",
    "config_dict = json.load(Path(\"../../config.json\").open(encoding=\"utf-8\"))\n",
    "\n",
    "base_path = Path(config_dict[deploy_type][\"base_path\"])"
   ],
   "outputs": [],
   "execution_count": null
  },
  {
   "cell_type": "code",
   "id": "b7d43f77a6aa50e2",
   "metadata": {},
   "source": [
    "dataset = StressGaitDataset(base_path, coarse_condition=True, specify_bouts=True, specify_speed=True)"
   ],
   "outputs": [],
   "execution_count": null
  },
  {
   "cell_type": "code",
   "id": "2ffbedc26f534f3c",
   "metadata": {},
   "source": [
    "data = []\n",
    "for trial in dataset:\n",
    "\n",
    "    keypoints = trial.load_keypoint_trajectories()\n",
    "    hs_events = compute_HS(keypoints)\n",
    "    n_cycle = 0\n",
    "    #iterate over individual cycles:\n",
    "    for i in range(len(hs_events)-1):\n",
    "\n",
    "        cycle_start = hs_events[i]\n",
    "        if cycle_start < 30:\n",
    "            continue\n",
    "        #print(cycle_start)\n",
    "        cycle_end = hs_events[i+1]\n",
    "        leg_kinematics = compute_leg_kinematics(keypoints[cycle_start:cycle_end])\n",
    "        arm_kinematics = compute_arm_kinematics(keypoints[cycle_start:cycle_end])\n",
    "\n",
    "        #resample to 101 (=0%-100% cycle)\n",
    "        leg_kinematics = resample(leg_kinematics, n=101)\n",
    "        arm_kinematics = resample(arm_kinematics, n=101)\n",
    "\n",
    "        data.extend([\n",
    "             (*trial.index.values[0], n_cycle, j, *leg_row, *arm_row)\n",
    "                for j, (leg_row, arm_row) in enumerate(zip(leg_kinematics.values, arm_kinematics.values))\n",
    "                ])\n",
    "        n_cycle += 1"
   ],
   "outputs": [],
   "execution_count": null
  },
  {
   "cell_type": "code",
   "id": "e9ff6b4da304da9b",
   "metadata": {},
   "source": [
    "kinematics_df = pd.DataFrame(data, columns=[*dataset.index.columns, \"cycle_idx\", \"percentage_of_stride\", *leg_kinematics.columns, *arm_kinematics.columns],).drop(columns = \"ankle_plantarflexion\")\n",
    "kinematics_df.set_index([*dataset.index.columns, \"cycle_idx\", \"percentage_of_stride\"], inplace=True)"
   ],
   "outputs": [],
   "execution_count": null
  },
  {
   "cell_type": "code",
   "id": "8d7b76ff23427311",
   "metadata": {},
   "source": [
    "kinematics_df.head()"
   ],
   "outputs": [],
   "execution_count": null
  },
  {
   "cell_type": "markdown",
   "id": "6f83d3d8b156dedb",
   "metadata": {},
   "source": [
    "## store the data"
   ]
  },
  {
   "cell_type": "code",
   "id": "dcae779b5f3e1c60",
   "metadata": {},
   "source": [
    "filename = dataset.base_path.joinpath(\"kinematics/kinematics.csv\")\n",
    "kinematics_df.to_csv(filename)\n"
   ],
   "outputs": [],
   "execution_count": null
  },
  {
   "cell_type": "markdown",
   "id": "1249803eab824863",
   "metadata": {},
   "source": [
    "# Great! Kinematics can now be loaded directly from the dataset!\n"
   ]
  }
 ],
 "metadata": {
  "kernelspec": {
   "display_name": "Python 3 (ipykernel)",
   "language": "python",
   "name": "python3"
  },
  "language_info": {
   "codemirror_mode": {
    "name": "ipython",
    "version": 3
   },
   "file_extension": ".py",
   "mimetype": "text/x-python",
   "name": "python",
   "nbconvert_exporter": "python",
   "pygments_lexer": "ipython3",
   "version": "3.11.11"
  }
 },
 "nbformat": 4,
 "nbformat_minor": 5
}

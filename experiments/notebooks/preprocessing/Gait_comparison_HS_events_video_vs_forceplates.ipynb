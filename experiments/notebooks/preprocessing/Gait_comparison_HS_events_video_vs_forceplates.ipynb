{
 "cells": [
  {
   "cell_type": "markdown",
   "id": "36cfdf787d886a44",
   "metadata": {},
   "source": [
    "## Event detection ground truth vs video"
   ]
  },
  {
   "cell_type": "raw",
   "id": "413cf3a06e8eff6d",
   "metadata": {},
   "source": [
    "This script computes our ground truth HS events (from force plate data) for those participants that have at least 150 steps without overstepping. (for the left leg, which is closer to the camera)\n",
    "We then compute the HS events from the video data to check the time difference.\n",
    "We use this to validate our method for cutting the gait cycles and computing spatiotemporal params"
   ]
  },
  {
   "cell_type": "code",
   "id": "initial_id",
   "metadata": {},
   "source": [
    "import json\n",
    "from pathlib import Path\n",
    "\n",
    "import biopsykit as bp\n",
    "import matplotlib.pyplot as plt\n",
    "import pandas as pd\n",
    "import pingouin as pg\n",
    "import seaborn as sns\n",
    "from biopsykit.questionnaires.utils import compute_scores, wide_to_long\n",
    "from biopsykit.utils.dataframe_handling import convert_nan\n",
    "from fau_colors import cmaps, register_fausans_font\n",
    "\n",
    "from stressgait_analysis.dataset import StressGaitDataset\n",
    "import numpy as np\n",
    "%matplotlib widget\n",
    "%load_ext autoreload\n",
    "from scipy.signal import find_peaks\n",
    "%autoreload 2"
   ],
   "outputs": [],
   "execution_count": null
  },
  {
   "cell_type": "code",
   "id": "2bcc4c15334ae784",
   "metadata": {},
   "source": [
    "deploy_type = \"local\"\n",
    "\n",
    "config_dict = json.load(Path(\"../../config.json\").open(encoding=\"utf-8\"))\n",
    "\n",
    "base_path = Path(config_dict[deploy_type][\"base_path\"])"
   ],
   "outputs": [],
   "execution_count": null
  },
  {
   "cell_type": "code",
   "id": "b7639de7fea3fb27",
   "metadata": {},
   "source": [
    "dataset = StressGaitDataset(base_path, coarse_condition=True, specify_bouts=True)\n"
   ],
   "outputs": [],
   "execution_count": null
  },
  {
   "cell_type": "markdown",
   "id": "7526d29fbd15e4c5",
   "metadata": {},
   "source": [
    "### HS computation from force plates"
   ]
  },
  {
   "cell_type": "raw",
   "id": "d67cea437e5d2054",
   "metadata": {},
   "source": [
    "we assume HS to happen whenever the vertical GRF exceeds a 20N threshold. We do this for the left side only"
   ]
  },
  {
   "cell_type": "code",
   "id": "29f2242445ff6d37",
   "metadata": {},
   "source": [
    "def hs_forceplate(fy):\n",
    "        contact = np.where(fy > 20, 1, 0)\n",
    "        hs = []\n",
    "        to = []\n",
    "\n",
    "        for i in range(1,len(contact)):\n",
    "            if contact[i] == 1 and contact[i - 1] == 0:\n",
    "                hs.append(i)\n",
    "\n",
    "        return np.array(fy.index[hs])"
   ],
   "outputs": [],
   "execution_count": null
  },
  {
   "cell_type": "markdown",
   "id": "3abc72b292cc0f0",
   "metadata": {},
   "source": [
    "### HS computation from video"
   ]
  },
  {
   "cell_type": "code",
   "id": "d7902c927ab2acef",
   "metadata": {},
   "source": [
    "def hs_video(keypoints):\n",
    "    dist = keypoints.left_ankle_x - keypoints.left_hip_x\n",
    "    hs_idx, _ = find_peaks(dist, width=15, prominence=50)\n",
    "    hs_v = keypoints.iloc[hs_idx].index\n",
    "    return np.array(hs_v)"
   ],
   "outputs": [],
   "execution_count": null
  },
  {
   "cell_type": "markdown",
   "id": "406dc13940e10fad",
   "metadata": {},
   "source": [
    "## Comparison"
   ]
  },
  {
   "cell_type": "raw",
   "id": "aa331fe559409aa0",
   "metadata": {},
   "source": [
    "we iterate over all trials, compute the force plate events, find the closest HS events from the video data, and store that in a list"
   ]
  },
  {
   "cell_type": "code",
   "id": "e8b9269cbb009d2e",
   "metadata": {},
   "source": [
    "differences = []\n",
    "diff_per_trial = {}\n",
    "\n",
    "for trial in dataset:\n",
    "\n",
    "    try:\n",
    "        forceplate_data = trial.load_force_plate_data(video_framerate=False)\n",
    "    except:\n",
    "        print(\"No force plate data for trial {}\".format(trial))\n",
    "        continue\n",
    "    fy = forceplate_data[\"GRF_y_1\"]\n",
    "    keypoints = trial.load_keypoint_trajectories()\n",
    "\n",
    "\n",
    "    hs_f = hs_forceplate(fy)\n",
    "    hs_v = hs_video(keypoints)\n",
    "\n",
    "    # they will have different lengths --> for the FP HS, get the corresponding video HS\n",
    "    closest_pairs = []\n",
    "    for hs in np.array(hs_f):\n",
    "\n",
    "        closest_hs_v = min(hs_v, key=lambda event_l: abs(event_l - hs))\n",
    "\n",
    "        closest_pairs.append((hs, closest_hs_v))\n",
    "    hs_events = np.array(closest_pairs)\n",
    "\n",
    "    #store in list\n",
    "    differences.append(hs_events)\n"
   ],
   "outputs": [],
   "execution_count": null
  },
  {
   "cell_type": "raw",
   "id": "6233481f472f3140",
   "metadata": {},
   "source": [
    "compute agreement\n",
    "    - Pearson correlation\n",
    "    - mean absolute error / mean error\n"
   ]
  },
  {
   "cell_type": "code",
   "id": "800cfc4645e53546",
   "metadata": {},
   "source": [
    "all_differences  = np.concatenate(differences, axis=0)"
   ],
   "outputs": [],
   "execution_count": null
  },
  {
   "cell_type": "code",
   "id": "2fe6f38b6e8e230b",
   "metadata": {},
   "source": [
    "r_pearson = np.corrcoef(all_differences[:, 0], all_differences[:, 1])[0, 1]\n",
    "print(\"Pearson correlation:\", r_pearson)"
   ],
   "outputs": [],
   "execution_count": null
  },
  {
   "cell_type": "code",
   "id": "6e9699c96f810547",
   "metadata": {},
   "source": [
    "diff = all_differences[:, 0] - all_differences[:, 1]  #in seconds\n",
    "diff_fr = diff*50 #in frames\n",
    "mae = np.mean(np.abs(diff))\n",
    "rmse = np.sqrt(np.mean(diff**2))\n",
    "me = (np.mean(diff))\n",
    "\n",
    "print(\"MAE:\", mae)\n",
    "print(\"RMSE:\", rmse)\n",
    "print(\"ME:\", me)"
   ],
   "outputs": [],
   "execution_count": null
  },
  {
   "cell_type": "markdown",
   "id": "1015b41dd2f8ba4d",
   "metadata": {},
   "source": [
    "## Repeat but add a 1 frame offset"
   ]
  },
  {
   "cell_type": "code",
   "id": "51465aa48883e947",
   "metadata": {},
   "source": [
    "differences = []\n",
    "diff_per_trial = {}\n",
    "\n",
    "for trial in dataset:\n",
    "\n",
    "    try:\n",
    "        forceplate_data = trial.load_force_plate_data(video_framerate=False)\n",
    "    except:\n",
    "        print(\"No force plate data for trial {}\".format(trial))\n",
    "        continue\n",
    "    fy = forceplate_data[\"GRF_y_1\"]\n",
    "    keypoints = trial.load_keypoint_trajectories()\n",
    "\n",
    "\n",
    "    hs_f = hs_forceplate(fy)\n",
    "    hs_v = hs_video(keypoints)\n",
    "\n",
    "    # they will have different lengths --> for the FP HS, get the corresponding video HS\n",
    "    closest_pairs = []\n",
    "    for hs in np.array(hs_f):\n",
    "\n",
    "        closest_hs_v = min(hs_v, key=lambda event_l: abs(event_l - hs))\n",
    "        closest_hs_v +=0.02\n",
    "        closest_pairs.append((hs, closest_hs_v))\n",
    "    hs_events = np.array(closest_pairs)\n",
    "\n",
    "    #store in list\n",
    "    differences.append(hs_events)"
   ],
   "outputs": [],
   "execution_count": null
  },
  {
   "cell_type": "code",
   "id": "6008251040fedefe",
   "metadata": {},
   "source": [
    "all_differences  = np.concatenate(differences, axis=0)"
   ],
   "outputs": [],
   "execution_count": null
  },
  {
   "cell_type": "code",
   "id": "626ae1cd6746cc78",
   "metadata": {},
   "source": [
    "r_pearson = np.corrcoef(all_differences[:, 0], all_differences[:, 1])[0, 1]\n",
    "print(\"Pearson correlation:\", r_pearson)"
   ],
   "outputs": [],
   "execution_count": null
  },
  {
   "cell_type": "code",
   "id": "4b610301c9b939f",
   "metadata": {},
   "source": [
    "diff = all_differences[:, 0] - all_differences[:, 1]  #in seconds\n",
    "diff_fr = diff*50 #in frames\n",
    "mae = np.mean(np.abs(diff))\n",
    "rmse = np.sqrt(np.mean(diff**2))\n",
    "me = (np.mean(diff))\n",
    "\n",
    "print(\"MAE:\", mae)\n",
    "print(\"RMSE:\", rmse)\n",
    "print(\"ME:\", me)"
   ],
   "outputs": [],
   "execution_count": null
  }
 ],
 "metadata": {
  "kernelspec": {
   "display_name": "Python 3 (ipykernel)",
   "language": "python",
   "name": "python3"
  },
  "language_info": {
   "codemirror_mode": {
    "name": "ipython",
    "version": 3
   },
   "file_extension": ".py",
   "mimetype": "text/x-python",
   "name": "python",
   "nbconvert_exporter": "python",
   "pygments_lexer": "ipython3",
   "version": "3.11.11"
  }
 },
 "nbformat": 4,
 "nbformat_minor": 5
}

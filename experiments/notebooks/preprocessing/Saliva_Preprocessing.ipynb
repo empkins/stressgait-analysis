{
 "cells": [
  {
   "cell_type": "markdown",
   "metadata": {
    "cell_marker": "\"\"\""
   },
   "source": [
    "# StressGait - Saliva Preprocessing"
   ]
  },
  {
   "cell_type": "markdown",
   "metadata": {},
   "source": [
    "## Setup and Helper Functions"
   ]
  },
  {
   "cell_type": "code",
   "execution_count": null,
   "metadata": {
    "jupyter": {
     "is_executing": true
    }
   },
   "outputs": [],
   "source": [
    "import json\n",
    "from pathlib import Path\n",
    "\n",
    "import biopsykit as bp\n",
    "import matplotlib.pyplot as plt\n",
    "import pandas as pd\n",
    "import pingouin as pg\n",
    "import seaborn as sns\n",
    "from biopsykit.questionnaires.utils import compute_scores, wide_to_long\n",
    "from biopsykit.utils.dataframe_handling import convert_nan\n",
    "from fau_colors import cmaps, register_fausans_font\n",
    "\n",
    "from stressgait_analysis.dataset import StressGaitDataset\n",
    "\n",
    "%matplotlib widget\n",
    "%load_ext autoreload\n",
    "%autoreload 2"
   ]
  },
  {
   "cell_type": "code",
   "execution_count": null,
   "metadata": {},
   "outputs": [],
   "source": [
    "register_fausans_font()\n",
    "plt.close(\"all\")\n",
    "\n",
    "palette = sns.color_palette(cmaps.faculties_light)\n",
    "sns.set_theme(context=\"notebook\", style=\"ticks\", font=\"sans-serif\", palette=palette)\n",
    "\n",
    "plt.rcParams[\"figure.figsize\"] = (10, 5)\n",
    "plt.rcParams[\"pdf.fonttype\"] = 42\n",
    "plt.rcParams[\"mathtext.default\"] = \"regular\"\n",
    "plt.rcParams[\"font.family\"] = \"sans-serif\"\n",
    "plt.rcParams[\"font.sans-serif\"] = \"FAUSans Office\"\n",
    "\n",
    "palette"
   ]
  },
  {
   "cell_type": "code",
   "execution_count": null,
   "metadata": {},
   "outputs": [],
   "source": [
    "deploy_type = \"local\"\n",
    "\n",
    "config_dict = json.load(Path(\"../../config.json\").open(encoding=\"utf-8\"))\n",
    "\n",
    "base_path = Path(config_dict[deploy_type][\"base_path\"])\n",
    "base_path"
   ]
  },
  {
   "cell_type": "code",
   "execution_count": null,
   "metadata": {},
   "outputs": [],
   "source": [
    "dataset = StressGaitDataset(base_path, coarse_condition=True)\n",
    "\n",
    "dataset"
   ]
  },
  {
   "cell_type": "code",
   "execution_count": null,
   "metadata": {},
   "outputs": [],
   "source": [
    "export_path = base_path.joinpath(\"saliva/processed\")\n",
    "export_path.mkdir(exist_ok=True)"
   ]
  },
  {
   "cell_type": "code",
   "execution_count": null,
   "metadata": {},
   "outputs": [],
   "source": [
    "cort_path = base_path.joinpath(f\"saliva/cleaned/stressgait_cortisol.xlsx\")\n",
    "cort_data = bp.io.biomarker.load_saliva_plate(cort_path, saliva_type=\"cortisol\", regex_str=\"(VP_\\d+)_(\\w+)\")\n",
    "cort_data.index = cort_data.index.set_names([\"subject\", \"sample\"])\n",
    "\n",
    "cort_features = [bp.saliva.max_increase(cort_data), bp.saliva.max_increase(cort_data, percent=True), bp.saliva.auc(cort_data, remove_s0=False, sample_times=dataset.sample_times)]\n",
    "cort_features = pd.concat(cort_features, axis=1)\n",
    "cort_features = bp.saliva.utils.saliva_feature_wide_to_long(cort_features, saliva_type=\"cortisol\")\n",
    "\n",
    "cort_data.to_csv(export_path.joinpath(f\"stressgait_cortisol_samples.csv\"))\n",
    "cort_features.to_csv(export_path.joinpath(f\"stressgait_cortisol_features.csv\"))"
   ]
  },
  {
   "cell_type": "code",
   "execution_count": null,
   "metadata": {},
   "outputs": [],
   "source": [
    "amy_path = base_path.joinpath(f\"saliva/cleaned/stressgait_amylase.xlsx\")\n",
    "amy_data = bp.io.biomarker.load_saliva_plate(amy_path, saliva_type=\"amylase\", regex_str=\"StressGait_(VP_\\d+)_(\\w+)\")\n",
    "amy_data.index = amy_data.index.set_names([\"subject\", \"sample\"])\n",
    "\n",
    "amy_features = [bp.saliva.max_increase(amy_data, saliva_type=\"amylase\"), bp.saliva.max_increase(amy_data, percent=True, saliva_type=\"amylase\"), bp.saliva.auc(amy_data, remove_s0=False, sample_times=dataset.sample_times, saliva_type=\"amylase\")]\n",
    "amy_features = pd.concat(amy_features, axis=1)\n",
    "amy_features = bp.saliva.utils.saliva_feature_wide_to_long(amy_features, saliva_type=\"amylase\")\n",
    "\n",
    "amy_data.to_csv(export_path.joinpath(f\"stressgait_amylase_samples.csv\"))\n",
    "amy_features.to_csv(export_path.joinpath(f\"stressgait_amylase_samples.csv\"))"
   ]
  },
  {
   "cell_type": "markdown",
   "metadata": {},
   "source": [
    "## Check for Outlier"
   ]
  },
  {
   "cell_type": "code",
   "execution_count": null,
   "metadata": {},
   "outputs": [],
   "source": [
    "from scipy.stats import zscore\n",
    "\n",
    "cort_zscore = zscore(cort_data.xs(\"S0\", level=\"sample\").drop(index=dataset.PARTICIPANTS_EXCLUDED, errors=\"ignore\"), nan_policy=\"omit\").abs()\n",
    "display(cort_zscore)\n",
    "\n",
    "outlier = (cort_zscore > 3).any(axis=1)\n",
    "outlier"
   ]
  },
  {
   "cell_type": "code",
   "execution_count": null,
   "metadata": {},
   "outputs": [],
   "source": []
  },
  {
   "cell_type": "code",
   "execution_count": null,
   "metadata": {},
   "outputs": [],
   "source": []
  },
  {
   "cell_type": "code",
   "execution_count": null,
   "metadata": {},
   "outputs": [],
   "source": []
  },
  {
   "cell_type": "code",
   "execution_count": null,
   "metadata": {},
   "outputs": [],
   "source": []
  }
 ],
 "metadata": {
  "jupytext": {
   "encoding": "# -*- coding: utf-8 -*-",
   "text_representation": {
    "extension": ".py",
    "format_name": "sphinx",
    "format_version": "1.1",
    "jupytext_version": "1.13.0"
   }
  },
  "kernelspec": {
   "display_name": "stressgait_analysis",
   "language": "python",
   "name": "stressgait_analysis"
  },
  "language_info": {
   "codemirror_mode": {
    "name": "ipython",
    "version": 3
   },
   "file_extension": ".py",
   "mimetype": "text/x-python",
   "name": "python",
   "nbconvert_exporter": "python",
   "pygments_lexer": "ipython3",
   "version": "3.10.14"
  },
  "toc-showtags": false,
  "vscode": {
   "interpreter": {
    "hash": "7014e6a8beff3a47c7c0424a6c63a486addc0ee3d12468bf1ae9a85a56cca70c"
   }
  }
 },
 "nbformat": 4,
 "nbformat_minor": 4
}

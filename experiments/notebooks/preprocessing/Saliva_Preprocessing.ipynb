{
 "cells": [
  {
   "cell_type": "markdown",
   "metadata": {
    "cell_marker": "\"\"\""
   },
   "source": [
    "# StressGait - Saliva Preprocessing"
   ]
  },
  {
   "cell_type": "markdown",
   "metadata": {},
   "source": [
    "## Setup and Helper Functions"
   ]
  },
  {
   "cell_type": "code",
   "metadata": {},
   "source": [
    "import json\n",
    "from pathlib import Path\n",
    "\n",
    "import biopsykit as bp\n",
    "import matplotlib.pyplot as plt\n",
    "import pandas as pd\n",
    "import seaborn as sns\n",
    "from fau_colors.v2021 import register_cmaps\n",
    "\n",
    "from stressgait_analysis.dataset import StressGaitDataset\n",
    "\n",
    "%matplotlib widget\n",
    "%load_ext autoreload\n",
    "%autoreload 2"
   ],
   "outputs": [],
   "execution_count": null
  },
  {
   "cell_type": "code",
   "metadata": {},
   "source": [
    "plt.close(\"all\")\n",
    "\n",
    "palette = sns.color_palette(cmaps.faculties_light)\n",
    "sns.set_theme(context=\"notebook\", style=\"ticks\", font=\"sans-serif\", palette=palette)\n",
    "\n",
    "plt.rcParams[\"figure.figsize\"] = (10, 5)\n",
    "plt.rcParams[\"pdf.fonttype\"] = 42\n",
    "plt.rcParams[\"mathtext.default\"] = \"regular\"\n",
    "plt.rcParams[\"font.family\"] = \"sans-serif\"\n",
    "\n",
    "\n",
    "palette"
   ],
   "outputs": [],
   "execution_count": null
  },
  {
   "cell_type": "code",
   "metadata": {},
   "source": [
    "deploy_type = \"local\"\n",
    "\n",
    "config_dict = json.load(Path(\"../../config.json\").open(encoding=\"utf-8\"))\n",
    "\n",
    "base_path = Path(config_dict[deploy_type][\"base_path\"])\n",
    "base_path"
   ],
   "outputs": [],
   "execution_count": null
  },
  {
   "cell_type": "code",
   "metadata": {},
   "source": [
    "dataset = StressGaitDataset(base_path, coarse_condition=True)\n",
    "\n",
    "dataset"
   ],
   "outputs": [],
   "execution_count": null
  },
  {
   "cell_type": "code",
   "metadata": {},
   "source": [
    "export_path = base_path.joinpath(\"saliva/processed\")\n",
    "export_path.mkdir(exist_ok=True)"
   ],
   "outputs": [],
   "execution_count": null
  },
  {
   "cell_type": "code",
   "metadata": {},
   "source": [
    "cort_path = base_path.joinpath(\"saliva/cleaned/stressgait_cortisol.xlsx\")\n",
    "cort_data = bp.io.biomarker.load_saliva_plate(cort_path, saliva_type=\"cortisol\", regex_str=r\"(VP_\\d+)_(\\w+)\")\n",
    "cort_data.index = cort_data.index.set_names([\"subject\", \"sample\"])\n",
    "\n",
    "cort_features = [\n",
    "    bp.saliva.max_increase(cort_data),\n",
    "    bp.saliva.max_increase(cort_data, percent=True),\n",
    "    bp.saliva.auc(cort_data, remove_s0=False, sample_times=dataset.sample_times),\n",
    "]\n",
    "cort_features = pd.concat(cort_features, axis=1)\n",
    "cort_features = bp.saliva.utils.saliva_feature_wide_to_long(cort_features, saliva_type=\"cortisol\")\n",
    "\n",
    "cort_data.to_csv(export_path.joinpath(\"stressgait_cortisol_samples.csv\"))\n",
    "cort_features.to_csv(export_path.joinpath(\"stressgait_cortisol_features.csv\"))"
   ],
   "outputs": [],
   "execution_count": null
  },
  {
   "cell_type": "code",
   "metadata": {},
   "source": [
    "amy_path = base_path.joinpath(\"saliva/cleaned/stressgait_amylase.xlsx\")\n",
    "amy_data = bp.io.biomarker.load_saliva_plate(amy_path, saliva_type=\"amylase\", regex_str=r\"StressGait_(VP_\\d+)_(\\w+)\")\n",
    "amy_data.index = amy_data.index.set_names([\"subject\", \"sample\"])\n",
    "\n",
    "amy_features = [\n",
    "    bp.saliva.max_increase(amy_data, saliva_type=\"amylase\"),\n",
    "    bp.saliva.max_increase(amy_data, percent=True, saliva_type=\"amylase\"),\n",
    "    bp.saliva.auc(amy_data, remove_s0=False, sample_times=dataset.sample_times, saliva_type=\"amylase\"),\n",
    "]\n",
    "amy_features = pd.concat(amy_features, axis=1)\n",
    "amy_features = bp.saliva.utils.saliva_feature_wide_to_long(amy_features, saliva_type=\"amylase\")\n",
    "\n",
    "amy_data.to_csv(export_path.joinpath(\"stressgait_amylase_samples.csv\"))\n",
    "amy_features.to_csv(export_path.joinpath(\"stressgait_amylase_samples.csv\"))"
   ],
   "outputs": [],
   "execution_count": null
  },
  {
   "cell_type": "markdown",
   "metadata": {},
   "source": [
    "## Check for Outlier"
   ]
  },
  {
   "cell_type": "code",
   "metadata": {},
   "source": [
    "from scipy.stats import zscore\n",
    "import numpy as np\n",
    "cort_zscore = np.abs(zscore(\n",
    "    cort_data.xs(\"S0\", level=\"sample\").drop(index=dataset.PARTICIPANTS_EXCLUDED, errors=\"ignore\"), nan_policy=\"omit\"\n",
    "))\n",
    "display(cort_zscore)\n",
    "\n",
    "outlier = (cort_zscore > 3).any(axis=1)\n",
    "outlier"
   ],
   "outputs": [],
   "execution_count": null
  },
  {
   "cell_type": "code",
   "metadata": {},
   "source": [],
   "outputs": [],
   "execution_count": null
  },
  {
   "cell_type": "code",
   "metadata": {},
   "source": [],
   "outputs": [],
   "execution_count": null
  },
  {
   "cell_type": "code",
   "metadata": {},
   "source": [],
   "outputs": [],
   "execution_count": null
  },
  {
   "cell_type": "code",
   "metadata": {},
   "source": [],
   "outputs": [],
   "execution_count": null
  }
 ],
 "metadata": {
  "jupytext": {
   "encoding": "# -*- coding: utf-8 -*-",
   "text_representation": {
    "extension": ".py",
    "format_name": "sphinx",
    "format_version": "1.1",
    "jupytext_version": "1.13.0"
   }
  },
  "kernelspec": {
   "display_name": "stressgait_analysis",
   "language": "python",
   "name": "stressgait_analysis"
  },
  "language_info": {
   "codemirror_mode": {
    "name": "ipython",
    "version": 3
   },
   "file_extension": ".py",
   "mimetype": "text/x-python",
   "name": "python",
   "nbconvert_exporter": "python",
   "pygments_lexer": "ipython3",
   "version": "3.11.11"
  },
  "toc-showtags": false,
  "vscode": {
   "interpreter": {
    "hash": "7014e6a8beff3a47c7c0424a6c63a486addc0ee3d12468bf1ae9a85a56cca70c"
   }
  }
 },
 "nbformat": 4,
 "nbformat_minor": 4
}

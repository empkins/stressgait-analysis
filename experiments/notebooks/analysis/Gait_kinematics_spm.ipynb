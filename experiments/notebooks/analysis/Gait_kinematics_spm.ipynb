{
 "cells": [
  {
   "cell_type": "code",
   "id": "initial_id",
   "metadata": {},
   "source": [
    "import json\n",
    "from pathlib import Path\n",
    "\n",
    "import biopsykit as bp\n",
    "import matplotlib.pyplot as plt\n",
    "import pandas as pd\n",
    "import pingouin as pg\n",
    "import seaborn as sns\n",
    "import spm1d.stats.c\n",
    "from biopsykit.questionnaires.utils import compute_scores, wide_to_long\n",
    "from biopsykit.utils.dataframe_handling import convert_nan\n",
    "from fau_colors.v2021 import register_cmaps\n",
    "import spm1d\n",
    "from stressgait_analysis.dataset import StressGaitDataset\n",
    "\n",
    "\n",
    "\n",
    "%matplotlib widget\n",
    "%load_ext autoreload\n",
    "%autoreload 2\n",
    "from stressgait_analysis.gait_helper_functions import (compute_HS)\n",
    "import numpy as np"
   ],
   "outputs": [],
   "execution_count": null
  },
  {
   "cell_type": "code",
   "id": "317b1da9fb2f9e7f",
   "metadata": {},
   "source": [
    "plt.close(\"all\")\n",
    "register_cmaps()\n",
    "palette = sns.color_palette(\"faculties_light\")\n",
    "sns.set_theme(context=\"notebook\", style=\"ticks\", font=\"sans-serif\", palette=palette)\n",
    "\n",
    "plt.rcParams[\"figure.figsize\"] = (10, 5)\n",
    "plt.rcParams[\"pdf.fonttype\"] = 42\n",
    "plt.rcParams[\"mathtext.default\"] = \"regular\"\n",
    "plt.rcParams[\"font.family\"] = \"sans-serif\"\n",
    "\n",
    "\n",
    "controls_color = sns.color_palette(\"wiso\")[1]\n",
    "omc_color = sns.color_palette(\"med_dark\")[1]\n",
    "\n",
    "stressgait = {\n",
    "    \"OMC\": omc_color,\n",
    "    \"Control\": controls_color\n",
    "}"
   ],
   "outputs": [],
   "execution_count": null
  },
  {
   "cell_type": "code",
   "id": "4ff547146384914d",
   "metadata": {},
   "source": [
    "deploy_type = \"local\"\n",
    "\n",
    "config_dict = json.load(Path(\"../../config.json\").open(encoding=\"utf-8\"))\n",
    "\n",
    "base_path = Path(config_dict[deploy_type][\"base_path\"])"
   ],
   "outputs": [],
   "execution_count": null
  },
  {
   "cell_type": "code",
   "id": "17d1bbe7e27a14c9",
   "metadata": {},
   "source": [
    "dataset = StressGaitDataset(base_path, coarse_condition=True, specify_bouts=True, specify_speed=True)"
   ],
   "outputs": [],
   "execution_count": null
  },
  {
   "cell_type": "code",
   "id": "691ffa32284f64c3",
   "metadata": {},
   "source": [
    "kinematics = dataset.kinematics.droplevel(level=\"bout\")\n",
    "cycle_averaged_q = kinematics.groupby([\"participant\", \"condition\", \"speed\", \"percentage_of_stride\"]).mean()\n",
    "cycle_averaged_q#.head()"
   ],
   "outputs": [],
   "execution_count": null
  },
  {
   "cell_type": "markdown",
   "id": "21b1b79d7718457",
   "metadata": {},
   "source": [
    "split into omc / control as well as fast / slow"
   ]
  },
  {
   "cell_type": "code",
   "id": "51ffd2628c230e83",
   "metadata": {},
   "source": [
    "omc_kinematics_slow = cycle_averaged_q.xs((\"OMC\", \"slow\"), level=(\"condition\", \"speed\"))\n",
    "omc_kinematics_fast = cycle_averaged_q.xs((\"OMC\", \"fast\"), level=(\"condition\", \"speed\"))\n",
    "\n",
    "control_kinematics_slow = cycle_averaged_q.xs((\"Control\", \"slow\"), level=(\"condition\", \"speed\"))\n",
    "control_kinematics_fast = cycle_averaged_q.xs((\"Control\", \"fast\"), level=(\"condition\", \"speed\"))"
   ],
   "outputs": [],
   "execution_count": null
  },
  {
   "cell_type": "markdown",
   "id": "b9964f3d70add521",
   "metadata": {},
   "source": [
    "for spm, we need data in the format J x Q, where J are the participants per group and Q are the nodes"
   ]
  },
  {
   "cell_type": "code",
   "id": "11474e950002f908",
   "metadata": {},
   "source": [
    "omc_slow_hip = omc_kinematics_slow.reset_index().pivot(index=\"participant\", columns=\"percentage_of_stride\", values=\"hip_flexion\")\n",
    "omc_slow_knee = omc_kinematics_slow.reset_index().pivot(index=\"participant\", columns=\"percentage_of_stride\", values=\"knee_flexion\")\n",
    "\n",
    "control_slow_hip = control_kinematics_slow.reset_index().pivot(index=\"participant\", columns=\"percentage_of_stride\", values=\"hip_flexion\")\n",
    "control_slow_knee = control_kinematics_slow.reset_index().pivot(index=\"participant\", columns=\"percentage_of_stride\", values=\"knee_flexion\")\n",
    "\n",
    "omc_fast_hip = omc_kinematics_fast.reset_index().pivot(index=\"participant\", columns=\"percentage_of_stride\", values=\"hip_flexion\")\n",
    "omc_fast_knee = omc_kinematics_fast.reset_index().pivot(index=\"participant\", columns=\"percentage_of_stride\", values=\"knee_flexion\")\n",
    "\n",
    "control_fast_hip = control_kinematics_fast.reset_index().pivot(index=\"participant\", columns=\"percentage_of_stride\", values=\"hip_flexion\")\n",
    "control_fast_knee = control_kinematics_fast.reset_index().pivot(index=\"participant\", columns=\"percentage_of_stride\", values=\"knee_flexion\")\n"
   ],
   "outputs": [],
   "execution_count": null
  },
  {
   "cell_type": "code",
   "id": "52fbf83d2e6f3b61",
   "metadata": {},
   "source": [
    "def plot_result(YA, YB, ti, ylabel=None):\n",
    "    sns.set_style(\"white\")\n",
    "### plot mean and SD:\n",
    "    fig = plt.figure( figsize=(8, 3.5) )\n",
    "    ax     = plt.axes( (0.1, 0.15, 0.35, 0.8) )\n",
    "    spm1d.plot.plot_mean_sd(YA, linecolor=stressgait[\"OMC\"],label=\"OMC\", facecolor=stressgait[\"OMC\"], ax=ax)\n",
    "    spm1d.plot.plot_mean_sd(YB,  linecolor=stressgait[\"Control\"], label= \"Control\", facecolor=stressgait[\"Control\"], ax=ax)\n",
    "\n",
    "    ax.set_xlabel('% of stride', fontsize=16)\n",
    "    ax.tick_params(axis='both',labelsize=12)\n",
    "    ax.set_ylabel(ylabel, fontsize=16)\n",
    "    ax.tick_params(axis='both', colors='black', labelsize=12, bottom=True, left=True, labelbottom=True)\n",
    "    plt.legend()\n",
    "    ### plot SPM results:\n",
    "    ax= plt.axes((0.55,0.15,0.35,0.8))\n",
    "\n",
    "    ti.plot(facecolor=\"red\")\n",
    "\n",
    "    ax.set_ylabel( \"SPM{t}\",fontsize=16)\n",
    "   # ti.plot_threshold_label(fontsize=8)\n",
    "    alpha = 0.0125\n",
    "    tstar = ti.zstar  # or use the threshold value directly\n",
    "\n",
    "# Optional: plot the threshold line manually if not already present\n",
    "#    plt.axhline(y=tstar, linestyle='--', color='k')\n",
    "\n",
    "# Add your custom label\n",
    "    plt.text(\n",
    "    x=60,       # e.g. 5 or plt.xlim()[0] + some_offset\n",
    "    y=tstar + 0.1,           # position slightly above the line\n",
    "    s=f\"α = {alpha:.4f}, t* = {tstar:.3f}\",\n",
    "    fontsize=12,\n",
    "    color='red',\n",
    "    ha='center'\n",
    ")\n",
    "    ti.plot_p_values(size=14, offsets=[(30,0.5)])\n",
    "    ax.set_xlabel('% of stride', fontsize=16)\n",
    "    ax.tick_params(axis='both', colors='black', labelsize=12, left=True, bottom=True, labelbottom=True)\n",
    "\n",
    "    return fig"
   ],
   "outputs": [],
   "execution_count": null
  },
  {
   "cell_type": "markdown",
   "id": "c2fb59882576b885",
   "metadata": {},
   "source": [
    "## SPM for the hip"
   ]
  },
  {
   "cell_type": "markdown",
   "id": "b8b1f74f2ab380c",
   "metadata": {},
   "source": [
    "### slow"
   ]
  },
  {
   "cell_type": "code",
   "id": "3c8d3ba85715f72d",
   "metadata": {},
   "source": [
    "t = spm1d.stats.ttest2(np.array(omc_slow_hip), np.array(control_slow_hip))\n",
    "ti = t.inference(alpha=0.05/4)\n",
    "figure = plot_result(omc_slow_hip, control_slow_hip, ti, \"Hip flexion [°]\")\n",
    "plt.savefig(\"../../exports/plots/spm_hip_slow.pdf\")"
   ],
   "outputs": [],
   "execution_count": null
  },
  {
   "cell_type": "markdown",
   "id": "d39d68a17cd3e83f",
   "metadata": {},
   "source": [
    "### fast"
   ]
  },
  {
   "cell_type": "code",
   "id": "e6a506dac76fc9ad",
   "metadata": {},
   "source": [
    "t = spm1d.stats.ttest2(np.array(omc_fast_hip), np.array(control_fast_hip))\n",
    "ti = t.inference(alpha=0.05/4)\n",
    "figure = plot_result(omc_fast_hip, control_fast_hip, ti)\n",
    "plt.savefig(\"../../exports/plots/spm_hip_fast.pdf\")"
   ],
   "outputs": [],
   "execution_count": null
  },
  {
   "cell_type": "markdown",
   "id": "6f8dfd4ff104feeb",
   "metadata": {},
   "source": [
    "## knee"
   ]
  },
  {
   "cell_type": "markdown",
   "id": "374e87bd260ba39",
   "metadata": {},
   "source": [
    "### slow"
   ]
  },
  {
   "cell_type": "code",
   "id": "7377282abd4a08c9",
   "metadata": {},
   "source": [
    "t = spm1d.stats.ttest2(np.array(omc_slow_knee), np.array(control_slow_knee))\n",
    "ti = t.inference(alpha=0.05/4)\n",
    "figure = plot_result(omc_slow_knee, control_slow_knee, ti, \"Knee flexion [°]\")\n",
    "plt.savefig(\"../../exports/plots/spm_knee_slow.pdf\")"
   ],
   "outputs": [],
   "execution_count": null
  },
  {
   "cell_type": "code",
   "id": "c95d001690805d1a",
   "metadata": {},
   "source": [
    "ti.clusters"
   ],
   "outputs": [],
   "execution_count": null
  },
  {
   "cell_type": "markdown",
   "id": "3bf5a77b78e301bd",
   "metadata": {},
   "source": [
    "### fast"
   ]
  },
  {
   "cell_type": "code",
   "id": "9428e56cd1b6d4f0",
   "metadata": {},
   "source": [
    "t = spm1d.stats.ttest2(np.array(omc_fast_knee), np.array(control_fast_knee))\n",
    "ti = t.inference(alpha=0.05/4)\n",
    "figure = plot_result(omc_fast_knee, control_fast_knee, ti)\n",
    "plt.savefig(\"../../exports/plots/spm_knee_fast.pdf\")"
   ],
   "outputs": [],
   "execution_count": null
  },
  {
   "cell_type": "code",
   "id": "8a46ef00647bc8d9",
   "metadata": {},
   "source": [
    "cycle_averaged_q = kinematics.groupby([\"participant\", \"condition\", \"speed\", \"percentage_of_stride\"]).mean()\n",
    "cycle_averaged_q.head()\n",
    "c = cycle_averaged_q.reset_index()"
   ],
   "outputs": [],
   "execution_count": null
  },
  {
   "cell_type": "code",
   "id": "7182a9413ed3745c",
   "metadata": {},
   "source": [
    "responder_list = [\"VP_02\", \"VP_05\", \"VP_06\", \"VP_15\", \"VP_16\", \"VP_17\", \"VP_24\", \"VP_35\", \"VP_36\", \"VP_43\", \"VP_45\", \"VP47\"]\n",
    "cycle_averaged_q[\"responder\"] = [1 if r[1].participant in responder_list else 0 for r in c.iterrows()]\n",
    "cycle_averaged_q.set_index(\"responder\", append=True, inplace=True)"
   ],
   "outputs": [],
   "execution_count": null
  },
  {
   "cell_type": "code",
   "id": "a0dec5cf8b730ed9",
   "metadata": {},
   "source": [
    "cycle_averaged_q"
   ],
   "outputs": [],
   "execution_count": null
  }
 ],
 "metadata": {
  "kernelspec": {
   "display_name": "Python 3 (ipykernel)",
   "language": "python",
   "name": "python3"
  },
  "language_info": {
   "codemirror_mode": {
    "name": "ipython",
    "version": 3
   },
   "file_extension": ".py",
   "mimetype": "text/x-python",
   "name": "python",
   "nbconvert_exporter": "python",
   "pygments_lexer": "ipython3",
   "version": "3.11.11"
  }
 },
 "nbformat": 4,
 "nbformat_minor": 5
}

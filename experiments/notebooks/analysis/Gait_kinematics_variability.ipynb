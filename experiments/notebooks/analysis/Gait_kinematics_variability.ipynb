{
 "cells": [
  {
   "cell_type": "code",
   "id": "initial_id",
   "metadata": {
    "collapsed": true,
    "ExecuteTime": {
     "end_time": "2025-04-02T09:42:26.911321Z",
     "start_time": "2025-04-02T09:42:26.685952Z"
    }
   },
   "source": [
    "import json\n",
    "from pathlib import Path\n",
    "\n",
    "import biopsykit as bp\n",
    "import matplotlib.pyplot as plt\n",
    "import pandas as pd\n",
    "import pingouin as pg\n",
    "import seaborn as sns\n",
    "import spm1d.stats.c\n",
    "from biopsykit.questionnaires.utils import compute_scores, wide_to_long\n",
    "from biopsykit.utils.dataframe_handling import convert_nan\n",
    "from fau_colors import cmaps, register_fausans_font\n",
    "import spm1d\n",
    "from stressgait_analysis.dataset import StressGaitDataset\n",
    "\n",
    "\n",
    "%matplotlib widget\n",
    "%load_ext autoreload\n",
    "%autoreload 2\n",
    "\n",
    "\n",
    "\n",
    "\n",
    "import warnings\n",
    "warnings.simplefilter(action='ignore')\n",
    "import numpy as np"
   ],
   "outputs": [],
   "execution_count": 1
  },
  {
   "metadata": {
    "ExecuteTime": {
     "end_time": "2025-04-02T09:42:28.332398Z",
     "start_time": "2025-04-02T09:42:27.570679Z"
    }
   },
   "cell_type": "code",
   "source": [
    "plt.close(\"all\")\n",
    "\n",
    "palette = sns.color_palette(cmaps.faculties_light)\n",
    "sns.set_theme(context=\"notebook\", style=\"ticks\", font=\"sans-serif\", palette=palette)\n",
    "\n",
    "plt.rcParams[\"figure.figsize\"] = (10, 5)\n",
    "plt.rcParams[\"pdf.fonttype\"] = 42\n",
    "plt.rcParams[\"mathtext.default\"] = \"regular\"\n",
    "plt.rcParams[\"font.family\"] = \"sans-serif\"\n",
    "#plt.rcParams[\"font.sans-serif\"] = \"FAUSans Office\"\n",
    "\n",
    "palette"
   ],
   "id": "124c5ebdad43512a",
   "outputs": [
    {
     "data": {
      "text/plain": [
       "[(0.37254901960784315, 0.48627450980392156, 0.6392156862745098),\n",
       " (0.6666666666666666, 0.7647058823529411, 0.8196078431372549),\n",
       " (1.0, 0.8235294117647058, 0.44313725490196076),\n",
       " (0.37254901960784315, 0.7725490196078432, 0.9254901960784314),\n",
       " (0.5372549019607843, 0.803921568627451, 0.4745098039215686),\n",
       " (0.8627450980392157, 0.4117647058823529, 0.48627450980392156)]"
      ],
      "text/html": [
       "<svg  width=\"330\" height=\"55\"><rect x=\"0\" y=\"0\" width=\"55\" height=\"55\" style=\"fill:#5f7ca3;stroke-width:2;stroke:rgb(255,255,255)\"/><rect x=\"55\" y=\"0\" width=\"55\" height=\"55\" style=\"fill:#aac3d1;stroke-width:2;stroke:rgb(255,255,255)\"/><rect x=\"110\" y=\"0\" width=\"55\" height=\"55\" style=\"fill:#ffd271;stroke-width:2;stroke:rgb(255,255,255)\"/><rect x=\"165\" y=\"0\" width=\"55\" height=\"55\" style=\"fill:#5fc5ec;stroke-width:2;stroke:rgb(255,255,255)\"/><rect x=\"220\" y=\"0\" width=\"55\" height=\"55\" style=\"fill:#89cd79;stroke-width:2;stroke:rgb(255,255,255)\"/><rect x=\"275\" y=\"0\" width=\"55\" height=\"55\" style=\"fill:#dc697c;stroke-width:2;stroke:rgb(255,255,255)\"/></svg>"
      ]
     },
     "execution_count": 2,
     "metadata": {},
     "output_type": "execute_result"
    }
   ],
   "execution_count": 2
  },
  {
   "metadata": {
    "ExecuteTime": {
     "end_time": "2025-04-02T09:42:29.736990Z",
     "start_time": "2025-04-02T09:42:29.723748Z"
    }
   },
   "cell_type": "code",
   "source": [
    "deploy_type = \"local\"\n",
    "\n",
    "config_dict = json.load(Path(\"../../config.json\").open(encoding=\"utf-8\"))\n",
    "\n",
    "base_path = Path(config_dict[deploy_type][\"base_path\"])\n",
    "gait_data_path = Path(config_dict[deploy_type][\"gait_data_path\"])\n",
    "\n",
    "export_path = Path(\"../../exports\")\n",
    "plot_path = export_path.joinpath(\"plots\")\n",
    "bp.utils.file_handling.mkdirs([export_path, plot_path])\n",
    "\n",
    "export_path"
   ],
   "id": "66e19aa1486de3a7",
   "outputs": [
    {
     "data": {
      "text/plain": [
       "PosixPath('../../exports')"
      ]
     },
     "execution_count": 3,
     "metadata": {},
     "output_type": "execute_result"
    }
   ],
   "execution_count": 3
  },
  {
   "metadata": {
    "ExecuteTime": {
     "end_time": "2025-04-02T09:42:31.129835Z",
     "start_time": "2025-04-02T09:42:31.118594Z"
    }
   },
   "cell_type": "code",
   "source": "dataset = StressGaitDataset(base_path, coarse_condition=True, gait_data_path=gait_data_path, specify_bouts=True, specify_speed=True)\n",
   "id": "e893fc0bfcb8c570",
   "outputs": [],
   "execution_count": 4
  },
  {
   "metadata": {},
   "cell_type": "markdown",
   "source": "# Gait variability between strides",
   "id": "390c979fd4142fbf"
  },
  {
   "metadata": {},
   "cell_type": "markdown",
   "source": "compute with coefficient of variation based on Winter, 2009",
   "id": "2524633ab94ec543"
  },
  {
   "metadata": {
    "ExecuteTime": {
     "end_time": "2025-04-02T11:08:01.189294Z",
     "start_time": "2025-04-02T11:07:59.778558Z"
    }
   },
   "cell_type": "code",
   "source": "kinematics = dataset.kinematics.droplevel(level=\"bout\")",
   "id": "5507956795ee36ed",
   "outputs": [],
   "execution_count": 55
  },
  {
   "metadata": {
    "ExecuteTime": {
     "end_time": "2025-04-02T11:08:02.133937Z",
     "start_time": "2025-04-02T11:08:02.087367Z"
    }
   },
   "cell_type": "code",
   "source": [
    "bad_cycles = kinematics[kinematics['elbow_angle']<20].index.droplevel('percentage_of_stride').drop_duplicates()\n",
    "# Step 2: Filter out those cycles\n",
    "kinematics = kinematics[~kinematics.index.droplevel('percentage_of_stride').isin(bad_cycles)]\n",
    "kinematics"
   ],
   "id": "cb2bae18f7cfbbc8",
   "outputs": [
    {
     "data": {
      "text/plain": [
       "                                                            hip_flexion  \\\n",
       "participant condition speed cycle_idx percentage_of_stride                \n",
       "VP_01       omc       slow  0         0                       15.617907   \n",
       "                                      1                       14.898942   \n",
       "                                      2                       14.222986   \n",
       "                                      3                       13.644998   \n",
       "                                      4                       13.199635   \n",
       "...                                                                 ...   \n",
       "VP_47       omc       fast  200       96                      19.179123   \n",
       "                                      97                      19.724742   \n",
       "                                      98                      20.170698   \n",
       "                                      99                      20.258313   \n",
       "                                      100                     20.283606   \n",
       "\n",
       "                                                            knee_flexion  \\\n",
       "participant condition speed cycle_idx percentage_of_stride                 \n",
       "VP_01       omc       slow  0         0                         5.708224   \n",
       "                                      1                         5.079829   \n",
       "                                      2                         4.740407   \n",
       "                                      3                         5.059201   \n",
       "                                      4                         5.675398   \n",
       "...                                                                  ...   \n",
       "VP_47       omc       fast  200       96                       13.579015   \n",
       "                                      97                       11.883767   \n",
       "                                      98                       10.334821   \n",
       "                                      99                        9.310462   \n",
       "                                      100                       8.377337   \n",
       "\n",
       "                                                            elbow_angle  \\\n",
       "participant condition speed cycle_idx percentage_of_stride                \n",
       "VP_01       omc       slow  0         0                      175.770471   \n",
       "                                      1                      176.342514   \n",
       "                                      2                      176.848315   \n",
       "                                      3                      177.203232   \n",
       "                                      4                      177.406398   \n",
       "...                                                                 ...   \n",
       "VP_47       omc       fast  200       96                     168.330404   \n",
       "                                      97                     168.646740   \n",
       "                                      98                     168.890194   \n",
       "                                      99                     168.931013   \n",
       "                                      100                    168.936592   \n",
       "\n",
       "                                                            shoulder_angle  \\\n",
       "participant condition speed cycle_idx percentage_of_stride                   \n",
       "VP_01       omc       slow  0         0                         166.130160   \n",
       "                                      1                         166.070783   \n",
       "                                      2                         166.060716   \n",
       "                                      3                         166.162965   \n",
       "                                      4                         166.346609   \n",
       "...                                                                    ...   \n",
       "VP_47       omc       fast  200       96                        165.849253   \n",
       "                                      97                        165.173631   \n",
       "                                      98                        164.554919   \n",
       "                                      99                        163.996690   \n",
       "                                      100                       163.448979   \n",
       "\n",
       "                                                            arm_swing  \n",
       "participant condition speed cycle_idx percentage_of_stride             \n",
       "VP_01       omc       slow  0         0                    -47.342066  \n",
       "                                      1                    -47.571734  \n",
       "                                      2                    -47.620699  \n",
       "                                      3                    -47.258060  \n",
       "                                      4                    -46.615167  \n",
       "...                                                               ...  \n",
       "VP_47       omc       fast  200       96                   -51.731652  \n",
       "                                      97                   -54.044897  \n",
       "                                      98                   -56.158793  \n",
       "                                      99                   -58.131233  \n",
       "                                      100                  -60.079073  \n",
       "\n",
       "[1507829 rows x 5 columns]"
      ],
      "text/html": [
       "<div>\n",
       "<style scoped>\n",
       "    .dataframe tbody tr th:only-of-type {\n",
       "        vertical-align: middle;\n",
       "    }\n",
       "\n",
       "    .dataframe tbody tr th {\n",
       "        vertical-align: top;\n",
       "    }\n",
       "\n",
       "    .dataframe thead th {\n",
       "        text-align: right;\n",
       "    }\n",
       "</style>\n",
       "<table border=\"1\" class=\"dataframe\">\n",
       "  <thead>\n",
       "    <tr style=\"text-align: right;\">\n",
       "      <th></th>\n",
       "      <th></th>\n",
       "      <th></th>\n",
       "      <th></th>\n",
       "      <th></th>\n",
       "      <th>hip_flexion</th>\n",
       "      <th>knee_flexion</th>\n",
       "      <th>elbow_angle</th>\n",
       "      <th>shoulder_angle</th>\n",
       "      <th>arm_swing</th>\n",
       "    </tr>\n",
       "    <tr>\n",
       "      <th>participant</th>\n",
       "      <th>condition</th>\n",
       "      <th>speed</th>\n",
       "      <th>cycle_idx</th>\n",
       "      <th>percentage_of_stride</th>\n",
       "      <th></th>\n",
       "      <th></th>\n",
       "      <th></th>\n",
       "      <th></th>\n",
       "      <th></th>\n",
       "    </tr>\n",
       "  </thead>\n",
       "  <tbody>\n",
       "    <tr>\n",
       "      <th rowspan=\"5\" valign=\"top\">VP_01</th>\n",
       "      <th rowspan=\"5\" valign=\"top\">omc</th>\n",
       "      <th rowspan=\"5\" valign=\"top\">slow</th>\n",
       "      <th rowspan=\"5\" valign=\"top\">0</th>\n",
       "      <th>0</th>\n",
       "      <td>15.617907</td>\n",
       "      <td>5.708224</td>\n",
       "      <td>175.770471</td>\n",
       "      <td>166.130160</td>\n",
       "      <td>-47.342066</td>\n",
       "    </tr>\n",
       "    <tr>\n",
       "      <th>1</th>\n",
       "      <td>14.898942</td>\n",
       "      <td>5.079829</td>\n",
       "      <td>176.342514</td>\n",
       "      <td>166.070783</td>\n",
       "      <td>-47.571734</td>\n",
       "    </tr>\n",
       "    <tr>\n",
       "      <th>2</th>\n",
       "      <td>14.222986</td>\n",
       "      <td>4.740407</td>\n",
       "      <td>176.848315</td>\n",
       "      <td>166.060716</td>\n",
       "      <td>-47.620699</td>\n",
       "    </tr>\n",
       "    <tr>\n",
       "      <th>3</th>\n",
       "      <td>13.644998</td>\n",
       "      <td>5.059201</td>\n",
       "      <td>177.203232</td>\n",
       "      <td>166.162965</td>\n",
       "      <td>-47.258060</td>\n",
       "    </tr>\n",
       "    <tr>\n",
       "      <th>4</th>\n",
       "      <td>13.199635</td>\n",
       "      <td>5.675398</td>\n",
       "      <td>177.406398</td>\n",
       "      <td>166.346609</td>\n",
       "      <td>-46.615167</td>\n",
       "    </tr>\n",
       "    <tr>\n",
       "      <th>...</th>\n",
       "      <th>...</th>\n",
       "      <th>...</th>\n",
       "      <th>...</th>\n",
       "      <th>...</th>\n",
       "      <td>...</td>\n",
       "      <td>...</td>\n",
       "      <td>...</td>\n",
       "      <td>...</td>\n",
       "      <td>...</td>\n",
       "    </tr>\n",
       "    <tr>\n",
       "      <th rowspan=\"5\" valign=\"top\">VP_47</th>\n",
       "      <th rowspan=\"5\" valign=\"top\">omc</th>\n",
       "      <th rowspan=\"5\" valign=\"top\">fast</th>\n",
       "      <th rowspan=\"5\" valign=\"top\">200</th>\n",
       "      <th>96</th>\n",
       "      <td>19.179123</td>\n",
       "      <td>13.579015</td>\n",
       "      <td>168.330404</td>\n",
       "      <td>165.849253</td>\n",
       "      <td>-51.731652</td>\n",
       "    </tr>\n",
       "    <tr>\n",
       "      <th>97</th>\n",
       "      <td>19.724742</td>\n",
       "      <td>11.883767</td>\n",
       "      <td>168.646740</td>\n",
       "      <td>165.173631</td>\n",
       "      <td>-54.044897</td>\n",
       "    </tr>\n",
       "    <tr>\n",
       "      <th>98</th>\n",
       "      <td>20.170698</td>\n",
       "      <td>10.334821</td>\n",
       "      <td>168.890194</td>\n",
       "      <td>164.554919</td>\n",
       "      <td>-56.158793</td>\n",
       "    </tr>\n",
       "    <tr>\n",
       "      <th>99</th>\n",
       "      <td>20.258313</td>\n",
       "      <td>9.310462</td>\n",
       "      <td>168.931013</td>\n",
       "      <td>163.996690</td>\n",
       "      <td>-58.131233</td>\n",
       "    </tr>\n",
       "    <tr>\n",
       "      <th>100</th>\n",
       "      <td>20.283606</td>\n",
       "      <td>8.377337</td>\n",
       "      <td>168.936592</td>\n",
       "      <td>163.448979</td>\n",
       "      <td>-60.079073</td>\n",
       "    </tr>\n",
       "  </tbody>\n",
       "</table>\n",
       "<p>1507829 rows × 5 columns</p>\n",
       "</div>"
      ]
     },
     "execution_count": 56,
     "metadata": {},
     "output_type": "execute_result"
    }
   ],
   "execution_count": 56
  },
  {
   "metadata": {
    "ExecuteTime": {
     "end_time": "2025-04-02T11:08:03.088265Z",
     "start_time": "2025-04-02T11:08:03.075416Z"
    }
   },
   "cell_type": "code",
   "source": [
    "def compute_cv(trial):\n",
    "\n",
    "    std_trial = trial.groupby([\"percentage_of_stride\"]).std()\n",
    "    mean_trial = trial.groupby([\"percentage_of_stride\"]).mean()\n",
    "\n",
    "    mean_std_squared = std_trial.pow(2).mean()\n",
    "    return np.sqrt(mean_std_squared) / mean_trial.mean()\n"
   ],
   "id": "49828d80b075995e",
   "outputs": [],
   "execution_count": 57
  },
  {
   "metadata": {
    "ExecuteTime": {
     "end_time": "2025-04-02T11:08:04.191001Z",
     "start_time": "2025-04-02T11:08:03.984029Z"
    }
   },
   "cell_type": "code",
   "source": [
    "cv = kinematics.groupby([\"participant\", \"condition\", \"speed\"]).apply(compute_cv)\n",
    "cv_per_person = cv.groupby([\"participant\", \"condition\"]).mean()"
   ],
   "id": "9193d4857941e553",
   "outputs": [],
   "execution_count": 58
  },
  {
   "metadata": {
    "ExecuteTime": {
     "end_time": "2025-04-02T11:08:04.697029Z",
     "start_time": "2025-04-02T11:08:04.684400Z"
    }
   },
   "cell_type": "code",
   "source": [
    "cv_per_group = cv_per_person.groupby([\"condition\"]).mean()\n",
    "cv_per_group"
   ],
   "id": "1f642ac3fb284512",
   "outputs": [
    {
     "data": {
      "text/plain": [
       "           hip_flexion  knee_flexion  elbow_angle  shoulder_angle  arm_swing\n",
       "condition                                                                   \n",
       "control       1.308371      0.123567     0.060796         0.03142   0.480295\n",
       "omc           0.875980      0.133140     0.029338         0.02193   0.373519"
      ],
      "text/html": [
       "<div>\n",
       "<style scoped>\n",
       "    .dataframe tbody tr th:only-of-type {\n",
       "        vertical-align: middle;\n",
       "    }\n",
       "\n",
       "    .dataframe tbody tr th {\n",
       "        vertical-align: top;\n",
       "    }\n",
       "\n",
       "    .dataframe thead th {\n",
       "        text-align: right;\n",
       "    }\n",
       "</style>\n",
       "<table border=\"1\" class=\"dataframe\">\n",
       "  <thead>\n",
       "    <tr style=\"text-align: right;\">\n",
       "      <th></th>\n",
       "      <th>hip_flexion</th>\n",
       "      <th>knee_flexion</th>\n",
       "      <th>elbow_angle</th>\n",
       "      <th>shoulder_angle</th>\n",
       "      <th>arm_swing</th>\n",
       "    </tr>\n",
       "    <tr>\n",
       "      <th>condition</th>\n",
       "      <th></th>\n",
       "      <th></th>\n",
       "      <th></th>\n",
       "      <th></th>\n",
       "      <th></th>\n",
       "    </tr>\n",
       "  </thead>\n",
       "  <tbody>\n",
       "    <tr>\n",
       "      <th>control</th>\n",
       "      <td>1.308371</td>\n",
       "      <td>0.123567</td>\n",
       "      <td>0.060796</td>\n",
       "      <td>0.03142</td>\n",
       "      <td>0.480295</td>\n",
       "    </tr>\n",
       "    <tr>\n",
       "      <th>omc</th>\n",
       "      <td>0.875980</td>\n",
       "      <td>0.133140</td>\n",
       "      <td>0.029338</td>\n",
       "      <td>0.02193</td>\n",
       "      <td>0.373519</td>\n",
       "    </tr>\n",
       "  </tbody>\n",
       "</table>\n",
       "</div>"
      ]
     },
     "execution_count": 59,
     "metadata": {},
     "output_type": "execute_result"
    }
   ],
   "execution_count": 59
  },
  {
   "metadata": {
    "ExecuteTime": {
     "end_time": "2025-04-02T11:08:05.484748Z",
     "start_time": "2025-04-02T11:08:05.469479Z"
    }
   },
   "cell_type": "code",
   "source": [
    "df_long = cv_per_person.reset_index().melt(\n",
    "    id_vars=[\"participant\", \"condition\"],  # Keep these columns\n",
    "    var_name=\"angle\",  # Name for the melted variable column\n",
    "    value_name=\"value\"  # Name for the melted value column\n",
    ")\n",
    "\n",
    "df_long"
   ],
   "id": "4b99f1d32068fd9c",
   "outputs": [
    {
     "data": {
      "text/plain": [
       "    participant condition        angle     value\n",
       "0         VP_01       omc  hip_flexion  0.265311\n",
       "1         VP_02   control  hip_flexion  0.177644\n",
       "2         VP_05   control  hip_flexion  1.751908\n",
       "3         VP_06       omc  hip_flexion  0.562728\n",
       "4         VP_07   control  hip_flexion  0.428379\n",
       "..          ...       ...          ...       ...\n",
       "195       VP_43       omc    arm_swing  0.176200\n",
       "196       VP_44       omc    arm_swing  0.322324\n",
       "197       VP_45       omc    arm_swing  0.385160\n",
       "198       VP_46   control    arm_swing  0.711786\n",
       "199       VP_47       omc    arm_swing  0.590075\n",
       "\n",
       "[200 rows x 4 columns]"
      ],
      "text/html": [
       "<div>\n",
       "<style scoped>\n",
       "    .dataframe tbody tr th:only-of-type {\n",
       "        vertical-align: middle;\n",
       "    }\n",
       "\n",
       "    .dataframe tbody tr th {\n",
       "        vertical-align: top;\n",
       "    }\n",
       "\n",
       "    .dataframe thead th {\n",
       "        text-align: right;\n",
       "    }\n",
       "</style>\n",
       "<table border=\"1\" class=\"dataframe\">\n",
       "  <thead>\n",
       "    <tr style=\"text-align: right;\">\n",
       "      <th></th>\n",
       "      <th>participant</th>\n",
       "      <th>condition</th>\n",
       "      <th>angle</th>\n",
       "      <th>value</th>\n",
       "    </tr>\n",
       "  </thead>\n",
       "  <tbody>\n",
       "    <tr>\n",
       "      <th>0</th>\n",
       "      <td>VP_01</td>\n",
       "      <td>omc</td>\n",
       "      <td>hip_flexion</td>\n",
       "      <td>0.265311</td>\n",
       "    </tr>\n",
       "    <tr>\n",
       "      <th>1</th>\n",
       "      <td>VP_02</td>\n",
       "      <td>control</td>\n",
       "      <td>hip_flexion</td>\n",
       "      <td>0.177644</td>\n",
       "    </tr>\n",
       "    <tr>\n",
       "      <th>2</th>\n",
       "      <td>VP_05</td>\n",
       "      <td>control</td>\n",
       "      <td>hip_flexion</td>\n",
       "      <td>1.751908</td>\n",
       "    </tr>\n",
       "    <tr>\n",
       "      <th>3</th>\n",
       "      <td>VP_06</td>\n",
       "      <td>omc</td>\n",
       "      <td>hip_flexion</td>\n",
       "      <td>0.562728</td>\n",
       "    </tr>\n",
       "    <tr>\n",
       "      <th>4</th>\n",
       "      <td>VP_07</td>\n",
       "      <td>control</td>\n",
       "      <td>hip_flexion</td>\n",
       "      <td>0.428379</td>\n",
       "    </tr>\n",
       "    <tr>\n",
       "      <th>...</th>\n",
       "      <td>...</td>\n",
       "      <td>...</td>\n",
       "      <td>...</td>\n",
       "      <td>...</td>\n",
       "    </tr>\n",
       "    <tr>\n",
       "      <th>195</th>\n",
       "      <td>VP_43</td>\n",
       "      <td>omc</td>\n",
       "      <td>arm_swing</td>\n",
       "      <td>0.176200</td>\n",
       "    </tr>\n",
       "    <tr>\n",
       "      <th>196</th>\n",
       "      <td>VP_44</td>\n",
       "      <td>omc</td>\n",
       "      <td>arm_swing</td>\n",
       "      <td>0.322324</td>\n",
       "    </tr>\n",
       "    <tr>\n",
       "      <th>197</th>\n",
       "      <td>VP_45</td>\n",
       "      <td>omc</td>\n",
       "      <td>arm_swing</td>\n",
       "      <td>0.385160</td>\n",
       "    </tr>\n",
       "    <tr>\n",
       "      <th>198</th>\n",
       "      <td>VP_46</td>\n",
       "      <td>control</td>\n",
       "      <td>arm_swing</td>\n",
       "      <td>0.711786</td>\n",
       "    </tr>\n",
       "    <tr>\n",
       "      <th>199</th>\n",
       "      <td>VP_47</td>\n",
       "      <td>omc</td>\n",
       "      <td>arm_swing</td>\n",
       "      <td>0.590075</td>\n",
       "    </tr>\n",
       "  </tbody>\n",
       "</table>\n",
       "<p>200 rows × 4 columns</p>\n",
       "</div>"
      ]
     },
     "execution_count": 60,
     "metadata": {},
     "output_type": "execute_result"
    }
   ],
   "execution_count": 60
  },
  {
   "metadata": {
    "ExecuteTime": {
     "end_time": "2025-04-02T11:08:06.338312Z",
     "start_time": "2025-04-02T11:08:06.275152Z"
    }
   },
   "cell_type": "code",
   "source": [
    "plt.figure()\n",
    "sns.boxplot(x=\"angle\", y=\"value\", hue=\"condition\", data=df_long,showfliers=False)"
   ],
   "id": "a0b1c7027bf7a51e",
   "outputs": [
    {
     "data": {
      "text/plain": [
       "<Axes: xlabel='angle', ylabel='value'>"
      ]
     },
     "execution_count": 61,
     "metadata": {},
     "output_type": "execute_result"
    },
    {
     "data": {
      "text/plain": [
       "Canvas(toolbar=Toolbar(toolitems=[('Home', 'Reset original view', 'home', 'home'), ('Back', 'Back to previous …"
      ],
      "image/png": "[encoded data removed]",
      "text/html": [
       "\n",
       "            <div style=\"display: inline-block;\">\n",
       "                <div class=\"jupyter-widgets widget-label\" style=\"text-align: center;\">\n",
       "                    Figure\n",
       "                </div>\n",
       "                <img src='data:image/png;base64,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' width=1000.0/>\n",
       "            </div>\n",
       "        "
      ],
      "application/vnd.jupyter.widget-view+json": {
       "version_major": 2,
       "version_minor": 0,
       "model_id": "0997a9150b60420e9a5efb3b2054e166"
      }
     },
     "metadata": {},
     "output_type": "display_data"
    }
   ],
   "execution_count": 61
  },
  {
   "metadata": {
    "ExecuteTime": {
     "end_time": "2025-04-02T11:08:10.466158Z",
     "start_time": "2025-04-02T11:08:10.441985Z"
    }
   },
   "cell_type": "code",
   "source": [
    "from scipy.stats import shapiro\n",
    "\n",
    "# Apply Shapiro-Wilk test to each angle column, grouped by condition\n",
    "normality_results = df_long.groupby(['condition', \"angle\"], group_keys=False)[\"value\"].apply(lambda g: pg.normality(g))\n",
    "normality_results"
   ],
   "id": "6cb941d1e641ff0b",
   "outputs": [
    {
     "data": {
      "text/plain": [
       "                               W          pval  normal\n",
       "control arm_swing       0.982129  9.585305e-01    True\n",
       "        elbow_angle     0.752496  1.833937e-04   False\n",
       "        hip_flexion     0.468288  1.663085e-07   False\n",
       "        knee_flexion    0.774093  3.639056e-04   False\n",
       "        shoulder_angle  0.836176  3.154215e-03   False\n",
       "omc     arm_swing       0.739204  1.220781e-04   False\n",
       "        elbow_angle     0.857645  7.178506e-03   False\n",
       "        hip_flexion     0.538739  7.268207e-07   False\n",
       "        knee_flexion    0.750164  1.706262e-04   False\n",
       "        shoulder_angle  0.814188  1.417364e-03   False"
      ],
      "text/html": [
       "<div>\n",
       "<style scoped>\n",
       "    .dataframe tbody tr th:only-of-type {\n",
       "        vertical-align: middle;\n",
       "    }\n",
       "\n",
       "    .dataframe tbody tr th {\n",
       "        vertical-align: top;\n",
       "    }\n",
       "\n",
       "    .dataframe thead th {\n",
       "        text-align: right;\n",
       "    }\n",
       "</style>\n",
       "<table border=\"1\" class=\"dataframe\">\n",
       "  <thead>\n",
       "    <tr style=\"text-align: right;\">\n",
       "      <th></th>\n",
       "      <th></th>\n",
       "      <th>W</th>\n",
       "      <th>pval</th>\n",
       "      <th>normal</th>\n",
       "    </tr>\n",
       "  </thead>\n",
       "  <tbody>\n",
       "    <tr>\n",
       "      <th rowspan=\"5\" valign=\"top\">control</th>\n",
       "      <th>arm_swing</th>\n",
       "      <td>0.982129</td>\n",
       "      <td>9.585305e-01</td>\n",
       "      <td>True</td>\n",
       "    </tr>\n",
       "    <tr>\n",
       "      <th>elbow_angle</th>\n",
       "      <td>0.752496</td>\n",
       "      <td>1.833937e-04</td>\n",
       "      <td>False</td>\n",
       "    </tr>\n",
       "    <tr>\n",
       "      <th>hip_flexion</th>\n",
       "      <td>0.468288</td>\n",
       "      <td>1.663085e-07</td>\n",
       "      <td>False</td>\n",
       "    </tr>\n",
       "    <tr>\n",
       "      <th>knee_flexion</th>\n",
       "      <td>0.774093</td>\n",
       "      <td>3.639056e-04</td>\n",
       "      <td>False</td>\n",
       "    </tr>\n",
       "    <tr>\n",
       "      <th>shoulder_angle</th>\n",
       "      <td>0.836176</td>\n",
       "      <td>3.154215e-03</td>\n",
       "      <td>False</td>\n",
       "    </tr>\n",
       "    <tr>\n",
       "      <th rowspan=\"5\" valign=\"top\">omc</th>\n",
       "      <th>arm_swing</th>\n",
       "      <td>0.739204</td>\n",
       "      <td>1.220781e-04</td>\n",
       "      <td>False</td>\n",
       "    </tr>\n",
       "    <tr>\n",
       "      <th>elbow_angle</th>\n",
       "      <td>0.857645</td>\n",
       "      <td>7.178506e-03</td>\n",
       "      <td>False</td>\n",
       "    </tr>\n",
       "    <tr>\n",
       "      <th>hip_flexion</th>\n",
       "      <td>0.538739</td>\n",
       "      <td>7.268207e-07</td>\n",
       "      <td>False</td>\n",
       "    </tr>\n",
       "    <tr>\n",
       "      <th>knee_flexion</th>\n",
       "      <td>0.750164</td>\n",
       "      <td>1.706262e-04</td>\n",
       "      <td>False</td>\n",
       "    </tr>\n",
       "    <tr>\n",
       "      <th>shoulder_angle</th>\n",
       "      <td>0.814188</td>\n",
       "      <td>1.417364e-03</td>\n",
       "      <td>False</td>\n",
       "    </tr>\n",
       "  </tbody>\n",
       "</table>\n",
       "</div>"
      ]
     },
     "execution_count": 62,
     "metadata": {},
     "output_type": "execute_result"
    }
   ],
   "execution_count": 62
  },
  {
   "metadata": {
    "ExecuteTime": {
     "end_time": "2025-04-02T11:08:11.749314Z",
     "start_time": "2025-04-02T11:08:11.716882Z"
    }
   },
   "cell_type": "code",
   "source": [
    "test_results = df_long.groupby([\"angle\"], group_keys=False).apply(lambda g: pg.pairwise_tests(g, parametric=False, dv = \"value\", between=\"condition\"))\n",
    "test_results[\"p_corr\"] = test_results[\"p-unc\"]*len(df_long.angle.unique())\n",
    "test_results[\"p_corr\"].clip(upper=1, inplace=True)\n",
    "test_results"
   ],
   "id": "31a84e76dd8d1ad5",
   "outputs": [
    {
     "data": {
      "text/plain": [
       "    Contrast        A    B  Paired  Parametric  U-val alternative     p-unc  \\\n",
       "0  condition  control  omc   False       False  270.0   two-sided  0.060111   \n",
       "0  condition  control  omc   False       False  278.0   two-sided  0.036048   \n",
       "0  condition  control  omc   False       False  167.0   two-sided  0.379332   \n",
       "0  condition  control  omc   False       False  189.0   two-sided  0.776391   \n",
       "0  condition  control  omc   False       False  262.0   two-sided  0.096196   \n",
       "\n",
       "     hedges    p_corr  \n",
       "0  0.476354  0.300553  \n",
       "0  0.727128  0.180242  \n",
       "0  0.188395  1.000000  \n",
       "0 -0.164755  1.000000  \n",
       "0  0.543845  0.480981  "
      ],
      "text/html": [
       "<div>\n",
       "<style scoped>\n",
       "    .dataframe tbody tr th:only-of-type {\n",
       "        vertical-align: middle;\n",
       "    }\n",
       "\n",
       "    .dataframe tbody tr th {\n",
       "        vertical-align: top;\n",
       "    }\n",
       "\n",
       "    .dataframe thead th {\n",
       "        text-align: right;\n",
       "    }\n",
       "</style>\n",
       "<table border=\"1\" class=\"dataframe\">\n",
       "  <thead>\n",
       "    <tr style=\"text-align: right;\">\n",
       "      <th></th>\n",
       "      <th>Contrast</th>\n",
       "      <th>A</th>\n",
       "      <th>B</th>\n",
       "      <th>Paired</th>\n",
       "      <th>Parametric</th>\n",
       "      <th>U-val</th>\n",
       "      <th>alternative</th>\n",
       "      <th>p-unc</th>\n",
       "      <th>hedges</th>\n",
       "      <th>p_corr</th>\n",
       "    </tr>\n",
       "  </thead>\n",
       "  <tbody>\n",
       "    <tr>\n",
       "      <th>0</th>\n",
       "      <td>condition</td>\n",
       "      <td>control</td>\n",
       "      <td>omc</td>\n",
       "      <td>False</td>\n",
       "      <td>False</td>\n",
       "      <td>270.0</td>\n",
       "      <td>two-sided</td>\n",
       "      <td>0.060111</td>\n",
       "      <td>0.476354</td>\n",
       "      <td>0.300553</td>\n",
       "    </tr>\n",
       "    <tr>\n",
       "      <th>0</th>\n",
       "      <td>condition</td>\n",
       "      <td>control</td>\n",
       "      <td>omc</td>\n",
       "      <td>False</td>\n",
       "      <td>False</td>\n",
       "      <td>278.0</td>\n",
       "      <td>two-sided</td>\n",
       "      <td>0.036048</td>\n",
       "      <td>0.727128</td>\n",
       "      <td>0.180242</td>\n",
       "    </tr>\n",
       "    <tr>\n",
       "      <th>0</th>\n",
       "      <td>condition</td>\n",
       "      <td>control</td>\n",
       "      <td>omc</td>\n",
       "      <td>False</td>\n",
       "      <td>False</td>\n",
       "      <td>167.0</td>\n",
       "      <td>two-sided</td>\n",
       "      <td>0.379332</td>\n",
       "      <td>0.188395</td>\n",
       "      <td>1.000000</td>\n",
       "    </tr>\n",
       "    <tr>\n",
       "      <th>0</th>\n",
       "      <td>condition</td>\n",
       "      <td>control</td>\n",
       "      <td>omc</td>\n",
       "      <td>False</td>\n",
       "      <td>False</td>\n",
       "      <td>189.0</td>\n",
       "      <td>two-sided</td>\n",
       "      <td>0.776391</td>\n",
       "      <td>-0.164755</td>\n",
       "      <td>1.000000</td>\n",
       "    </tr>\n",
       "    <tr>\n",
       "      <th>0</th>\n",
       "      <td>condition</td>\n",
       "      <td>control</td>\n",
       "      <td>omc</td>\n",
       "      <td>False</td>\n",
       "      <td>False</td>\n",
       "      <td>262.0</td>\n",
       "      <td>two-sided</td>\n",
       "      <td>0.096196</td>\n",
       "      <td>0.543845</td>\n",
       "      <td>0.480981</td>\n",
       "    </tr>\n",
       "  </tbody>\n",
       "</table>\n",
       "</div>"
      ]
     },
     "execution_count": 63,
     "metadata": {},
     "output_type": "execute_result"
    }
   ],
   "execution_count": 63
  },
  {
   "metadata": {},
   "cell_type": "markdown",
   "source": "within - stride - variance\n",
   "id": "4213f98e54fb76b9"
  },
  {
   "metadata": {
    "ExecuteTime": {
     "end_time": "2025-04-02T11:10:36.392716Z",
     "start_time": "2025-04-02T11:10:36.168296Z"
    }
   },
   "cell_type": "code",
   "source": [
    "\n",
    "\n",
    "def rom(trial):\n",
    "    max = trial.groupby([\"cycle_idx\"]).max()\n",
    "    min = trial.groupby([\"cycle_idx\"]).min()\n",
    "\n",
    "\n",
    "    return np.mean(max - min, axis=0)\n",
    "\n",
    "\n",
    "var_within = kinematics.groupby([\"participant\", \"condition\", \"speed\"]).apply(rom)\n",
    "var_per_person = var_within.groupby([\"participant\", \"condition\"]).mean().loc[:,[\"elbow_angle\", \"shoulder_angle\", \"arm_swing\"]]\n",
    "\n",
    "var_per_group = var_per_person.groupby([\"condition\"]).mean()\n",
    "var_per_group"
   ],
   "id": "96d781c324383052",
   "outputs": [
    {
     "data": {
      "text/plain": [
       "           elbow_angle  shoulder_angle   arm_swing\n",
       "condition                                         \n",
       "control      21.104126       25.157917  116.987767\n",
       "omc          19.277945       26.132404  119.759898"
      ],
      "text/html": [
       "<div>\n",
       "<style scoped>\n",
       "    .dataframe tbody tr th:only-of-type {\n",
       "        vertical-align: middle;\n",
       "    }\n",
       "\n",
       "    .dataframe tbody tr th {\n",
       "        vertical-align: top;\n",
       "    }\n",
       "\n",
       "    .dataframe thead th {\n",
       "        text-align: right;\n",
       "    }\n",
       "</style>\n",
       "<table border=\"1\" class=\"dataframe\">\n",
       "  <thead>\n",
       "    <tr style=\"text-align: right;\">\n",
       "      <th></th>\n",
       "      <th>elbow_angle</th>\n",
       "      <th>shoulder_angle</th>\n",
       "      <th>arm_swing</th>\n",
       "    </tr>\n",
       "    <tr>\n",
       "      <th>condition</th>\n",
       "      <th></th>\n",
       "      <th></th>\n",
       "      <th></th>\n",
       "    </tr>\n",
       "  </thead>\n",
       "  <tbody>\n",
       "    <tr>\n",
       "      <th>control</th>\n",
       "      <td>21.104126</td>\n",
       "      <td>25.157917</td>\n",
       "      <td>116.987767</td>\n",
       "    </tr>\n",
       "    <tr>\n",
       "      <th>omc</th>\n",
       "      <td>19.277945</td>\n",
       "      <td>26.132404</td>\n",
       "      <td>119.759898</td>\n",
       "    </tr>\n",
       "  </tbody>\n",
       "</table>\n",
       "</div>"
      ]
     },
     "execution_count": 70,
     "metadata": {},
     "output_type": "execute_result"
    }
   ],
   "execution_count": 70
  },
  {
   "metadata": {
    "ExecuteTime": {
     "end_time": "2025-04-02T11:10:37.181514Z",
     "start_time": "2025-04-02T11:10:37.118532Z"
    }
   },
   "cell_type": "code",
   "source": [
    "df_long = var_per_person.reset_index().melt(\n",
    "    id_vars=[\"participant\", \"condition\"],  # Keep these columns\n",
    "    var_name=\"angle\",  # Name for the melted variable column\n",
    "    value_name=\"value\"  # Name for the melted value column\n",
    ")\n",
    "plt.figure()\n",
    "sns.boxplot(x=\"angle\", y=\"value\", hue=\"condition\", data=df_long, showfliers=True)"
   ],
   "id": "51854991b0bd5061",
   "outputs": [
    {
     "data": {
      "text/plain": [
       "<Axes: xlabel='angle', ylabel='value'>"
      ]
     },
     "execution_count": 71,
     "metadata": {},
     "output_type": "execute_result"
    },
    {
     "data": {
      "text/plain": [
       "Canvas(toolbar=Toolbar(toolitems=[('Home', 'Reset original view', 'home', 'home'), ('Back', 'Back to previous …"
      ],
      "image/png": "[encoded data removed]",
      "text/html": [
       "\n",
       "            <div style=\"display: inline-block;\">\n",
       "                <div class=\"jupyter-widgets widget-label\" style=\"text-align: center;\">\n",
       "                    Figure\n",
       "                </div>\n",
       "                <img src='data:image/png;base64,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' width=1000.0/>\n",
       "            </div>\n",
       "        "
      ],
      "application/vnd.jupyter.widget-view+json": {
       "version_major": 2,
       "version_minor": 0,
       "model_id": "6f3cc56c58fb4c9cb5eb73542a92304e"
      }
     },
     "metadata": {},
     "output_type": "display_data"
    }
   ],
   "execution_count": 71
  },
  {
   "metadata": {
    "ExecuteTime": {
     "end_time": "2025-04-02T11:10:43.526014Z",
     "start_time": "2025-04-02T11:10:43.504423Z"
    }
   },
   "cell_type": "code",
   "source": [
    "normality_results = df_long.groupby(['condition', \"angle\"], group_keys=False)[\"value\"].apply(lambda g: pg.normality(g))\n",
    "normality_results"
   ],
   "id": "60dded0119b28044",
   "outputs": [
    {
     "data": {
      "text/plain": [
       "                               W      pval  normal\n",
       "control arm_swing       0.960699  0.557914    True\n",
       "        elbow_angle     0.964636  0.639977    True\n",
       "        shoulder_angle  0.939897  0.238710    True\n",
       "omc     arm_swing       0.959581  0.535520    True\n",
       "        elbow_angle     0.962563  0.596224    True\n",
       "        shoulder_angle  0.945672  0.306116    True"
      ],
      "text/html": [
       "<div>\n",
       "<style scoped>\n",
       "    .dataframe tbody tr th:only-of-type {\n",
       "        vertical-align: middle;\n",
       "    }\n",
       "\n",
       "    .dataframe tbody tr th {\n",
       "        vertical-align: top;\n",
       "    }\n",
       "\n",
       "    .dataframe thead th {\n",
       "        text-align: right;\n",
       "    }\n",
       "</style>\n",
       "<table border=\"1\" class=\"dataframe\">\n",
       "  <thead>\n",
       "    <tr style=\"text-align: right;\">\n",
       "      <th></th>\n",
       "      <th></th>\n",
       "      <th>W</th>\n",
       "      <th>pval</th>\n",
       "      <th>normal</th>\n",
       "    </tr>\n",
       "  </thead>\n",
       "  <tbody>\n",
       "    <tr>\n",
       "      <th rowspan=\"3\" valign=\"top\">control</th>\n",
       "      <th>arm_swing</th>\n",
       "      <td>0.960699</td>\n",
       "      <td>0.557914</td>\n",
       "      <td>True</td>\n",
       "    </tr>\n",
       "    <tr>\n",
       "      <th>elbow_angle</th>\n",
       "      <td>0.964636</td>\n",
       "      <td>0.639977</td>\n",
       "      <td>True</td>\n",
       "    </tr>\n",
       "    <tr>\n",
       "      <th>shoulder_angle</th>\n",
       "      <td>0.939897</td>\n",
       "      <td>0.238710</td>\n",
       "      <td>True</td>\n",
       "    </tr>\n",
       "    <tr>\n",
       "      <th rowspan=\"3\" valign=\"top\">omc</th>\n",
       "      <th>arm_swing</th>\n",
       "      <td>0.959581</td>\n",
       "      <td>0.535520</td>\n",
       "      <td>True</td>\n",
       "    </tr>\n",
       "    <tr>\n",
       "      <th>elbow_angle</th>\n",
       "      <td>0.962563</td>\n",
       "      <td>0.596224</td>\n",
       "      <td>True</td>\n",
       "    </tr>\n",
       "    <tr>\n",
       "      <th>shoulder_angle</th>\n",
       "      <td>0.945672</td>\n",
       "      <td>0.306116</td>\n",
       "      <td>True</td>\n",
       "    </tr>\n",
       "  </tbody>\n",
       "</table>\n",
       "</div>"
      ]
     },
     "execution_count": 72,
     "metadata": {},
     "output_type": "execute_result"
    }
   ],
   "execution_count": 72
  },
  {
   "metadata": {
    "ExecuteTime": {
     "end_time": "2025-04-02T11:12:22.344637Z",
     "start_time": "2025-04-02T11:12:22.312152Z"
    }
   },
   "cell_type": "code",
   "source": [
    "test_results = df_long.groupby([\"angle\"], group_keys=False).apply(lambda g: pg.pairwise_tests(g, parametric=True, dv = \"value\", between=\"condition\"))\n",
    "test_results[\"p_corr\"] = test_results[\"p-unc\"]*len(df_long.angle.unique())\n",
    "test_results[\"p_corr\"].clip(upper=1, inplace=True)\n",
    "test_results"
   ],
   "id": "69d8e074f0a46e33",
   "outputs": [
    {
     "data": {
      "text/plain": [
       "    Contrast        A    B  Paired  Parametric         T   dof alternative  \\\n",
       "0  condition  control  omc   False        True -0.301537  38.0   two-sided   \n",
       "0  condition  control  omc   False        True  0.963041  38.0   two-sided   \n",
       "0  condition  control  omc   False        True -0.598597  38.0   two-sided   \n",
       "\n",
       "      p-unc   BF10    hedges  p_corr  \n",
       "0  0.764649   0.32 -0.093460     1.0  \n",
       "0  0.341616  0.446  0.298490     1.0  \n",
       "0  0.552993  0.356 -0.185532     1.0  "
      ],
      "text/html": [
       "<div>\n",
       "<style scoped>\n",
       "    .dataframe tbody tr th:only-of-type {\n",
       "        vertical-align: middle;\n",
       "    }\n",
       "\n",
       "    .dataframe tbody tr th {\n",
       "        vertical-align: top;\n",
       "    }\n",
       "\n",
       "    .dataframe thead th {\n",
       "        text-align: right;\n",
       "    }\n",
       "</style>\n",
       "<table border=\"1\" class=\"dataframe\">\n",
       "  <thead>\n",
       "    <tr style=\"text-align: right;\">\n",
       "      <th></th>\n",
       "      <th>Contrast</th>\n",
       "      <th>A</th>\n",
       "      <th>B</th>\n",
       "      <th>Paired</th>\n",
       "      <th>Parametric</th>\n",
       "      <th>T</th>\n",
       "      <th>dof</th>\n",
       "      <th>alternative</th>\n",
       "      <th>p-unc</th>\n",
       "      <th>BF10</th>\n",
       "      <th>hedges</th>\n",
       "      <th>p_corr</th>\n",
       "    </tr>\n",
       "  </thead>\n",
       "  <tbody>\n",
       "    <tr>\n",
       "      <th>0</th>\n",
       "      <td>condition</td>\n",
       "      <td>control</td>\n",
       "      <td>omc</td>\n",
       "      <td>False</td>\n",
       "      <td>True</td>\n",
       "      <td>-0.301537</td>\n",
       "      <td>38.0</td>\n",
       "      <td>two-sided</td>\n",
       "      <td>0.764649</td>\n",
       "      <td>0.32</td>\n",
       "      <td>-0.093460</td>\n",
       "      <td>1.0</td>\n",
       "    </tr>\n",
       "    <tr>\n",
       "      <th>0</th>\n",
       "      <td>condition</td>\n",
       "      <td>control</td>\n",
       "      <td>omc</td>\n",
       "      <td>False</td>\n",
       "      <td>True</td>\n",
       "      <td>0.963041</td>\n",
       "      <td>38.0</td>\n",
       "      <td>two-sided</td>\n",
       "      <td>0.341616</td>\n",
       "      <td>0.446</td>\n",
       "      <td>0.298490</td>\n",
       "      <td>1.0</td>\n",
       "    </tr>\n",
       "    <tr>\n",
       "      <th>0</th>\n",
       "      <td>condition</td>\n",
       "      <td>control</td>\n",
       "      <td>omc</td>\n",
       "      <td>False</td>\n",
       "      <td>True</td>\n",
       "      <td>-0.598597</td>\n",
       "      <td>38.0</td>\n",
       "      <td>two-sided</td>\n",
       "      <td>0.552993</td>\n",
       "      <td>0.356</td>\n",
       "      <td>-0.185532</td>\n",
       "      <td>1.0</td>\n",
       "    </tr>\n",
       "  </tbody>\n",
       "</table>\n",
       "</div>"
      ]
     },
     "execution_count": 74,
     "metadata": {},
     "output_type": "execute_result"
    }
   ],
   "execution_count": 74
  },
  {
   "metadata": {},
   "cell_type": "code",
   "outputs": [],
   "execution_count": null,
   "source": "",
   "id": "beeeff85285d9840"
  }
 ],
 "metadata": {
  "kernelspec": {
   "display_name": "Python 3",
   "language": "python",
   "name": "python3"
  },
  "language_info": {
   "codemirror_mode": {
    "name": "ipython",
    "version": 2
   },
   "file_extension": ".py",
   "mimetype": "text/x-python",
   "name": "python",
   "nbconvert_exporter": "python",
   "pygments_lexer": "ipython2",
   "version": "2.7.6"
  }
 },
 "nbformat": 4,
 "nbformat_minor": 5
}

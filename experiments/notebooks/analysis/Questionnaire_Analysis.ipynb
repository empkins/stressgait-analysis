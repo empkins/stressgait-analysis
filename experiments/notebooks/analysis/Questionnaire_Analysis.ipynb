{
 "cells": [
  {
   "cell_type": "markdown",
   "metadata": {
    "cell_marker": "\"\"\""
   },
   "source": [
    "# StressGait Analysis - Self-Reports"
   ]
  },
  {
   "cell_type": "markdown",
   "metadata": {},
   "source": [
    "## Setup and Helper Functions"
   ]
  },
  {
   "cell_type": "code",
   "execution_count": null,
   "metadata": {
    "ExecuteTime": {
     "end_time": "2025-06-23T11:14:32.218165Z",
     "start_time": "2025-06-23T11:14:31.891281Z"
    }
   },
   "outputs": [],
   "source": [
    "import json\n",
    "from pathlib import Path\n",
    "\n",
    "import biopsykit as bp\n",
    "import matplotlib.pyplot as plt\n",
    "import seaborn as sns\n",
    "from biopsykit.questionnaires.utils import compute_scores, wide_to_long\n",
    "from biopsykit.stats import StatsPipeline\n",
    "from fau_colors.v2021 import register_cmaps\n",
    "\n",
    "from stressgait_analysis.dataset import StressGaitDataset\n",
    "\n",
    "%matplotlib widget\n",
    "%load_ext autoreload\n",
    "%autoreload 2"
   ]
  },
  {
   "cell_type": "code",
   "execution_count": null,
   "metadata": {
    "ExecuteTime": {
     "end_time": "2025-06-13T12:47:37.006957Z",
     "start_time": "2025-06-13T12:47:36.517010Z"
    }
   },
   "outputs": [],
   "source": [
    "register_cmaps()\n",
    "plt.close(\"all\")\n",
    "med_light = sns.color_palette(\"med_light\")\n",
    "med_dark = sns.color_palette(\"med_dark\")\n",
    "palette = sns.color_palette(\"faculties_light\")\n",
    "sns.set_theme(context=\"notebook\", style=\"ticks\", font=\"sans-serif\", palette=palette)\n",
    "\n",
    "plt.rcParams[\"figure.figsize\"] = (10, 5)\n",
    "plt.rcParams[\"pdf.fonttype\"] = 42\n",
    "plt.rcParams[\"mathtext.default\"] = \"regular\"\n",
    "plt.rcParams[\"font.family\"] = \"sans-serif\"\n",
    "\n",
    "\n",
    "palette\n",
    "\n",
    "controls_color = sns.color_palette(\"wiso\")[1]\n",
    "omc_color = sns.color_palette(\"med_dark\")[1]\n",
    "\n",
    "stressgait_palette = {\n",
    "    \"OMC\": omc_color,\n",
    "    \"Control\": controls_color\n",
    "}\n",
    "stressgait = [controls_color, omc_color]"
   ]
  },
  {
   "cell_type": "code",
   "execution_count": null,
   "metadata": {
    "ExecuteTime": {
     "end_time": "2025-06-13T12:47:38.274380Z",
     "start_time": "2025-06-13T12:47:38.260042Z"
    }
   },
   "outputs": [],
   "source": [
    "deploy_type = \"local\"\n",
    "\n",
    "config_dict = json.load(Path(\"../../config.json\").open(encoding=\"utf-8\"))\n",
    "\n",
    "base_path = Path(config_dict[deploy_type][\"base_path\"])\n",
    "base_path"
   ]
  },
  {
   "cell_type": "code",
   "execution_count": null,
   "metadata": {
    "ExecuteTime": {
     "end_time": "2025-06-13T12:47:39.481112Z",
     "start_time": "2025-06-13T12:47:39.467523Z"
    }
   },
   "outputs": [],
   "source": [
    "export_path = Path(\"../../exports\")\n",
    "plot_path = export_path.joinpath(\"plots\")\n",
    "bp.utils.file_handling.mkdirs([export_path, plot_path])\n",
    "\n",
    "export_path"
   ]
  },
  {
   "cell_type": "code",
   "execution_count": null,
   "metadata": {
    "ExecuteTime": {
     "end_time": "2025-06-13T12:47:40.596063Z",
     "start_time": "2025-06-13T12:47:40.572521Z"
    }
   },
   "outputs": [],
   "source": [
    "dataset = StressGaitDataset(base_path, coarse_condition=True, exclude_missing_data=True)\n",
    "\n",
    "dataset"
   ]
  },
  {
   "cell_type": "code",
   "execution_count": null,
   "metadata": {
    "ExecuteTime": {
     "end_time": "2025-06-13T07:49:35.159746488Z",
     "start_time": "2025-04-28T13:11:54.098779Z"
    }
   },
   "outputs": [],
   "source": [
    "order = [\"Pre\", \"Marker\", \"Post\"]\n",
    "hue_order = [\"Control\", \"OMC\"]"
   ]
  },
  {
   "cell_type": "code",
   "execution_count": null,
   "metadata": {
    "ExecuteTime": {
     "end_time": "2025-06-13T12:58:43.029668Z",
     "start_time": "2025-06-13T12:58:43.007234Z"
    }
   },
   "outputs": [],
   "source": [
    "data = dataset.questionnaire"
   ]
  },
  {
   "cell_type": "code",
   "execution_count": null,
   "metadata": {
    "ExecuteTime": {
     "end_time": "2025-06-13T07:49:35.160125488Z",
     "start_time": "2025-04-28T13:11:55.819861Z"
    }
   },
   "outputs": [],
   "source": [
    "quest_dict = {\n",
    "    \"SSSQ-pre\": data.filter(like=\"Pre_SSSQ\").columns,\n",
    "    \"SSSQ-marker\": data.filter(like=\"PreMocap_SSSQ\").columns,\n",
    "    \"SSSQ-post\": data.filter(like=\"Post_SSSQ\").columns,\n",
    "    \"PANAS-pre\": data.filter(like=\"Pre_PANAS\").columns,\n",
    "    \"PANAS-marker\": data.filter(like=\"PreMocap_PANAS\").columns,\n",
    "    \"PANAS-post\": data.filter(like=\"Post_PANAS\").columns,\n",
    "}"
   ]
  },
  {
   "cell_type": "code",
   "execution_count": null,
   "metadata": {
    "ExecuteTime": {
     "end_time": "2025-06-13T07:49:35.160265912Z",
     "start_time": "2025-04-28T13:11:57.117800Z"
    }
   },
   "outputs": [],
   "source": [
    "quest_data = compute_scores(\n",
    "    data=data,\n",
    "    quest_dict=quest_dict,\n",
    "    quest_kwargs={\"PANAS-pre\": {\"language\": \"german\"}, \"PANAS-post\": {\"language\": \"german\"}},\n",
    ")\n",
    "\n",
    "quest_data.head()"
   ]
  },
  {
   "cell_type": "code",
   "execution_count": null,
   "metadata": {
    "ExecuteTime": {
     "end_time": "2025-06-13T07:49:35.160776529Z",
     "start_time": "2025-04-28T13:11:58.394116Z"
    }
   },
   "outputs": [],
   "source": [
    "panas_data = wide_to_long(quest_data, quest_name=\"PANAS\", levels=[\"subscale\", \"time\"])\n",
    "panas_data = panas_data.rename(index=str.capitalize, level=\"time\")\n",
    "panas_data"
   ]
  },
  {
   "cell_type": "code",
   "execution_count": null,
   "metadata": {
    "ExecuteTime": {
     "end_time": "2025-06-13T07:49:35.167245391Z",
     "start_time": "2025-04-28T13:12:00.590101Z"
    }
   },
   "outputs": [],
   "source": [
    "sssq_data = wide_to_long(quest_data, quest_name=\"SSSQ\", levels=[\"subscale\", \"time\"])\n",
    "sssq_data = sssq_data.reindex([\"Distress\", \"Total\", \"SelfEvaluation\"], level=\"subscale\")\n",
    "sssq_data = sssq_data.rename(index=str.capitalize, level=\"time\")\n",
    "sssq_data"
   ]
  },
  {
   "cell_type": "markdown",
   "metadata": {},
   "source": [
    "## PANAS"
   ]
  },
  {
   "cell_type": "code",
   "execution_count": null,
   "metadata": {
    "ExecuteTime": {
     "end_time": "2025-06-13T07:49:35.168551510Z",
     "start_time": "2025-04-28T13:12:11.901062Z"
    }
   },
   "outputs": [],
   "source": [
    "panas_data_analysis = panas_data.drop(\"Total\", level=\"subscale\")\n",
    "panas_data_analysis = panas_data_analysis.rename(index={\"NegativeAffect\": \"Negative Affect\", \"PositiveAffect\": \"Positive Affect\"}, level=\"subscale\")\n",
    "\n",
    "panas_data_omc = panas_data_analysis.xs(\"OMC\", level=\"condition\")\n",
    "panas_data_omc.unstack().head()"
   ]
  },
  {
   "cell_type": "code",
   "execution_count": null,
   "metadata": {
    "ExecuteTime": {
     "end_time": "2025-06-13T07:49:35.168249093Z",
     "start_time": "2025-04-28T13:12:02.822517Z"
    }
   },
   "outputs": [],
   "source": [
    "pipeline = StatsPipeline(\n",
    "    steps=[(\"prep\", \"normality\"), (\"test\", \"mixed_anova\"),(\"posthoc\", \"pairwise_tests\")],\n",
    "    params={\n",
    "        \"dv\": \"PANAS\",\n",
    "        \"subject\": \"participant\",\n",
    "        \"within\": \"time\",\n",
    "        \"between\": \"condition\",\n",
    "        \"groupby\": \"subscale\",\n",
    "         \"parametric\": False,\n",
    "        \"multicomp\": {\"method\": \"bonf\", \"levels\": True},\n",
    "    },\n",
    ")\n",
    "\n",
    "pipeline.apply(panas_data_analysis.drop(\"Marker\", level=\"time\"))\n",
    "\n",
    "# box_pairs, pvalues = pipeline.sig_brackets(\"posthoc\", plot_type=\"single\", x=\"subscale\", subplots=True, stats_effect_type=\"within\")\n",
    "\n",
    "pipeline.display_results()"
   ]
  },
  {
   "cell_type": "code",
   "execution_count": null,
   "metadata": {
    "ExecuteTime": {
     "end_time": "2025-06-13T07:49:35.171065465Z",
     "start_time": "2025-04-28T13:12:13.601452Z"
    }
   },
   "outputs": [],
   "source": [
    "pipeline = StatsPipeline(\n",
    "    steps=[(\"prep\", \"normality\"), (\"test\", \"rm_anova\"), (\"posthoc\", \"pairwise_tests\")],\n",
    "    params={\n",
    "        \"dv\": \"PANAS\",\n",
    "        \"subject\": \"participant\",\n",
    "        \"within\": \"time\",\n",
    "        \"groupby\": \"subscale\",\n",
    "        \"test__effsize\":'np2',\n",
    "        \"parametric\": False,\n",
    "        \"multicomp\": {\"method\": \"bonf\", \"levels\": True},\n",
    "    },\n",
    ")\n",
    "\n",
    "pipeline.apply(panas_data_omc)\n",
    "\n",
    "box_pairs, pvalues = pipeline.sig_brackets(\n",
    "    \"posthoc\", plot_type=\"single\", x=\"subscale\", subplots=True, stats_effect_type=\"within\"\n",
    ")\n",
    "\n",
    "pipeline.display_results()"
   ]
  },
  {
   "cell_type": "code",
   "execution_count": null,
   "metadata": {
    "ExecuteTime": {
     "end_time": "2025-06-13T07:49:35.171670439Z",
     "start_time": "2025-04-28T13:14:25.816938Z"
    }
   },
   "outputs": [],
   "source": [
    "fig, axs = plt.subplots(ncols=2)\n",
    "sns.set_style(\"white\")\n",
    "for (key, val), ax in zip(panas_data_omc.groupby(\"subscale\"), axs, strict=False):\n",
    "    bp.plotting.feature_boxplot(\n",
    "        data=val.reset_index(),\n",
    "        x=\"time\",\n",
    "        y=\"PANAS\",\n",
    "        hue=\"time\",\n",
    "        order=order,\n",
    "        ax=ax,\n",
    "        stats_kwargs={\"pairs\": box_pairs[key], \"pvalues\": pvalues[key], \"verbose\": 0},\n",
    "        palette=med_dark[:3],\n",
    "    )\n",
    "\n",
    "    ax.set_title(key, fontsize=16)\n",
    "    ax.set_ylabel(\"PANAS score\", fontsize=16)\n",
    "    ax.set_xlabel(\"Time of questionnaire\", fontsize=16)\n",
    "    sns.despine()\n",
    "    sns.swarmplot(data=val.reset_index(), x=\"time\", y=\"PANAS\", ax=ax, hue=\"time\", palette=\"fau\"[:3], size=8)\n",
    "    [l.remove() for l in fig.legends]\n",
    "axs[0].set_xticklabels([\"Q-pre\", \"Q-marker\", \"Q-post\"], fontsize=16)\n",
    "axs[1].set_xticklabels([\"Q-pre\", \"Q-marker\", \"Q-post\"], fontsize=16)\n",
    "axs[0].set_yticklabels(axs[0].get_yticks(), fontsize=16)\n",
    "axs[1].set_yticklabels( axs[0].get_yticks(),fontsize=16)\n",
    "\n",
    "fig.tight_layout()\n",
    "plt.savefig(\"../../exports/plots/PANAS.pdf\")"
   ]
  },
  {
   "cell_type": "code",
   "execution_count": null,
   "metadata": {
    "ExecuteTime": {
     "end_time": "2025-06-13T07:49:35.172139820Z",
     "start_time": "2025-04-28T13:12:51.282401Z"
    }
   },
   "outputs": [],
   "source": [
    "fig, axs = plt.subplots(ncols=2)\n",
    "\n",
    "handles, labels = None, None\n",
    "for (key, val), ax in zip(panas_data_analysis.groupby(\"subscale\"), axs, strict=False):\n",
    "    sns.boxplot(\n",
    "        data=val.reset_index(), x=\"time\", y=\"PANAS\", hue=\"condition\", order=order, hue_order=[\"Control\", \"OMC\"], ax=ax\n",
    "    )\n",
    "    ax.set_title(key)\n",
    "    handles, labels = ax.get_legend_handles_labels()\n",
    "    ax.legend().remove()\n",
    "    ax.set_ylabel(\"PANAS Score [A.U.]\")\n",
    "    \n",
    "fig.legend(handles, labels, ncols=2, loc=\"upper center\")\n",
    "fig.tight_layout(rect=(0, 0, 1, 0.95))"
   ]
  },
  {
   "cell_type": "markdown",
   "metadata": {},
   "source": [
    "## SSSQ"
   ]
  },
  {
   "cell_type": "code",
   "execution_count": null,
   "metadata": {
    "ExecuteTime": {
     "end_time": "2025-06-13T07:49:35.172529681Z",
     "start_time": "2025-04-28T13:15:00.201536Z"
    }
   },
   "outputs": [],
   "source": [
    "sssq_data_analysis = sssq_data.reindex([\"Distress\", \"SelfEvaluation\", \"Total\"], level=\"subscale\")\n",
    "sssq_data_analysis = sssq_data_analysis.rename(index={\"SelfEvaluation\": \"Self Evaluation\"}, level=\"subscale\")\n",
    "\n",
    "sssq_data_groups = sssq_data_analysis.drop(\"Marker\", level=\"time\")"
   ]
  },
  {
   "cell_type": "code",
   "execution_count": null,
   "metadata": {
    "ExecuteTime": {
     "end_time": "2025-06-13T07:49:35.172744353Z",
     "start_time": "2025-04-10T11:12:24.116175Z"
    }
   },
   "outputs": [],
   "source": [
    "pipeline = StatsPipeline(\n",
    "    steps=[(\"prep\", \"normality\"), (\"test\", \"mixed_anova\"), (\"posthoc\", \"pairwise_tests\")],\n",
    "    params={\n",
    "        \"dv\": \"SSSQ\",\n",
    "        \"subject\": \"participant\",\n",
    "        \"within\": \"time\",\n",
    "        \"between\": \"condition\",\n",
    "        \"groupby\": \"subscale\",\n",
    "        \"parametric\":False,\n",
    "        \"multicomp\": {\"method\": \"bonf\", \"levels\": True},\n",
    "    },\n",
    ")\n",
    "\n",
    "pipeline.apply(sssq_data_groups)\n",
    "\n",
    "pipeline.display_results(sig_only=False)"
   ]
  },
  {
   "cell_type": "code",
   "execution_count": null,
   "metadata": {
    "ExecuteTime": {
     "end_time": "2025-06-13T07:49:35.172936794Z",
     "start_time": "2025-04-28T13:15:07.388962Z"
    }
   },
   "outputs": [],
   "source": [
    "sssq_data_omc = sssq_data_analysis.xs(\"OMC\", level=\"condition\")"
   ]
  },
  {
   "cell_type": "code",
   "execution_count": null,
   "metadata": {
    "ExecuteTime": {
     "end_time": "2025-06-13T07:49:35.173107975Z",
     "start_time": "2025-04-10T11:12:24.377591Z"
    }
   },
   "outputs": [],
   "source": [
    "pipeline = StatsPipeline(\n",
    "    steps=[(\"prep\", \"normality\"), (\"test\", \"rm_anova\"), (\"posthoc\", \"pairwise_tests\")],\n",
    "    params={\n",
    "        \"dv\": \"SSSQ\",\n",
    "        \"subject\": \"participant\",\n",
    "        \"within\": \"time\",\n",
    "        \"groupby\": \"subscale\",\n",
    "        \"parametric\":False,\n",
    "        \"test__effsize\":\"np2\",\n",
    "        \"multicomp\": {\"method\": \"bonf\", \"levels\": True},\n",
    "    },\n",
    ")\n",
    "\n",
    "pipeline.apply(sssq_data_omc)\n",
    "\n",
    "\n",
    "box_pairs, pvalues = pipeline.sig_brackets(\n",
    "    \"posthoc\", plot_type=\"single\", x=\"subscale\", subplots=True, stats_effect_type=\"within\"\n",
    ")\n",
    "\n",
    "pipeline.display_results()\n",
    "\n",
    "\n",
    "\n",
    "\n"
   ]
  },
  {
   "cell_type": "code",
   "execution_count": null,
   "metadata": {
    "ExecuteTime": {
     "end_time": "2025-06-13T07:49:35.173275269Z",
     "start_time": "2025-04-28T13:16:04.169122Z"
    }
   },
   "outputs": [],
   "source": [
    "fig, axs = plt.subplots(ncols=2)\n",
    "sns.set_style(\"white\")\n",
    "for (key, val), ax in zip(sssq_data_omc.groupby(\"subscale\"), axs, strict=False):\n",
    "    bp.plotting.feature_boxplot(\n",
    "        data=val.reset_index(),\n",
    "        x=\"time\",\n",
    "        y=\"SSSQ\",\n",
    "        hue=\"time\",\n",
    "        order=order,\n",
    "        ax=ax,\n",
    "       # stats_kwargs={\"pairs\": box_pairs.get(key, []), \"pvalues\": pvalues.get(key, []), \"verbose\": 0},\n",
    "        palette=med_dark[:3],\n",
    "    )\n",
    "    sns.swarmplot(data=val.reset_index(), x=\"time\", y=\"SSSQ\", ax=ax, hue=\"time\", palette=\"fau\"[:3], size=8)\n",
    "    [l.remove() for l in fig.legends]\n",
    "    ax.set_title(key, fontsize=16)\n",
    "    ax.set_xlabel(\"Time of questionnaire\", fontsize=16)\n",
    "    ax.set_ylabel(\"SSSQ score\", fontsize=16)\n",
    "    sns.despine()\n",
    "axs[0].set_xticklabels([\"Q-pre\", \"Q-marker\", \"Q-post\"], fontsize=16)\n",
    "axs[1].set_xticklabels([\"Q-pre\", \"Q-marker\", \"Q-post\"], fontsize=16)\n",
    "axs[0].set_yticklabels(axs[0].get_yticks(), fontsize=16)\n",
    "axs[1].set_yticklabels( axs[0].get_yticks(),fontsize=16)\n",
    "fig.tight_layout()\n",
    "fig.savefig(\"../../exports/plots/SSSQ.pdf\")"
   ]
  }
 ],
 "metadata": {
  "jupytext": {
   "encoding": "# -*- coding: utf-8 -*-",
   "text_representation": {
    "extension": ".py",
    "format_name": "sphinx",
    "format_version": "1.1",
    "jupytext_version": "1.13.0"
   }
  },
  "kernelspec": {
   "display_name": "stressgait_analysis",
   "language": "python",
   "name": "stressgait_analysis"
  },
  "language_info": {
   "codemirror_mode": {
    "name": "ipython",
    "version": 3
   },
   "file_extension": ".py",
   "mimetype": "text/x-python",
   "name": "python",
   "nbconvert_exporter": "python",
   "pygments_lexer": "ipython3",
   "version": "3.11.11"
  },
  "toc-showtags": false,
  "vscode": {
   "interpreter": {
    "hash": "7014e6a8beff3a47c7c0424a6c63a486addc0ee3d12468bf1ae9a85a56cca70c"
   }
  }
 },
 "nbformat": 4,
 "nbformat_minor": 4
}

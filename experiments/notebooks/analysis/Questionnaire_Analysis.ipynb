{
 "cells": [
  {
   "cell_type": "markdown",
   "metadata": {
    "cell_marker": "\"\"\""
   },
   "source": [
    "# StressGait Analysis - Self-Reports"
   ]
  },
  {
   "cell_type": "markdown",
   "metadata": {},
   "source": [
    "## Setup and Helper Functions"
   ]
  },
  {
   "cell_type": "code",
   "execution_count": null,
   "metadata": {
    "jupyter": {
     "is_executing": true
    }
   },
   "outputs": [],
   "source": [
    "import json\n",
    "from pathlib import Path\n",
    "\n",
    "import biopsykit as bp\n",
    "import matplotlib.pyplot as plt\n",
    "import seaborn as sns\n",
    "from biopsykit.questionnaires.utils import compute_scores, wide_to_long\n",
    "from biopsykit.stats import StatsPipeline\n",
    "from fau_colors import cmaps, register_fausans_font\n",
    "\n",
    "from stressgait_analysis.dataset import StressGaitDataset\n",
    "\n",
    "%matplotlib widget\n",
    "%load_ext autoreload\n",
    "%autoreload 2"
   ]
  },
  {
   "cell_type": "code",
   "execution_count": null,
   "metadata": {},
   "outputs": [],
   "source": [
    "register_fausans_font()\n",
    "plt.close(\"all\")\n",
    "\n",
    "palette = sns.color_palette(cmaps.faculties_light)\n",
    "sns.set_theme(context=\"notebook\", style=\"ticks\", font=\"sans-serif\", palette=palette)\n",
    "\n",
    "plt.rcParams[\"figure.figsize\"] = (10, 5)\n",
    "plt.rcParams[\"pdf.fonttype\"] = 42\n",
    "plt.rcParams[\"mathtext.default\"] = \"regular\"\n",
    "plt.rcParams[\"font.family\"] = \"sans-serif\"\n",
    "plt.rcParams[\"font.sans-serif\"] = \"FAUSans Office\"\n",
    "\n",
    "palette"
   ]
  },
  {
   "cell_type": "code",
   "execution_count": null,
   "metadata": {},
   "outputs": [],
   "source": [
    "deploy_type = \"local\"\n",
    "\n",
    "config_dict = json.load(Path(\"../../config.json\").open(encoding=\"utf-8\"))\n",
    "\n",
    "base_path = Path(config_dict[deploy_type][\"base_path\"])\n",
    "base_path"
   ]
  },
  {
   "cell_type": "code",
   "execution_count": null,
   "metadata": {},
   "outputs": [],
   "source": [
    "export_path = Path(\"../../exports\")\n",
    "plot_path = export_path.joinpath(\"plots\")\n",
    "bp.utils.file_handling.mkdirs([export_path, plot_path])\n",
    "\n",
    "export_path"
   ]
  },
  {
   "cell_type": "code",
   "execution_count": null,
   "metadata": {},
   "outputs": [],
   "source": [
    "dataset = StressGaitDataset(base_path, coarse_condition=True, exclude_missing_data=True)\n",
    "\n",
    "dataset"
   ]
  },
  {
   "cell_type": "code",
   "execution_count": null,
   "metadata": {},
   "outputs": [],
   "source": [
    "condition_map = {\"omc\": \"OMC\", \"control\": \"Control\"}"
   ]
  },
  {
   "cell_type": "code",
   "execution_count": null,
   "metadata": {},
   "outputs": [],
   "source": [
    "order = [\"pre\", \"marker\", \"post\"]\n",
    "hue_order = [\"Control\", \"OMC\"]"
   ]
  },
  {
   "cell_type": "code",
   "execution_count": null,
   "metadata": {},
   "outputs": [],
   "source": [
    "data = dataset.questionnaire\n",
    "data = data.rename(index=condition_map)\n",
    "data.head()"
   ]
  },
  {
   "cell_type": "code",
   "execution_count": null,
   "metadata": {},
   "outputs": [],
   "source": [
    "quest_dict = {\n",
    "    \"SSSQ-pre\": data.filter(like=\"Pre_SSSQ\").columns,\n",
    "    \"SSSQ-marker\": data.filter(like=\"PreMocap_SSSQ\").columns,\n",
    "    \"SSSQ-post\": data.filter(like=\"Post_SSSQ\").columns,\n",
    "    \"PANAS-pre\": data.filter(like=\"Pre_PANAS\").columns,\n",
    "    \"PANAS-marker\": data.filter(like=\"PreMocap_PANAS\").columns,\n",
    "    \"PANAS-post\": data.filter(like=\"Post_PANAS\").columns,\n",
    "}"
   ]
  },
  {
   "cell_type": "code",
   "execution_count": null,
   "metadata": {},
   "outputs": [],
   "source": [
    "quest_data = compute_scores(\n",
    "    data=data,\n",
    "    quest_dict=quest_dict,\n",
    "    quest_kwargs={\"PANAS-pre\": {\"language\": \"german\"}, \"PANAS-post\": {\"language\": \"german\"}},\n",
    ")\n",
    "\n",
    "quest_data.head()"
   ]
  },
  {
   "cell_type": "code",
   "execution_count": null,
   "metadata": {},
   "outputs": [],
   "source": [
    "panas_data = wide_to_long(quest_data, quest_name=\"PANAS\", levels=[\"subscale\", \"time\"])\n",
    "panas_data"
   ]
  },
  {
   "cell_type": "code",
   "execution_count": null,
   "metadata": {},
   "outputs": [],
   "source": [
    "sssq_data = wide_to_long(quest_data, quest_name=\"SSSQ\", levels=[\"subscale\", \"time\"])\n",
    "sssq_data = sssq_data.reindex([\"Distress\", \"Total\", \"SelfEvaluation\"], level=\"subscale\")\n",
    "sssq_data"
   ]
  },
  {
   "cell_type": "markdown",
   "metadata": {},
   "source": [
    "## PANAS"
   ]
  },
  {
   "cell_type": "code",
   "execution_count": null,
   "metadata": {},
   "outputs": [],
   "source": [
    "pipeline = StatsPipeline(\n",
    "    steps=[(\"test\", \"mixed_anova\")],\n",
    "    params={\n",
    "        \"dv\": \"PANAS\",\n",
    "        \"subject\": \"participant\",\n",
    "        \"within\": \"time\",\n",
    "        \"between\": \"condition\",\n",
    "        \"groupby\": \"subscale\",\n",
    "        \"multicomp\": {\"method\": \"bonf\", \"levels\": True},\n",
    "    },\n",
    ")\n",
    "\n",
    "pipeline.apply(panas_data.drop(\"marker\", level=\"time\"))\n",
    "\n",
    "# box_pairs, pvalues = pipeline.sig_brackets(\"posthoc\", plot_type=\"single\", x=\"subscale\", subplots=True, stats_effect_type=\"within\")\n",
    "\n",
    "pipeline.display_results()"
   ]
  },
  {
   "cell_type": "code",
   "execution_count": null,
   "metadata": {},
   "outputs": [],
   "source": [
    "panas_data_omc = panas_data.xs(\"OMC\", level=\"condition\")"
   ]
  },
  {
   "cell_type": "code",
   "execution_count": null,
   "metadata": {},
   "outputs": [],
   "source": [
    "pipeline = StatsPipeline(\n",
    "    steps=[(\"test\", \"rm_anova\"), (\"posthoc\", \"pairwise_tests\")],\n",
    "    params={\n",
    "        \"dv\": \"PANAS\",\n",
    "        \"subject\": \"participant\",\n",
    "        \"within\": \"time\",\n",
    "        \"groupby\": \"subscale\",\n",
    "        \"multicomp\": {\"method\": \"bonf\", \"levels\": True},\n",
    "    },\n",
    ")\n",
    "\n",
    "pipeline.apply(panas_data_omc)\n",
    "\n",
    "box_pairs, pvalues = pipeline.sig_brackets(\n",
    "    \"posthoc\", plot_type=\"single\", x=\"subscale\", subplots=True, stats_effect_type=\"within\"\n",
    ")\n",
    "\n",
    "pipeline.display_results()"
   ]
  },
  {
   "cell_type": "code",
   "execution_count": null,
   "metadata": {},
   "outputs": [],
   "source": [
    "fig, axs = plt.subplots(ncols=3)\n",
    "\n",
    "for (key, val), ax in zip(panas_data_omc.groupby(\"subscale\"), axs, strict=False):\n",
    "    bp.plotting.feature_boxplot(\n",
    "        data=val.reset_index(),\n",
    "        x=\"time\",\n",
    "        y=\"PANAS\",\n",
    "        hue=\"time\",\n",
    "        order=order,\n",
    "        ax=ax,\n",
    "        stats_kwargs={\"pairs\": box_pairs[key], \"pvalues\": pvalues[key], \"verbose\": 0},\n",
    "        palette=cmaps.fau_light,\n",
    "    )\n",
    "    ax.set_title(key)\n",
    "    sns.swarmplot(data=val.reset_index(), x=\"time\", y=\"PANAS\", ax=ax, hue=\"time\", palette=cmaps.fau[:3])\n",
    "\n",
    "fig.tight_layout()"
   ]
  },
  {
   "cell_type": "code",
   "execution_count": null,
   "metadata": {},
   "outputs": [],
   "source": [
    "fig, axs = plt.subplots(ncols=3)\n",
    "\n",
    "handles, labels = None, None\n",
    "for (key, val), ax in zip(panas_data.groupby(\"subscale\"), axs, strict=False):\n",
    "    sns.boxplot(\n",
    "        data=val.reset_index(), x=\"time\", y=\"PANAS\", hue=\"condition\", order=order, hue_order=[\"Control\", \"OMC\"], ax=ax\n",
    "    )\n",
    "    ax.set_title(key)\n",
    "    handles, labels = ax.get_legend_handles_labels()\n",
    "    ax.legend().remove()\n",
    "\n",
    "fig.legend(handles, labels, ncols=2, loc=\"upper center\")\n",
    "fig.tight_layout(rect=(0, 0, 1, 0.95))"
   ]
  },
  {
   "cell_type": "markdown",
   "metadata": {},
   "source": [
    "## SSSQ"
   ]
  },
  {
   "cell_type": "code",
   "execution_count": null,
   "metadata": {},
   "outputs": [],
   "source": [
    "pipeline = StatsPipeline(\n",
    "    steps=[(\"test\", \"mixed_anova\"), (\"posthoc\", \"pairwise_tests\")],\n",
    "    params={\n",
    "        \"dv\": \"SSSQ\",\n",
    "        \"subject\": \"participant\",\n",
    "        \"within\": \"time\",\n",
    "        \"between\": \"condition\",\n",
    "        \"groupby\": \"subscale\",\n",
    "        \"multicomp\": {\"method\": \"bonf\", \"levels\": True},\n",
    "    },\n",
    ")\n",
    "\n",
    "pipeline.apply(sssq_data.drop(\"marker\", level=\"time\"))\n",
    "\n",
    "# box_pairs, pvalues = pipeline.sig_brackets(\"posthoc\", plot_type=\"single\", x=\"subscale\", subplots=True, stats_effect_type=\"within\")\n",
    "\n",
    "pipeline.display_results(sig_only=False)"
   ]
  },
  {
   "cell_type": "code",
   "execution_count": null,
   "metadata": {},
   "outputs": [],
   "source": [
    "sssq_data_omc = sssq_data.xs(\"OMC\", level=\"condition\")"
   ]
  },
  {
   "cell_type": "code",
   "execution_count": null,
   "metadata": {},
   "outputs": [],
   "source": [
    "pipeline = StatsPipeline(\n",
    "    steps=[(\"test\", \"rm_anova\"), (\"posthoc\", \"pairwise_tests\")],\n",
    "    params={\n",
    "        \"dv\": \"SSSQ\",\n",
    "        \"subject\": \"participant\",\n",
    "        \"within\": \"time\",\n",
    "        \"groupby\": \"subscale\",\n",
    "        \"multicomp\": {\"method\": \"bonf\", \"levels\": True},\n",
    "    },\n",
    ")\n",
    "\n",
    "pipeline.apply(sssq_data_omc)\n",
    "\n",
    "box_pairs, pvalues = pipeline.sig_brackets(\n",
    "    \"posthoc\", plot_type=\"single\", x=\"subscale\", subplots=True, stats_effect_type=\"within\"\n",
    ")\n",
    "\n",
    "pipeline.display_results()"
   ]
  },
  {
   "cell_type": "code",
   "execution_count": null,
   "metadata": {},
   "outputs": [],
   "source": [
    "fig, axs = plt.subplots(ncols=3)\n",
    "\n",
    "for (key, val), ax in zip(sssq_data_omc.groupby(\"subscale\"), axs, strict=False):\n",
    "    bp.plotting.feature_boxplot(\n",
    "        data=val.reset_index(),\n",
    "        x=\"time\",\n",
    "        y=\"SSSQ\",\n",
    "        hue=\"time\",\n",
    "        order=order,\n",
    "        ax=ax,\n",
    "        stats_kwargs={\"pairs\": box_pairs.get(key, []), \"pvalues\": pvalues.get(key, []), \"verbose\": 0},\n",
    "        palette=cmaps.fau_light,\n",
    "    )\n",
    "    ax.set_title(key)\n",
    "    sns.swarmplot(data=val.reset_index(), x=\"time\", y=\"SSSQ\", ax=ax, hue=\"time\", palette=cmaps.fau[:3])\n",
    "\n",
    "fig.tight_layout()"
   ]
  },
  {
   "cell_type": "markdown",
   "metadata": {},
   "source": [
    "## VAS"
   ]
  },
  {
   "cell_type": "code",
   "execution_count": null,
   "metadata": {},
   "outputs": [],
   "source": [
    "vas_data = data.filter(like=\"VAS\")\n",
    "vas_data = wide_to_long(vas_data, quest_name=\"VAS\", levels=\"item\")\n",
    "vas_data.head()"
   ]
  },
  {
   "cell_type": "code",
   "execution_count": null,
   "metadata": {},
   "outputs": [],
   "source": [
    "pipeline = StatsPipeline(\n",
    "    steps=[(\"prep\", \"normality\"), (\"test\", \"pairwise_tests\")],\n",
    "    params={\n",
    "        \"dv\": \"VAS\",\n",
    "        \"between\": \"condition\",\n",
    "        \"groupby\": \"item\",\n",
    "        \"multicomp\": {\"method\": \"bonf\", \"levels\": True},\n",
    "        \"parametric\": False,\n",
    "    },\n",
    ")\n",
    "\n",
    "pipeline.apply(vas_data)\n",
    "\n",
    "# box_pairs, pvalues = pipeline.sig_brackets(\"posthoc\", plot_type=\"single\", x=\"subscale\", subplots=True, stats_effect_type=\"within\")\n",
    "\n",
    "pipeline.display_results(sig_only=False)"
   ]
  },
  {
   "cell_type": "code",
   "execution_count": null,
   "metadata": {},
   "outputs": [],
   "source": [
    "fig, ax = plt.subplots()\n",
    "\n",
    "sns.boxplot(data=vas_data.reset_index(), x=\"item\", y=\"VAS\", hue=\"condition\", hue_order=hue_order, ax=ax)\n",
    "\n",
    "fig.tight_layout()"
   ]
  },
  {
   "cell_type": "code",
   "execution_count": null,
   "metadata": {},
   "outputs": [],
   "source": []
  },
  {
   "cell_type": "code",
   "execution_count": null,
   "metadata": {},
   "outputs": [],
   "source": []
  },
  {
   "cell_type": "code",
   "execution_count": null,
   "metadata": {},
   "outputs": [],
   "source": []
  },
  {
   "cell_type": "code",
   "execution_count": null,
   "metadata": {},
   "outputs": [],
   "source": []
  },
  {
   "cell_type": "markdown",
   "metadata": {},
   "source": [
    "## Plot for ISB Abstract"
   ]
  },
  {
   "cell_type": "code",
   "execution_count": null,
   "metadata": {},
   "outputs": [],
   "source": [
    "from biopsykit.stats import StatsPipeline"
   ]
  },
  {
   "cell_type": "code",
   "execution_count": null,
   "metadata": {},
   "outputs": [],
   "source": [
    "pipeline = StatsPipeline(\n",
    "    steps=[(\"test\", \"pairwise_tests\")], params={\"dv\": \"PANAS\", \"subject\": \"participant\", \"within\": \"time\"}\n",
    ")\n",
    "\n",
    "pipeline.apply(panas_data)\n",
    "\n",
    "box_pairs, pvalues = pipeline.sig_brackets(\"test\", stats_effect_type=\"within\")\n",
    "\n",
    "pipeline.display_results()"
   ]
  },
  {
   "cell_type": "code",
   "execution_count": null,
   "metadata": {},
   "outputs": [],
   "source": [
    "fig, ax = plt.subplots()\n",
    "\n",
    "bp.plotting.feature_boxplot(\n",
    "    data=panas_data.reset_index(),\n",
    "    x=\"time\",\n",
    "    y=\"PANAS\",\n",
    "    hue=\"time\",\n",
    "    show_legend=False,\n",
    "    order=[\"pre\", \"marker\", \"post\"],\n",
    "    stats_kwargs={\"pairs\": box_pairs, \"pvalues\": pvalues, \"verbose\": 0},\n",
    "    ax=ax,\n",
    ")\n",
    "\n",
    "fig.tight_layout()"
   ]
  },
  {
   "cell_type": "code",
   "execution_count": null,
   "metadata": {},
   "outputs": [],
   "source": []
  }
 ],
 "metadata": {
  "jupytext": {
   "encoding": "# -*- coding: utf-8 -*-",
   "text_representation": {
    "extension": ".py",
    "format_name": "sphinx",
    "format_version": "1.1",
    "jupytext_version": "1.13.0"
   }
  },
  "kernelspec": {
   "display_name": "stressgait_analysis",
   "language": "python",
   "name": "stressgait_analysis"
  },
  "language_info": {
   "codemirror_mode": {
    "name": "ipython",
    "version": 3
   },
   "file_extension": ".py",
   "mimetype": "text/x-python",
   "name": "python",
   "nbconvert_exporter": "python",
   "pygments_lexer": "ipython3",
   "version": "3.10.14"
  },
  "toc-showtags": false,
  "vscode": {
   "interpreter": {
    "hash": "7014e6a8beff3a47c7c0424a6c63a486addc0ee3d12468bf1ae9a85a56cca70c"
   }
  }
 },
 "nbformat": 4,
 "nbformat_minor": 4
}

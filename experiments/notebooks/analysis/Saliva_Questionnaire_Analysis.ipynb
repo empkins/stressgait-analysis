{
 "cells": [
  {
   "cell_type": "markdown",
   "metadata": {
    "cell_marker": "\"\"\""
   },
   "source": [
    "# StressGait Analysis - Saliva & Self-Reports"
   ]
  },
  {
   "cell_type": "markdown",
   "metadata": {},
   "source": [
    "## Setup and Helper Functions"
   ]
  },
  {
   "cell_type": "code",
   "execution_count": null,
   "metadata": {
    "jupyter": {
     "is_executing": true
    }
   },
   "outputs": [],
   "source": [
    "import json\n",
    "from pathlib import Path\n",
    "\n",
    "import biopsykit as bp\n",
    "import matplotlib.pyplot as plt\n",
    "import pandas as pd\n",
    "import pingouin as pg\n",
    "import seaborn as sns\n",
    "from biopsykit.questionnaires.utils import compute_scores, wide_to_long\n",
    "from biopsykit.utils.dataframe_handling import convert_nan\n",
    "from fau_colors import cmaps, register_fausans_font\n",
    "\n",
    "from stressgait_analysis.dataset import StressGaitDataset\n",
    "\n",
    "%matplotlib widget\n",
    "%load_ext autoreload\n",
    "%autoreload 2"
   ]
  },
  {
   "cell_type": "code",
   "execution_count": null,
   "metadata": {},
   "outputs": [],
   "source": [
    "register_fausans_font()\n",
    "plt.close(\"all\")\n",
    "\n",
    "palette = sns.color_palette(cmaps.faculties_light)\n",
    "sns.set_theme(context=\"notebook\", style=\"ticks\", font=\"sans-serif\", palette=palette)\n",
    "\n",
    "plt.rcParams[\"figure.figsize\"] = (10, 5)\n",
    "plt.rcParams[\"pdf.fonttype\"] = 42\n",
    "plt.rcParams[\"mathtext.default\"] = \"regular\"\n",
    "plt.rcParams[\"font.family\"] = \"sans-serif\"\n",
    "plt.rcParams[\"font.sans-serif\"] = \"FAUSans Office\"\n",
    "\n",
    "palette"
   ]
  },
  {
   "cell_type": "code",
   "execution_count": null,
   "metadata": {},
   "outputs": [],
   "source": [
    "deploy_type = \"local\"\n",
    "\n",
    "config_dict = json.load(Path(\"../config.json\").open(encoding=\"utf-8\"))\n",
    "\n",
    "base_path = Path(config_dict[deploy_type][\"base_path\"])\n",
    "base_path"
   ]
  },
  {
   "cell_type": "code",
   "execution_count": null,
   "metadata": {},
   "outputs": [],
   "source": [
    "dataset = StressGaitDataset(base_path, coarse_condition=True)\n",
    "\n",
    "dataset"
   ]
  },
  {
   "cell_type": "code",
   "execution_count": null,
   "metadata": {},
   "outputs": [],
   "source": [
    "dataset.cortisol_features"
   ]
  },
  {
   "cell_type": "code",
   "execution_count": null,
   "metadata": {},
   "outputs": [],
   "source": [
    "fig, ax = plt.subplots()\n",
    "\n",
    "bp.protocols.plotting.saliva_plot(\n",
    "    data=dataset.cortisol,\n",
    "    saliva_type=\"cortisol\",\n",
    "    sample_times=dataset.sample_times,\n",
    "    test_times=[30, 38],\n",
    "    test_title=\"GAIT\",\n",
    "    sample_times_absolute=True,\n",
    "    ax=ax,\n",
    ")\n",
    "\n",
    "fig.tight_layout()"
   ]
  },
  {
   "cell_type": "code",
   "execution_count": null,
   "metadata": {},
   "outputs": [],
   "source": [
    "dataset.cortisol_features.groupby([\"condition\", \"saliva_feature\"]).mean().unstack(\"condition\")"
   ]
  },
  {
   "cell_type": "code",
   "execution_count": null,
   "metadata": {},
   "outputs": [],
   "source": [
    "pg.pairwise_tests(\n",
    "    data=dataset.cortisol_features.xs(\"max_inc\", level=\"saliva_feature\").reset_index(),\n",
    "    dv=\"cortisol\",\n",
    "    between=\"condition\",\n",
    ")"
   ]
  },
  {
   "cell_type": "code",
   "execution_count": null,
   "metadata": {},
   "outputs": [],
   "source": [
    "hue_order = [\"control\", \"omc\"]"
   ]
  },
  {
   "cell_type": "code",
   "execution_count": null,
   "metadata": {},
   "outputs": [],
   "source": [
    "fig, ax = plt.subplots()\n",
    "\n",
    "sns.boxplot(data=dataset.cortisol.reset_index(), x=\"sample\", y=\"cortisol\", hue=\"condition\", hue_order=hue_order, ax=ax)\n",
    "sns.swarmplot(\n",
    "    data=dataset.cortisol.reset_index(),\n",
    "    x=\"sample\",\n",
    "    y=\"cortisol\",\n",
    "    hue=\"condition\",\n",
    "    hue_order=hue_order,\n",
    "    ax=ax,\n",
    "    palette=cmaps.faculties[:2],\n",
    "    dodge=True,\n",
    ")\n",
    "\n",
    "fig.tight_layout()"
   ]
  },
  {
   "cell_type": "code",
   "execution_count": null,
   "metadata": {},
   "outputs": [],
   "source": [
    "fig, axs = plt.subplots(figsize=(14, 5), ncols=2, sharey=True)\n",
    "\n",
    "dataset.cortisol.unstack()[\"cortisol\"].xs(\"control\", level=\"condition\").T.plot(ax=axs[0], legend=False, title=\"Control\")\n",
    "dataset.cortisol.unstack()[\"cortisol\"].xs(\"omc\", level=\"condition\").T.plot(ax=axs[1], legend=False, title=\"OMC\")\n",
    "\n",
    "# sns.lineplot(data=dataset.cortisol.reset_index(), x=\"sample\", y=\"cortisol\", ax=ax)\n",
    "\n",
    "fig.tight_layout()"
   ]
  },
  {
   "cell_type": "code",
   "execution_count": null,
   "metadata": {},
   "outputs": [],
   "source": [
    "dataset.cortisol_features.unstack()"
   ]
  },
  {
   "cell_type": "code",
   "execution_count": null,
   "metadata": {},
   "outputs": [],
   "source": [
    "fig, ax = bp.protocols.plotting.saliva_multi_feature_boxplot(\n",
    "    data=dataset.cortisol_features,\n",
    "    saliva_type=\"cortisol\",\n",
    "    features=[\"max_inc\", \"auc_g\"],\n",
    "    hue=\"condition\",\n",
    "    hue_order=[\"control\", \"omc\"],\n",
    "    legend_orientation=\"horizontal\",\n",
    "    legend_loc=\"upper center\",\n",
    ")\n",
    "\n",
    "fig.tight_layout(rect=(0, 0, 1, 0.9))"
   ]
  },
  {
   "cell_type": "code",
   "execution_count": null,
   "metadata": {},
   "outputs": [],
   "source": [
    "responder_list = dataset.cortisol.reindex([\"S0\", \"S1\"], level=\"sample\").unstack().diff(axis=1).dropna(axis=1, how=\"all\")\n",
    "responder_list.columns = [\"inc_S0S1\"]\n",
    "display(responder_list.groupby(\"condition\").mean())\n",
    "\n",
    "responder_list = responder_list > 1.5\n",
    "\n",
    "display(responder_list)\n",
    "\n",
    "responder_list.groupby(\"condition\").value_counts()"
   ]
  },
  {
   "cell_type": "code",
   "execution_count": null,
   "metadata": {},
   "outputs": [],
   "source": [
    "responder_list = dataset.cortisol_features.xs(\"max_inc\", level=\"saliva_feature\") > 1.5\n",
    "\n",
    "display(responder_list)\n",
    "\n",
    "responder_list.groupby(\"condition\").value_counts()"
   ]
  },
  {
   "cell_type": "code",
   "execution_count": null,
   "metadata": {},
   "outputs": [],
   "source": []
  },
  {
   "cell_type": "code",
   "execution_count": null,
   "metadata": {},
   "outputs": [],
   "source": []
  },
  {
   "cell_type": "code",
   "execution_count": null,
   "metadata": {},
   "outputs": [],
   "source": []
  },
  {
   "cell_type": "code",
   "execution_count": null,
   "metadata": {},
   "outputs": [],
   "source": []
  },
  {
   "cell_type": "code",
   "execution_count": null,
   "metadata": {},
   "outputs": [],
   "source": []
  },
  {
   "cell_type": "code",
   "execution_count": null,
   "metadata": {},
   "outputs": [],
   "source": [
    "data = pd.read_csv(input_path.joinpath(\"stress_gait_labor.csv\"))\n",
    "data = data.assign(condition_fine=data[\"condition\"].replace(condition_fine_mapping))\n",
    "data = data.assign(condition=(data[\"condition_fine\"].str.contains(\"OMC\")).replace(condition_mapping))\n",
    "data = data.set_index([\"participant\", \"condition\"])\n",
    "\n",
    "data"
   ]
  },
  {
   "cell_type": "code",
   "execution_count": null,
   "metadata": {},
   "outputs": [],
   "source": [
    "data = data.drop(index=[\"VP_03\", \"VP_04\", \"VP_09\", \"VP_14\", \"VP_21\"], errors=\"ignore\")"
   ]
  },
  {
   "cell_type": "code",
   "execution_count": null,
   "metadata": {},
   "outputs": [],
   "source": [
    "data = convert_nan(data)\n",
    "data.head()"
   ]
  },
  {
   "cell_type": "code",
   "execution_count": null,
   "metadata": {},
   "outputs": [],
   "source": [
    "quest_dict = {\n",
    "    \"SSSQ-pre\": data.filter(like=\"Pre_SSSQ\").columns,\n",
    "    \"SSSQ-marker\": data.filter(like=\"PreMocap_SSSQ\").columns,\n",
    "    \"SSSQ-post\": data.filter(like=\"Post_SSSQ\").columns,\n",
    "    \"PANAS-pre\": data.filter(like=\"Pre_PANAS\").columns,\n",
    "    \"PANAS-marker\": data.filter(like=\"PreMocap_PANAS\").columns,\n",
    "    \"PANAS-post\": data.filter(like=\"Post_PANAS\").columns,\n",
    "}"
   ]
  },
  {
   "cell_type": "code",
   "execution_count": null,
   "metadata": {},
   "outputs": [],
   "source": [
    "quest_data = compute_scores(\n",
    "    data=data,\n",
    "    quest_dict=quest_dict,\n",
    "    quest_kwargs={\"PANAS-pre\": {\"language\": \"german\"}, \"PANAS-post\": {\"language\": \"german\"}},\n",
    ")\n",
    "\n",
    "quest_data.head()"
   ]
  },
  {
   "cell_type": "code",
   "execution_count": null,
   "metadata": {},
   "outputs": [],
   "source": [
    "panas_data_full = wide_to_long(quest_data, quest_name=\"PANAS\", levels=[\"subscale\", \"time\"])\n",
    "\n",
    "omc_panas = panas_data_full.loc[pd.IndexSlice[:, \"OMC\", :, [\"marker\", \"post\"]]]\n",
    "omc_panas = omc_panas.rename(index={\"marker\": \"pre\"})\n",
    "control_panas = panas_data_full.loc[pd.IndexSlice[:, \"Control\", :, [\"pre\", \"post\"]]]\n",
    "\n",
    "panas_data = pd.concat([omc_panas, control_panas]).sort_index()\n",
    "\n",
    "panas_data.head()"
   ]
  },
  {
   "cell_type": "code",
   "execution_count": null,
   "metadata": {},
   "outputs": [],
   "source": [
    "sssq_data_full = wide_to_long(quest_data, quest_name=\"SSSQ\", levels=[\"subscale\", \"time\"])\n",
    "\n",
    "sssq_omc = sssq_data_full.loc[pd.IndexSlice[:, \"OMC\", :, [\"marker\", \"post\"]]]\n",
    "sssq_omc = sssq_omc.rename(index={\"marker\": \"pre\"})\n",
    "sssq_control = sssq_data_full.loc[pd.IndexSlice[:, \"Control\", :, [\"pre\", \"post\"]]]\n",
    "\n",
    "sssq_data = pd.concat([sssq_omc, sssq_control]).sort_index()\n",
    "sssq_data.head()"
   ]
  },
  {
   "cell_type": "code",
   "execution_count": null,
   "metadata": {},
   "outputs": [],
   "source": [
    "for key, data in panas_data_full.xs(\"OMC\", level=\"condition\").groupby(\"subscale\"):\n",
    "    display(key)\n",
    "    results = pg.pairwise_tests(data=data.reset_index(), dv=\"PANAS\", subject=\"participant\", within=\"time\")\n",
    "    display(results.round(3))"
   ]
  },
  {
   "cell_type": "code",
   "execution_count": null,
   "metadata": {},
   "outputs": [],
   "source": [
    "fig, ax = plt.subplots()\n",
    "\n",
    "sns.boxplot(\n",
    "    data=sssq_data_full.xs(\"OMC\", level=\"condition\").reset_index(),\n",
    "    x=\"subscale\",\n",
    "    y=\"SSSQ\",\n",
    "    hue=\"time\",\n",
    "    hue_order=[\"pre\", \"marker\", \"post\"],\n",
    "    ax=ax,\n",
    ")\n",
    "\n",
    "fig.tight_layout()"
   ]
  },
  {
   "cell_type": "code",
   "execution_count": null,
   "metadata": {},
   "outputs": [],
   "source": [
    "sssq_diff = (\n",
    "    sssq_data.unstack()\n",
    "    .reindex([\"pre\", \"post\"], level=\"time\", axis=1)\n",
    "    .diff(axis=1)\n",
    "    .dropna(axis=1, how=\"all\")\n",
    "    .droplevel(level=-1, axis=1)\n",
    ")\n",
    "\n",
    "sssq_diff"
   ]
  },
  {
   "cell_type": "code",
   "execution_count": null,
   "metadata": {},
   "outputs": [],
   "source": [
    "panas_diff = (\n",
    "    panas_data.unstack()\n",
    "    .reindex([\"pre\", \"post\"], level=\"time\", axis=1)\n",
    "    .diff(axis=1)\n",
    "    .dropna(axis=1, how=\"all\")\n",
    "    .droplevel(level=-1, axis=1)\n",
    ")\n",
    "\n",
    "panas_diff"
   ]
  },
  {
   "cell_type": "code",
   "execution_count": null,
   "metadata": {},
   "outputs": [],
   "source": [
    "fig, ax = plt.subplots()\n",
    "\n",
    "sns.boxplot(data=sssq_diff.reset_index(), y=\"SSSQ\", x=\"subscale\", hue=\"condition\", hue_order=[\"Control\", \"OMC\"], ax=ax)\n",
    "\n",
    "fig.tight_layout()"
   ]
  },
  {
   "cell_type": "code",
   "execution_count": null,
   "metadata": {},
   "outputs": [],
   "source": [
    "fig, ax = plt.subplots()\n",
    "\n",
    "sns.boxplot(\n",
    "    data=panas_diff.reset_index(), y=\"PANAS\", x=\"subscale\", hue=\"condition\", hue_order=[\"Control\", \"OMC\"], ax=ax\n",
    ")\n",
    "\n",
    "fig.tight_layout()"
   ]
  },
  {
   "cell_type": "markdown",
   "metadata": {},
   "source": [
    "## Plot for ISB Abstract"
   ]
  },
  {
   "cell_type": "code",
   "execution_count": null,
   "metadata": {},
   "outputs": [],
   "source": [
    "panas_data_full.to_csv(input_path.joinpath(\"panas_data.csv\"))"
   ]
  },
  {
   "cell_type": "code",
   "execution_count": null,
   "metadata": {},
   "outputs": [],
   "source": [
    "panas_data = pd.read_csv(input_path.joinpath(\"panas_data.csv\"))\n",
    "panas_data = panas_data.set_index([\"participant\", \"condition\", \"subscale\", \"time\"])\n",
    "panas_data"
   ]
  },
  {
   "cell_type": "code",
   "execution_count": null,
   "metadata": {},
   "outputs": [],
   "source": [
    "panas_data = panas_data.loc[pd.IndexSlice[:, \"OMC\", \"NegativeAffect\"]]"
   ]
  },
  {
   "cell_type": "code",
   "execution_count": null,
   "metadata": {},
   "outputs": [],
   "source": [
    "from biopsykit.stats import StatsPipeline"
   ]
  },
  {
   "cell_type": "code",
   "execution_count": null,
   "metadata": {},
   "outputs": [],
   "source": [
    "pipeline = StatsPipeline(\n",
    "    steps=[(\"test\", \"pairwise_tests\")], params={\"dv\": \"PANAS\", \"subject\": \"participant\", \"within\": \"time\"}\n",
    ")\n",
    "\n",
    "pipeline.apply(panas_data)\n",
    "\n",
    "box_pairs, pvalues = pipeline.sig_brackets(\"test\", stats_effect_type=\"within\")\n",
    "\n",
    "pipeline.display_results()"
   ]
  },
  {
   "cell_type": "code",
   "execution_count": null,
   "metadata": {},
   "outputs": [],
   "source": [
    "fig, ax = plt.subplots()\n",
    "\n",
    "bp.plotting.feature_boxplot(\n",
    "    data=panas_data.reset_index(),\n",
    "    x=\"time\",\n",
    "    y=\"PANAS\",\n",
    "    hue=\"time\",\n",
    "    show_legend=False,\n",
    "    order=[\"pre\", \"marker\", \"post\"],\n",
    "    stats_kwargs={\"pairs\": box_pairs, \"pvalues\": pvalues, \"verbose\": 0},\n",
    "    ax=ax,\n",
    ")\n",
    "\n",
    "fig.tight_layout()"
   ]
  },
  {
   "cell_type": "code",
   "execution_count": null,
   "metadata": {},
   "outputs": [],
   "source": []
  }
 ],
 "metadata": {
  "jupytext": {
   "encoding": "# -*- coding: utf-8 -*-",
   "text_representation": {
    "extension": ".py",
    "format_name": "sphinx",
    "format_version": "1.1",
    "jupytext_version": "1.13.0"
   }
  },
  "kernelspec": {
   "display_name": "stressgait_analysis",
   "language": "python",
   "name": "stressgait_analysis"
  },
  "language_info": {
   "codemirror_mode": {
    "name": "ipython",
    "version": 3
   },
   "file_extension": ".py",
   "mimetype": "text/x-python",
   "name": "python",
   "nbconvert_exporter": "python",
   "pygments_lexer": "ipython3",
   "version": "3.10.14"
  },
  "toc-showtags": false,
  "vscode": {
   "interpreter": {
    "hash": "7014e6a8beff3a47c7c0424a6c63a486addc0ee3d12468bf1ae9a85a56cca70c"
   }
  }
 },
 "nbformat": 4,
 "nbformat_minor": 4
}

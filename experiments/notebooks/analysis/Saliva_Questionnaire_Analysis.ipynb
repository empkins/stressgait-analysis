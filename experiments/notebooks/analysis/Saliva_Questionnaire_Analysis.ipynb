{
 "cells": [
  {
   "cell_type": "markdown",
   "metadata": {
    "cell_marker": "\"\"\""
   },
   "source": [
    "# StressGait Analysis - Saliva & Self-Reports"
   ]
  },
  {
   "cell_type": "markdown",
   "metadata": {},
   "source": [
    "## Setup and Helper Functions"
   ]
  },
  {
   "cell_type": "code",
   "metadata": {
    "ExecuteTime": {
     "end_time": "2025-03-28T09:46:47.680689Z",
     "start_time": "2025-03-28T09:46:47.411957Z"
    }
   },
   "source": [
    "import json\n",
    "from pathlib import Path\n",
    "\n",
    "import biopsykit as bp\n",
    "import matplotlib.pyplot as plt\n",
    "import pandas as pd\n",
    "import pingouin as pg\n",
    "import seaborn as sns\n",
    "from biopsykit.questionnaires.utils import compute_scores, wide_to_long\n",
    "from biopsykit.utils.dataframe_handling import convert_nan\n",
    "from fau_colors import cmaps, register_fausans_font\n",
    "\n",
    "from stressgait_analysis.dataset import StressGaitDataset\n",
    "\n",
    "%matplotlib widget\n",
    "%load_ext autoreload\n",
    "%autoreload 2"
   ],
   "outputs": [],
   "execution_count": 1
  },
  {
   "cell_type": "code",
   "metadata": {
    "ExecuteTime": {
     "end_time": "2025-03-28T09:46:54.866817Z",
     "start_time": "2025-03-28T09:46:53.715055Z"
    }
   },
   "source": [
    "#register_fausans_font()\n",
    "plt.close(\"all\")\n",
    "\n",
    "palette = sns.color_palette(cmaps.faculties_light)\n",
    "sns.set_theme(context=\"notebook\", style=\"ticks\", font=\"sans-serif\", palette=palette)\n",
    "\n",
    "plt.rcParams[\"figure.figsize\"] = (10, 5)\n",
    "plt.rcParams[\"pdf.fonttype\"] = 42\n",
    "plt.rcParams[\"mathtext.default\"] = \"regular\"\n",
    "plt.rcParams[\"font.family\"] = \"sans-serif\"\n",
    "#plt.rcParams[\"font.sans-serif\"] = \"FAUSans Office\"\n",
    "\n",
    "palette"
   ],
   "outputs": [
    {
     "data": {
      "text/plain": [
       "[(0.37254901960784315, 0.48627450980392156, 0.6392156862745098),\n",
       " (0.6666666666666666, 0.7647058823529411, 0.8196078431372549),\n",
       " (1.0, 0.8235294117647058, 0.44313725490196076),\n",
       " (0.37254901960784315, 0.7725490196078432, 0.9254901960784314),\n",
       " (0.5372549019607843, 0.803921568627451, 0.4745098039215686),\n",
       " (0.8627450980392157, 0.4117647058823529, 0.48627450980392156)]"
      ],
      "text/html": [
       "<svg  width=\"330\" height=\"55\"><rect x=\"0\" y=\"0\" width=\"55\" height=\"55\" style=\"fill:#5f7ca3;stroke-width:2;stroke:rgb(255,255,255)\"/><rect x=\"55\" y=\"0\" width=\"55\" height=\"55\" style=\"fill:#aac3d1;stroke-width:2;stroke:rgb(255,255,255)\"/><rect x=\"110\" y=\"0\" width=\"55\" height=\"55\" style=\"fill:#ffd271;stroke-width:2;stroke:rgb(255,255,255)\"/><rect x=\"165\" y=\"0\" width=\"55\" height=\"55\" style=\"fill:#5fc5ec;stroke-width:2;stroke:rgb(255,255,255)\"/><rect x=\"220\" y=\"0\" width=\"55\" height=\"55\" style=\"fill:#89cd79;stroke-width:2;stroke:rgb(255,255,255)\"/><rect x=\"275\" y=\"0\" width=\"55\" height=\"55\" style=\"fill:#dc697c;stroke-width:2;stroke:rgb(255,255,255)\"/></svg>"
      ]
     },
     "execution_count": 2,
     "metadata": {},
     "output_type": "execute_result"
    }
   ],
   "execution_count": 2
  },
  {
   "cell_type": "code",
   "metadata": {
    "ExecuteTime": {
     "end_time": "2025-03-28T09:46:56.016721Z",
     "start_time": "2025-03-28T09:46:56.001494Z"
    }
   },
   "source": [
    "deploy_type = \"local\"\n",
    "\n",
    "config_dict = json.load(Path(\"../../config.json\").open(encoding=\"utf-8\"))\n",
    "\n",
    "base_path = Path(config_dict[deploy_type][\"base_path\"])\n",
    "base_path"
   ],
   "outputs": [
    {
     "data": {
      "text/plain": [
       "PosixPath('/home/rzlin/ys64ofuj/Data/StressGait/Data')"
      ]
     },
     "execution_count": 3,
     "metadata": {},
     "output_type": "execute_result"
    }
   ],
   "execution_count": 3
  },
  {
   "cell_type": "code",
   "metadata": {
    "ExecuteTime": {
     "end_time": "2025-03-28T09:46:57.737171Z",
     "start_time": "2025-03-28T09:46:57.712988Z"
    }
   },
   "source": [
    "dataset = StressGaitDataset(base_path)\n",
    "\n",
    "dataset.create_index()"
   ],
   "outputs": [
    {
     "data": {
      "text/plain": [
       "   participant       condition\n",
       "0        VP_01      omc_normal\n",
       "1        VP_02  control_normal\n",
       "2        VP_05   control_split\n",
       "3        VP_06       omc_split\n",
       "4        VP_07  control_normal\n",
       "5        VP_08   control_split\n",
       "6        VP_10       omc_split\n",
       "7        VP_11  control_normal\n",
       "8        VP_12   control_split\n",
       "9        VP_13       omc_split\n",
       "10       VP_15  control_normal\n",
       "11       VP_16   control_split\n",
       "12       VP_17      omc_normal\n",
       "13       VP_18   control_split\n",
       "14       VP_19       omc_split\n",
       "15       VP_20      omc_normal\n",
       "16       VP_22       omc_split\n",
       "17       VP_23  control_normal\n",
       "18       VP_24  control_normal\n",
       "19       VP_25   control_split\n",
       "20       VP_26      omc_normal\n",
       "21       VP_27  control_normal\n",
       "22       VP_28   control_split\n",
       "23       VP_29      omc_normal\n",
       "24       VP_30  control_normal\n",
       "25       VP_31  control_normal\n",
       "26       VP_32   control_split\n",
       "27       VP_33   control_split\n",
       "28       VP_34  control_normal\n",
       "29       VP_35      omc_normal\n",
       "30       VP_36       omc_split\n",
       "31       VP_37      omc_normal\n",
       "32       VP_38      omc_normal\n",
       "33       VP_40       omc_split\n",
       "34       VP_41      omc_normal\n",
       "35       VP_42       omc_split\n",
       "36       VP_43      omc_normal\n",
       "37       VP_44       omc_split\n",
       "38       VP_45      omc_normal\n",
       "39       VP_46   control_split\n",
       "40       VP_47       omc_split"
      ],
      "text/html": [
       "<div>\n",
       "<style scoped>\n",
       "    .dataframe tbody tr th:only-of-type {\n",
       "        vertical-align: middle;\n",
       "    }\n",
       "\n",
       "    .dataframe tbody tr th {\n",
       "        vertical-align: top;\n",
       "    }\n",
       "\n",
       "    .dataframe thead th {\n",
       "        text-align: right;\n",
       "    }\n",
       "</style>\n",
       "<table border=\"1\" class=\"dataframe\">\n",
       "  <thead>\n",
       "    <tr style=\"text-align: right;\">\n",
       "      <th></th>\n",
       "      <th>participant</th>\n",
       "      <th>condition</th>\n",
       "    </tr>\n",
       "  </thead>\n",
       "  <tbody>\n",
       "    <tr>\n",
       "      <th>0</th>\n",
       "      <td>VP_01</td>\n",
       "      <td>omc_normal</td>\n",
       "    </tr>\n",
       "    <tr>\n",
       "      <th>1</th>\n",
       "      <td>VP_02</td>\n",
       "      <td>control_normal</td>\n",
       "    </tr>\n",
       "    <tr>\n",
       "      <th>2</th>\n",
       "      <td>VP_05</td>\n",
       "      <td>control_split</td>\n",
       "    </tr>\n",
       "    <tr>\n",
       "      <th>3</th>\n",
       "      <td>VP_06</td>\n",
       "      <td>omc_split</td>\n",
       "    </tr>\n",
       "    <tr>\n",
       "      <th>4</th>\n",
       "      <td>VP_07</td>\n",
       "      <td>control_normal</td>\n",
       "    </tr>\n",
       "    <tr>\n",
       "      <th>5</th>\n",
       "      <td>VP_08</td>\n",
       "      <td>control_split</td>\n",
       "    </tr>\n",
       "    <tr>\n",
       "      <th>6</th>\n",
       "      <td>VP_10</td>\n",
       "      <td>omc_split</td>\n",
       "    </tr>\n",
       "    <tr>\n",
       "      <th>7</th>\n",
       "      <td>VP_11</td>\n",
       "      <td>control_normal</td>\n",
       "    </tr>\n",
       "    <tr>\n",
       "      <th>8</th>\n",
       "      <td>VP_12</td>\n",
       "      <td>control_split</td>\n",
       "    </tr>\n",
       "    <tr>\n",
       "      <th>9</th>\n",
       "      <td>VP_13</td>\n",
       "      <td>omc_split</td>\n",
       "    </tr>\n",
       "    <tr>\n",
       "      <th>10</th>\n",
       "      <td>VP_15</td>\n",
       "      <td>control_normal</td>\n",
       "    </tr>\n",
       "    <tr>\n",
       "      <th>11</th>\n",
       "      <td>VP_16</td>\n",
       "      <td>control_split</td>\n",
       "    </tr>\n",
       "    <tr>\n",
       "      <th>12</th>\n",
       "      <td>VP_17</td>\n",
       "      <td>omc_normal</td>\n",
       "    </tr>\n",
       "    <tr>\n",
       "      <th>13</th>\n",
       "      <td>VP_18</td>\n",
       "      <td>control_split</td>\n",
       "    </tr>\n",
       "    <tr>\n",
       "      <th>14</th>\n",
       "      <td>VP_19</td>\n",
       "      <td>omc_split</td>\n",
       "    </tr>\n",
       "    <tr>\n",
       "      <th>15</th>\n",
       "      <td>VP_20</td>\n",
       "      <td>omc_normal</td>\n",
       "    </tr>\n",
       "    <tr>\n",
       "      <th>16</th>\n",
       "      <td>VP_22</td>\n",
       "      <td>omc_split</td>\n",
       "    </tr>\n",
       "    <tr>\n",
       "      <th>17</th>\n",
       "      <td>VP_23</td>\n",
       "      <td>control_normal</td>\n",
       "    </tr>\n",
       "    <tr>\n",
       "      <th>18</th>\n",
       "      <td>VP_24</td>\n",
       "      <td>control_normal</td>\n",
       "    </tr>\n",
       "    <tr>\n",
       "      <th>19</th>\n",
       "      <td>VP_25</td>\n",
       "      <td>control_split</td>\n",
       "    </tr>\n",
       "    <tr>\n",
       "      <th>20</th>\n",
       "      <td>VP_26</td>\n",
       "      <td>omc_normal</td>\n",
       "    </tr>\n",
       "    <tr>\n",
       "      <th>21</th>\n",
       "      <td>VP_27</td>\n",
       "      <td>control_normal</td>\n",
       "    </tr>\n",
       "    <tr>\n",
       "      <th>22</th>\n",
       "      <td>VP_28</td>\n",
       "      <td>control_split</td>\n",
       "    </tr>\n",
       "    <tr>\n",
       "      <th>23</th>\n",
       "      <td>VP_29</td>\n",
       "      <td>omc_normal</td>\n",
       "    </tr>\n",
       "    <tr>\n",
       "      <th>24</th>\n",
       "      <td>VP_30</td>\n",
       "      <td>control_normal</td>\n",
       "    </tr>\n",
       "    <tr>\n",
       "      <th>25</th>\n",
       "      <td>VP_31</td>\n",
       "      <td>control_normal</td>\n",
       "    </tr>\n",
       "    <tr>\n",
       "      <th>26</th>\n",
       "      <td>VP_32</td>\n",
       "      <td>control_split</td>\n",
       "    </tr>\n",
       "    <tr>\n",
       "      <th>27</th>\n",
       "      <td>VP_33</td>\n",
       "      <td>control_split</td>\n",
       "    </tr>\n",
       "    <tr>\n",
       "      <th>28</th>\n",
       "      <td>VP_34</td>\n",
       "      <td>control_normal</td>\n",
       "    </tr>\n",
       "    <tr>\n",
       "      <th>29</th>\n",
       "      <td>VP_35</td>\n",
       "      <td>omc_normal</td>\n",
       "    </tr>\n",
       "    <tr>\n",
       "      <th>30</th>\n",
       "      <td>VP_36</td>\n",
       "      <td>omc_split</td>\n",
       "    </tr>\n",
       "    <tr>\n",
       "      <th>31</th>\n",
       "      <td>VP_37</td>\n",
       "      <td>omc_normal</td>\n",
       "    </tr>\n",
       "    <tr>\n",
       "      <th>32</th>\n",
       "      <td>VP_38</td>\n",
       "      <td>omc_normal</td>\n",
       "    </tr>\n",
       "    <tr>\n",
       "      <th>33</th>\n",
       "      <td>VP_40</td>\n",
       "      <td>omc_split</td>\n",
       "    </tr>\n",
       "    <tr>\n",
       "      <th>34</th>\n",
       "      <td>VP_41</td>\n",
       "      <td>omc_normal</td>\n",
       "    </tr>\n",
       "    <tr>\n",
       "      <th>35</th>\n",
       "      <td>VP_42</td>\n",
       "      <td>omc_split</td>\n",
       "    </tr>\n",
       "    <tr>\n",
       "      <th>36</th>\n",
       "      <td>VP_43</td>\n",
       "      <td>omc_normal</td>\n",
       "    </tr>\n",
       "    <tr>\n",
       "      <th>37</th>\n",
       "      <td>VP_44</td>\n",
       "      <td>omc_split</td>\n",
       "    </tr>\n",
       "    <tr>\n",
       "      <th>38</th>\n",
       "      <td>VP_45</td>\n",
       "      <td>omc_normal</td>\n",
       "    </tr>\n",
       "    <tr>\n",
       "      <th>39</th>\n",
       "      <td>VP_46</td>\n",
       "      <td>control_split</td>\n",
       "    </tr>\n",
       "    <tr>\n",
       "      <th>40</th>\n",
       "      <td>VP_47</td>\n",
       "      <td>omc_split</td>\n",
       "    </tr>\n",
       "  </tbody>\n",
       "</table>\n",
       "</div>"
      ]
     },
     "execution_count": 4,
     "metadata": {},
     "output_type": "execute_result"
    }
   ],
   "execution_count": 4
  },
  {
   "metadata": {
    "ExecuteTime": {
     "end_time": "2025-03-28T09:50:53.561745Z",
     "start_time": "2025-03-28T09:50:53.538335Z"
    }
   },
   "cell_type": "code",
   "source": "dataset.cortisol_features",
   "outputs": [
    {
     "data": {
      "text/plain": [
       "                                          cortisol\n",
       "subject condition      saliva_feature             \n",
       "VP_01   omc_normal     auc_g                   NaN\n",
       "                       auc_i                   NaN\n",
       "                       max_inc                 NaN\n",
       "                       max_inc_percent         NaN\n",
       "VP_02   control_normal auc_g            249.150500\n",
       "...                                            ...\n",
       "VP_46   control_split  max_inc_percent  -19.042891\n",
       "VP_47   omc_split      auc_g            121.234050\n",
       "                       auc_i             51.001850\n",
       "                       max_inc            2.795650\n",
       "                       max_inc_percent  230.873730\n",
       "\n",
       "[164 rows x 1 columns]"
      ],
      "text/html": [
       "<div>\n",
       "<style scoped>\n",
       "    .dataframe tbody tr th:only-of-type {\n",
       "        vertical-align: middle;\n",
       "    }\n",
       "\n",
       "    .dataframe tbody tr th {\n",
       "        vertical-align: top;\n",
       "    }\n",
       "\n",
       "    .dataframe thead th {\n",
       "        text-align: right;\n",
       "    }\n",
       "</style>\n",
       "<table border=\"1\" class=\"dataframe\">\n",
       "  <thead>\n",
       "    <tr style=\"text-align: right;\">\n",
       "      <th></th>\n",
       "      <th></th>\n",
       "      <th></th>\n",
       "      <th>cortisol</th>\n",
       "    </tr>\n",
       "    <tr>\n",
       "      <th>subject</th>\n",
       "      <th>condition</th>\n",
       "      <th>saliva_feature</th>\n",
       "      <th></th>\n",
       "    </tr>\n",
       "  </thead>\n",
       "  <tbody>\n",
       "    <tr>\n",
       "      <th rowspan=\"4\" valign=\"top\">VP_01</th>\n",
       "      <th rowspan=\"4\" valign=\"top\">omc_normal</th>\n",
       "      <th>auc_g</th>\n",
       "      <td>NaN</td>\n",
       "    </tr>\n",
       "    <tr>\n",
       "      <th>auc_i</th>\n",
       "      <td>NaN</td>\n",
       "    </tr>\n",
       "    <tr>\n",
       "      <th>max_inc</th>\n",
       "      <td>NaN</td>\n",
       "    </tr>\n",
       "    <tr>\n",
       "      <th>max_inc_percent</th>\n",
       "      <td>NaN</td>\n",
       "    </tr>\n",
       "    <tr>\n",
       "      <th>VP_02</th>\n",
       "      <th>control_normal</th>\n",
       "      <th>auc_g</th>\n",
       "      <td>249.150500</td>\n",
       "    </tr>\n",
       "    <tr>\n",
       "      <th>...</th>\n",
       "      <th>...</th>\n",
       "      <th>...</th>\n",
       "      <td>...</td>\n",
       "    </tr>\n",
       "    <tr>\n",
       "      <th>VP_46</th>\n",
       "      <th>control_split</th>\n",
       "      <th>max_inc_percent</th>\n",
       "      <td>-19.042891</td>\n",
       "    </tr>\n",
       "    <tr>\n",
       "      <th rowspan=\"4\" valign=\"top\">VP_47</th>\n",
       "      <th rowspan=\"4\" valign=\"top\">omc_split</th>\n",
       "      <th>auc_g</th>\n",
       "      <td>121.234050</td>\n",
       "    </tr>\n",
       "    <tr>\n",
       "      <th>auc_i</th>\n",
       "      <td>51.001850</td>\n",
       "    </tr>\n",
       "    <tr>\n",
       "      <th>max_inc</th>\n",
       "      <td>2.795650</td>\n",
       "    </tr>\n",
       "    <tr>\n",
       "      <th>max_inc_percent</th>\n",
       "      <td>230.873730</td>\n",
       "    </tr>\n",
       "  </tbody>\n",
       "</table>\n",
       "<p>164 rows × 1 columns</p>\n",
       "</div>"
      ]
     },
     "execution_count": 18,
     "metadata": {},
     "output_type": "execute_result"
    }
   ],
   "execution_count": 18
  },
  {
   "cell_type": "code",
   "metadata": {
    "ExecuteTime": {
     "end_time": "2025-03-28T09:55:01.340396Z",
     "start_time": "2025-03-28T09:55:01.318092Z"
    }
   },
   "source": [
    "increase= dataset.cortisol_features.xs(\"max_inc\", level=\"saliva_feature\")\n",
    "increase[increase.cortisol > 1.5]"
   ],
   "outputs": [
    {
     "data": {
      "text/plain": [
       "                        cortisol\n",
       "subject condition               \n",
       "VP_02   control_normal   2.22980\n",
       "VP_05   control_split    1.63200\n",
       "VP_06   omc_split       10.72155\n",
       "VP_15   control_normal   1.72605\n",
       "VP_16   control_split    1.72345\n",
       "VP_17   omc_normal       3.49220\n",
       "VP_24   control_normal   3.63775\n",
       "VP_35   omc_normal       3.25695\n",
       "VP_36   omc_split        1.96515\n",
       "VP_43   omc_normal       1.84645\n",
       "VP_45   omc_normal       3.22860\n",
       "VP_47   omc_split        2.79565"
      ],
      "text/html": [
       "<div>\n",
       "<style scoped>\n",
       "    .dataframe tbody tr th:only-of-type {\n",
       "        vertical-align: middle;\n",
       "    }\n",
       "\n",
       "    .dataframe tbody tr th {\n",
       "        vertical-align: top;\n",
       "    }\n",
       "\n",
       "    .dataframe thead th {\n",
       "        text-align: right;\n",
       "    }\n",
       "</style>\n",
       "<table border=\"1\" class=\"dataframe\">\n",
       "  <thead>\n",
       "    <tr style=\"text-align: right;\">\n",
       "      <th></th>\n",
       "      <th></th>\n",
       "      <th>cortisol</th>\n",
       "    </tr>\n",
       "    <tr>\n",
       "      <th>subject</th>\n",
       "      <th>condition</th>\n",
       "      <th></th>\n",
       "    </tr>\n",
       "  </thead>\n",
       "  <tbody>\n",
       "    <tr>\n",
       "      <th>VP_02</th>\n",
       "      <th>control_normal</th>\n",
       "      <td>2.22980</td>\n",
       "    </tr>\n",
       "    <tr>\n",
       "      <th>VP_05</th>\n",
       "      <th>control_split</th>\n",
       "      <td>1.63200</td>\n",
       "    </tr>\n",
       "    <tr>\n",
       "      <th>VP_06</th>\n",
       "      <th>omc_split</th>\n",
       "      <td>10.72155</td>\n",
       "    </tr>\n",
       "    <tr>\n",
       "      <th>VP_15</th>\n",
       "      <th>control_normal</th>\n",
       "      <td>1.72605</td>\n",
       "    </tr>\n",
       "    <tr>\n",
       "      <th>VP_16</th>\n",
       "      <th>control_split</th>\n",
       "      <td>1.72345</td>\n",
       "    </tr>\n",
       "    <tr>\n",
       "      <th>VP_17</th>\n",
       "      <th>omc_normal</th>\n",
       "      <td>3.49220</td>\n",
       "    </tr>\n",
       "    <tr>\n",
       "      <th>VP_24</th>\n",
       "      <th>control_normal</th>\n",
       "      <td>3.63775</td>\n",
       "    </tr>\n",
       "    <tr>\n",
       "      <th>VP_35</th>\n",
       "      <th>omc_normal</th>\n",
       "      <td>3.25695</td>\n",
       "    </tr>\n",
       "    <tr>\n",
       "      <th>VP_36</th>\n",
       "      <th>omc_split</th>\n",
       "      <td>1.96515</td>\n",
       "    </tr>\n",
       "    <tr>\n",
       "      <th>VP_43</th>\n",
       "      <th>omc_normal</th>\n",
       "      <td>1.84645</td>\n",
       "    </tr>\n",
       "    <tr>\n",
       "      <th>VP_45</th>\n",
       "      <th>omc_normal</th>\n",
       "      <td>3.22860</td>\n",
       "    </tr>\n",
       "    <tr>\n",
       "      <th>VP_47</th>\n",
       "      <th>omc_split</th>\n",
       "      <td>2.79565</td>\n",
       "    </tr>\n",
       "  </tbody>\n",
       "</table>\n",
       "</div>"
      ]
     },
     "execution_count": 27,
     "metadata": {},
     "output_type": "execute_result"
    }
   ],
   "execution_count": 27
  },
  {
   "metadata": {
    "ExecuteTime": {
     "end_time": "2025-03-28T09:53:05.833208Z",
     "start_time": "2025-03-28T09:53:05.812975Z"
    }
   },
   "cell_type": "code",
   "source": "dataset.cortisol_features.index",
   "outputs": [
    {
     "data": {
      "text/plain": [
       "MultiIndex([('VP_01',     'omc_normal',           'auc_g'),\n",
       "            ('VP_01',     'omc_normal',           'auc_i'),\n",
       "            ('VP_01',     'omc_normal',         'max_inc'),\n",
       "            ('VP_01',     'omc_normal', 'max_inc_percent'),\n",
       "            ('VP_02', 'control_normal',           'auc_g'),\n",
       "            ('VP_02', 'control_normal',           'auc_i'),\n",
       "            ('VP_02', 'control_normal',         'max_inc'),\n",
       "            ('VP_02', 'control_normal', 'max_inc_percent'),\n",
       "            ('VP_05',  'control_split',           'auc_g'),\n",
       "            ('VP_05',  'control_split',           'auc_i'),\n",
       "            ...\n",
       "            ('VP_45',     'omc_normal',         'max_inc'),\n",
       "            ('VP_45',     'omc_normal', 'max_inc_percent'),\n",
       "            ('VP_46',  'control_split',           'auc_g'),\n",
       "            ('VP_46',  'control_split',           'auc_i'),\n",
       "            ('VP_46',  'control_split',         'max_inc'),\n",
       "            ('VP_46',  'control_split', 'max_inc_percent'),\n",
       "            ('VP_47',      'omc_split',           'auc_g'),\n",
       "            ('VP_47',      'omc_split',           'auc_i'),\n",
       "            ('VP_47',      'omc_split',         'max_inc'),\n",
       "            ('VP_47',      'omc_split', 'max_inc_percent')],\n",
       "           names=['subject', 'condition', 'saliva_feature'], length=164)"
      ]
     },
     "execution_count": 24,
     "metadata": {},
     "output_type": "execute_result"
    }
   ],
   "execution_count": 24
  },
  {
   "cell_type": "code",
   "metadata": {
    "ExecuteTime": {
     "end_time": "2025-03-28T09:47:06.528650Z",
     "start_time": "2025-03-28T09:47:06.294482Z"
    }
   },
   "source": [
    "fig, ax = plt.subplots()\n",
    "\n",
    "bp.protocols.plotting.saliva_plot(\n",
    "    data=dataset.cortisol, saliva_type=\"cortisol\", sample_times=dataset.sample_times, test_times=[30, 38], test_title=\"GAIT\", sample_times_absolute=True, ax=ax\n",
    ")\n",
    "\n",
    "fig.tight_layout()"
   ],
   "outputs": [
    {
     "name": "stderr",
     "output_type": "stream",
     "text": [
      "/home/rzlin/ys64ofuj/BioPsyKit/src/biopsykit/plotting/plotting.py:650: FutureWarning: The provided callable <function mean at 0x7b2858dcab60> is currently using SeriesGroupBy.mean. In a future version of pandas, the provided callable will be used directly. To keep current behavior pass the string \"mean\" instead.\n",
      "  m_se = data[[*group_cols, y]].groupby(group_cols).agg([np.mean, se])[y]\n",
      "/home/rzlin/ys64ofuj/BioPsyKit/src/biopsykit/plotting/plotting.py:650: FutureWarning: The provided callable <function mean at 0x7b2858dcab60> is currently using SeriesGroupBy.mean. In a future version of pandas, the provided callable will be used directly. To keep current behavior pass the string \"mean\" instead.\n",
      "  m_se = data[[*group_cols, y]].groupby(group_cols).agg([np.mean, se])[y]\n",
      "/home/rzlin/ys64ofuj/BioPsyKit/src/biopsykit/plotting/plotting.py:650: FutureWarning: The provided callable <function mean at 0x7b2858dcab60> is currently using SeriesGroupBy.mean. In a future version of pandas, the provided callable will be used directly. To keep current behavior pass the string \"mean\" instead.\n",
      "  m_se = data[[*group_cols, y]].groupby(group_cols).agg([np.mean, se])[y]\n",
      "/home/rzlin/ys64ofuj/BioPsyKit/src/biopsykit/plotting/plotting.py:650: FutureWarning: The provided callable <function mean at 0x7b2858dcab60> is currently using SeriesGroupBy.mean. In a future version of pandas, the provided callable will be used directly. To keep current behavior pass the string \"mean\" instead.\n",
      "  m_se = data[[*group_cols, y]].groupby(group_cols).agg([np.mean, se])[y]\n"
     ]
    },
    {
     "data": {
      "text/plain": [
       "Canvas(toolbar=Toolbar(toolitems=[('Home', 'Reset original view', 'home', 'home'), ('Back', 'Back to previous …"
      ],
      "image/png": "[encoded data removed]",
      "text/html": [
       "\n",
       "            <div style=\"display: inline-block;\">\n",
       "                <div class=\"jupyter-widgets widget-label\" style=\"text-align: center;\">\n",
       "                    Figure\n",
       "                </div>\n",
       "                <img src='data:image/png;base64,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' width=1000.0/>\n",
       "            </div>\n",
       "        "
      ],
      "application/vnd.jupyter.widget-view+json": {
       "version_major": 2,
       "version_minor": 0,
       "model_id": "bb7d4da947dc486793330c55fb8c27e3"
      }
     },
     "metadata": {},
     "output_type": "display_data"
    }
   ],
   "execution_count": 6
  },
  {
   "cell_type": "code",
   "metadata": {
    "ExecuteTime": {
     "end_time": "2025-03-28T09:47:12.808587Z",
     "start_time": "2025-03-28T09:47:12.785717Z"
    }
   },
   "source": [
    "dataset.cortisol_features.groupby([\"condition\", \"saliva_feature\"]).mean().unstack(\"condition\")"
   ],
   "outputs": [
    {
     "data": {
      "text/plain": [
       "                      cortisol                                      \n",
       "condition       control_normal control_split  omc_normal   omc_split\n",
       "saliva_feature                                                      \n",
       "auc_g               177.694695    159.068845  263.312485  260.932272\n",
       "auc_i                10.102825     -0.905711   21.676365   19.625850\n",
       "max_inc               0.906940      0.449255    1.462555    1.262905\n",
       "max_inc_percent      33.447325     41.203223   37.626277   77.126762"
      ],
      "text/html": [
       "<div>\n",
       "<style scoped>\n",
       "    .dataframe tbody tr th:only-of-type {\n",
       "        vertical-align: middle;\n",
       "    }\n",
       "\n",
       "    .dataframe tbody tr th {\n",
       "        vertical-align: top;\n",
       "    }\n",
       "\n",
       "    .dataframe thead tr th {\n",
       "        text-align: left;\n",
       "    }\n",
       "\n",
       "    .dataframe thead tr:last-of-type th {\n",
       "        text-align: right;\n",
       "    }\n",
       "</style>\n",
       "<table border=\"1\" class=\"dataframe\">\n",
       "  <thead>\n",
       "    <tr>\n",
       "      <th></th>\n",
       "      <th colspan=\"4\" halign=\"left\">cortisol</th>\n",
       "    </tr>\n",
       "    <tr>\n",
       "      <th>condition</th>\n",
       "      <th>control_normal</th>\n",
       "      <th>control_split</th>\n",
       "      <th>omc_normal</th>\n",
       "      <th>omc_split</th>\n",
       "    </tr>\n",
       "    <tr>\n",
       "      <th>saliva_feature</th>\n",
       "      <th></th>\n",
       "      <th></th>\n",
       "      <th></th>\n",
       "      <th></th>\n",
       "    </tr>\n",
       "  </thead>\n",
       "  <tbody>\n",
       "    <tr>\n",
       "      <th>auc_g</th>\n",
       "      <td>177.694695</td>\n",
       "      <td>159.068845</td>\n",
       "      <td>263.312485</td>\n",
       "      <td>260.932272</td>\n",
       "    </tr>\n",
       "    <tr>\n",
       "      <th>auc_i</th>\n",
       "      <td>10.102825</td>\n",
       "      <td>-0.905711</td>\n",
       "      <td>21.676365</td>\n",
       "      <td>19.625850</td>\n",
       "    </tr>\n",
       "    <tr>\n",
       "      <th>max_inc</th>\n",
       "      <td>0.906940</td>\n",
       "      <td>0.449255</td>\n",
       "      <td>1.462555</td>\n",
       "      <td>1.262905</td>\n",
       "    </tr>\n",
       "    <tr>\n",
       "      <th>max_inc_percent</th>\n",
       "      <td>33.447325</td>\n",
       "      <td>41.203223</td>\n",
       "      <td>37.626277</td>\n",
       "      <td>77.126762</td>\n",
       "    </tr>\n",
       "  </tbody>\n",
       "</table>\n",
       "</div>"
      ]
     },
     "execution_count": 7,
     "metadata": {},
     "output_type": "execute_result"
    }
   ],
   "execution_count": 7
  },
  {
   "cell_type": "code",
   "metadata": {
    "ExecuteTime": {
     "end_time": "2025-03-28T09:47:15.070276Z",
     "start_time": "2025-03-28T09:47:15.029997Z"
    }
   },
   "source": [
    "pg.pairwise_tests(data=dataset.cortisol_features.xs(\"max_inc\", level=\"saliva_feature\").reset_index(), dv=\"cortisol\", between=\"condition\")"
   ],
   "outputs": [
    {
     "data": {
      "text/plain": [
       "    Contrast               A              B  Paired  Parametric         T  \\\n",
       "0  condition  control_normal  control_split   False        True  0.910776   \n",
       "1  condition  control_normal     omc_normal   False        True -0.922246   \n",
       "2  condition  control_normal      omc_split   False        True -0.286883   \n",
       "3  condition   control_split     omc_normal   False        True -1.827378   \n",
       "4  condition   control_split      omc_split   False        True -0.667889   \n",
       "5  condition      omc_normal      omc_split   False        True  0.158107   \n",
       "\n",
       "    dof alternative     p-unc   BF10    hedges  \n",
       "0  18.0   two-sided  0.374449  0.532  0.390101  \n",
       "1  18.0   two-sided  0.368598  0.535 -0.395014  \n",
       "2  18.0   two-sided  0.777478  0.409 -0.122877  \n",
       "3  18.0   two-sided  0.084271  1.218 -0.782697  \n",
       "4  18.0   two-sided  0.512678  0.465 -0.286068  \n",
       "5  18.0   two-sided  0.876133  0.401  0.067720  "
      ],
      "text/html": [
       "<div>\n",
       "<style scoped>\n",
       "    .dataframe tbody tr th:only-of-type {\n",
       "        vertical-align: middle;\n",
       "    }\n",
       "\n",
       "    .dataframe tbody tr th {\n",
       "        vertical-align: top;\n",
       "    }\n",
       "\n",
       "    .dataframe thead th {\n",
       "        text-align: right;\n",
       "    }\n",
       "</style>\n",
       "<table border=\"1\" class=\"dataframe\">\n",
       "  <thead>\n",
       "    <tr style=\"text-align: right;\">\n",
       "      <th></th>\n",
       "      <th>Contrast</th>\n",
       "      <th>A</th>\n",
       "      <th>B</th>\n",
       "      <th>Paired</th>\n",
       "      <th>Parametric</th>\n",
       "      <th>T</th>\n",
       "      <th>dof</th>\n",
       "      <th>alternative</th>\n",
       "      <th>p-unc</th>\n",
       "      <th>BF10</th>\n",
       "      <th>hedges</th>\n",
       "    </tr>\n",
       "  </thead>\n",
       "  <tbody>\n",
       "    <tr>\n",
       "      <th>0</th>\n",
       "      <td>condition</td>\n",
       "      <td>control_normal</td>\n",
       "      <td>control_split</td>\n",
       "      <td>False</td>\n",
       "      <td>True</td>\n",
       "      <td>0.910776</td>\n",
       "      <td>18.0</td>\n",
       "      <td>two-sided</td>\n",
       "      <td>0.374449</td>\n",
       "      <td>0.532</td>\n",
       "      <td>0.390101</td>\n",
       "    </tr>\n",
       "    <tr>\n",
       "      <th>1</th>\n",
       "      <td>condition</td>\n",
       "      <td>control_normal</td>\n",
       "      <td>omc_normal</td>\n",
       "      <td>False</td>\n",
       "      <td>True</td>\n",
       "      <td>-0.922246</td>\n",
       "      <td>18.0</td>\n",
       "      <td>two-sided</td>\n",
       "      <td>0.368598</td>\n",
       "      <td>0.535</td>\n",
       "      <td>-0.395014</td>\n",
       "    </tr>\n",
       "    <tr>\n",
       "      <th>2</th>\n",
       "      <td>condition</td>\n",
       "      <td>control_normal</td>\n",
       "      <td>omc_split</td>\n",
       "      <td>False</td>\n",
       "      <td>True</td>\n",
       "      <td>-0.286883</td>\n",
       "      <td>18.0</td>\n",
       "      <td>two-sided</td>\n",
       "      <td>0.777478</td>\n",
       "      <td>0.409</td>\n",
       "      <td>-0.122877</td>\n",
       "    </tr>\n",
       "    <tr>\n",
       "      <th>3</th>\n",
       "      <td>condition</td>\n",
       "      <td>control_split</td>\n",
       "      <td>omc_normal</td>\n",
       "      <td>False</td>\n",
       "      <td>True</td>\n",
       "      <td>-1.827378</td>\n",
       "      <td>18.0</td>\n",
       "      <td>two-sided</td>\n",
       "      <td>0.084271</td>\n",
       "      <td>1.218</td>\n",
       "      <td>-0.782697</td>\n",
       "    </tr>\n",
       "    <tr>\n",
       "      <th>4</th>\n",
       "      <td>condition</td>\n",
       "      <td>control_split</td>\n",
       "      <td>omc_split</td>\n",
       "      <td>False</td>\n",
       "      <td>True</td>\n",
       "      <td>-0.667889</td>\n",
       "      <td>18.0</td>\n",
       "      <td>two-sided</td>\n",
       "      <td>0.512678</td>\n",
       "      <td>0.465</td>\n",
       "      <td>-0.286068</td>\n",
       "    </tr>\n",
       "    <tr>\n",
       "      <th>5</th>\n",
       "      <td>condition</td>\n",
       "      <td>omc_normal</td>\n",
       "      <td>omc_split</td>\n",
       "      <td>False</td>\n",
       "      <td>True</td>\n",
       "      <td>0.158107</td>\n",
       "      <td>18.0</td>\n",
       "      <td>two-sided</td>\n",
       "      <td>0.876133</td>\n",
       "      <td>0.401</td>\n",
       "      <td>0.067720</td>\n",
       "    </tr>\n",
       "  </tbody>\n",
       "</table>\n",
       "</div>"
      ]
     },
     "execution_count": 8,
     "metadata": {},
     "output_type": "execute_result"
    }
   ],
   "execution_count": 8
  },
  {
   "cell_type": "code",
   "metadata": {
    "ExecuteTime": {
     "end_time": "2025-03-28T09:47:16.150102Z",
     "start_time": "2025-03-28T09:47:16.135992Z"
    }
   },
   "source": [
    "hue_order = [\"control\", \"omc\"]"
   ],
   "outputs": [],
   "execution_count": 9
  },
  {
   "cell_type": "code",
   "metadata": {
    "ExecuteTime": {
     "end_time": "2025-03-28T09:47:17.871141Z",
     "start_time": "2025-03-28T09:47:17.722886Z"
    }
   },
   "source": [
    "fig, ax = plt.subplots()\n",
    "\n",
    "sns.boxplot(data=dataset.cortisol.reset_index(), x=\"sample\", y=\"cortisol\", hue=\"condition\", hue_order=hue_order, ax=ax)\n",
    "sns.swarmplot(data=dataset.cortisol.reset_index(), x=\"sample\", y=\"cortisol\", hue=\"condition\", hue_order=hue_order, ax=ax, palette=cmaps.faculties[:2], dodge=True)\n",
    "\n",
    "fig.tight_layout()"
   ],
   "outputs": [
    {
     "ename": "UnboundLocalError",
     "evalue": "cannot access local variable 'boxprops' where it is not associated with a value",
     "output_type": "error",
     "traceback": [
      "\u001B[0;31m---------------------------------------------------------------------------\u001B[0m",
      "\u001B[0;31mUnboundLocalError\u001B[0m                         Traceback (most recent call last)",
      "Cell \u001B[0;32mIn[10], line 3\u001B[0m\n\u001B[1;32m      1\u001B[0m fig, ax \u001B[38;5;241m=\u001B[39m plt\u001B[38;5;241m.\u001B[39msubplots()\n\u001B[0;32m----> 3\u001B[0m \u001B[43msns\u001B[49m\u001B[38;5;241;43m.\u001B[39;49m\u001B[43mboxplot\u001B[49m\u001B[43m(\u001B[49m\u001B[43mdata\u001B[49m\u001B[38;5;241;43m=\u001B[39;49m\u001B[43mdataset\u001B[49m\u001B[38;5;241;43m.\u001B[39;49m\u001B[43mcortisol\u001B[49m\u001B[38;5;241;43m.\u001B[39;49m\u001B[43mreset_index\u001B[49m\u001B[43m(\u001B[49m\u001B[43m)\u001B[49m\u001B[43m,\u001B[49m\u001B[43m \u001B[49m\u001B[43mx\u001B[49m\u001B[38;5;241;43m=\u001B[39;49m\u001B[38;5;124;43m\"\u001B[39;49m\u001B[38;5;124;43msample\u001B[39;49m\u001B[38;5;124;43m\"\u001B[39;49m\u001B[43m,\u001B[49m\u001B[43m \u001B[49m\u001B[43my\u001B[49m\u001B[38;5;241;43m=\u001B[39;49m\u001B[38;5;124;43m\"\u001B[39;49m\u001B[38;5;124;43mcortisol\u001B[39;49m\u001B[38;5;124;43m\"\u001B[39;49m\u001B[43m,\u001B[49m\u001B[43m \u001B[49m\u001B[43mhue\u001B[49m\u001B[38;5;241;43m=\u001B[39;49m\u001B[38;5;124;43m\"\u001B[39;49m\u001B[38;5;124;43mcondition\u001B[39;49m\u001B[38;5;124;43m\"\u001B[39;49m\u001B[43m,\u001B[49m\u001B[43m \u001B[49m\u001B[43mhue_order\u001B[49m\u001B[38;5;241;43m=\u001B[39;49m\u001B[43mhue_order\u001B[49m\u001B[43m,\u001B[49m\u001B[43m \u001B[49m\u001B[43max\u001B[49m\u001B[38;5;241;43m=\u001B[39;49m\u001B[43max\u001B[49m\u001B[43m)\u001B[49m\n\u001B[1;32m      4\u001B[0m sns\u001B[38;5;241m.\u001B[39mswarmplot(data\u001B[38;5;241m=\u001B[39mdataset\u001B[38;5;241m.\u001B[39mcortisol\u001B[38;5;241m.\u001B[39mreset_index(), x\u001B[38;5;241m=\u001B[39m\u001B[38;5;124m\"\u001B[39m\u001B[38;5;124msample\u001B[39m\u001B[38;5;124m\"\u001B[39m, y\u001B[38;5;241m=\u001B[39m\u001B[38;5;124m\"\u001B[39m\u001B[38;5;124mcortisol\u001B[39m\u001B[38;5;124m\"\u001B[39m, hue\u001B[38;5;241m=\u001B[39m\u001B[38;5;124m\"\u001B[39m\u001B[38;5;124mcondition\u001B[39m\u001B[38;5;124m\"\u001B[39m, hue_order\u001B[38;5;241m=\u001B[39mhue_order, ax\u001B[38;5;241m=\u001B[39max, palette\u001B[38;5;241m=\u001B[39mcmaps\u001B[38;5;241m.\u001B[39mfaculties[:\u001B[38;5;241m2\u001B[39m], dodge\u001B[38;5;241m=\u001B[39m\u001B[38;5;28;01mTrue\u001B[39;00m)\n\u001B[1;32m      6\u001B[0m fig\u001B[38;5;241m.\u001B[39mtight_layout()\n",
      "File \u001B[0;32m~/stressgait-analysis/.venv/lib/python3.12/site-packages/seaborn/categorical.py:1634\u001B[0m, in \u001B[0;36mboxplot\u001B[0;34m(data, x, y, hue, order, hue_order, orient, color, palette, saturation, fill, dodge, width, gap, whis, linecolor, linewidth, fliersize, hue_norm, native_scale, log_scale, formatter, legend, ax, **kwargs)\u001B[0m\n\u001B[1;32m   1627\u001B[0m color \u001B[38;5;241m=\u001B[39m _default_color(\n\u001B[1;32m   1628\u001B[0m     ax\u001B[38;5;241m.\u001B[39mfill_between, hue, color,\n\u001B[1;32m   1629\u001B[0m     {k: v \u001B[38;5;28;01mfor\u001B[39;00m k, v \u001B[38;5;129;01min\u001B[39;00m kwargs\u001B[38;5;241m.\u001B[39mitems() \u001B[38;5;28;01mif\u001B[39;00m k \u001B[38;5;129;01min\u001B[39;00m [\u001B[38;5;124m\"\u001B[39m\u001B[38;5;124mc\u001B[39m\u001B[38;5;124m\"\u001B[39m, \u001B[38;5;124m\"\u001B[39m\u001B[38;5;124mcolor\u001B[39m\u001B[38;5;124m\"\u001B[39m, \u001B[38;5;124m\"\u001B[39m\u001B[38;5;124mfc\u001B[39m\u001B[38;5;124m\"\u001B[39m, \u001B[38;5;124m\"\u001B[39m\u001B[38;5;124mfacecolor\u001B[39m\u001B[38;5;124m\"\u001B[39m]},\n\u001B[1;32m   1630\u001B[0m     saturation\u001B[38;5;241m=\u001B[39msaturation,\n\u001B[1;32m   1631\u001B[0m )\n\u001B[1;32m   1632\u001B[0m linecolor \u001B[38;5;241m=\u001B[39m p\u001B[38;5;241m.\u001B[39m_complement_color(linecolor, color, p\u001B[38;5;241m.\u001B[39m_hue_map)\n\u001B[0;32m-> 1634\u001B[0m \u001B[43mp\u001B[49m\u001B[38;5;241;43m.\u001B[39;49m\u001B[43mplot_boxes\u001B[49m\u001B[43m(\u001B[49m\n\u001B[1;32m   1635\u001B[0m \u001B[43m    \u001B[49m\u001B[43mwidth\u001B[49m\u001B[38;5;241;43m=\u001B[39;49m\u001B[43mwidth\u001B[49m\u001B[43m,\u001B[49m\n\u001B[1;32m   1636\u001B[0m \u001B[43m    \u001B[49m\u001B[43mdodge\u001B[49m\u001B[38;5;241;43m=\u001B[39;49m\u001B[43mdodge\u001B[49m\u001B[43m,\u001B[49m\n\u001B[1;32m   1637\u001B[0m \u001B[43m    \u001B[49m\u001B[43mgap\u001B[49m\u001B[38;5;241;43m=\u001B[39;49m\u001B[43mgap\u001B[49m\u001B[43m,\u001B[49m\n\u001B[1;32m   1638\u001B[0m \u001B[43m    \u001B[49m\u001B[43mfill\u001B[49m\u001B[38;5;241;43m=\u001B[39;49m\u001B[43mfill\u001B[49m\u001B[43m,\u001B[49m\n\u001B[1;32m   1639\u001B[0m \u001B[43m    \u001B[49m\u001B[43mwhis\u001B[49m\u001B[38;5;241;43m=\u001B[39;49m\u001B[43mwhis\u001B[49m\u001B[43m,\u001B[49m\n\u001B[1;32m   1640\u001B[0m \u001B[43m    \u001B[49m\u001B[43mcolor\u001B[49m\u001B[38;5;241;43m=\u001B[39;49m\u001B[43mcolor\u001B[49m\u001B[43m,\u001B[49m\n\u001B[1;32m   1641\u001B[0m \u001B[43m    \u001B[49m\u001B[43mlinecolor\u001B[49m\u001B[38;5;241;43m=\u001B[39;49m\u001B[43mlinecolor\u001B[49m\u001B[43m,\u001B[49m\n\u001B[1;32m   1642\u001B[0m \u001B[43m    \u001B[49m\u001B[43mlinewidth\u001B[49m\u001B[38;5;241;43m=\u001B[39;49m\u001B[43mlinewidth\u001B[49m\u001B[43m,\u001B[49m\n\u001B[1;32m   1643\u001B[0m \u001B[43m    \u001B[49m\u001B[43mfliersize\u001B[49m\u001B[38;5;241;43m=\u001B[39;49m\u001B[43mfliersize\u001B[49m\u001B[43m,\u001B[49m\n\u001B[1;32m   1644\u001B[0m \u001B[43m    \u001B[49m\u001B[43mplot_kws\u001B[49m\u001B[38;5;241;43m=\u001B[39;49m\u001B[43mkwargs\u001B[49m\u001B[43m,\u001B[49m\n\u001B[1;32m   1645\u001B[0m \u001B[43m\u001B[49m\u001B[43m)\u001B[49m\n\u001B[1;32m   1647\u001B[0m p\u001B[38;5;241m.\u001B[39m_add_axis_labels(ax)\n\u001B[1;32m   1648\u001B[0m p\u001B[38;5;241m.\u001B[39m_adjust_cat_axis(ax, axis\u001B[38;5;241m=\u001B[39mp\u001B[38;5;241m.\u001B[39morient)\n",
      "File \u001B[0;32m~/stressgait-analysis/.venv/lib/python3.12/site-packages/seaborn/categorical.py:745\u001B[0m, in \u001B[0;36m_CategoricalPlotter.plot_boxes\u001B[0;34m(self, width, dodge, gap, fill, whis, color, linecolor, linewidth, fliersize, plot_kws)\u001B[0m\n\u001B[1;32m    742\u001B[0m     ax\u001B[38;5;241m.\u001B[39madd_container(BoxPlotContainer(artists))\n\u001B[1;32m    744\u001B[0m legend_artist \u001B[38;5;241m=\u001B[39m _get_patch_legend_artist(fill)\n\u001B[0;32m--> 745\u001B[0m \u001B[38;5;28mself\u001B[39m\u001B[38;5;241m.\u001B[39m_configure_legend(ax, legend_artist, \u001B[43mboxprops\u001B[49m)\n",
      "\u001B[0;31mUnboundLocalError\u001B[0m: cannot access local variable 'boxprops' where it is not associated with a value"
     ]
    },
    {
     "data": {
      "text/plain": [
       "Canvas(toolbar=Toolbar(toolitems=[('Home', 'Reset original view', 'home', 'home'), ('Back', 'Back to previous …"
      ],
      "image/png": "[encoded data removed]",
      "text/html": [
       "\n",
       "            <div style=\"display: inline-block;\">\n",
       "                <div class=\"jupyter-widgets widget-label\" style=\"text-align: center;\">\n",
       "                    Figure\n",
       "                </div>\n",
       "                <img src='data:image/png;base64,iVBORw0KGgoAAAANSUhEUgAAA+gAAAH0CAYAAACuKActAAAAOXRFWHRTb2Z0d2FyZQBNYXRwbG90bGliIHZlcnNpb24zLjkuNCwgaHR0cHM6Ly9tYXRwbG90bGliLm9yZy8ekN5oAAAACXBIWXMAAA9hAAAPYQGoP6dpAAAf3UlEQVR4nO3df5Dc9V3H8df9MCQc7CWHSQq0lV6cpNgRMyBCeniiDlNO2jJqaKKlvQC2p5MONeEPsTAxmdA2hmGqJCi/p4hKph3GigixUbSZJpaxlvqD6Si9S2klTkiT9PZyzc/d9Y+WtGcI5Udu95Pk8fjn5j67n++8d3Yyd8/9fr+5tkaj0QgAAADQUu2tHgAAAAAQ6AAAAFAEgQ4AAAAFEOgAAABQAIEOAAAABRDoAAAAUACBDgAAAAUQ6AAAAFAAgQ4AAAAFEOgAAABQAIEOAAAABRDoAAAAUACBDgAAAAUQ6AAAAFAAgQ4AAAAFEOgAAABQAIEOAAAABRDoAAAAUACBDgAAAAUQ6AAAAFAAgQ4AAAAFEOgAAABQAIEOAAAABRDoAAAAUACBDgAAAAUQ6AAAAFAAgQ4AAAAFEOgAAABQAIEOAAAABRDoAAAAUACBDgAAAAUQ6AAAAFAAgQ4AAAAFEOgAAABQAIEOAAAABRDoAAAAUACBDgAAAAUQ6AAAAFAAgQ4AAAAFEOgAAABQAIEOAAAABRDoAAAAUACBDgAAAAUQ6AAAAFAAgQ4AAAAFEOgAAABQAIEOAAAABRDoAAAAUACBDgAAAAUQ6AAAAFAAgQ4AAAAFEOgAAABQAIEOAAAABRDoTfD8889nxYoVufrqq/NTP/VTefe73/2q9jUajdx77725/PLLc8EFF2TRokX56le/OrnDAgAA0BICvQmee+65fOELX8hP/MRPZM6cOa9633333Zc777wzS5YsyT333JOZM2fm+uuvz7e+9a1JnBYAAIBWaGs0Go1WD3Gyq9fraW//3mchN998c/7zP/8zjz/++CvuOXDgQN75znfm/e9/f5YvX54kOXjwYK688sr09/dn5cqVkz02AAAATeQMehO8FOevxVe+8pXs3bs3AwMDR9amTJmSK664Ips3bz6e4wEAAFAAgV6okZGRJElvb++E9Tlz5mT79u3Zv39/K8YCAABgkgj0QlWr1UyZMiWnnXbahPVKpZJGo5HR0dEWTQYAAMBkEOinIP/tAAAAQHk6Wz0AL69SqeTgwYM5cODAhLPo1Wo1bW1t6e7uft3HrtcbqVa/ezzGBOAE1dHRnkplWqrVfanV6q0eB4AWqFSmpaPDOduSCPRCvXTv+bZt2/L2t7/9yPrIyEjOOeecTJ069Q0d//Bhv4wBkNRqdT8TAKAQPi4p1IUXXpgzzjgjTz755JG1Q4cO5fOf/3z6+/tbOBkAAACTwRn0Jti3b1++8IUvJEleeOGF7N27Nxs3bkyS/NzP/Vx6enoyODiY7du3Z9OmTUmS0047LUNDQ1m3bl16enoyd+7cPPLII/nOd76TG264oWWvBQAAgMkh0Jtg165d+ehHPzph7aXv/+zP/iyXXHJJ6vV6arXahOd86EMfSqPRyIMPPpjdu3fn/PPPzwMPPJC3vOUtTZsdAACA5mhr+C+9Tzm1Wj27d4+3egwAWqizsz0zZnRlz55x96ADnKJ6err8J3GF8W4AAABAAQQ6AAAAFECgAwAAQAEEOgAAABRAoAMAAEABBDoAAAAUQKADAABAAQQ6AAAAFECgAwAAQAEEOgAAABRAoAMAAEABBDoAAAAUQKADAABAAQQ6AAAAFECgAwAAQAEEOgAAABRAoAMAAEABBDoAAAAUQKADAABAAQQ6AAAAFECgAwAAQAEEOgAAABRAoAMAAEABBDoAAAAUQKADAABAAQQ6AAAAFECgAwAAQAEEOgAAABRAoAMAAEABBDoAAAAUQKADAABAAQQ6AAAAFECgAwAAQAEEOgAAABRAoAMAAEABBDoAAAAUQKADAABAAQQ6AAAAFECgAwAAQAEEOgAAABRAoAMAAEABBDoAAAAUQKADAABAAQQ6AAAAFECgAwAAQAEEOgAAABRAoAMAAEABBDoAAAAUQKADAABAAQQ6AAAAFECgAwAAQAEEOgAAABRAoAMAAEABBDoAAAAUQKADAABAAQQ6AAAAFECgAwAAQAEEOgAAABRAoAMAAEABBDoAAAAUQKADAABAAQQ6AAAAFECgAwAAQAEEOgAAABRAoDfJ8PBwrrvuusyfPz99fX1Zu3ZtDh48+CP37dmzJytWrMjll1+e+fPn593vfnceeeSRJkwMAABAM3W2eoBTwejoaAYHB3Peeedl3bp12bFjR9asWZP9+/dnxYoVr7j3ox/9aEZGRrJ8+fKcffbZ2bx5c1auXJmOjo68733va9IrAAAAYLIJ9CbYsGFDxsfHs379+kyfPj1JUqvVsmrVqgwNDWX27Nkvu2/nzp15+umn88lPfjK/9mu/liRZsGBB/uM//iN/+7d/K9ABAABOIi5xb4LNmzdnwYIFR+I8SQYGBlKv17Nly5Zj7jt8+HCS5Mwzz5ywfsYZZ6TRaEzKrAAAALSGQG+CkZGR9Pb2TlirVCqZOXNmRkZGjrnv7LPPzmWXXZa77747X//617N379488cQT2bJlS97//vdP9tgAAAA0kUvcm6BaraZSqRy13t3dndHR0Vfcu27duixbtixXXXVVkqSjoyO33npr3vWud72hmTo7fTYDcCrr6Gif8BUAaD2BXrBGo5Hf//3fzze+8Y3ccccdmTlzZrZu3ZpPfOIT6e7uPhLtr1V7e1tmzOg6ztMCcCKqVKa1egQA4PsEehNUKpWMjY0dtT46Opru7u5j7vunf/qnbNy4MY899ljmzZuXJLnkkkuya9eurFmz5nUHer3eSLX63de1F4CTQ0dHeyqVaalW96VWq7d6HABaoFKZ5kqqwgj0Jujt7T3qXvOxsbHs3LnzqHvTf9jXv/71dHR0ZO7cuRPWzz///Hz2s5/Nvn37Mm3a6zvzcfiwX8YASGq1up8JAFAIH5c0QX9/f7Zu3ZpqtXpkbePGjWlvb09fX98x95177rmp1Wr5r//6rwnrzz77bM4666zXHecAAACUR6A3weLFi9PV1ZWlS5fmi1/8Yh599NGsXbs2ixcvnvA30AcHB3PFFVcc+b6/vz/nnHNObrzxxvz1X/91/vmf/zm33357/uqv/irXXnttK14KAAAAk6St4Q9qN8Xw8HBWr16dZ555Jl1dXbn66quzbNmyTJky5chzPvCBD+SFF17IU089dWTt+eefz6c+9an867/+a8bGxvLmN78511xzTa699tp0dHS8rllqtXp27x5/w68JgBNXZ2d7Zszoyp494y5xBzhF9fR0uQe9MAL9FCTQARDoAAj08ng3AAAAoAACHQAAAAog0AEAAKAAAh0AAAAKINABAACgAAIdAAAACiDQAQAAoAACHQAAAAog0AEAAKAAAh0AAAAKINABAACgAAIdAAAACiDQAQAAoAACHQAAAAog0AEAAKAAAh0AAAAKINABAACgAAIdAAAACiDQAQAAoAACHQAAAAog0AEAAKAAAh0AAAAKINABAACgAAIdAAAACiDQAQAAoAACHQAAAAog0AEAAKAAAh0AAAAKINABAACgAAIdAAAACiDQAQAAoAACHQAAAAog0AEAAKAAAh0AAAAKINABAACgAAIdAAAACiDQAQAAoAACHQAAAAog0AEAAKAAAh0AAAAKINABAACgAAIdAAAACiDQAQAAoAACHQAAAAog0AEAAKAAAh0AAAAKINABAACgAAIdAAAACiDQAQAAoAACHQAAAAog0AEAAKAAAh0AAAAKINABAACgAAIdAAAACiDQAQAAoAACHQAAAAog0AEAAKAAAh0AAAAKINABAACgAAIdAAAACiDQAQAAoAACHQAAAAog0AEAAKAAAh0AAAAKINCbZHh4ONddd13mz5+fvr6+rF27NgcPHnxVe3fs2JHf+73fy6WXXpoLLrggAwMDeeyxxyZ5YgAAAJqps9UDnApGR0czODiY8847L+vWrcuOHTuyZs2a7N+/PytWrHjFvS+++GIWLVqUt73tbVm9enXOOOOMPPfcc6867gEAADgxCPQm2LBhQ8bHx7N+/fpMnz49SVKr1bJq1aoMDQ1l9uzZx9x7++23501velPuv//+dHR0JEkWLFjQjLEBAABoIpe4N8HmzZuzYMGCI3GeJAMDA6nX69myZcsx9+3duzdPPvlkfvM3f/NInAMAAHByEuhNMDIykt7e3glrlUolM2fOzMjIyDH3Pfvsszl06FA6Oztz7bXX5h3veEf6+vpy++2359ChQ5M9NgAAAE3kEvcmqFarqVQqR613d3dndHT0mPu+/e1vJ0luvfXWvO9978tHPvKR/Pu//3vuvPPOtLe356abbnrdM3V2+mwG4FTW0dE+4SsA0HoCvWD1ej1J8s53vjM333xzkuTSSy/N+Ph4HnzwwSxdujRTp059zcdtb2/LjBldx3VWAE5Mlcq0Vo8AAHyfQG+CSqWSsbGxo9ZHR0fT3d39ivuS70X5D1uwYEHuvvvuPP/885k3b95rnqdeb6Ra/e5r3gfAyaOjoz2VyrRUq/tSq9VbPQ4ALVCpTHMlVWEEehP09vYeda/52NhYdu7cedS96T/sJ3/yJ1/xuAcOHHjdMx0+7JcxAJJare5nAgAUwsclTdDf35+tW7emWq0eWdu4cWPa29vT19d3zH3nnntu5s6dm61bt05Y37p1a6ZOnfojAx4AAIATh0BvgsWLF6erqytLly7NF7/4xTz66KNZu3ZtFi9ePOFvoA8ODuaKK66YsHfZsmV56qmn8vGPfzxbtmzJ3XffnQcffDBLlizJ6aef3uyXAgAAwCRpazQajVYPcSoYHh7O6tWr88wzz6SrqytXX311li1blilTphx5zgc+8IG88MILeeqppybsfeKJJ/Inf/In+cY3vpFZs2Zl0aJF+fCHP5y2trbXNUutVs/u3eNv6PUAcGLr7GzPjBld2bNn3CXuAKeonp4u96AXRqCfggQ6AAIdAIFeHu8GAAAAFECgAwAAQAEEOgAAABRAoAMAAEABBDoAAAAUQKADAABAAQQ6AAAAFECgAwAAQAEEOgAAABRAoAMAAEABBDoAAAAUQKADAABAAQQ6AAAAFECgAwAAQAEEOgAAABRAoAMAAEABBDoAAAAUQKADAABAAQQ6AAAAFECgAwAAQAEEOgAAABRAoAMAAEABBDoAAAAUQKADAABAAQQ6AAAAFECgAwAAQAEEOgAAABRAoAMAAEABBDoAAAAUQKADAABAAQQ6AAAAFECgAwAAQAEEOgAAABRAoAMAAEABBDoAAAAUQKADAABAAQQ6AAAAFECgAwAAQAEEOgAAABRAoAMAAEABBDoAAAAUQKADAABAAQQ6AAAAFECgAwAAQAEEOgAAABRAoAMAAEABBDoAAAAUQKADAABAAQQ6AAAAFECgAwAAQAEEOgAAABRAoAMAAEABBDoAAAAUQKADAABAAQQ6AAAAFECgAwAAQAEEOgAAABRAoAMAAEABBDoAAAAUQKADAABAAQQ6AAAAFECgAwAAQAEEOgAAABRAoAMAAEABBHqTDA8P57rrrsv8+fPT19eXtWvX5uDBg6/pGJ/+9Kczb968DA0NTdKUAAAAtEpnqwc4FYyOjmZwcDDnnXde1q1blx07dmTNmjXZv39/VqxY8aqOsXPnztx1110566yzJnlaAAAAWkGgN8GGDRsyPj6e9evXZ/r06UmSWq2WVatWZWhoKLNnz/6Rx7j99tvzS7/0S9m+ffskTwsAAEAruMS9CTZv3pwFCxYcifMkGRgYSL1ez5YtW37k/i9/+cv5+7//+9x0002TOCUAAACtJNCbYGRkJL29vRPWKpVKZs6cmZGRkVfcW6vVsnr16vz2b/92Zs2aNZljAgAA0EIucW+CarWaSqVy1Hp3d3dGR0dfce9f/uVfZt++fVmyZMlxnamz02czAKeyjo72CV8BgNYT6AXbtWtX7rzzzvzhH/5hpkyZctyO297elhkzuo7b8QA4cVUq01o9AgDwfQK9CSqVSsbGxo5aHx0dTXd39zH3/fEf/3HmzZuXn/3Zn021Wk2SHD58OIcPH061Ws3pp5+ezs7X/hbW641Uq999zfsAOHl0dLSnUpmWanVfarV6q8cBoAUqlWmupCqMQG+C3t7eo+41Hxsby86dO4+6N/2Hbdu2Lf/yL/+Siy+++KjHLr744tx3333p7+9/XTMdPuyXMQCSWq3uZwIAFEKgN0F/f3/uvvvuCfeib9y4Me3t7enr6zvmvo997GNHzpy/5BOf+ESmTp2a5cuXZ968eZM6NwAAAM0j0Jtg8eLFefjhh7N06dIMDQ1lx44dWbt2bRYvXjzhb6APDg5m+/bt2bRpU5Lk/PPPP+pYlUolp59+ei655JKmzQ8AAMDkc8NBE3R3d+ehhx5KR0dHli5dmjvuuCMLFy7MzTffPOF59Xo9tVqtRVMCAADQSm2NRqPR6iForlqtnt27x1s9BgAt1NnZnhkzurJnz7h70AFOUT09Xf6TuMJ4NwAAAKAAAh0AAAAKINABAACgAAIdAAAACiDQAQAAoAACHQAAAAog0AEAAKAAAh0AAAAKINABAACgAAIdAAAACiDQAQAAoAACHQAAAAog0AEAAKAAAh0AAAAKINABAACgAAIdAAAACiDQAQAAoAACHQAAAAog0AEAAKAAAh0AAAAKINABAACgAAIdAAAACiDQAQAAoAACHQAAAAog0AEAAKAAAh0AAAAKINABAACgAAIdAAAACiDQAQAAoAACHQAAAAog0AEAAKAAAh0AAAAKINABAACgAAIdAAAACiDQAQAAoAACHQAAAAog0AEAAKAAAh0AAAAKINABAACgAAIdAAAACiDQAQAAoAACHQAAAAog0AEAAKAAAh0AAAAKINABAACgAAIdAAAACiDQAQAAoAACHQAAAAog0AEAAKAAAh0AAAAKINABAACgAAIdAAAACiDQAQAAoAACHQAAAAog0AEAAKAAAh0AAAAKINABAACgAAIdAAAACiDQAQAAoAACHQAAAAog0AEAAKAAAh0AAAAKINABAACgAAIdAAAACtDZ6gFOFcPDw7ntttvyzDPPpKurK1dffXV+93d/N1OmTDnmnhdffDGf/vSns2XLlnzzm9/MmWeemYsvvjjLly/Pueee28TpAQAAmGwCvQlGR0czODiY8847L+vWrcuOHTuyZs2a7N+/PytWrDjmvmeffTabNm3Kr//6r+dnfuZnsmfPnvzpn/5prrnmmjz++OPp6elp4qsAAABgMgn0JtiwYUPGx8ezfv36TJ8+PUlSq9WyatWqDA0NZfbs2S+776KLLsqTTz6Zzs4fvE0XXnhhLr/88nzuc5/L9ddf34zxAQAAaAL3oDfB5s2bs2DBgiNxniQDAwOp1+vZsmXLMfdVKpUJcZ4kb3rTm9LT05MXX3xxssYFAACgBQR6E4yMjKS3t3fCWqVSycyZMzMyMvKajrVt27bs2rUrc+bMOZ4jAgAA0GIucW+CarWaSqVy1Hp3d3dGR0df9XEajUZuu+22zJo1K1ddddUbmqmz02czAKeyjo72CV8BgNYT6CeQdevW5Utf+lLuv//+nH766a/7OO3tbZkxo+s4TgbAiapSmdbqEQCA7xPoTVCpVDI2NnbU+ujoaLq7u1/VMT7zmc/krrvuysc//vEsWLDgDc1TrzdSrX73DR0DgBNbR0d7KpVpqVb3pVart3ocAFqgUpnmSqrCCPQm6O3tPepe87GxsezcufOoe9NfzqZNm7Jy5crceOONWbhw4XGZ6fBhv4wBkNRqdT8TAKAQPi5pgv7+/mzdujXVavXI2saNG9Pe3p6+vr5X3Pv0009n+fLlueaaa7J06dLJHhUAAIAWaWs0Go1WD3GyGx0dzVVXXZW3ve1tGRoayo4dO7JmzZq85z3vyYoVK448b3BwMNu3b8+mTZuSJMPDw1m0aFHOPvvsrFq1Ku3tP/g8paenJ29961tf1zy1Wj27d4+/sRcFwAmts7M9M2Z0Zc+ecWfQAU5RPT1dLnEvjEvcm6C7uzsPPfRQVq9enaVLl6arqysLFy7MsmXLJjyvXq+nVqsd+f7f/u3fMjY2lrGxsfzGb/zGhOf+6q/+atasWdOU+QEAAJh8zqCfgpxBB8AZdACcQS+PdwMAAAAKINABAACgAAIdAAAACiDQAQAAoAACHQAAAAog0AEAAKAAAh0AAAAKINABAACgAAIdAAAACiDQAQAAoAACHQAAAAog0AEAAKAAAh0AAAAKINABAACgAAIdAAAACiDQAQAAoAACHQAAAAog0AEAAKAAAh0AAAAKINABAACgAAIdAAAACiDQAQAAoAACHQAAAAog0AEAAKAAAh0AAAAKINABAACgAAIdAAAACiDQAQAAoAACHQAAAAog0AEAAKAAAh0AAAAKINABAACgAAIdAAAACiDQAQAAoAACHQAAAAog0AEAAKAAAh0AAAAKINABAACgAAIdAAAACiDQAQAAoAACHQAAAAog0AEAAKAAAh0AAAAKINABAACgAAIdAAAACiDQAQAAoAACHQAAAAog0AEAAKAAAh0AAAAKINABAACgAAIdAAAACiDQAQAAoAACHQAAAAog0AEAAKAAAh0AAAAKINABAACgAAIdAAAACiDQAQAAoAACHQAAAAog0AEAAKAAAh0AAAAKINABAACgAAIdAAAACiDQAQAAoAACvUmGh4dz3XXXZf78+enr68vatWtz8ODBH7mv0Wjk3nvvzeWXX54LLrggixYtyle/+tXJHxgAAICmEuhNMDo6msHBwRw6dCjr1q3LsmXL8pnPfCZr1qz5kXvvu+++3HnnnVmyZEnuueeezJw5M9dff32+9a1vNWFyAAAAmqWz1QOcCjZs2JDx8fGsX78+06dPT5LUarWsWrUqQ0NDmT179svuO3DgQO65555cf/31WbJkSZLkoosuypVXXpkHHnggK1eubM4LAAAAYNI5g94EmzdvzoIFC47EeZIMDAykXq9ny5Ytx9z3la98JXv37s3AwMCRtSlTpuSKK67I5s2bJ3NkAAAAmkygN8HIyEh6e3snrFUqlcycOTMjIyOvuC/JUXvnzJmT7du3Z//+/cd/WAAAAFrCJe5NUK1WU6lUjlrv7u7O6OjoK+6bMmVKTjvttAnrlUoljUYjo6OjmTp16muep729LT09Xa95HwAnj7a2733t7p6WRqO1swDQGu3tba0egf9HoJ+C2tra0tHhHyMASXu7i+kAoBR+KjdBpVLJ2NjYUeujo6Pp7u5+xX0HDx7MgQMHJqxXq9W0tbW94l4AAABOLAK9CXp7e4+613xsbCw7d+486v7y/78vSbZt2zZhfWRkJOecc87rurwdAACAMgn0Jujv78/WrVtTrVaPrG3cuDHt7e3p6+s75r4LL7wwZ5xxRp588skja4cOHcrnP//59Pf3T+rMAAAANJd70Jtg8eLFefjhh7N06dIMDQ1lx44dWbt2bRYvXjzhb6APDg5m+/bt2bRpU5LktNNOy9DQUNatW5eenp7MnTs3jzzySL7zne/khhtuaNXLAQAAYBII9Cbo7u7OQw89lNWrV2fp0qXp6urKwoULs2zZsgnPq9frqdVqE9Y+9KEPpdFo5MEHH8zu3btz/vnn54EHHshb3vKWZr4EAAAAJllbo+GPqwAAAECruQcdAAAACiDQAQAAoAACHQAAAAog0AEAAKAAAh0AAAAKINABAACgAAIdAE5Sjz32WBYuXJiLLrooF154YQYGBnLLLbdk165dE5731FNP5b3vfW9++qd/Ou9617vy6KOPtmhiADi1dbZ6AADg+Lvvvvtyxx13ZMmSJbnxxhvTaDTy3HPP5W/+5m/y4osv5qyzzkqSfPnLX85HPvKRLFy4MB/72MfypS99Kbfccku6urpy5ZVXtvhVAMCppa3RaDRaPQQAcHz19/enr68vn/zkJ496rF6vp739exfR3XDDDRkfH8+GDRuOPH7TTTfla1/7Wp544ommzQsAuMQdAE5K1Wo1s2bNetnHXorzgwcP5umnnz7qTPmv/MqvZHh4OP/zP/8z6XMCAD8g0AHgJPSOd7wjGzZsyGc/+9ns3LnzZZ/zzW9+M4cOHUpvb++E9Tlz5iRJRkZGJn1OAOAHBDoAnIT+4A/+IN3d3bn11ltz2WWX5Zd/+Zdz2223TTgrPjo6miSpVCoT9r70/UuPAwDNIdAB4CQ0d+7cPP7447n33nvzwQ9+MGeeeWYefvjhvPe9783Xvva1Vo8HALwMgQ4AJ6kpU6bkF37hF3LLLbfkc5/7XO6///7s378/d911V5Kku7s7STI2NjZhX7VanfA4ANAcAh0AThE///M/n7e//e0ZHh5Okrz1rW/Nj/3Yjx11r/lL3///e9MBgMkl0AHgJPTtb3/7qLX9+/fnf//3f/PjP/7jSb53hv2SSy7J3/3d30143hNPPJE5c+bkzW9+c1NmBQC+p7PVAwAAx9973vOe/OIv/mIuu+yyzJo1Kzt27Mif//mfZ8+ePRkcHDzyvN/5nd/JBz/4waxcuTIDAwN5+umn8/jjj+dTn/pUC6cHgFNTW6PRaLR6CADg+PqLv/iL/OM//mP++7//O7t3786MGTMyb968/NZv/VYuvfTSCc/9h3/4h/zRH/1Rtm3blnPOOScf/vCHs3DhwhZNDgCnLoEOAAAABXAPOgAAABRAoAMAAEABBDoAAAAUQKADAABAAQQ6AAAAFECgAwAAQAEEOgAAABRAoAMAAEABBDoAAAAUQKADAABAAQQ6AAAAFECgAwAAQAEEOgAAABRAoAMAAEABBDoAAAAUQKADAABAAQQ6AAAAFECgAwAAQAEEOgAAABRAoAMAAEABBDoAAAAUQKADAABAAQQ6AAAAFECgAwAAQAEEOgAAABRAoAMAAEABBDoAAAAUQKADAABAAQQ6AAAAFOD/ABQvjCmQ+EtxAAAAAElFTkSuQmCC' width=1000.0/>\n",
       "            </div>\n",
       "        "
      ],
      "application/vnd.jupyter.widget-view+json": {
       "version_major": 2,
       "version_minor": 0,
       "model_id": "7671c7ae64924adaa520c6c705f7153c"
      }
     },
     "metadata": {},
     "output_type": "display_data"
    }
   ],
   "execution_count": 10
  },
  {
   "cell_type": "code",
   "metadata": {
    "ExecuteTime": {
     "end_time": "2025-03-28T09:47:22.829854Z",
     "start_time": "2025-03-28T09:47:22.251051Z"
    }
   },
   "source": [
    "fig, axs = plt.subplots(figsize=(14,5), ncols=2, sharey=True)\n",
    "\n",
    "dataset.cortisol.unstack()[\"cortisol\"].xs(\"control\", level=\"condition\").T.plot(ax=axs[0], legend=False, title=\"Control\")\n",
    "dataset.cortisol.unstack()[\"cortisol\"].xs(\"omc\", level=\"condition\").T.plot(ax=axs[1], legend=False, title=\"OMC\")\n",
    "\n",
    "#sns.lineplot(data=dataset.cortisol.reset_index(), x=\"sample\", y=\"cortisol\", ax=ax)\n",
    "\n",
    "fig.tight_layout()"
   ],
   "outputs": [
    {
     "ename": "KeyError",
     "evalue": "'control'",
     "output_type": "error",
     "traceback": [
      "\u001B[0;31m---------------------------------------------------------------------------\u001B[0m",
      "\u001B[0;31mKeyError\u001B[0m                                  Traceback (most recent call last)",
      "File \u001B[0;32m~/stressgait-analysis/.venv/lib/python3.12/site-packages/pandas/core/indexes/base.py:3805\u001B[0m, in \u001B[0;36mIndex.get_loc\u001B[0;34m(self, key)\u001B[0m\n\u001B[1;32m   3804\u001B[0m \u001B[38;5;28;01mtry\u001B[39;00m:\n\u001B[0;32m-> 3805\u001B[0m     \u001B[38;5;28;01mreturn\u001B[39;00m \u001B[38;5;28;43mself\u001B[39;49m\u001B[38;5;241;43m.\u001B[39;49m\u001B[43m_engine\u001B[49m\u001B[38;5;241;43m.\u001B[39;49m\u001B[43mget_loc\u001B[49m\u001B[43m(\u001B[49m\u001B[43mcasted_key\u001B[49m\u001B[43m)\u001B[49m\n\u001B[1;32m   3806\u001B[0m \u001B[38;5;28;01mexcept\u001B[39;00m \u001B[38;5;167;01mKeyError\u001B[39;00m \u001B[38;5;28;01mas\u001B[39;00m err:\n",
      "File \u001B[0;32mindex.pyx:167\u001B[0m, in \u001B[0;36mpandas._libs.index.IndexEngine.get_loc\u001B[0;34m()\u001B[0m\n",
      "File \u001B[0;32mindex.pyx:196\u001B[0m, in \u001B[0;36mpandas._libs.index.IndexEngine.get_loc\u001B[0;34m()\u001B[0m\n",
      "File \u001B[0;32mpandas/_libs/hashtable_class_helper.pxi:7081\u001B[0m, in \u001B[0;36mpandas._libs.hashtable.PyObjectHashTable.get_item\u001B[0;34m()\u001B[0m\n",
      "File \u001B[0;32mpandas/_libs/hashtable_class_helper.pxi:7089\u001B[0m, in \u001B[0;36mpandas._libs.hashtable.PyObjectHashTable.get_item\u001B[0;34m()\u001B[0m\n",
      "\u001B[0;31mKeyError\u001B[0m: 'control'",
      "\nThe above exception was the direct cause of the following exception:\n",
      "\u001B[0;31mKeyError\u001B[0m                                  Traceback (most recent call last)",
      "Cell \u001B[0;32mIn[11], line 3\u001B[0m\n\u001B[1;32m      1\u001B[0m fig, axs \u001B[38;5;241m=\u001B[39m plt\u001B[38;5;241m.\u001B[39msubplots(figsize\u001B[38;5;241m=\u001B[39m(\u001B[38;5;241m14\u001B[39m,\u001B[38;5;241m5\u001B[39m), ncols\u001B[38;5;241m=\u001B[39m\u001B[38;5;241m2\u001B[39m, sharey\u001B[38;5;241m=\u001B[39m\u001B[38;5;28;01mTrue\u001B[39;00m)\n\u001B[0;32m----> 3\u001B[0m \u001B[43mdataset\u001B[49m\u001B[38;5;241;43m.\u001B[39;49m\u001B[43mcortisol\u001B[49m\u001B[38;5;241;43m.\u001B[39;49m\u001B[43munstack\u001B[49m\u001B[43m(\u001B[49m\u001B[43m)\u001B[49m\u001B[43m[\u001B[49m\u001B[38;5;124;43m\"\u001B[39;49m\u001B[38;5;124;43mcortisol\u001B[39;49m\u001B[38;5;124;43m\"\u001B[39;49m\u001B[43m]\u001B[49m\u001B[38;5;241;43m.\u001B[39;49m\u001B[43mxs\u001B[49m\u001B[43m(\u001B[49m\u001B[38;5;124;43m\"\u001B[39;49m\u001B[38;5;124;43mcontrol\u001B[39;49m\u001B[38;5;124;43m\"\u001B[39;49m\u001B[43m,\u001B[49m\u001B[43m \u001B[49m\u001B[43mlevel\u001B[49m\u001B[38;5;241;43m=\u001B[39;49m\u001B[38;5;124;43m\"\u001B[39;49m\u001B[38;5;124;43mcondition\u001B[39;49m\u001B[38;5;124;43m\"\u001B[39;49m\u001B[43m)\u001B[49m\u001B[38;5;241m.\u001B[39mT\u001B[38;5;241m.\u001B[39mplot(ax\u001B[38;5;241m=\u001B[39maxs[\u001B[38;5;241m0\u001B[39m], legend\u001B[38;5;241m=\u001B[39m\u001B[38;5;28;01mFalse\u001B[39;00m, title\u001B[38;5;241m=\u001B[39m\u001B[38;5;124m\"\u001B[39m\u001B[38;5;124mControl\u001B[39m\u001B[38;5;124m\"\u001B[39m)\n\u001B[1;32m      4\u001B[0m dataset\u001B[38;5;241m.\u001B[39mcortisol\u001B[38;5;241m.\u001B[39munstack()[\u001B[38;5;124m\"\u001B[39m\u001B[38;5;124mcortisol\u001B[39m\u001B[38;5;124m\"\u001B[39m]\u001B[38;5;241m.\u001B[39mxs(\u001B[38;5;124m\"\u001B[39m\u001B[38;5;124momc\u001B[39m\u001B[38;5;124m\"\u001B[39m, level\u001B[38;5;241m=\u001B[39m\u001B[38;5;124m\"\u001B[39m\u001B[38;5;124mcondition\u001B[39m\u001B[38;5;124m\"\u001B[39m)\u001B[38;5;241m.\u001B[39mT\u001B[38;5;241m.\u001B[39mplot(ax\u001B[38;5;241m=\u001B[39maxs[\u001B[38;5;241m1\u001B[39m], legend\u001B[38;5;241m=\u001B[39m\u001B[38;5;28;01mFalse\u001B[39;00m, title\u001B[38;5;241m=\u001B[39m\u001B[38;5;124m\"\u001B[39m\u001B[38;5;124mOMC\u001B[39m\u001B[38;5;124m\"\u001B[39m)\n\u001B[1;32m      6\u001B[0m \u001B[38;5;66;03m#sns.lineplot(data=dataset.cortisol.reset_index(), x=\"sample\", y=\"cortisol\", ax=ax)\u001B[39;00m\n",
      "File \u001B[0;32m~/stressgait-analysis/.venv/lib/python3.12/site-packages/pandas/core/generic.py:4274\u001B[0m, in \u001B[0;36mNDFrame.xs\u001B[0;34m(self, key, axis, level, drop_level)\u001B[0m\n\u001B[1;32m   4272\u001B[0m \u001B[38;5;28;01mif\u001B[39;00m \u001B[38;5;129;01mnot\u001B[39;00m \u001B[38;5;28misinstance\u001B[39m(labels, MultiIndex):\n\u001B[1;32m   4273\u001B[0m     \u001B[38;5;28;01mraise\u001B[39;00m \u001B[38;5;167;01mTypeError\u001B[39;00m(\u001B[38;5;124m\"\u001B[39m\u001B[38;5;124mIndex must be a MultiIndex\u001B[39m\u001B[38;5;124m\"\u001B[39m)\n\u001B[0;32m-> 4274\u001B[0m loc, new_ax \u001B[38;5;241m=\u001B[39m \u001B[43mlabels\u001B[49m\u001B[38;5;241;43m.\u001B[39;49m\u001B[43mget_loc_level\u001B[49m\u001B[43m(\u001B[49m\u001B[43mkey\u001B[49m\u001B[43m,\u001B[49m\u001B[43m \u001B[49m\u001B[43mlevel\u001B[49m\u001B[38;5;241;43m=\u001B[39;49m\u001B[43mlevel\u001B[49m\u001B[43m,\u001B[49m\u001B[43m \u001B[49m\u001B[43mdrop_level\u001B[49m\u001B[38;5;241;43m=\u001B[39;49m\u001B[43mdrop_level\u001B[49m\u001B[43m)\u001B[49m\n\u001B[1;32m   4276\u001B[0m \u001B[38;5;66;03m# create the tuple of the indexer\u001B[39;00m\n\u001B[1;32m   4277\u001B[0m _indexer \u001B[38;5;241m=\u001B[39m [\u001B[38;5;28mslice\u001B[39m(\u001B[38;5;28;01mNone\u001B[39;00m)] \u001B[38;5;241m*\u001B[39m \u001B[38;5;28mself\u001B[39m\u001B[38;5;241m.\u001B[39mndim\n",
      "File \u001B[0;32m~/stressgait-analysis/.venv/lib/python3.12/site-packages/pandas/core/indexes/multi.py:3150\u001B[0m, in \u001B[0;36mMultiIndex.get_loc_level\u001B[0;34m(self, key, level, drop_level)\u001B[0m\n\u001B[1;32m   3147\u001B[0m \u001B[38;5;28;01melse\u001B[39;00m:\n\u001B[1;32m   3148\u001B[0m     level \u001B[38;5;241m=\u001B[39m [\u001B[38;5;28mself\u001B[39m\u001B[38;5;241m.\u001B[39m_get_level_number(lev) \u001B[38;5;28;01mfor\u001B[39;00m lev \u001B[38;5;129;01min\u001B[39;00m level]\n\u001B[0;32m-> 3150\u001B[0m loc, mi \u001B[38;5;241m=\u001B[39m \u001B[38;5;28;43mself\u001B[39;49m\u001B[38;5;241;43m.\u001B[39;49m\u001B[43m_get_loc_level\u001B[49m\u001B[43m(\u001B[49m\u001B[43mkey\u001B[49m\u001B[43m,\u001B[49m\u001B[43m \u001B[49m\u001B[43mlevel\u001B[49m\u001B[38;5;241;43m=\u001B[39;49m\u001B[43mlevel\u001B[49m\u001B[43m)\u001B[49m\n\u001B[1;32m   3151\u001B[0m \u001B[38;5;28;01mif\u001B[39;00m \u001B[38;5;129;01mnot\u001B[39;00m drop_level:\n\u001B[1;32m   3152\u001B[0m     \u001B[38;5;28;01mif\u001B[39;00m lib\u001B[38;5;241m.\u001B[39mis_integer(loc):\n\u001B[1;32m   3153\u001B[0m         \u001B[38;5;66;03m# Slice index must be an integer or None\u001B[39;00m\n",
      "File \u001B[0;32m~/stressgait-analysis/.venv/lib/python3.12/site-packages/pandas/core/indexes/multi.py:3290\u001B[0m, in \u001B[0;36mMultiIndex._get_loc_level\u001B[0;34m(self, key, level)\u001B[0m\n\u001B[1;32m   3288\u001B[0m         \u001B[38;5;28;01mreturn\u001B[39;00m indexer, maybe_mi_droplevels(indexer, ilevels)\n\u001B[1;32m   3289\u001B[0m \u001B[38;5;28;01melse\u001B[39;00m:\n\u001B[0;32m-> 3290\u001B[0m     indexer \u001B[38;5;241m=\u001B[39m \u001B[38;5;28;43mself\u001B[39;49m\u001B[38;5;241;43m.\u001B[39;49m\u001B[43m_get_level_indexer\u001B[49m\u001B[43m(\u001B[49m\u001B[43mkey\u001B[49m\u001B[43m,\u001B[49m\u001B[43m \u001B[49m\u001B[43mlevel\u001B[49m\u001B[38;5;241;43m=\u001B[39;49m\u001B[43mlevel\u001B[49m\u001B[43m)\u001B[49m\n\u001B[1;32m   3291\u001B[0m     \u001B[38;5;28;01mif\u001B[39;00m (\n\u001B[1;32m   3292\u001B[0m         \u001B[38;5;28misinstance\u001B[39m(key, \u001B[38;5;28mstr\u001B[39m)\n\u001B[1;32m   3293\u001B[0m         \u001B[38;5;129;01mand\u001B[39;00m \u001B[38;5;28mself\u001B[39m\u001B[38;5;241m.\u001B[39mlevels[level]\u001B[38;5;241m.\u001B[39m_supports_partial_string_indexing\n\u001B[1;32m   3294\u001B[0m     ):\n\u001B[1;32m   3295\u001B[0m         \u001B[38;5;66;03m# check to see if we did an exact lookup vs sliced\u001B[39;00m\n\u001B[1;32m   3296\u001B[0m         check \u001B[38;5;241m=\u001B[39m \u001B[38;5;28mself\u001B[39m\u001B[38;5;241m.\u001B[39mlevels[level]\u001B[38;5;241m.\u001B[39mget_loc(key)\n",
      "File \u001B[0;32m~/stressgait-analysis/.venv/lib/python3.12/site-packages/pandas/core/indexes/multi.py:3391\u001B[0m, in \u001B[0;36mMultiIndex._get_level_indexer\u001B[0;34m(self, key, level, indexer)\u001B[0m\n\u001B[1;32m   3388\u001B[0m         \u001B[38;5;28;01mreturn\u001B[39;00m \u001B[38;5;28mslice\u001B[39m(i, j, step)\n\u001B[1;32m   3390\u001B[0m \u001B[38;5;28;01melse\u001B[39;00m:\n\u001B[0;32m-> 3391\u001B[0m     idx \u001B[38;5;241m=\u001B[39m \u001B[38;5;28;43mself\u001B[39;49m\u001B[38;5;241;43m.\u001B[39;49m\u001B[43m_get_loc_single_level_index\u001B[49m\u001B[43m(\u001B[49m\u001B[43mlevel_index\u001B[49m\u001B[43m,\u001B[49m\u001B[43m \u001B[49m\u001B[43mkey\u001B[49m\u001B[43m)\u001B[49m\n\u001B[1;32m   3393\u001B[0m     \u001B[38;5;28;01mif\u001B[39;00m level \u001B[38;5;241m>\u001B[39m \u001B[38;5;241m0\u001B[39m \u001B[38;5;129;01mor\u001B[39;00m \u001B[38;5;28mself\u001B[39m\u001B[38;5;241m.\u001B[39m_lexsort_depth \u001B[38;5;241m==\u001B[39m \u001B[38;5;241m0\u001B[39m:\n\u001B[1;32m   3394\u001B[0m         \u001B[38;5;66;03m# Desired level is not sorted\u001B[39;00m\n\u001B[1;32m   3395\u001B[0m         \u001B[38;5;28;01mif\u001B[39;00m \u001B[38;5;28misinstance\u001B[39m(idx, \u001B[38;5;28mslice\u001B[39m):\n\u001B[1;32m   3396\u001B[0m             \u001B[38;5;66;03m# test_get_loc_partial_timestamp_multiindex\u001B[39;00m\n",
      "File \u001B[0;32m~/stressgait-analysis/.venv/lib/python3.12/site-packages/pandas/core/indexes/multi.py:2980\u001B[0m, in \u001B[0;36mMultiIndex._get_loc_single_level_index\u001B[0;34m(self, level_index, key)\u001B[0m\n\u001B[1;32m   2978\u001B[0m     \u001B[38;5;28;01mreturn\u001B[39;00m \u001B[38;5;241m-\u001B[39m\u001B[38;5;241m1\u001B[39m\n\u001B[1;32m   2979\u001B[0m \u001B[38;5;28;01melse\u001B[39;00m:\n\u001B[0;32m-> 2980\u001B[0m     \u001B[38;5;28;01mreturn\u001B[39;00m \u001B[43mlevel_index\u001B[49m\u001B[38;5;241;43m.\u001B[39;49m\u001B[43mget_loc\u001B[49m\u001B[43m(\u001B[49m\u001B[43mkey\u001B[49m\u001B[43m)\u001B[49m\n",
      "File \u001B[0;32m~/stressgait-analysis/.venv/lib/python3.12/site-packages/pandas/core/indexes/base.py:3812\u001B[0m, in \u001B[0;36mIndex.get_loc\u001B[0;34m(self, key)\u001B[0m\n\u001B[1;32m   3807\u001B[0m     \u001B[38;5;28;01mif\u001B[39;00m \u001B[38;5;28misinstance\u001B[39m(casted_key, \u001B[38;5;28mslice\u001B[39m) \u001B[38;5;129;01mor\u001B[39;00m (\n\u001B[1;32m   3808\u001B[0m         \u001B[38;5;28misinstance\u001B[39m(casted_key, abc\u001B[38;5;241m.\u001B[39mIterable)\n\u001B[1;32m   3809\u001B[0m         \u001B[38;5;129;01mand\u001B[39;00m \u001B[38;5;28many\u001B[39m(\u001B[38;5;28misinstance\u001B[39m(x, \u001B[38;5;28mslice\u001B[39m) \u001B[38;5;28;01mfor\u001B[39;00m x \u001B[38;5;129;01min\u001B[39;00m casted_key)\n\u001B[1;32m   3810\u001B[0m     ):\n\u001B[1;32m   3811\u001B[0m         \u001B[38;5;28;01mraise\u001B[39;00m InvalidIndexError(key)\n\u001B[0;32m-> 3812\u001B[0m     \u001B[38;5;28;01mraise\u001B[39;00m \u001B[38;5;167;01mKeyError\u001B[39;00m(key) \u001B[38;5;28;01mfrom\u001B[39;00m\u001B[38;5;250m \u001B[39m\u001B[38;5;21;01merr\u001B[39;00m\n\u001B[1;32m   3813\u001B[0m \u001B[38;5;28;01mexcept\u001B[39;00m \u001B[38;5;167;01mTypeError\u001B[39;00m:\n\u001B[1;32m   3814\u001B[0m     \u001B[38;5;66;03m# If we have a listlike key, _check_indexing_error will raise\u001B[39;00m\n\u001B[1;32m   3815\u001B[0m     \u001B[38;5;66;03m#  InvalidIndexError. Otherwise we fall through and re-raise\u001B[39;00m\n\u001B[1;32m   3816\u001B[0m     \u001B[38;5;66;03m#  the TypeError.\u001B[39;00m\n\u001B[1;32m   3817\u001B[0m     \u001B[38;5;28mself\u001B[39m\u001B[38;5;241m.\u001B[39m_check_indexing_error(key)\n",
      "\u001B[0;31mKeyError\u001B[0m: 'control'"
     ]
    },
    {
     "data": {
      "text/plain": [
       "Canvas(toolbar=Toolbar(toolitems=[('Home', 'Reset original view', 'home', 'home'), ('Back', 'Back to previous …"
      ],
      "image/png": "[encoded data removed]",
      "text/html": [
       "\n",
       "            <div style=\"display: inline-block;\">\n",
       "                <div class=\"jupyter-widgets widget-label\" style=\"text-align: center;\">\n",
       "                    Figure\n",
       "                </div>\n",
       "                <img src='data:image/png;base64,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' width=1400.0/>\n",
       "            </div>\n",
       "        "
      ],
      "application/vnd.jupyter.widget-view+json": {
       "version_major": 2,
       "version_minor": 0,
       "model_id": "8098101008124e70a3a932b275fdb94d"
      }
     },
     "metadata": {},
     "output_type": "display_data"
    }
   ],
   "execution_count": 11
  },
  {
   "cell_type": "code",
   "execution_count": null,
   "metadata": {},
   "outputs": [],
   "source": [
    "dataset.cortisol_features.unstack()"
   ]
  },
  {
   "cell_type": "code",
   "execution_count": null,
   "metadata": {},
   "outputs": [],
   "source": [
    "fig, ax = bp.protocols.plotting.saliva_multi_feature_boxplot(\n",
    "    data=dataset.cortisol_features, saliva_type=\"cortisol\", features=[\"max_inc\", \"auc_g\"], hue=\"condition\", hue_order=[\"control\", \"omc\"], legend_orientation=\"horizontal\", legend_loc=\"upper center\"\n",
    ")\n",
    "\n",
    "fig.tight_layout(rect=(0,0,1,0.9))"
   ]
  },
  {
   "cell_type": "code",
   "execution_count": null,
   "metadata": {},
   "outputs": [],
   "source": [
    "responder_list = dataset.cortisol.reindex([\"S0\", \"S1\"], level=\"sample\").unstack().diff(axis=1).dropna(axis=1, how=\"all\")\n",
    "responder_list.columns = [\"inc_S0S1\"]\n",
    "display(responder_list.groupby(\"condition\").mean())\n",
    "\n",
    "responder_list = responder_list > 1.5\n",
    "\n",
    "display(responder_list)\n",
    "\n",
    "responder_list.groupby(\"condition\").value_counts()"
   ]
  },
  {
   "cell_type": "code",
   "execution_count": null,
   "metadata": {},
   "outputs": [],
   "source": [
    "responder_list = dataset.cortisol_features.xs(\"max_inc\", level=\"saliva_feature\") > 1.5\n",
    "\n",
    "display(responder_list)\n",
    "\n",
    "responder_list.groupby(\"condition\").value_counts()"
   ]
  },
  {
   "cell_type": "code",
   "execution_count": null,
   "metadata": {},
   "outputs": [],
   "source": []
  },
  {
   "cell_type": "code",
   "execution_count": null,
   "metadata": {},
   "outputs": [],
   "source": []
  },
  {
   "cell_type": "code",
   "execution_count": null,
   "metadata": {},
   "outputs": [],
   "source": []
  },
  {
   "cell_type": "code",
   "execution_count": null,
   "metadata": {},
   "outputs": [],
   "source": []
  },
  {
   "cell_type": "code",
   "execution_count": null,
   "metadata": {},
   "outputs": [],
   "source": []
  },
  {
   "cell_type": "code",
   "execution_count": null,
   "metadata": {},
   "outputs": [],
   "source": [
    "data = pd.read_csv(input_path.joinpath(\"stress_gait_labor.csv\"))\n",
    "data = data.assign(condition_fine=data[\"condition\"].replace(condition_fine_mapping))\n",
    "data = data.assign(condition=(data[\"condition_fine\"].str.contains(\"OMC\")).replace(condition_mapping))\n",
    "data = data.set_index([\"participant\", \"condition\"])\n",
    "\n",
    "data"
   ]
  },
  {
   "cell_type": "code",
   "execution_count": null,
   "metadata": {},
   "outputs": [],
   "source": [
    "data = data.drop(index=[\"VP_03\", \"VP_04\", \"VP_09\", \"VP_14\", \"VP_21\"], errors=\"ignore\")"
   ]
  },
  {
   "cell_type": "code",
   "execution_count": null,
   "metadata": {},
   "outputs": [],
   "source": [
    "data = convert_nan(data)\n",
    "data.head()"
   ]
  },
  {
   "cell_type": "code",
   "execution_count": null,
   "metadata": {},
   "outputs": [],
   "source": [
    "quest_dict = {\n",
    "    \"SSSQ-pre\": data.filter(like=\"Pre_SSSQ\").columns,\n",
    "    \"SSSQ-marker\": data.filter(like=\"PreMocap_SSSQ\").columns,\n",
    "    \"SSSQ-post\": data.filter(like=\"Post_SSSQ\").columns,\n",
    "    \"PANAS-pre\": data.filter(like=\"Pre_PANAS\").columns,\n",
    "    \"PANAS-marker\": data.filter(like=\"PreMocap_PANAS\").columns,\n",
    "    \"PANAS-post\": data.filter(like=\"Post_PANAS\").columns,\n",
    "}"
   ]
  },
  {
   "cell_type": "code",
   "execution_count": null,
   "metadata": {},
   "outputs": [],
   "source": [
    "quest_data = compute_scores(\n",
    "    data=data,\n",
    "    quest_dict=quest_dict,\n",
    "    quest_kwargs={\"PANAS-pre\": {\"language\": \"german\"}, \"PANAS-post\": {\"language\": \"german\"}},\n",
    ")\n",
    "\n",
    "quest_data.head()"
   ]
  },
  {
   "cell_type": "code",
   "execution_count": null,
   "metadata": {},
   "outputs": [],
   "source": [
    "panas_data_full = wide_to_long(quest_data, quest_name=\"PANAS\", levels=[\"subscale\", \"time\"])\n",
    "\n",
    "omc_panas = panas_data_full.loc[pd.IndexSlice[:, \"OMC\", :, [\"marker\", \"post\"]]]\n",
    "omc_panas = omc_panas.rename(index={\"marker\": \"pre\"})\n",
    "control_panas = panas_data_full.loc[pd.IndexSlice[:, \"Control\", :, [\"pre\", \"post\"]]]\n",
    "\n",
    "panas_data = pd.concat([omc_panas, control_panas]).sort_index()\n",
    "\n",
    "panas_data.head()"
   ]
  },
  {
   "cell_type": "code",
   "execution_count": null,
   "metadata": {},
   "outputs": [],
   "source": [
    "sssq_data_full = wide_to_long(quest_data, quest_name=\"SSSQ\", levels=[\"subscale\", \"time\"])\n",
    "\n",
    "sssq_omc = sssq_data_full.loc[pd.IndexSlice[:, \"OMC\", :, [\"marker\", \"post\"]]]\n",
    "sssq_omc = sssq_omc.rename(index={\"marker\": \"pre\"})\n",
    "sssq_control = sssq_data_full.loc[pd.IndexSlice[:, \"Control\", :, [\"pre\", \"post\"]]]\n",
    "\n",
    "sssq_data = pd.concat([sssq_omc, sssq_control]).sort_index()\n",
    "sssq_data.head()"
   ]
  },
  {
   "cell_type": "code",
   "execution_count": null,
   "metadata": {},
   "outputs": [],
   "source": [
    "for key, data in panas_data_full.xs(\"OMC\", level=\"condition\").groupby(\"subscale\"):\n",
    "    display(key)\n",
    "    results = pg.pairwise_tests(data=data.reset_index(), dv=\"PANAS\", subject=\"participant\", within=\"time\")\n",
    "    display(results.round(3))"
   ]
  },
  {
   "cell_type": "code",
   "execution_count": null,
   "metadata": {},
   "outputs": [],
   "source": [
    "fig, ax = plt.subplots()\n",
    "\n",
    "sns.boxplot(\n",
    "    data=sssq_data_full.xs(\"OMC\", level=\"condition\").reset_index(),\n",
    "    x=\"subscale\",\n",
    "    y=\"SSSQ\",\n",
    "    hue=\"time\",\n",
    "    hue_order=[\"pre\", \"marker\", \"post\"],\n",
    "    ax=ax,\n",
    ")\n",
    "\n",
    "fig.tight_layout()"
   ]
  },
  {
   "cell_type": "code",
   "execution_count": null,
   "metadata": {},
   "outputs": [],
   "source": [
    "sssq_diff = (\n",
    "    sssq_data.unstack()\n",
    "    .reindex([\"pre\", \"post\"], level=\"time\", axis=1)\n",
    "    .diff(axis=1)\n",
    "    .dropna(axis=1, how=\"all\")\n",
    "    .droplevel(level=-1, axis=1)\n",
    ")\n",
    "\n",
    "sssq_diff"
   ]
  },
  {
   "cell_type": "code",
   "execution_count": null,
   "metadata": {},
   "outputs": [],
   "source": [
    "panas_diff = (\n",
    "    panas_data.unstack()\n",
    "    .reindex([\"pre\", \"post\"], level=\"time\", axis=1)\n",
    "    .diff(axis=1)\n",
    "    .dropna(axis=1, how=\"all\")\n",
    "    .droplevel(level=-1, axis=1)\n",
    ")\n",
    "\n",
    "panas_diff"
   ]
  },
  {
   "cell_type": "code",
   "execution_count": null,
   "metadata": {},
   "outputs": [],
   "source": [
    "fig, ax = plt.subplots()\n",
    "\n",
    "sns.boxplot(data=sssq_diff.reset_index(), y=\"SSSQ\", x=\"subscale\", hue=\"condition\", hue_order=[\"Control\", \"OMC\"], ax=ax)\n",
    "\n",
    "fig.tight_layout()"
   ]
  },
  {
   "cell_type": "code",
   "execution_count": null,
   "metadata": {},
   "outputs": [],
   "source": [
    "fig, ax = plt.subplots()\n",
    "\n",
    "sns.boxplot(\n",
    "    data=panas_diff.reset_index(), y=\"PANAS\", x=\"subscale\", hue=\"condition\", hue_order=[\"Control\", \"OMC\"], ax=ax\n",
    ")\n",
    "\n",
    "fig.tight_layout()"
   ]
  },
  {
   "cell_type": "markdown",
   "metadata": {},
   "source": [
    "## Plot for ISB Abstract"
   ]
  },
  {
   "cell_type": "code",
   "execution_count": null,
   "metadata": {},
   "outputs": [],
   "source": [
    "panas_data_full.to_csv(input_path.joinpath(\"panas_data.csv\"))"
   ]
  },
  {
   "cell_type": "code",
   "execution_count": null,
   "metadata": {},
   "outputs": [],
   "source": [
    "panas_data = pd.read_csv(input_path.joinpath(\"panas_data.csv\"))\n",
    "panas_data = panas_data.set_index([\"participant\", \"condition\", \"subscale\", \"time\"])\n",
    "panas_data"
   ]
  },
  {
   "cell_type": "code",
   "execution_count": null,
   "metadata": {},
   "outputs": [],
   "source": [
    "panas_data = panas_data.loc[pd.IndexSlice[:, \"OMC\", \"NegativeAffect\"]]"
   ]
  },
  {
   "cell_type": "code",
   "execution_count": null,
   "metadata": {},
   "outputs": [],
   "source": [
    "from biopsykit.stats import StatsPipeline"
   ]
  },
  {
   "cell_type": "code",
   "execution_count": null,
   "metadata": {},
   "outputs": [],
   "source": [
    "pipeline = StatsPipeline(\n",
    "    steps=[(\"test\", \"pairwise_tests\")], params={\"dv\": \"PANAS\", \"subject\": \"participant\", \"within\": \"time\"}\n",
    ")\n",
    "\n",
    "pipeline.apply(panas_data)\n",
    "\n",
    "box_pairs, pvalues = pipeline.sig_brackets(\"test\", stats_effect_type=\"within\")\n",
    "\n",
    "pipeline.display_results()"
   ]
  },
  {
   "cell_type": "code",
   "execution_count": null,
   "metadata": {},
   "outputs": [],
   "source": [
    "fig, ax = plt.subplots()\n",
    "\n",
    "bp.plotting.feature_boxplot(\n",
    "    data=panas_data.reset_index(),\n",
    "    x=\"time\",\n",
    "    y=\"PANAS\",\n",
    "    hue=\"time\",\n",
    "    show_legend=False,\n",
    "    order=[\"pre\", \"marker\", \"post\"],\n",
    "    stats_kwargs={\"pairs\": box_pairs, \"pvalues\": pvalues, \"verbose\": 0},\n",
    "    ax=ax,\n",
    ")\n",
    "\n",
    "fig.tight_layout()"
   ]
  },
  {
   "cell_type": "code",
   "execution_count": null,
   "metadata": {},
   "outputs": [],
   "source": []
  }
 ],
 "metadata": {
  "jupytext": {
   "encoding": "# -*- coding: utf-8 -*-",
   "text_representation": {
    "extension": ".py",
    "format_name": "sphinx",
    "format_version": "1.1",
    "jupytext_version": "1.13.0"
   }
  },
  "kernelspec": {
   "display_name": "stressgait_analysis",
   "language": "python",
   "name": "stressgait_analysis"
  },
  "language_info": {
   "codemirror_mode": {
    "name": "ipython",
    "version": 3
   },
   "file_extension": ".py",
   "mimetype": "text/x-python",
   "name": "python",
   "nbconvert_exporter": "python",
   "pygments_lexer": "ipython3",
   "version": "3.10.14"
  },
  "toc-showtags": false,
  "vscode": {
   "interpreter": {
    "hash": "7014e6a8beff3a47c7c0424a6c63a486addc0ee3d12468bf1ae9a85a56cca70c"
   }
  }
 },
 "nbformat": 4,
 "nbformat_minor": 4
}

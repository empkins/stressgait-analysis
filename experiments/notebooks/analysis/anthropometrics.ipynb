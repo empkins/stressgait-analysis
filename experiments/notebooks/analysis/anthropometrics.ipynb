{
 "cells": [
  {
   "cell_type": "code",
   "id": "initial_id",
   "metadata": {
    "collapsed": true,
    "ExecuteTime": {
     "end_time": "2025-04-10T07:57:25.138327Z",
     "start_time": "2025-04-10T07:57:24.920602Z"
    }
   },
   "source": [
    "import json\n",
    "from pathlib import Path\n",
    "\n",
    "import biopsykit as bp\n",
    "import matplotlib.pyplot as plt\n",
    "import seaborn as sns\n",
    "from biopsykit.questionnaires.utils import compute_scores, wide_to_long\n",
    "from biopsykit.stats import StatsPipeline\n",
    "from fau_colors import cmaps, register_fausans_font\n",
    "\n",
    "from stressgait_analysis.dataset import StressGaitDataset\n",
    "\n",
    "%matplotlib widget\n",
    "%load_ext autoreload\n",
    "%autoreload 2"
   ],
   "outputs": [],
   "execution_count": 1
  },
  {
   "metadata": {
    "ExecuteTime": {
     "end_time": "2025-04-10T07:57:43.391724Z",
     "start_time": "2025-04-10T07:57:42.378413Z"
    }
   },
   "cell_type": "code",
   "source": [
    "#register_fausans_font()\n",
    "plt.close(\"all\")\n",
    "med_light = sns.color_palette(cmaps.med_light)\n",
    "med_dark = sns.color_palette(cmaps.med_dark)\n",
    "palette = sns.color_palette(cmaps.faculties_light)\n",
    "sns.set_theme(context=\"notebook\", style=\"ticks\", font=\"sans-serif\", palette=palette)\n",
    "\n",
    "plt.rcParams[\"figure.figsize\"] = (10, 5)\n",
    "plt.rcParams[\"pdf.fonttype\"] = 42\n",
    "plt.rcParams[\"mathtext.default\"] = \"regular\"\n",
    "plt.rcParams[\"font.family\"] = \"sans-serif\"\n",
    "#plt.rcParams[\"font.sans-serif\"] = \"FAUSans Office\"\n",
    "\n",
    "palette\n",
    "\n",
    "controls_color = sns.color_palette(cmaps.wiso)[1]\n",
    "omc_color = sns.color_palette(cmaps.med_dark)[1]\n",
    "\n",
    "stressgait_palette = {\n",
    "    \"OMC\": omc_color,\n",
    "    \"Control\": controls_color\n",
    "}\n",
    "stressgait = [controls_color, omc_color]"
   ],
   "id": "99248e0d63c3e5c6",
   "outputs": [],
   "execution_count": 2
  },
  {
   "metadata": {
    "ExecuteTime": {
     "end_time": "2025-04-10T07:57:53.031079Z",
     "start_time": "2025-04-10T07:57:53.018118Z"
    }
   },
   "cell_type": "code",
   "source": [
    "deploy_type = \"local\"\n",
    "\n",
    "config_dict = json.load(Path(\"../../config.json\").open(encoding=\"utf-8\"))\n",
    "\n",
    "base_path = Path(config_dict[deploy_type][\"base_path\"])\n",
    "base_path"
   ],
   "id": "c4d40ecaeca62d46",
   "outputs": [
    {
     "data": {
      "text/plain": [
       "PosixPath('/home/rzlin/ys64ofuj/Data/StressGait/Data')"
      ]
     },
     "execution_count": 3,
     "metadata": {},
     "output_type": "execute_result"
    }
   ],
   "execution_count": 3
  },
  {
   "metadata": {
    "ExecuteTime": {
     "end_time": "2025-04-10T07:58:12.935277Z",
     "start_time": "2025-04-10T07:58:12.921499Z"
    }
   },
   "cell_type": "code",
   "source": [
    "dataset = StressGaitDataset(base_path, coarse_condition=True, exclude_missing_data=True)\n",
    "\n"
   ],
   "id": "53bd0fddab8574fd",
   "outputs": [],
   "execution_count": 4
  },
  {
   "metadata": {
    "ExecuteTime": {
     "end_time": "2025-04-10T08:00:43.062035Z",
     "start_time": "2025-04-10T08:00:43.042340Z"
    }
   },
   "cell_type": "code",
   "source": "data = dataset.questionnaire.filter(items = [\"condition\", \"Geschlecht\", \"Alter\"])",
   "id": "ff5b307072329445",
   "outputs": [],
   "execution_count": 10
  },
  {
   "metadata": {
    "ExecuteTime": {
     "end_time": "2025-04-10T08:01:18.840796Z",
     "start_time": "2025-04-10T08:01:18.827133Z"
    }
   },
   "cell_type": "code",
   "source": "print(\"age: \", data.Alter.mean(), \" std:\", data.Alter.std())",
   "id": "e0ca537d83bbfb21",
   "outputs": [
    {
     "name": "stdout",
     "output_type": "stream",
     "text": [
      "age:  24.475  std: 4.673918358349108\n"
     ]
    }
   ],
   "execution_count": 13
  },
  {
   "metadata": {
    "ExecuteTime": {
     "end_time": "2025-04-10T08:04:37.033365Z",
     "start_time": "2025-04-10T08:04:37.018643Z"
    }
   },
   "cell_type": "code",
   "source": "data.groupby([\"condition\", \"Geschlecht\"]).count()",
   "id": "49c89bed34630618",
   "outputs": [
    {
     "data": {
      "text/plain": [
       "                      Alter\n",
       "condition Geschlecht       \n",
       "Control   female          9\n",
       "          male           11\n",
       "OMC       female          8\n",
       "          male           12"
      ],
      "text/html": [
       "<div>\n",
       "<style scoped>\n",
       "    .dataframe tbody tr th:only-of-type {\n",
       "        vertical-align: middle;\n",
       "    }\n",
       "\n",
       "    .dataframe tbody tr th {\n",
       "        vertical-align: top;\n",
       "    }\n",
       "\n",
       "    .dataframe thead th {\n",
       "        text-align: right;\n",
       "    }\n",
       "</style>\n",
       "<table border=\"1\" class=\"dataframe\">\n",
       "  <thead>\n",
       "    <tr style=\"text-align: right;\">\n",
       "      <th></th>\n",
       "      <th></th>\n",
       "      <th>Alter</th>\n",
       "    </tr>\n",
       "    <tr>\n",
       "      <th>condition</th>\n",
       "      <th>Geschlecht</th>\n",
       "      <th></th>\n",
       "    </tr>\n",
       "  </thead>\n",
       "  <tbody>\n",
       "    <tr>\n",
       "      <th rowspan=\"2\" valign=\"top\">Control</th>\n",
       "      <th>female</th>\n",
       "      <td>9</td>\n",
       "    </tr>\n",
       "    <tr>\n",
       "      <th>male</th>\n",
       "      <td>11</td>\n",
       "    </tr>\n",
       "    <tr>\n",
       "      <th rowspan=\"2\" valign=\"top\">OMC</th>\n",
       "      <th>female</th>\n",
       "      <td>8</td>\n",
       "    </tr>\n",
       "    <tr>\n",
       "      <th>male</th>\n",
       "      <td>12</td>\n",
       "    </tr>\n",
       "  </tbody>\n",
       "</table>\n",
       "</div>"
      ]
     },
     "execution_count": 18,
     "metadata": {},
     "output_type": "execute_result"
    }
   ],
   "execution_count": 18
  },
  {
   "metadata": {},
   "cell_type": "code",
   "outputs": [],
   "execution_count": null,
   "source": "",
   "id": "91b4e1c86591af3f"
  }
 ],
 "metadata": {
  "kernelspec": {
   "display_name": "Python 3",
   "language": "python",
   "name": "python3"
  },
  "language_info": {
   "codemirror_mode": {
    "name": "ipython",
    "version": 2
   },
   "file_extension": ".py",
   "mimetype": "text/x-python",
   "name": "python",
   "nbconvert_exporter": "python",
   "pygments_lexer": "ipython2",
   "version": "2.7.6"
  }
 },
 "nbformat": 4,
 "nbformat_minor": 5
}

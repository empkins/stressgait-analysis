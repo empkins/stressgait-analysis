{
 "cells": [
  {
   "cell_type": "code",
   "execution_count": null,
   "id": "initial_id",
   "metadata": {
    "ExecuteTime": {
     "end_time": "2025-06-23T11:23:51.276819Z",
     "start_time": "2025-06-23T11:23:51.262339Z"
    }
   },
   "outputs": [],
   "source": [
    "import json\n",
    "from pathlib import Path\n",
    "\n",
    "import biopsykit as bp\n",
    "import matplotlib.pyplot as plt\n",
    "import pandas as pd\n",
    "import pingouin as pg\n",
    "import seaborn as sns\n",
    "import spm1d.stats.c\n",
    "from biopsykit.questionnaires.utils import compute_scores, wide_to_long\n",
    "from biopsykit.utils.dataframe_handling import convert_nan\n",
    "from fau_colors.v2021 import register_cmaps\n",
    "import spm1d\n",
    "from stressgait_analysis.dataset import StressGaitDataset\n",
    "\n",
    "# Inset axes\n",
    "from mpl_toolkits.axes_grid1.inset_locator import inset_axes\n",
    "%matplotlib widget\n",
    "%load_ext autoreload\n",
    "%autoreload 2\n",
    "\n",
    "from matplotlib.patches import Rectangle, ConnectionPatch\n",
    "\n",
    "\n",
    "import warnings\n",
    "warnings.simplefilter(action='ignore')\n",
    "import numpy as np"
   ]
  },
  {
   "cell_type": "code",
   "execution_count": null,
   "id": "124c5ebdad43512a",
   "metadata": {
    "ExecuteTime": {
     "end_time": "2025-06-16T09:33:07.499615Z",
     "start_time": "2025-06-16T09:33:07.480554Z"
    }
   },
   "outputs": [],
   "source": [
    "plt.close(\"all\")\n",
    "register_cmaps()\n",
    "palette = sns.color_palette(\"faculties_light\")\n",
    "sns.set_theme(context=\"notebook\", style=\"ticks\", font=\"sans-serif\", palette=palette)\n",
    "\n",
    "plt.rcParams[\"figure.figsize\"] = (10, 5)\n",
    "plt.rcParams[\"pdf.fonttype\"] = 42\n",
    "plt.rcParams[\"mathtext.default\"] = \"regular\"\n",
    "plt.rcParams[\"font.family\"] = \"sans-serif\"\n",
    "#plt.rcParams[\"font.sans-serif\"] = \"FAUSans Office\"\n",
    "\n",
    "controls_color = sns.color_palette(\"wiso\")[1]\n",
    "omc_color = sns.color_palette(\"med_dark\")[1]\n",
    "\n",
    "stressgait = {\n",
    "    \"OMC\": omc_color,\n",
    "    \"Control\": controls_color\n",
    "}\n",
    "\n",
    "controls_color = sns.color_palette(\"wiso\")[2]\n",
    "omc_color = sns.color_palette(\"med_dark\")[2]\n",
    "\n",
    "stressgait2 = {\n",
    "    \"OMC\": omc_color,\n",
    "    \"Control\": controls_color\n",
    "}\n",
    "\n"
   ]
  },
  {
   "cell_type": "code",
   "execution_count": null,
   "id": "66e19aa1486de3a7",
   "metadata": {
    "ExecuteTime": {
     "end_time": "2025-06-13T09:46:44.896055Z",
     "start_time": "2025-06-13T09:46:44.885488Z"
    }
   },
   "outputs": [],
   "source": [
    "deploy_type = \"local\"\n",
    "\n",
    "config_dict = json.load(Path(\"../../config.json\").open(encoding=\"utf-8\"))\n",
    "\n",
    "base_path = Path(config_dict[deploy_type][\"base_path\"])\n",
    "\n",
    "export_path = Path(\"../../exports\")\n",
    "plot_path = export_path.joinpath(\"plots\")\n",
    "bp.utils.file_handling.mkdirs([export_path, plot_path])\n",
    "\n",
    "export_path"
   ]
  },
  {
   "cell_type": "code",
   "execution_count": null,
   "id": "e893fc0bfcb8c570",
   "metadata": {
    "ExecuteTime": {
     "end_time": "2025-06-13T09:46:44.914199Z",
     "start_time": "2025-06-13T09:46:44.904777Z"
    }
   },
   "outputs": [],
   "source": [
    "dataset = StressGaitDataset(base_path, coarse_condition=True, specify_bouts=True, specify_speed=True)\n"
   ]
  },
  {
   "cell_type": "markdown",
   "id": "390c979fd4142fbf",
   "metadata": {},
   "source": [
    "# Gait ROMs"
   ]
  },
  {
   "cell_type": "code",
   "execution_count": null,
   "id": "5507956795ee36ed",
   "metadata": {
    "ExecuteTime": {
     "end_time": "2025-06-13T09:46:46.035023Z",
     "start_time": "2025-06-13T09:46:44.952302Z"
    }
   },
   "outputs": [],
   "source": [
    "kinematics = dataset.kinematics.droplevel(level=\"bout\")"
   ]
  },
  {
   "cell_type": "code",
   "execution_count": null,
   "id": "cb2bae18f7cfbbc8",
   "metadata": {
    "ExecuteTime": {
     "end_time": "2025-06-13T09:46:46.076239Z",
     "start_time": "2025-06-13T09:46:46.038699Z"
    }
   },
   "outputs": [],
   "source": [
    "bad_cycles = kinematics[kinematics['elbow_angle']<80].index.droplevel('percentage_of_stride').drop_duplicates()\n",
    "# Step 2: Filter out those cycles\n",
    "kinematics_clean_arms = kinematics[~kinematics.index.droplevel('percentage_of_stride').isin(bad_cycles)]"
   ]
  },
  {
   "cell_type": "code",
   "execution_count": null,
   "id": "96d781c324383052",
   "metadata": {
    "ExecuteTime": {
     "end_time": "2025-06-13T09:46:46.409187Z",
     "start_time": "2025-06-13T09:46:46.089415Z"
    }
   },
   "outputs": [],
   "source": [
    "def get_rom(trial):\n",
    "    max = trial.groupby([\"cycle_idx\"]).max()\n",
    "    min = trial.groupby([\"cycle_idx\"]).min()\n",
    "\n",
    "\n",
    "    return np.mean(max - min, axis=0)\n",
    "\n",
    "\n",
    "rom = kinematics.groupby([\"participant\", \"condition\", \"speed\"]).apply(get_rom)\n",
    "rom_per_person = rom.groupby([\"participant\", \"condition\"]).mean().loc[:,[\"elbow_angle\", \"shoulder_angle\", \"arm_swing\"]]\n",
    "\n",
    "rom_arms = kinematics_clean_arms.groupby([\"participant\", \"condition\", \"speed\"]).apply(get_rom)\n",
    "rom_per_person_arms = rom_arms.groupby([\"participant\", \"condition\"]).mean()\n",
    "\n",
    "rom_per_person.loc[:,[\"elbow_angle\", \"shoulder_angle\", \"arm_swing\"]] = rom_per_person_arms.loc[:,[\"elbow_angle\", \"shoulder_angle\", \"arm_swing\"]]\n",
    "\n",
    "\n",
    "rom_per_group = rom_per_person.groupby([\"condition\"]).mean()\n",
    "rom_per_group"
   ]
  },
  {
   "cell_type": "code",
   "execution_count": null,
   "id": "51854991b0bd5061",
   "metadata": {
    "ExecuteTime": {
     "end_time": "2025-06-13T09:46:46.500157Z",
     "start_time": "2025-06-13T09:46:46.432300Z"
    }
   },
   "outputs": [],
   "source": [
    "df_long = rom_per_person.reset_index().melt(\n",
    "    id_vars=[\"participant\", \"condition\"],  # Keep these columns\n",
    "    var_name=\"angle\",  # Name for the melted variable column\n",
    "    value_name=\"value\"  # Name for the melted value column\n",
    ")\n",
    "plt.figure()\n",
    "sns.boxplot(x=\"angle\", y=\"value\", hue=\"condition\", data=df_long, showfliers=False)"
   ]
  },
  {
   "cell_type": "code",
   "execution_count": null,
   "id": "e65b3ab10c0d1007",
   "metadata": {
    "ExecuteTime": {
     "end_time": "2025-06-13T09:46:46.959099Z",
     "start_time": "2025-06-13T09:46:46.551908Z"
    }
   },
   "outputs": [],
   "source": [
    "import matplotlib.patches as mpatches\n",
    "sns.set_style(\"white\")\n",
    "fig, axs=plt.subplots(figsize=(11,5),ncols=3, gridspec_kw={'wspace': 0.7})\n",
    "\n",
    "for c, ax in zip(rom_per_person.columns, axs):\n",
    "    sns.boxplot(data = rom_per_person[c].reset_index(), x=\"condition\", y=c, hue = \"condition\", ax=ax, showfliers=True, palette=stressgait)\n",
    "    sns.swarmplot(data = rom_per_person[c].reset_index(), x=\"condition\", y=c, hue = \"condition\", ax=ax, palette=stressgait2, size=8)\n",
    "    ax.spines['top'].set_visible(False)\n",
    "    ax.spines['right'].set_visible(False)\n",
    "\n",
    "\n",
    "\n",
    "legend_elements = [\n",
    "   \n",
    "    mpatches.Patch(facecolor=stressgait['Control'], label='Control'),\n",
    "     mpatches.Patch(facecolor=stressgait['OMC'], label='OMC'),\n",
    "]\n",
    "\n",
    "\n",
    "axs[0].set_ylabel(\"Elbow ROM [°]\", fontsize=16)\n",
    "axs[0].tick_params(axis='y', colors='black', labelsize=14, left=True, labelbottom=True)\n",
    "\n",
    "axs[1].set_ylabel(\"Shoulder ROM [°]\", fontsize=16)\n",
    "axs[2].set_ylabel(\"Arm swing ROM [pixel]\", fontsize=16)\n",
    "axs[0].set_xlabel(\"\")\n",
    "axs[1].set_xlabel(\"\")\n",
    "axs[2].set_xlabel(\"\")\n",
    "axs[0].set_xticklabels(['Control','OMC'])\n",
    "axs[1].set_xticklabels(['Control', 'OMC'])\n",
    "axs[2].set_xticklabels(['Control','OMC'])\n",
    "axs[1].tick_params(axis='y', colors='black', labelsize=14, left=True, labelbottom=True)\n",
    "axs[2].tick_params(axis='y', colors='black', labelsize=14, left=True, labelbottom=True)\n",
    "axs[0].tick_params(axis='x', labelsize=16)\n",
    "axs[1].tick_params(axis='x', labelsize=16)\n",
    "axs[2].tick_params(axis='x', labelsize=16)\n",
    "\n",
    "plt.tight_layout()\n",
    "\n",
    "\n",
    "plt.savefig(\"../../exports/plots/ROM.pdf\")"
   ]
  },
  {
   "cell_type": "code",
   "execution_count": null,
   "id": "60dded0119b28044",
   "metadata": {
    "ExecuteTime": {
     "end_time": "2025-06-13T09:46:46.991884Z",
     "start_time": "2025-06-13T09:46:46.975352Z"
    }
   },
   "outputs": [],
   "source": [
    "normality_results = df_long.groupby(['condition', \"angle\"], group_keys=False)[\"value\"].apply(lambda g: pg.normality(g))\n",
    "normality_results"
   ]
  },
  {
   "cell_type": "code",
   "execution_count": null,
   "id": "69d8e074f0a46e33",
   "metadata": {
    "ExecuteTime": {
     "end_time": "2025-06-13T09:46:47.058312Z",
     "start_time": "2025-06-13T09:46:47.033220Z"
    }
   },
   "outputs": [],
   "source": [
    "test_results = df_long.groupby([\"angle\"], group_keys=False).apply(lambda g: pg.pairwise_tests(g, parametric=True, dv = \"value\", between=\"condition\"))\n",
    "test_results[\"p_corr\"] = test_results[\"p-unc\"]*len(df_long.angle.unique())\n",
    "test_results[\"p_corr\"].clip(upper=1, inplace=True)\n",
    "test_results"
   ]
  },
  {
   "cell_type": "code",
   "execution_count": null,
   "id": "c56a27b5-cbe4-423c-912b-68df5f99e32c",
   "metadata": {},
   "outputs": [],
   "source": []
  }
 ],
 "metadata": {
  "kernelspec": {
   "display_name": "Python 3 (ipykernel)",
   "language": "python",
   "name": "python3"
  },
  "language_info": {
   "codemirror_mode": {
    "name": "ipython",
    "version": 3
   },
   "file_extension": ".py",
   "mimetype": "text/x-python",
   "name": "python",
   "nbconvert_exporter": "python",
   "pygments_lexer": "ipython3",
   "version": "3.11.11"
  }
 },
 "nbformat": 4,
 "nbformat_minor": 5
}

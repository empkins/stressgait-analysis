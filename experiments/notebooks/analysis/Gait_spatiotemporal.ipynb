{
 "cells": [
  {
   "metadata": {},
   "cell_type": "markdown",
   "source": "## specifically: stride time (cadence and stride length should be redundant)",
   "id": "fb407ae3a1fb260a"
  },
  {
   "cell_type": "code",
   "id": "initial_id",
   "metadata": {
    "collapsed": true,
    "ExecuteTime": {
     "end_time": "2025-04-08T08:50:42.586145Z",
     "start_time": "2025-04-08T08:50:42.341716Z"
    }
   },
   "source": [
    "import json\n",
    "from pathlib import Path\n",
    "\n",
    "import biopsykit as bp\n",
    "import matplotlib.pyplot as plt\n",
    "import pandas as pd\n",
    "import pingouin as pg\n",
    "import seaborn as sns\n",
    "from biopsykit.questionnaires.utils import compute_scores, wide_to_long\n",
    "from biopsykit.utils.dataframe_handling import convert_nan\n",
    "from fau_colors import cmaps, register_fausans_font\n",
    "\n",
    "from stressgait_analysis.dataset import StressGaitDataset\n",
    "\n",
    "%matplotlib widget\n",
    "%load_ext autoreload\n",
    "%autoreload 2\n",
    "from stressgait_analysis.gait_helper_functions import compute_HS\n",
    "import numpy as np\n",
    "import warnings\n",
    "warnings.simplefilter(action='ignore')"
   ],
   "outputs": [],
   "execution_count": 2
  },
  {
   "metadata": {
    "ExecuteTime": {
     "end_time": "2025-04-08T08:50:42.601657Z",
     "start_time": "2025-04-08T08:50:42.590421Z"
    }
   },
   "cell_type": "code",
   "source": [
    "plt.close(\"all\")\n",
    "\n",
    "palette = sns.color_palette(cmaps.faculties_light)\n",
    "sns.set_theme(context=\"notebook\", style=\"ticks\", font=\"sans-serif\", palette=palette)\n",
    "\n",
    "plt.rcParams[\"figure.figsize\"] = (10, 5)\n",
    "plt.rcParams[\"pdf.fonttype\"] = 42\n",
    "plt.rcParams[\"mathtext.default\"] = \"regular\"\n",
    "plt.rcParams[\"font.family\"] = \"sans-serif\"\n",
    "#plt.rcParams[\"font.sans-serif\"] = \"FAUSans Office\"\n",
    "\n",
    "palette"
   ],
   "id": "c09a6675f9fb4603",
   "outputs": [
    {
     "data": {
      "text/plain": [
       "[(0.37254901960784315, 0.48627450980392156, 0.6392156862745098),\n",
       " (0.6666666666666666, 0.7647058823529411, 0.8196078431372549),\n",
       " (1.0, 0.8235294117647058, 0.44313725490196076),\n",
       " (0.37254901960784315, 0.7725490196078432, 0.9254901960784314),\n",
       " (0.5372549019607843, 0.803921568627451, 0.4745098039215686),\n",
       " (0.8627450980392157, 0.4117647058823529, 0.48627450980392156)]"
      ],
      "text/html": [
       "<svg  width=\"330\" height=\"55\"><rect x=\"0\" y=\"0\" width=\"55\" height=\"55\" style=\"fill:#5f7ca3;stroke-width:2;stroke:rgb(255,255,255)\"/><rect x=\"55\" y=\"0\" width=\"55\" height=\"55\" style=\"fill:#aac3d1;stroke-width:2;stroke:rgb(255,255,255)\"/><rect x=\"110\" y=\"0\" width=\"55\" height=\"55\" style=\"fill:#ffd271;stroke-width:2;stroke:rgb(255,255,255)\"/><rect x=\"165\" y=\"0\" width=\"55\" height=\"55\" style=\"fill:#5fc5ec;stroke-width:2;stroke:rgb(255,255,255)\"/><rect x=\"220\" y=\"0\" width=\"55\" height=\"55\" style=\"fill:#89cd79;stroke-width:2;stroke:rgb(255,255,255)\"/><rect x=\"275\" y=\"0\" width=\"55\" height=\"55\" style=\"fill:#dc697c;stroke-width:2;stroke:rgb(255,255,255)\"/></svg>"
      ]
     },
     "execution_count": 3,
     "metadata": {},
     "output_type": "execute_result"
    }
   ],
   "execution_count": 3
  },
  {
   "metadata": {
    "ExecuteTime": {
     "end_time": "2025-04-08T08:50:42.652285Z",
     "start_time": "2025-04-08T08:50:42.639484Z"
    }
   },
   "cell_type": "code",
   "source": [
    "deploy_type = \"local\"\n",
    "\n",
    "config_dict = json.load(Path(\"../../config.json\").open(encoding=\"utf-8\"))\n",
    "\n",
    "base_path = Path(config_dict[deploy_type][\"base_path\"])\n",
    "gait_data_path = Path(config_dict[deploy_type][\"gait_data_path\"])\n",
    "\n",
    "base_path"
   ],
   "id": "5c717bdece26e361",
   "outputs": [
    {
     "data": {
      "text/plain": [
       "PosixPath('/home/rzlin/ys64ofuj/Data/StressGait/Data')"
      ]
     },
     "execution_count": 4,
     "metadata": {},
     "output_type": "execute_result"
    }
   ],
   "execution_count": 4
  },
  {
   "metadata": {
    "ExecuteTime": {
     "end_time": "2025-04-08T08:50:42.752565Z",
     "start_time": "2025-04-08T08:50:42.741252Z"
    }
   },
   "cell_type": "code",
   "source": "dataset = StressGaitDataset(base_path, coarse_condition=True, gait_data_path=gait_data_path, specify_bouts=True, specify_speed=True)",
   "id": "d3213df16abc01b0",
   "outputs": [],
   "execution_count": 5
  },
  {
   "metadata": {},
   "cell_type": "markdown",
   "source": "## store as multilevel df",
   "id": "25432729b8308c8e"
  },
  {
   "metadata": {
    "ExecuteTime": {
     "end_time": "2025-04-08T08:50:42.805589Z",
     "start_time": "2025-04-08T08:50:42.786035Z"
    }
   },
   "cell_type": "code",
   "source": "stride_df = dataset.stride_times",
   "id": "2fa8ecc5728e4fbc",
   "outputs": [],
   "execution_count": 6
  },
  {
   "metadata": {
    "ExecuteTime": {
     "end_time": "2025-04-08T08:50:42.842881Z",
     "start_time": "2025-04-08T08:50:42.831327Z"
    }
   },
   "cell_type": "code",
   "source": "mean_stride_time = stride_df.groupby([\"participant\", \"condition\"]).mean()",
   "id": "2391bf049f171fe0",
   "outputs": [],
   "execution_count": 7
  },
  {
   "metadata": {
    "ExecuteTime": {
     "end_time": "2025-04-08T08:50:42.893277Z",
     "start_time": "2025-04-08T08:50:42.878695Z"
    }
   },
   "cell_type": "code",
   "source": "mean_stride_time.groupby([\"condition\"]).mean()\n",
   "id": "75af696d15069de6",
   "outputs": [
    {
     "data": {
      "text/plain": [
       "           stride_time\n",
       "condition             \n",
       "control       1.158599\n",
       "omc           1.188345"
      ],
      "text/html": [
       "<div>\n",
       "<style scoped>\n",
       "    .dataframe tbody tr th:only-of-type {\n",
       "        vertical-align: middle;\n",
       "    }\n",
       "\n",
       "    .dataframe tbody tr th {\n",
       "        vertical-align: top;\n",
       "    }\n",
       "\n",
       "    .dataframe thead th {\n",
       "        text-align: right;\n",
       "    }\n",
       "</style>\n",
       "<table border=\"1\" class=\"dataframe\">\n",
       "  <thead>\n",
       "    <tr style=\"text-align: right;\">\n",
       "      <th></th>\n",
       "      <th>stride_time</th>\n",
       "    </tr>\n",
       "    <tr>\n",
       "      <th>condition</th>\n",
       "      <th></th>\n",
       "    </tr>\n",
       "  </thead>\n",
       "  <tbody>\n",
       "    <tr>\n",
       "      <th>control</th>\n",
       "      <td>1.158599</td>\n",
       "    </tr>\n",
       "    <tr>\n",
       "      <th>omc</th>\n",
       "      <td>1.188345</td>\n",
       "    </tr>\n",
       "  </tbody>\n",
       "</table>\n",
       "</div>"
      ]
     },
     "execution_count": 8,
     "metadata": {},
     "output_type": "execute_result"
    }
   ],
   "execution_count": 8
  },
  {
   "metadata": {
    "ExecuteTime": {
     "end_time": "2025-04-08T08:50:42.939811Z",
     "start_time": "2025-04-08T08:50:42.927138Z"
    }
   },
   "cell_type": "code",
   "source": "mean_stride_time.groupby([\"condition\"]).std()\n",
   "id": "5a74712ddff8986f",
   "outputs": [
    {
     "data": {
      "text/plain": [
       "           stride_time\n",
       "condition             \n",
       "control       0.069125\n",
       "omc           0.068448"
      ],
      "text/html": [
       "<div>\n",
       "<style scoped>\n",
       "    .dataframe tbody tr th:only-of-type {\n",
       "        vertical-align: middle;\n",
       "    }\n",
       "\n",
       "    .dataframe tbody tr th {\n",
       "        vertical-align: top;\n",
       "    }\n",
       "\n",
       "    .dataframe thead th {\n",
       "        text-align: right;\n",
       "    }\n",
       "</style>\n",
       "<table border=\"1\" class=\"dataframe\">\n",
       "  <thead>\n",
       "    <tr style=\"text-align: right;\">\n",
       "      <th></th>\n",
       "      <th>stride_time</th>\n",
       "    </tr>\n",
       "    <tr>\n",
       "      <th>condition</th>\n",
       "      <th></th>\n",
       "    </tr>\n",
       "  </thead>\n",
       "  <tbody>\n",
       "    <tr>\n",
       "      <th>control</th>\n",
       "      <td>0.069125</td>\n",
       "    </tr>\n",
       "    <tr>\n",
       "      <th>omc</th>\n",
       "      <td>0.068448</td>\n",
       "    </tr>\n",
       "  </tbody>\n",
       "</table>\n",
       "</div>"
      ]
     },
     "execution_count": 9,
     "metadata": {},
     "output_type": "execute_result"
    }
   ],
   "execution_count": 9
  },
  {
   "metadata": {
    "ExecuteTime": {
     "end_time": "2025-04-08T08:50:42.990104Z",
     "start_time": "2025-04-08T08:50:42.975191Z"
    }
   },
   "cell_type": "code",
   "source": [
    "normality_results = mean_stride_time.groupby(['condition'], group_keys=False)[\"stride_time\"].apply(\n",
    "    lambda g: pg.normality(g))\n",
    "normality_results\n"
   ],
   "id": "2f74d25b5f806080",
   "outputs": [
    {
     "data": {
      "text/plain": [
       "                W      pval  normal\n",
       "control  0.929832  0.153271    True\n",
       "omc      0.944561  0.291953    True"
      ],
      "text/html": [
       "<div>\n",
       "<style scoped>\n",
       "    .dataframe tbody tr th:only-of-type {\n",
       "        vertical-align: middle;\n",
       "    }\n",
       "\n",
       "    .dataframe tbody tr th {\n",
       "        vertical-align: top;\n",
       "    }\n",
       "\n",
       "    .dataframe thead th {\n",
       "        text-align: right;\n",
       "    }\n",
       "</style>\n",
       "<table border=\"1\" class=\"dataframe\">\n",
       "  <thead>\n",
       "    <tr style=\"text-align: right;\">\n",
       "      <th></th>\n",
       "      <th>W</th>\n",
       "      <th>pval</th>\n",
       "      <th>normal</th>\n",
       "    </tr>\n",
       "  </thead>\n",
       "  <tbody>\n",
       "    <tr>\n",
       "      <th>control</th>\n",
       "      <td>0.929832</td>\n",
       "      <td>0.153271</td>\n",
       "      <td>True</td>\n",
       "    </tr>\n",
       "    <tr>\n",
       "      <th>omc</th>\n",
       "      <td>0.944561</td>\n",
       "      <td>0.291953</td>\n",
       "      <td>True</td>\n",
       "    </tr>\n",
       "  </tbody>\n",
       "</table>\n",
       "</div>"
      ]
     },
     "execution_count": 10,
     "metadata": {},
     "output_type": "execute_result"
    }
   ],
   "execution_count": 10
  },
  {
   "metadata": {
    "ExecuteTime": {
     "end_time": "2025-04-08T08:50:43.069240Z",
     "start_time": "2025-04-08T08:50:43.050703Z"
    }
   },
   "cell_type": "code",
   "source": [
    "test_results = pg.pairwise_tests(data=mean_stride_time.reset_index(),\n",
    "                                 dv='stride_time',\n",
    "                                 between='condition',\n",
    "                                 parametric=True)\n",
    "test_results[\"p_corr\"] = test_results[\"p-unc\"] * 2\n",
    "test_results[\"p_corr\"].clip(upper=1, inplace=True)\n",
    "test_results"
   ],
   "id": "8941f0e6505436f9",
   "outputs": [
    {
     "data": {
      "text/plain": [
       "    Contrast        A    B  Paired  Parametric         T   dof alternative  \\\n",
       "0  condition  control  omc   False        True -1.367505  38.0   two-sided   \n",
       "\n",
       "      p-unc   BF10    hedges    p_corr  \n",
       "0  0.179501  0.645 -0.423852  0.359003  "
      ],
      "text/html": [
       "<div>\n",
       "<style scoped>\n",
       "    .dataframe tbody tr th:only-of-type {\n",
       "        vertical-align: middle;\n",
       "    }\n",
       "\n",
       "    .dataframe tbody tr th {\n",
       "        vertical-align: top;\n",
       "    }\n",
       "\n",
       "    .dataframe thead th {\n",
       "        text-align: right;\n",
       "    }\n",
       "</style>\n",
       "<table border=\"1\" class=\"dataframe\">\n",
       "  <thead>\n",
       "    <tr style=\"text-align: right;\">\n",
       "      <th></th>\n",
       "      <th>Contrast</th>\n",
       "      <th>A</th>\n",
       "      <th>B</th>\n",
       "      <th>Paired</th>\n",
       "      <th>Parametric</th>\n",
       "      <th>T</th>\n",
       "      <th>dof</th>\n",
       "      <th>alternative</th>\n",
       "      <th>p-unc</th>\n",
       "      <th>BF10</th>\n",
       "      <th>hedges</th>\n",
       "      <th>p_corr</th>\n",
       "    </tr>\n",
       "  </thead>\n",
       "  <tbody>\n",
       "    <tr>\n",
       "      <th>0</th>\n",
       "      <td>condition</td>\n",
       "      <td>control</td>\n",
       "      <td>omc</td>\n",
       "      <td>False</td>\n",
       "      <td>True</td>\n",
       "      <td>-1.367505</td>\n",
       "      <td>38.0</td>\n",
       "      <td>two-sided</td>\n",
       "      <td>0.179501</td>\n",
       "      <td>0.645</td>\n",
       "      <td>-0.423852</td>\n",
       "      <td>0.359003</td>\n",
       "    </tr>\n",
       "  </tbody>\n",
       "</table>\n",
       "</div>"
      ]
     },
     "execution_count": 11,
     "metadata": {},
     "output_type": "execute_result"
    }
   ],
   "execution_count": 11
  },
  {
   "metadata": {
    "ExecuteTime": {
     "end_time": "2025-04-08T08:50:43.258362Z",
     "start_time": "2025-04-08T08:50:43.190016Z"
    }
   },
   "cell_type": "code",
   "source": [
    "plt.figure()\n",
    "sns.boxplot(data=mean_stride_time, x=\"condition\", y=\"stride_time\", hue=\"condition\")"
   ],
   "id": "c5582f38778ecf4",
   "outputs": [
    {
     "data": {
      "text/plain": [
       "<Axes: xlabel='condition', ylabel='stride_time'>"
      ]
     },
     "execution_count": 12,
     "metadata": {},
     "output_type": "execute_result"
    },
    {
     "data": {
      "text/plain": [
       "Canvas(toolbar=Toolbar(toolitems=[('Home', 'Reset original view', 'home', 'home'), ('Back', 'Back to previous …"
      ],
      "image/png": "[encoded data removed]",
      "text/html": [
       "\n",
       "            <div style=\"display: inline-block;\">\n",
       "                <div class=\"jupyter-widgets widget-label\" style=\"text-align: center;\">\n",
       "                    Figure\n",
       "                </div>\n",
       "                <img src='data:image/png;base64,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' width=1000.0/>\n",
       "            </div>\n",
       "        "
      ],
      "application/vnd.jupyter.widget-view+json": {
       "version_major": 2,
       "version_minor": 0,
       "model_id": "d192083462094f35a115f70da54e595e"
      }
     },
     "metadata": {},
     "output_type": "display_data"
    }
   ],
   "execution_count": 12
  },
  {
   "metadata": {
    "ExecuteTime": {
     "end_time": "2025-04-08T08:50:43.309480Z",
     "start_time": "2025-04-08T08:50:43.307720Z"
    }
   },
   "cell_type": "code",
   "source": "",
   "id": "2701b6f725a306e9",
   "outputs": [],
   "execution_count": null
  }
 ],
 "metadata": {
  "kernelspec": {
   "display_name": "Python 3",
   "language": "python",
   "name": "python3"
  },
  "language_info": {
   "codemirror_mode": {
    "name": "ipython",
    "version": 2
   },
   "file_extension": ".py",
   "mimetype": "text/x-python",
   "name": "python",
   "nbconvert_exporter": "python",
   "pygments_lexer": "ipython2",
   "version": "2.7.6"
  }
 },
 "nbformat": 4,
 "nbformat_minor": 5
}

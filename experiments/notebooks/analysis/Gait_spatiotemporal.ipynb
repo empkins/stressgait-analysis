{
 "cells": [
  {
   "metadata": {},
   "cell_type": "markdown",
   "source": "## specifically: stride time (cadence and stride length should be redundant)",
   "id": "fb407ae3a1fb260a"
  },
  {
   "cell_type": "code",
   "id": "initial_id",
   "metadata": {
    "collapsed": true,
    "ExecuteTime": {
     "end_time": "2025-04-02T11:34:36.990194Z",
     "start_time": "2025-04-02T11:34:36.939384Z"
    }
   },
   "source": [
    "import json\n",
    "from pathlib import Path\n",
    "\n",
    "import biopsykit as bp\n",
    "import matplotlib.pyplot as plt\n",
    "import pandas as pd\n",
    "import pingouin as pg\n",
    "import seaborn as sns\n",
    "from biopsykit.questionnaires.utils import compute_scores, wide_to_long\n",
    "from biopsykit.utils.dataframe_handling import convert_nan\n",
    "from fau_colors import cmaps, register_fausans_font\n",
    "\n",
    "from stressgait_analysis.dataset import StressGaitDataset\n",
    "\n",
    "%matplotlib widget\n",
    "%load_ext autoreload\n",
    "%autoreload 2\n",
    "from stressgait_analysis.gait_helper_functions import compute_HS\n",
    "import numpy as np\n",
    "import warnings\n",
    "warnings.simplefilter(action='ignore')"
   ],
   "outputs": [
    {
     "name": "stdout",
     "output_type": "stream",
     "text": [
      "The autoreload extension is already loaded. To reload it, use:\n",
      "  %reload_ext autoreload\n"
     ]
    }
   ],
   "execution_count": 7
  },
  {
   "metadata": {
    "ExecuteTime": {
     "end_time": "2025-04-02T11:34:37.708704Z",
     "start_time": "2025-04-02T11:34:37.694370Z"
    }
   },
   "cell_type": "code",
   "source": [
    "plt.close(\"all\")\n",
    "\n",
    "palette = sns.color_palette(cmaps.faculties_light)\n",
    "sns.set_theme(context=\"notebook\", style=\"ticks\", font=\"sans-serif\", palette=palette)\n",
    "\n",
    "plt.rcParams[\"figure.figsize\"] = (10, 5)\n",
    "plt.rcParams[\"pdf.fonttype\"] = 42\n",
    "plt.rcParams[\"mathtext.default\"] = \"regular\"\n",
    "plt.rcParams[\"font.family\"] = \"sans-serif\"\n",
    "#plt.rcParams[\"font.sans-serif\"] = \"FAUSans Office\"\n",
    "\n",
    "palette"
   ],
   "id": "c09a6675f9fb4603",
   "outputs": [
    {
     "data": {
      "text/plain": [
       "[(0.37254901960784315, 0.48627450980392156, 0.6392156862745098),\n",
       " (0.6666666666666666, 0.7647058823529411, 0.8196078431372549),\n",
       " (1.0, 0.8235294117647058, 0.44313725490196076),\n",
       " (0.37254901960784315, 0.7725490196078432, 0.9254901960784314),\n",
       " (0.5372549019607843, 0.803921568627451, 0.4745098039215686),\n",
       " (0.8627450980392157, 0.4117647058823529, 0.48627450980392156)]"
      ],
      "text/html": [
       "<svg  width=\"330\" height=\"55\"><rect x=\"0\" y=\"0\" width=\"55\" height=\"55\" style=\"fill:#5f7ca3;stroke-width:2;stroke:rgb(255,255,255)\"/><rect x=\"55\" y=\"0\" width=\"55\" height=\"55\" style=\"fill:#aac3d1;stroke-width:2;stroke:rgb(255,255,255)\"/><rect x=\"110\" y=\"0\" width=\"55\" height=\"55\" style=\"fill:#ffd271;stroke-width:2;stroke:rgb(255,255,255)\"/><rect x=\"165\" y=\"0\" width=\"55\" height=\"55\" style=\"fill:#5fc5ec;stroke-width:2;stroke:rgb(255,255,255)\"/><rect x=\"220\" y=\"0\" width=\"55\" height=\"55\" style=\"fill:#89cd79;stroke-width:2;stroke:rgb(255,255,255)\"/><rect x=\"275\" y=\"0\" width=\"55\" height=\"55\" style=\"fill:#dc697c;stroke-width:2;stroke:rgb(255,255,255)\"/></svg>"
      ]
     },
     "execution_count": 8,
     "metadata": {},
     "output_type": "execute_result"
    }
   ],
   "execution_count": 8
  },
  {
   "metadata": {
    "ExecuteTime": {
     "end_time": "2025-04-02T11:34:38.115970Z",
     "start_time": "2025-04-02T11:34:38.101716Z"
    }
   },
   "cell_type": "code",
   "source": [
    "deploy_type = \"local\"\n",
    "\n",
    "config_dict = json.load(Path(\"../../config.json\").open(encoding=\"utf-8\"))\n",
    "\n",
    "base_path = Path(config_dict[deploy_type][\"base_path\"])\n",
    "gait_data_path = Path(config_dict[deploy_type][\"gait_data_path\"])\n",
    "\n",
    "base_path"
   ],
   "id": "5c717bdece26e361",
   "outputs": [
    {
     "data": {
      "text/plain": [
       "PosixPath('/home/rzlin/ys64ofuj/Data/StressGait/Data')"
      ]
     },
     "execution_count": 9,
     "metadata": {},
     "output_type": "execute_result"
    }
   ],
   "execution_count": 9
  },
  {
   "metadata": {
    "ExecuteTime": {
     "end_time": "2025-04-02T11:34:38.962157Z",
     "start_time": "2025-04-02T11:34:38.949781Z"
    }
   },
   "cell_type": "code",
   "source": "dataset = StressGaitDataset(base_path, coarse_condition=True, gait_data_path=gait_data_path, specify_bouts=True, specify_speed=True)",
   "id": "d3213df16abc01b0",
   "outputs": [],
   "execution_count": 10
  },
  {
   "metadata": {},
   "cell_type": "markdown",
   "source": "## store as multilevel df",
   "id": "25432729b8308c8e"
  },
  {
   "metadata": {
    "ExecuteTime": {
     "end_time": "2025-04-02T11:34:40.111295Z",
     "start_time": "2025-04-02T11:34:40.081887Z"
    }
   },
   "cell_type": "code",
   "source": "stride_df = dataset.stride_times",
   "id": "2fa8ecc5728e4fbc",
   "outputs": [],
   "execution_count": 11
  },
  {
   "metadata": {
    "ExecuteTime": {
     "end_time": "2025-04-02T11:34:50.925489Z",
     "start_time": "2025-04-02T11:34:50.909604Z"
    }
   },
   "cell_type": "code",
   "source": "mean_stride_time = stride_df.groupby([\"participant\", \"condition\"]).mean()",
   "id": "2391bf049f171fe0",
   "outputs": [],
   "execution_count": 13
  },
  {
   "metadata": {
    "ExecuteTime": {
     "end_time": "2025-04-02T11:35:37.178232Z",
     "start_time": "2025-04-02T11:35:37.164277Z"
    }
   },
   "cell_type": "code",
   "source": "mean_stride_time.groupby([\"condition\"]).mean()\n",
   "id": "75af696d15069de6",
   "outputs": [
    {
     "data": {
      "text/plain": [
       "           stride_time\n",
       "condition             \n",
       "control       1.158599\n",
       "omc           1.188345"
      ],
      "text/html": [
       "<div>\n",
       "<style scoped>\n",
       "    .dataframe tbody tr th:only-of-type {\n",
       "        vertical-align: middle;\n",
       "    }\n",
       "\n",
       "    .dataframe tbody tr th {\n",
       "        vertical-align: top;\n",
       "    }\n",
       "\n",
       "    .dataframe thead th {\n",
       "        text-align: right;\n",
       "    }\n",
       "</style>\n",
       "<table border=\"1\" class=\"dataframe\">\n",
       "  <thead>\n",
       "    <tr style=\"text-align: right;\">\n",
       "      <th></th>\n",
       "      <th>stride_time</th>\n",
       "    </tr>\n",
       "    <tr>\n",
       "      <th>condition</th>\n",
       "      <th></th>\n",
       "    </tr>\n",
       "  </thead>\n",
       "  <tbody>\n",
       "    <tr>\n",
       "      <th>control</th>\n",
       "      <td>1.158599</td>\n",
       "    </tr>\n",
       "    <tr>\n",
       "      <th>omc</th>\n",
       "      <td>1.188345</td>\n",
       "    </tr>\n",
       "  </tbody>\n",
       "</table>\n",
       "</div>"
      ]
     },
     "execution_count": 15,
     "metadata": {},
     "output_type": "execute_result"
    }
   ],
   "execution_count": 15
  },
  {
   "metadata": {
    "ExecuteTime": {
     "end_time": "2025-04-02T11:35:49.416356Z",
     "start_time": "2025-04-02T11:35:49.399153Z"
    }
   },
   "cell_type": "code",
   "source": [
    "normality_results = mean_stride_time.groupby(['condition'], group_keys=False)[\"stride_time\"].apply(\n",
    "    lambda g: pg.normality(g))\n",
    "normality_results\n"
   ],
   "id": "2f74d25b5f806080",
   "outputs": [
    {
     "data": {
      "text/plain": [
       "                W      pval  normal\n",
       "control  0.929832  0.153271    True\n",
       "omc      0.944561  0.291953    True"
      ],
      "text/html": [
       "<div>\n",
       "<style scoped>\n",
       "    .dataframe tbody tr th:only-of-type {\n",
       "        vertical-align: middle;\n",
       "    }\n",
       "\n",
       "    .dataframe tbody tr th {\n",
       "        vertical-align: top;\n",
       "    }\n",
       "\n",
       "    .dataframe thead th {\n",
       "        text-align: right;\n",
       "    }\n",
       "</style>\n",
       "<table border=\"1\" class=\"dataframe\">\n",
       "  <thead>\n",
       "    <tr style=\"text-align: right;\">\n",
       "      <th></th>\n",
       "      <th>W</th>\n",
       "      <th>pval</th>\n",
       "      <th>normal</th>\n",
       "    </tr>\n",
       "  </thead>\n",
       "  <tbody>\n",
       "    <tr>\n",
       "      <th>control</th>\n",
       "      <td>0.929832</td>\n",
       "      <td>0.153271</td>\n",
       "      <td>True</td>\n",
       "    </tr>\n",
       "    <tr>\n",
       "      <th>omc</th>\n",
       "      <td>0.944561</td>\n",
       "      <td>0.291953</td>\n",
       "      <td>True</td>\n",
       "    </tr>\n",
       "  </tbody>\n",
       "</table>\n",
       "</div>"
      ]
     },
     "execution_count": 16,
     "metadata": {},
     "output_type": "execute_result"
    }
   ],
   "execution_count": 16
  },
  {
   "metadata": {
    "ExecuteTime": {
     "end_time": "2025-04-02T11:36:14.640359Z",
     "start_time": "2025-04-02T11:36:14.617979Z"
    }
   },
   "cell_type": "code",
   "source": [
    "test_results = pg.pairwise_tests(data=mean_stride_time.reset_index(),\n",
    "                                 dv='stride_time',\n",
    "                                 between='condition',\n",
    "                                 parametric=True)\n",
    "test_results[\"p_corr\"] = test_results[\"p-unc\"] * 2\n",
    "test_results[\"p_corr\"].clip(upper=1, inplace=True)\n",
    "test_results"
   ],
   "id": "8941f0e6505436f9",
   "outputs": [
    {
     "data": {
      "text/plain": [
       "    Contrast        A    B  Paired  Parametric         T   dof alternative  \\\n",
       "0  condition  control  omc   False        True -1.367505  38.0   two-sided   \n",
       "\n",
       "      p-unc   BF10    hedges    p_corr  \n",
       "0  0.179501  0.645 -0.423852  0.359003  "
      ],
      "text/html": [
       "<div>\n",
       "<style scoped>\n",
       "    .dataframe tbody tr th:only-of-type {\n",
       "        vertical-align: middle;\n",
       "    }\n",
       "\n",
       "    .dataframe tbody tr th {\n",
       "        vertical-align: top;\n",
       "    }\n",
       "\n",
       "    .dataframe thead th {\n",
       "        text-align: right;\n",
       "    }\n",
       "</style>\n",
       "<table border=\"1\" class=\"dataframe\">\n",
       "  <thead>\n",
       "    <tr style=\"text-align: right;\">\n",
       "      <th></th>\n",
       "      <th>Contrast</th>\n",
       "      <th>A</th>\n",
       "      <th>B</th>\n",
       "      <th>Paired</th>\n",
       "      <th>Parametric</th>\n",
       "      <th>T</th>\n",
       "      <th>dof</th>\n",
       "      <th>alternative</th>\n",
       "      <th>p-unc</th>\n",
       "      <th>BF10</th>\n",
       "      <th>hedges</th>\n",
       "      <th>p_corr</th>\n",
       "    </tr>\n",
       "  </thead>\n",
       "  <tbody>\n",
       "    <tr>\n",
       "      <th>0</th>\n",
       "      <td>condition</td>\n",
       "      <td>control</td>\n",
       "      <td>omc</td>\n",
       "      <td>False</td>\n",
       "      <td>True</td>\n",
       "      <td>-1.367505</td>\n",
       "      <td>38.0</td>\n",
       "      <td>two-sided</td>\n",
       "      <td>0.179501</td>\n",
       "      <td>0.645</td>\n",
       "      <td>-0.423852</td>\n",
       "      <td>0.359003</td>\n",
       "    </tr>\n",
       "  </tbody>\n",
       "</table>\n",
       "</div>"
      ]
     },
     "execution_count": 18,
     "metadata": {},
     "output_type": "execute_result"
    }
   ],
   "execution_count": 18
  },
  {
   "metadata": {
    "ExecuteTime": {
     "end_time": "2025-04-02T11:39:09.864765Z",
     "start_time": "2025-04-02T11:39:09.794721Z"
    }
   },
   "cell_type": "code",
   "source": [
    "plt.figure()\n",
    "sns.boxplot(data=mean_stride_time, x=\"condition\", y=\"stride_time\", hue=\"condition\")"
   ],
   "id": "c5582f38778ecf4",
   "outputs": [
    {
     "data": {
      "text/plain": [
       "<Axes: xlabel='condition', ylabel='stride_time'>"
      ]
     },
     "execution_count": 25,
     "metadata": {},
     "output_type": "execute_result"
    },
    {
     "data": {
      "text/plain": [
       "Canvas(toolbar=Toolbar(toolitems=[('Home', 'Reset original view', 'home', 'home'), ('Back', 'Back to previous …"
      ],
      "image/png": "[encoded data removed]",
      "text/html": [
       "\n",
       "            <div style=\"display: inline-block;\">\n",
       "                <div class=\"jupyter-widgets widget-label\" style=\"text-align: center;\">\n",
       "                    Figure\n",
       "                </div>\n",
       "                <img src='data:image/png;base64,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' width=1000.0/>\n",
       "            </div>\n",
       "        "
      ],
      "application/vnd.jupyter.widget-view+json": {
       "version_major": 2,
       "version_minor": 0,
       "model_id": "740985a24dfb4ababd867fe32edf4d92"
      }
     },
     "metadata": {},
     "output_type": "display_data"
    }
   ],
   "execution_count": 25
  },
  {
   "metadata": {},
   "cell_type": "code",
   "outputs": [],
   "execution_count": null,
   "source": "",
   "id": "2701b6f725a306e9"
  }
 ],
 "metadata": {
  "kernelspec": {
   "display_name": "Python 3",
   "language": "python",
   "name": "python3"
  },
  "language_info": {
   "codemirror_mode": {
    "name": "ipython",
    "version": 2
   },
   "file_extension": ".py",
   "mimetype": "text/x-python",
   "name": "python",
   "nbconvert_exporter": "python",
   "pygments_lexer": "ipython2",
   "version": "2.7.6"
  }
 },
 "nbformat": 4,
 "nbformat_minor": 5
}

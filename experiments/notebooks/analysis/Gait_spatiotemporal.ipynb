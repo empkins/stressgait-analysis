{
 "cells": [
  {
   "cell_type": "markdown",
   "id": "fb407ae3a1fb260a",
   "metadata": {},
   "source": [
    "## specifically: stride time (cadence and stride length should be redundant)"
   ]
  },
  {
   "cell_type": "code",
   "id": "initial_id",
   "metadata": {},
   "source": [
    "import json\n",
    "from pathlib import Path\n",
    "\n",
    "import biopsykit as bp\n",
    "import matplotlib.pyplot as plt\n",
    "import pandas as pd\n",
    "import pingouin as pg\n",
    "import seaborn as sns\n",
    "from biopsykit.questionnaires.utils import compute_scores, wide_to_long\n",
    "from biopsykit.utils.dataframe_handling import convert_nan\n",
    "from fau_colors import cmaps, register_fausans_font\n",
    "\n",
    "from stressgait_analysis.dataset import StressGaitDataset\n",
    "\n",
    "%matplotlib widget\n",
    "%load_ext autoreload\n",
    "%autoreload 2\n",
    "from stressgait_analysis.gait_helper_functions import compute_HS\n",
    "import numpy as np\n",
    "import warnings\n",
    "warnings.simplefilter(action='ignore')"
   ],
   "outputs": [],
   "execution_count": null
  },
  {
   "cell_type": "code",
   "id": "c09a6675f9fb4603",
   "metadata": {},
   "source": [
    "plt.close(\"all\")\n",
    "\n",
    "palette = sns.color_palette(cmaps.faculties_light)\n",
    "sns.set_theme(context=\"notebook\", style=\"ticks\", font=\"sans-serif\", palette=palette)\n",
    "\n",
    "plt.rcParams[\"figure.figsize\"] = (10, 5)\n",
    "plt.rcParams[\"pdf.fonttype\"] = 42\n",
    "plt.rcParams[\"mathtext.default\"] = \"regular\"\n",
    "plt.rcParams[\"font.family\"] = \"sans-serif\"\n",
    "#plt.rcParams[\"font.sans-serif\"] = \"FAUSans Office\"\n",
    "\n",
    "palette"
   ],
   "outputs": [],
   "execution_count": null
  },
  {
   "cell_type": "code",
   "id": "5c717bdece26e361",
   "metadata": {},
   "source": [
    "deploy_type = \"local\"\n",
    "\n",
    "config_dict = json.load(Path(\"../../config.json\").open(encoding=\"utf-8\"))\n",
    "\n",
    "base_path = Path(config_dict[deploy_type][\"base_path\"])\n",
    "\n",
    "base_path"
   ],
   "outputs": [],
   "execution_count": null
  },
  {
   "cell_type": "code",
   "id": "d3213df16abc01b0",
   "metadata": {},
   "source": [
    "dataset = StressGaitDataset(base_path, coarse_condition=True, specify_bouts=True, specify_speed=True)"
   ],
   "outputs": [],
   "execution_count": null
  },
  {
   "cell_type": "markdown",
   "id": "25432729b8308c8e",
   "metadata": {},
   "source": [
    "## store as multilevel df"
   ]
  },
  {
   "cell_type": "code",
   "id": "2fa8ecc5728e4fbc",
   "metadata": {},
   "source": [
    "stride_df = dataset.stride_times"
   ],
   "outputs": [],
   "execution_count": null
  },
  {
   "cell_type": "code",
   "id": "2391bf049f171fe0",
   "metadata": {},
   "source": [
    "mean_stride_time = stride_df.groupby([\"participant\", \"condition\"]).mean()"
   ],
   "outputs": [],
   "execution_count": null
  },
  {
   "cell_type": "code",
   "id": "75af696d15069de6",
   "metadata": {},
   "source": [
    "mean_stride_time.groupby([\"condition\"]).mean()\n"
   ],
   "outputs": [],
   "execution_count": null
  },
  {
   "cell_type": "code",
   "id": "5a74712ddff8986f",
   "metadata": {},
   "source": [
    "mean_stride_time.groupby([\"condition\"]).std()\n"
   ],
   "outputs": [],
   "execution_count": null
  },
  {
   "cell_type": "code",
   "id": "2f74d25b5f806080",
   "metadata": {},
   "source": [
    "normality_results = mean_stride_time.groupby(['condition'], group_keys=False)[\"stride_time\"].apply(\n",
    "    lambda g: pg.normality(g))\n",
    "normality_results\n"
   ],
   "outputs": [],
   "execution_count": null
  },
  {
   "cell_type": "code",
   "id": "8941f0e6505436f9",
   "metadata": {},
   "source": [
    "test_results = pg.pairwise_tests(data=mean_stride_time.reset_index(),\n",
    "                                 dv='stride_time',\n",
    "                                 between='condition',\n",
    "                                 parametric=True)\n",
    "\n",
    "\n",
    "test_results"
   ],
   "outputs": [],
   "execution_count": null
  },
  {
   "cell_type": "code",
   "id": "c5582f38778ecf4",
   "metadata": {},
   "source": [
    "plt.figure()\n",
    "sns.boxplot(data=mean_stride_time, x=\"condition\", y=\"stride_time\", hue=\"condition\")"
   ],
   "outputs": [],
   "execution_count": null
  }
 ],
 "metadata": {
  "kernelspec": {
   "display_name": "Python 3 (ipykernel)",
   "language": "python",
   "name": "python3"
  },
  "language_info": {
   "codemirror_mode": {
    "name": "ipython",
    "version": 3
   },
   "file_extension": ".py",
   "mimetype": "text/x-python",
   "name": "python",
   "nbconvert_exporter": "python",
   "pygments_lexer": "ipython3",
   "version": "3.11.11"
  }
 },
 "nbformat": 4,
 "nbformat_minor": 5
}

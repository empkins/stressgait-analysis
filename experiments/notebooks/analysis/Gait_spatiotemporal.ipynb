{
 "cells": [
  {
   "metadata": {},
   "cell_type": "markdown",
   "source": "## specifically: stride time (cadence and stride length should be redundant)",
   "id": "fb407ae3a1fb260a"
  },
  {
   "cell_type": "code",
   "id": "initial_id",
   "metadata": {
    "collapsed": true,
    "ExecuteTime": {
     "end_time": "2025-04-02T11:25:47.187788Z",
     "start_time": "2025-04-02T11:25:47.174474Z"
    }
   },
   "source": [
    "import json\n",
    "from pathlib import Path\n",
    "\n",
    "import biopsykit as bp\n",
    "import matplotlib.pyplot as plt\n",
    "import pandas as pd\n",
    "import pingouin as pg\n",
    "import seaborn as sns\n",
    "from biopsykit.questionnaires.utils import compute_scores, wide_to_long\n",
    "from biopsykit.utils.dataframe_handling import convert_nan\n",
    "from fau_colors import cmaps, register_fausans_font\n",
    "\n",
    "from stressgait_analysis.dataset import StressGaitDataset\n",
    "\n",
    "%matplotlib widget\n",
    "%load_ext autoreload\n",
    "%autoreload 2\n",
    "from stressgait_analysis.gait_helper_functions import compute_HS\n",
    "import numpy as np\n",
    "import warnings\n",
    "warnings.simplefilter(action='ignore')"
   ],
   "outputs": [
    {
     "name": "stdout",
     "output_type": "stream",
     "text": [
      "The autoreload extension is already loaded. To reload it, use:\n",
      "  %reload_ext autoreload\n"
     ]
    }
   ],
   "execution_count": 40
  },
  {
   "metadata": {
    "ExecuteTime": {
     "end_time": "2025-04-02T11:13:00.920842Z",
     "start_time": "2025-04-02T11:12:59.853018Z"
    }
   },
   "cell_type": "code",
   "source": [
    "plt.close(\"all\")\n",
    "\n",
    "palette = sns.color_palette(cmaps.faculties_light)\n",
    "sns.set_theme(context=\"notebook\", style=\"ticks\", font=\"sans-serif\", palette=palette)\n",
    "\n",
    "plt.rcParams[\"figure.figsize\"] = (10, 5)\n",
    "plt.rcParams[\"pdf.fonttype\"] = 42\n",
    "plt.rcParams[\"mathtext.default\"] = \"regular\"\n",
    "plt.rcParams[\"font.family\"] = \"sans-serif\"\n",
    "#plt.rcParams[\"font.sans-serif\"] = \"FAUSans Office\"\n",
    "\n",
    "palette"
   ],
   "id": "c09a6675f9fb4603",
   "outputs": [
    {
     "data": {
      "text/plain": [
       "[(0.37254901960784315, 0.48627450980392156, 0.6392156862745098),\n",
       " (0.6666666666666666, 0.7647058823529411, 0.8196078431372549),\n",
       " (1.0, 0.8235294117647058, 0.44313725490196076),\n",
       " (0.37254901960784315, 0.7725490196078432, 0.9254901960784314),\n",
       " (0.5372549019607843, 0.803921568627451, 0.4745098039215686),\n",
       " (0.8627450980392157, 0.4117647058823529, 0.48627450980392156)]"
      ],
      "text/html": [
       "<svg  width=\"330\" height=\"55\"><rect x=\"0\" y=\"0\" width=\"55\" height=\"55\" style=\"fill:#5f7ca3;stroke-width:2;stroke:rgb(255,255,255)\"/><rect x=\"55\" y=\"0\" width=\"55\" height=\"55\" style=\"fill:#aac3d1;stroke-width:2;stroke:rgb(255,255,255)\"/><rect x=\"110\" y=\"0\" width=\"55\" height=\"55\" style=\"fill:#ffd271;stroke-width:2;stroke:rgb(255,255,255)\"/><rect x=\"165\" y=\"0\" width=\"55\" height=\"55\" style=\"fill:#5fc5ec;stroke-width:2;stroke:rgb(255,255,255)\"/><rect x=\"220\" y=\"0\" width=\"55\" height=\"55\" style=\"fill:#89cd79;stroke-width:2;stroke:rgb(255,255,255)\"/><rect x=\"275\" y=\"0\" width=\"55\" height=\"55\" style=\"fill:#dc697c;stroke-width:2;stroke:rgb(255,255,255)\"/></svg>"
      ]
     },
     "execution_count": 2,
     "metadata": {},
     "output_type": "execute_result"
    }
   ],
   "execution_count": 2
  },
  {
   "metadata": {
    "ExecuteTime": {
     "end_time": "2025-04-02T11:13:03.502181Z",
     "start_time": "2025-04-02T11:13:03.489173Z"
    }
   },
   "cell_type": "code",
   "source": [
    "deploy_type = \"local\"\n",
    "\n",
    "config_dict = json.load(Path(\"../../config.json\").open(encoding=\"utf-8\"))\n",
    "\n",
    "base_path = Path(config_dict[deploy_type][\"base_path\"])\n",
    "gait_data_path = Path(config_dict[deploy_type][\"gait_data_path\"])\n",
    "\n",
    "base_path"
   ],
   "id": "5c717bdece26e361",
   "outputs": [
    {
     "data": {
      "text/plain": [
       "PosixPath('/home/rzlin/ys64ofuj/Data/StressGait/Data')"
      ]
     },
     "execution_count": 3,
     "metadata": {},
     "output_type": "execute_result"
    }
   ],
   "execution_count": 3
  },
  {
   "metadata": {
    "ExecuteTime": {
     "end_time": "2025-04-02T11:13:05.748637Z",
     "start_time": "2025-04-02T11:13:05.735056Z"
    }
   },
   "cell_type": "code",
   "source": "dataset = StressGaitDataset(base_path, coarse_condition=True, gait_data_path=gait_data_path, specify_bouts=True, specify_speed=True)",
   "id": "d3213df16abc01b0",
   "outputs": [],
   "execution_count": 4
  },
  {
   "metadata": {},
   "cell_type": "markdown",
   "source": "## computation",
   "id": "2b79f00b8ddf9f39"
  },
  {
   "metadata": {
    "ExecuteTime": {
     "end_time": "2025-04-02T11:13:33.604818Z",
     "start_time": "2025-04-02T11:13:14.167569Z"
    }
   },
   "cell_type": "code",
   "source": [
    "data = []\n",
    "for trial in dataset:\n",
    "\n",
    "    keypoints = trial.load_keypoint_trajectories()\n",
    "    hs_events = compute_HS(keypoints)\n",
    "    hs_events = [i for i in hs_events if i > 30]\n",
    "    stride_times = np.diff(hs_events)\n",
    "    data.extend([\n",
    "        (*trial.index.values[0], i, st)\n",
    "        for i, st in zip(range(len(stride_times)), stride_times)\n",
    "    ])"
   ],
   "id": "a5b67b688998e44d",
   "outputs": [],
   "execution_count": 5
  },
  {
   "metadata": {},
   "cell_type": "markdown",
   "source": "## store as multilevel df",
   "id": "25432729b8308c8e"
  },
  {
   "metadata": {
    "ExecuteTime": {
     "end_time": "2025-04-02T11:15:37.076535Z",
     "start_time": "2025-04-02T11:15:37.042801Z"
    }
   },
   "cell_type": "code",
   "source": [
    "stride_df = pd.DataFrame(data, columns=[*dataset.index.columns, \"stride_idx\", \"stride_time\"])\n",
    "stride_df.set_index([*dataset.index.columns, \"stride_idx\"], inplace=True)\n",
    "filename = dataset.base_path.joinpath(\"kinematics/stride_times.csv\")\n",
    "stride_df.to_csv(filename)"
   ],
   "id": "2fa8ecc5728e4fbc",
   "outputs": [],
   "execution_count": 9
  },
  {
   "metadata": {
    "ExecuteTime": {
     "end_time": "2025-04-02T11:27:30.475013Z",
     "start_time": "2025-04-02T11:27:30.368701Z"
    }
   },
   "cell_type": "code",
   "source": "stride_df",
   "id": "2391bf049f171fe0",
   "outputs": [
    {
     "data": {
      "text/plain": [
       "                                             stride_time\n",
       "participant condition bout speed stride_idx             \n",
       "VP_01       omc       1    slow  0                  1.18\n",
       "                                 1                  1.20\n",
       "                                 2                  1.24\n",
       "                                 3                  1.18\n",
       "                                 4                  1.20\n",
       "...                                                  ...\n",
       "VP_47       omc       2    fast  196                1.12\n",
       "                                 197                1.10\n",
       "                                 198                1.12\n",
       "                                 199                1.08\n",
       "                                 200                1.08\n",
       "\n",
       "[14942 rows x 1 columns]"
      ],
      "text/html": [
       "<div>\n",
       "<style scoped>\n",
       "    .dataframe tbody tr th:only-of-type {\n",
       "        vertical-align: middle;\n",
       "    }\n",
       "\n",
       "    .dataframe tbody tr th {\n",
       "        vertical-align: top;\n",
       "    }\n",
       "\n",
       "    .dataframe thead th {\n",
       "        text-align: right;\n",
       "    }\n",
       "</style>\n",
       "<table border=\"1\" class=\"dataframe\">\n",
       "  <thead>\n",
       "    <tr style=\"text-align: right;\">\n",
       "      <th></th>\n",
       "      <th></th>\n",
       "      <th></th>\n",
       "      <th></th>\n",
       "      <th></th>\n",
       "      <th>stride_time</th>\n",
       "    </tr>\n",
       "    <tr>\n",
       "      <th>participant</th>\n",
       "      <th>condition</th>\n",
       "      <th>bout</th>\n",
       "      <th>speed</th>\n",
       "      <th>stride_idx</th>\n",
       "      <th></th>\n",
       "    </tr>\n",
       "  </thead>\n",
       "  <tbody>\n",
       "    <tr>\n",
       "      <th rowspan=\"5\" valign=\"top\">VP_01</th>\n",
       "      <th rowspan=\"5\" valign=\"top\">omc</th>\n",
       "      <th rowspan=\"5\" valign=\"top\">1</th>\n",
       "      <th rowspan=\"5\" valign=\"top\">slow</th>\n",
       "      <th>0</th>\n",
       "      <td>1.18</td>\n",
       "    </tr>\n",
       "    <tr>\n",
       "      <th>1</th>\n",
       "      <td>1.20</td>\n",
       "    </tr>\n",
       "    <tr>\n",
       "      <th>2</th>\n",
       "      <td>1.24</td>\n",
       "    </tr>\n",
       "    <tr>\n",
       "      <th>3</th>\n",
       "      <td>1.18</td>\n",
       "    </tr>\n",
       "    <tr>\n",
       "      <th>4</th>\n",
       "      <td>1.20</td>\n",
       "    </tr>\n",
       "    <tr>\n",
       "      <th>...</th>\n",
       "      <th>...</th>\n",
       "      <th>...</th>\n",
       "      <th>...</th>\n",
       "      <th>...</th>\n",
       "      <td>...</td>\n",
       "    </tr>\n",
       "    <tr>\n",
       "      <th rowspan=\"5\" valign=\"top\">VP_47</th>\n",
       "      <th rowspan=\"5\" valign=\"top\">omc</th>\n",
       "      <th rowspan=\"5\" valign=\"top\">2</th>\n",
       "      <th rowspan=\"5\" valign=\"top\">fast</th>\n",
       "      <th>196</th>\n",
       "      <td>1.12</td>\n",
       "    </tr>\n",
       "    <tr>\n",
       "      <th>197</th>\n",
       "      <td>1.10</td>\n",
       "    </tr>\n",
       "    <tr>\n",
       "      <th>198</th>\n",
       "      <td>1.12</td>\n",
       "    </tr>\n",
       "    <tr>\n",
       "      <th>199</th>\n",
       "      <td>1.08</td>\n",
       "    </tr>\n",
       "    <tr>\n",
       "      <th>200</th>\n",
       "      <td>1.08</td>\n",
       "    </tr>\n",
       "  </tbody>\n",
       "</table>\n",
       "<p>14942 rows × 1 columns</p>\n",
       "</div>"
      ]
     },
     "execution_count": 41,
     "metadata": {},
     "output_type": "execute_result"
    }
   ],
   "execution_count": 41
  },
  {
   "metadata": {},
   "cell_type": "code",
   "outputs": [],
   "execution_count": null,
   "source": "",
   "id": "2f23b62ec03f051e"
  }
 ],
 "metadata": {
  "kernelspec": {
   "display_name": "Python 3",
   "language": "python",
   "name": "python3"
  },
  "language_info": {
   "codemirror_mode": {
    "name": "ipython",
    "version": 2
   },
   "file_extension": ".py",
   "mimetype": "text/x-python",
   "name": "python",
   "nbconvert_exporter": "python",
   "pygments_lexer": "ipython2",
   "version": "2.7.6"
  }
 },
 "nbformat": 4,
 "nbformat_minor": 5
}

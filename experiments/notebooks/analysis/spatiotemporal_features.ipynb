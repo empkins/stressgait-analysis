{
 "cells": [
  {
   "metadata": {},
   "cell_type": "markdown",
   "source": "# Compute Spatiotemporal Params",
   "id": "b9ededd0e7a7c9b6"
  },
  {
   "metadata": {},
   "cell_type": "markdown",
   "source": "## specifically: stride time (cadence and stride length should be redundant)",
   "id": "fb407ae3a1fb260a"
  },
  {
   "cell_type": "code",
   "id": "initial_id",
   "metadata": {
    "collapsed": true,
    "ExecuteTime": {
     "end_time": "2025-03-28T12:05:33.912424Z",
     "start_time": "2025-03-28T12:05:33.625692Z"
    }
   },
   "source": [
    "import json\n",
    "from pathlib import Path\n",
    "\n",
    "import biopsykit as bp\n",
    "import matplotlib.pyplot as plt\n",
    "import pandas as pd\n",
    "import pingouin as pg\n",
    "import seaborn as sns\n",
    "from biopsykit.questionnaires.utils import compute_scores, wide_to_long\n",
    "from biopsykit.utils.dataframe_handling import convert_nan\n",
    "from fau_colors import cmaps, register_fausans_font\n",
    "\n",
    "from stressgait_analysis.dataset import StressGaitDataset\n",
    "\n",
    "%matplotlib widget\n",
    "%load_ext autoreload\n",
    "%autoreload 2\n",
    "from stressgait_analysis.gait_helper_functions import compute_HS\n",
    "import numpy as np"
   ],
   "outputs": [],
   "execution_count": 1
  },
  {
   "metadata": {
    "ExecuteTime": {
     "end_time": "2025-03-28T12:05:38.231794Z",
     "start_time": "2025-03-28T12:05:37.005597Z"
    }
   },
   "cell_type": "code",
   "source": [
    "plt.close(\"all\")\n",
    "\n",
    "palette = sns.color_palette(cmaps.faculties_light)\n",
    "sns.set_theme(context=\"notebook\", style=\"ticks\", font=\"sans-serif\", palette=palette)\n",
    "\n",
    "plt.rcParams[\"figure.figsize\"] = (10, 5)\n",
    "plt.rcParams[\"pdf.fonttype\"] = 42\n",
    "plt.rcParams[\"mathtext.default\"] = \"regular\"\n",
    "plt.rcParams[\"font.family\"] = \"sans-serif\"\n",
    "#plt.rcParams[\"font.sans-serif\"] = \"FAUSans Office\"\n",
    "\n",
    "palette"
   ],
   "id": "c09a6675f9fb4603",
   "outputs": [
    {
     "data": {
      "text/plain": [
       "[(0.37254901960784315, 0.48627450980392156, 0.6392156862745098),\n",
       " (0.6666666666666666, 0.7647058823529411, 0.8196078431372549),\n",
       " (1.0, 0.8235294117647058, 0.44313725490196076),\n",
       " (0.37254901960784315, 0.7725490196078432, 0.9254901960784314),\n",
       " (0.5372549019607843, 0.803921568627451, 0.4745098039215686),\n",
       " (0.8627450980392157, 0.4117647058823529, 0.48627450980392156)]"
      ],
      "text/html": [
       "<svg  width=\"330\" height=\"55\"><rect x=\"0\" y=\"0\" width=\"55\" height=\"55\" style=\"fill:#5f7ca3;stroke-width:2;stroke:rgb(255,255,255)\"/><rect x=\"55\" y=\"0\" width=\"55\" height=\"55\" style=\"fill:#aac3d1;stroke-width:2;stroke:rgb(255,255,255)\"/><rect x=\"110\" y=\"0\" width=\"55\" height=\"55\" style=\"fill:#ffd271;stroke-width:2;stroke:rgb(255,255,255)\"/><rect x=\"165\" y=\"0\" width=\"55\" height=\"55\" style=\"fill:#5fc5ec;stroke-width:2;stroke:rgb(255,255,255)\"/><rect x=\"220\" y=\"0\" width=\"55\" height=\"55\" style=\"fill:#89cd79;stroke-width:2;stroke:rgb(255,255,255)\"/><rect x=\"275\" y=\"0\" width=\"55\" height=\"55\" style=\"fill:#dc697c;stroke-width:2;stroke:rgb(255,255,255)\"/></svg>"
      ]
     },
     "execution_count": 2,
     "metadata": {},
     "output_type": "execute_result"
    }
   ],
   "execution_count": 2
  },
  {
   "metadata": {
    "ExecuteTime": {
     "end_time": "2025-03-28T12:05:39.124327Z",
     "start_time": "2025-03-28T12:05:39.108165Z"
    }
   },
   "cell_type": "code",
   "source": [
    "deploy_type = \"local\"\n",
    "\n",
    "config_dict = json.load(Path(\"../../config.json\").open(encoding=\"utf-8\"))\n",
    "\n",
    "base_path = Path(config_dict[deploy_type][\"base_path\"])\n",
    "gait_data_path = Path(config_dict[deploy_type][\"gait_data_path\"])\n",
    "\n",
    "base_path"
   ],
   "id": "5c717bdece26e361",
   "outputs": [
    {
     "data": {
      "text/plain": [
       "PosixPath('/home/rzlin/ys64ofuj/Data/StressGait/Data')"
      ]
     },
     "execution_count": 3,
     "metadata": {},
     "output_type": "execute_result"
    }
   ],
   "execution_count": 3
  },
  {
   "metadata": {
    "ExecuteTime": {
     "end_time": "2025-03-28T12:05:40.509042Z",
     "start_time": "2025-03-28T12:05:40.493831Z"
    }
   },
   "cell_type": "code",
   "source": "dataset = StressGaitDataset(base_path, coarse_condition=True, gait_data_path=gait_data_path, specify_bouts=True, specify_speed=True)",
   "id": "d3213df16abc01b0",
   "outputs": [],
   "execution_count": 4
  },
  {
   "metadata": {},
   "cell_type": "markdown",
   "source": "## computation",
   "id": "2b79f00b8ddf9f39"
  },
  {
   "metadata": {
    "ExecuteTime": {
     "end_time": "2025-03-28T12:14:39.662872Z",
     "start_time": "2025-03-28T12:14:06.107428Z"
    }
   },
   "cell_type": "code",
   "source": [
    "data = []\n",
    "for trial in dataset:\n",
    "\n",
    "    keypoints = trial.load_keypoint_trajectories()\n",
    "    hs_events = compute_HS(keypoints)\n",
    "    hs_events = [i for i in hs_events if i > 30]\n",
    "    stride_times = np.diff(hs_events)\n",
    "    data.extend([\n",
    "        (*trial.index.values[0], i, st)\n",
    "        for i, st in zip(range(len(stride_times)), stride_times)\n",
    "    ])"
   ],
   "id": "a5b67b688998e44d",
   "outputs": [],
   "execution_count": 17
  },
  {
   "metadata": {},
   "cell_type": "markdown",
   "source": "## store as multilevel df",
   "id": "25432729b8308c8e"
  },
  {
   "metadata": {
    "ExecuteTime": {
     "end_time": "2025-03-28T12:14:56.295882Z",
     "start_time": "2025-03-28T12:14:56.272285Z"
    }
   },
   "cell_type": "code",
   "source": [
    "stride_df = pd.DataFrame(data, columns=[*dataset.index.columns, \"stride_idx\", \"stride_time\"])\n",
    "stride_df.set_index([*dataset.index.columns, \"stride_idx\"], inplace=True)"
   ],
   "id": "2fa8ecc5728e4fbc",
   "outputs": [],
   "execution_count": 18
  },
  {
   "metadata": {
    "ExecuteTime": {
     "end_time": "2025-03-28T12:14:57.449384Z",
     "start_time": "2025-03-28T12:14:57.430352Z"
    }
   },
   "cell_type": "code",
   "source": [
    "mean_stride_time = stride_df.groupby([\"participant\", \"condition\"]).mean()\n",
    "stride_time_variability = stride_df.groupby([\"participant\", \"condition\"]).std()\n"
   ],
   "id": "e01496065030c4ec",
   "outputs": [],
   "execution_count": 19
  },
  {
   "metadata": {
    "ExecuteTime": {
     "end_time": "2025-03-28T12:14:58.768722Z",
     "start_time": "2025-03-28T12:14:58.751730Z"
    }
   },
   "cell_type": "code",
   "source": [
    "mean = mean_stride_time.groupby([\"condition\"]).mean()\n",
    "mean"
   ],
   "id": "ca06a796a435a5d2",
   "outputs": [
    {
     "data": {
      "text/plain": [
       "           stride_time\n",
       "condition             \n",
       "control       1.158599\n",
       "omc           1.183981"
      ],
      "text/html": [
       "<div>\n",
       "<style scoped>\n",
       "    .dataframe tbody tr th:only-of-type {\n",
       "        vertical-align: middle;\n",
       "    }\n",
       "\n",
       "    .dataframe tbody tr th {\n",
       "        vertical-align: top;\n",
       "    }\n",
       "\n",
       "    .dataframe thead th {\n",
       "        text-align: right;\n",
       "    }\n",
       "</style>\n",
       "<table border=\"1\" class=\"dataframe\">\n",
       "  <thead>\n",
       "    <tr style=\"text-align: right;\">\n",
       "      <th></th>\n",
       "      <th>stride_time</th>\n",
       "    </tr>\n",
       "    <tr>\n",
       "      <th>condition</th>\n",
       "      <th></th>\n",
       "    </tr>\n",
       "  </thead>\n",
       "  <tbody>\n",
       "    <tr>\n",
       "      <th>control</th>\n",
       "      <td>1.158599</td>\n",
       "    </tr>\n",
       "    <tr>\n",
       "      <th>omc</th>\n",
       "      <td>1.183981</td>\n",
       "    </tr>\n",
       "  </tbody>\n",
       "</table>\n",
       "</div>"
      ]
     },
     "execution_count": 20,
     "metadata": {},
     "output_type": "execute_result"
    }
   ],
   "execution_count": 20
  },
  {
   "metadata": {
    "ExecuteTime": {
     "end_time": "2025-03-28T12:15:01.064803Z",
     "start_time": "2025-03-28T12:15:01.048095Z"
    }
   },
   "cell_type": "code",
   "source": [
    "var = mean_stride_time.groupby([\"condition\"]).var()\n",
    "var"
   ],
   "id": "1c61f1cefe2f80bf",
   "outputs": [
    {
     "data": {
      "text/plain": [
       "           stride_time\n",
       "condition             \n",
       "control       0.004778\n",
       "omc           0.004851"
      ],
      "text/html": [
       "<div>\n",
       "<style scoped>\n",
       "    .dataframe tbody tr th:only-of-type {\n",
       "        vertical-align: middle;\n",
       "    }\n",
       "\n",
       "    .dataframe tbody tr th {\n",
       "        vertical-align: top;\n",
       "    }\n",
       "\n",
       "    .dataframe thead th {\n",
       "        text-align: right;\n",
       "    }\n",
       "</style>\n",
       "<table border=\"1\" class=\"dataframe\">\n",
       "  <thead>\n",
       "    <tr style=\"text-align: right;\">\n",
       "      <th></th>\n",
       "      <th>stride_time</th>\n",
       "    </tr>\n",
       "    <tr>\n",
       "      <th>condition</th>\n",
       "      <th></th>\n",
       "    </tr>\n",
       "  </thead>\n",
       "  <tbody>\n",
       "    <tr>\n",
       "      <th>control</th>\n",
       "      <td>0.004778</td>\n",
       "    </tr>\n",
       "    <tr>\n",
       "      <th>omc</th>\n",
       "      <td>0.004851</td>\n",
       "    </tr>\n",
       "  </tbody>\n",
       "</table>\n",
       "</div>"
      ]
     },
     "execution_count": 21,
     "metadata": {},
     "output_type": "execute_result"
    }
   ],
   "execution_count": 21
  },
  {
   "metadata": {},
   "cell_type": "code",
   "outputs": [],
   "execution_count": null,
   "source": "",
   "id": "331a23da013c4103"
  }
 ],
 "metadata": {
  "kernelspec": {
   "display_name": "Python 3",
   "language": "python",
   "name": "python3"
  },
  "language_info": {
   "codemirror_mode": {
    "name": "ipython",
    "version": 2
   },
   "file_extension": ".py",
   "mimetype": "text/x-python",
   "name": "python",
   "nbconvert_exporter": "python",
   "pygments_lexer": "ipython2",
   "version": "2.7.6"
  }
 },
 "nbformat": 4,
 "nbformat_minor": 5
}

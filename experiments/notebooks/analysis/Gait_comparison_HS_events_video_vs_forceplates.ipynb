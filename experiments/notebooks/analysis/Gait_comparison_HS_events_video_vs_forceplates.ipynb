{
 "cells": [
  {
   "metadata": {},
   "cell_type": "markdown",
   "source": "## Event detection ground truth vs video",
   "id": "36cfdf787d886a44"
  },
  {
   "metadata": {},
   "cell_type": "raw",
   "source": [
    "This script computes our ground truth HS events (from force plate data) for those participants that have at least 150 steps without overstepping. (for the left leg, which is closer to the camera)\n",
    "We then compute the HS events from the video data to check the time difference.\n",
    "We use this to validate our method for cutting the gait cycles and computing spatiotemporal params"
   ],
   "id": "413cf3a06e8eff6d"
  },
  {
   "cell_type": "code",
   "id": "initial_id",
   "metadata": {
    "collapsed": true,
    "ExecuteTime": {
     "end_time": "2025-03-25T16:18:55.438008Z",
     "start_time": "2025-03-25T16:18:54.662621Z"
    }
   },
   "source": [
    "import json\n",
    "from pathlib import Path\n",
    "\n",
    "import biopsykit as bp\n",
    "import matplotlib.pyplot as plt\n",
    "import pandas as pd\n",
    "import pingouin as pg\n",
    "import seaborn as sns\n",
    "from biopsykit.questionnaires.utils import compute_scores, wide_to_long\n",
    "from biopsykit.utils.dataframe_handling import convert_nan\n",
    "from fau_colors import cmaps, register_fausans_font\n",
    "\n",
    "from stressgait_analysis.dataset import StressGaitDataset\n",
    "import numpy as np\n",
    "%matplotlib widget\n",
    "%load_ext autoreload\n",
    "from scipy.signal import find_peaks\n",
    "%autoreload 2"
   ],
   "outputs": [
    {
     "name": "stdout",
     "output_type": "stream",
     "text": [
      "The autoreload extension is already loaded. To reload it, use:\n",
      "  %reload_ext autoreload\n"
     ]
    }
   ],
   "execution_count": 2
  },
  {
   "metadata": {
    "ExecuteTime": {
     "end_time": "2025-03-25T16:18:56.509667Z",
     "start_time": "2025-03-25T16:18:56.497288Z"
    }
   },
   "cell_type": "code",
   "source": [
    "deploy_type = \"local\"\n",
    "\n",
    "config_dict = json.load(Path(\"../../config.json\").open(encoding=\"utf-8\"))\n",
    "\n",
    "base_path = Path(config_dict[deploy_type][\"base_path\"])\n",
    "gait_data_path = Path(config_dict[deploy_type][\"gait_data_path\"])\n"
   ],
   "id": "2bcc4c15334ae784",
   "outputs": [],
   "execution_count": 3
  },
  {
   "metadata": {
    "ExecuteTime": {
     "end_time": "2025-03-25T16:18:57.188500Z",
     "start_time": "2025-03-25T16:18:57.176059Z"
    }
   },
   "cell_type": "code",
   "source": "dataset = StressGaitDataset(base_path, coarse_condition=True, gait_data_path=gait_data_path, specify_bouts=True)\n",
   "id": "b7639de7fea3fb27",
   "outputs": [],
   "execution_count": 4
  },
  {
   "metadata": {},
   "cell_type": "markdown",
   "source": "### HS computation from force plates",
   "id": "7526d29fbd15e4c5"
  },
  {
   "metadata": {},
   "cell_type": "raw",
   "source": "we assume HS to happen whenever the vertical GRF exceeds a 20N threshold. We do this for the left side only",
   "id": "d67cea437e5d2054"
  },
  {
   "metadata": {
    "ExecuteTime": {
     "end_time": "2025-03-25T16:18:58.594477Z",
     "start_time": "2025-03-25T16:18:58.582243Z"
    }
   },
   "cell_type": "code",
   "source": [
    "def hs_forceplate(fy):\n",
    "        contact = np.where(fy > 20, 1, 0)\n",
    "        hs = []\n",
    "        to = []\n",
    "\n",
    "        for i in range(1,len(contact)):\n",
    "            if contact[i] == 1 and contact[i - 1] == 0:\n",
    "                hs.append(i)\n",
    "\n",
    "        return np.array(fy.index[hs])"
   ],
   "id": "29f2242445ff6d37",
   "outputs": [],
   "execution_count": 5
  },
  {
   "metadata": {},
   "cell_type": "markdown",
   "source": "### HS computation from video",
   "id": "3abc72b292cc0f0"
  },
  {
   "metadata": {
    "ExecuteTime": {
     "end_time": "2025-03-25T16:46:18.090692Z",
     "start_time": "2025-03-25T16:46:18.078117Z"
    }
   },
   "cell_type": "code",
   "source": [
    "def hs_video(keypoints):\n",
    "    dist = keypoints.left_ankle_x - (keypoints.left_hip_x+ keypoints.right_hip_x)/2\n",
    "    hs_idx, _ = find_peaks(dist, width=15, prominence=50)\n",
    "    hs_v = keypoints.iloc[hs_idx].index\n",
    "    return np.array(hs_v)"
   ],
   "id": "d7902c927ab2acef",
   "outputs": [],
   "execution_count": 39
  },
  {
   "metadata": {},
   "cell_type": "markdown",
   "source": "## Comparison",
   "id": "406dc13940e10fad"
  },
  {
   "metadata": {},
   "cell_type": "raw",
   "source": "we iterate over all trials, compute the force plate events, find the closest HS events from the video data, and store that in a list",
   "id": "aa331fe559409aa0"
  },
  {
   "metadata": {
    "ExecuteTime": {
     "end_time": "2025-03-25T16:39:56.594224Z",
     "start_time": "2025-03-25T16:39:15.503050Z"
    }
   },
   "cell_type": "code",
   "source": [
    "differences = []\n",
    "diff_per_trial = {}\n",
    "\n",
    "for trial in dataset:\n",
    "\n",
    "    try:\n",
    "        forceplate_data = trial.load_force_plate_data(video_framerate=False)\n",
    "    except:\n",
    "        print(\"No force plate data for trial {}\".format(trial))\n",
    "        continue\n",
    "    fy = forceplate_data[\"GRF_y_1\"]\n",
    "    keypoints = trial.load_keypoint_trajectories()\n",
    "\n",
    "\n",
    "    hs_f = hs_forceplate(fy)\n",
    "    hs_v = hs_video(keypoints)\n",
    "\n",
    "    # they will have different lengths --> for the FP HS, get the corresponding video HS\n",
    "    closest_pairs = []\n",
    "    for hs in np.array(hs_f):\n",
    "\n",
    "        closest_hs_v = min(hs_v, key=lambda event_l: abs(event_l - hs))\n",
    "\n",
    "        closest_pairs.append((hs, closest_hs_v))\n",
    "    hs_events = np.array(closest_pairs)\n",
    "\n",
    "    #store in list\n",
    "    differences.append(hs_events)\n"
   ],
   "id": "e8b9269cbb009d2e",
   "outputs": [
    {
     "name": "stdout",
     "output_type": "stream",
     "text": [
      "No force plate data for trial StressGaitDataset [1 groups/rows]\n",
      "\n",
      "     participant condition bout\n",
      "   0       VP_38       omc    1\n",
      "No force plate data for trial StressGaitDataset [1 groups/rows]\n",
      "\n",
      "     participant condition bout\n",
      "   0       VP_43       omc    1\n"
     ]
    }
   ],
   "execution_count": 21
  },
  {
   "metadata": {},
   "cell_type": "raw",
   "source": [
    "compute agreement\n",
    "    - Pearson correlation\n",
    "    - mean absolute error / mean error\n"
   ],
   "id": "6233481f472f3140"
  },
  {
   "metadata": {
    "ExecuteTime": {
     "end_time": "2025-03-25T16:39:58.533754Z",
     "start_time": "2025-03-25T16:39:58.521538Z"
    }
   },
   "cell_type": "code",
   "source": "all_differences  = np.concatenate(differences, axis=0)",
   "id": "800cfc4645e53546",
   "outputs": [],
   "execution_count": 22
  },
  {
   "metadata": {
    "ExecuteTime": {
     "end_time": "2025-03-25T16:39:59.603164Z",
     "start_time": "2025-03-25T16:39:59.589973Z"
    }
   },
   "cell_type": "code",
   "source": [
    "r_pearson = np.corrcoef(all_differences[:, 0], all_differences[:, 1])[0, 1]\n",
    "print(\"Pearson correlation:\", r_pearson)"
   ],
   "id": "2fe6f38b6e8e230b",
   "outputs": [
    {
     "name": "stdout",
     "output_type": "stream",
     "text": [
      "Pearson correlation: 0.9999986933458553\n"
     ]
    }
   ],
   "execution_count": 23
  },
  {
   "metadata": {
    "ExecuteTime": {
     "end_time": "2025-03-25T16:40:00.695774Z",
     "start_time": "2025-03-25T16:40:00.683305Z"
    }
   },
   "cell_type": "code",
   "source": [
    "diff = all_differences[:, 0] - all_differences[:, 1]  #in seconds\n",
    "diff_fr = diff*50 #in frames\n",
    "mae = np.mean(np.abs(diff))\n",
    "rmse = np.sqrt(np.mean(diff**2))\n",
    "me = (np.mean(diff))\n",
    "\n",
    "print(\"MAE:\", mae)\n",
    "print(\"RMSE:\", rmse)\n",
    "print(\"ME:\", me)"
   ],
   "id": "6e9699c96f810547",
   "outputs": [
    {
     "name": "stdout",
     "output_type": "stream",
     "text": [
      "MAE: 0.026863985734489258\n",
      "RMSE: 0.1178799120988959\n",
      "ME: 0.018328045256102713\n"
     ]
    }
   ],
   "execution_count": 24
  },
  {
   "metadata": {},
   "cell_type": "markdown",
   "source": "## Repeat but add a 1 frame offset",
   "id": "1015b41dd2f8ba4d"
  },
  {
   "metadata": {
    "ExecuteTime": {
     "end_time": "2025-03-25T16:47:06.051785Z",
     "start_time": "2025-03-25T16:46:25.991153Z"
    }
   },
   "cell_type": "code",
   "source": [
    "differences = []\n",
    "diff_per_trial = {}\n",
    "\n",
    "for trial in dataset:\n",
    "\n",
    "    try:\n",
    "        forceplate_data = trial.load_force_plate_data(video_framerate=False)\n",
    "    except:\n",
    "        print(\"No force plate data for trial {}\".format(trial))\n",
    "        continue\n",
    "    fy = forceplate_data[\"GRF_y_1\"]\n",
    "    keypoints = trial.load_keypoint_trajectories()\n",
    "\n",
    "\n",
    "    hs_f = hs_forceplate(fy)\n",
    "    hs_v = hs_video(keypoints)\n",
    "\n",
    "    # they will have different lengths --> for the FP HS, get the corresponding video HS\n",
    "    closest_pairs = []\n",
    "    for hs in np.array(hs_f):\n",
    "\n",
    "        closest_hs_v = min(hs_v, key=lambda event_l: abs(event_l - hs))\n",
    "        closest_hs_v +=0.02\n",
    "        closest_pairs.append((hs, closest_hs_v))\n",
    "    hs_events = np.array(closest_pairs)\n",
    "\n",
    "    #store in list\n",
    "    differences.append(hs_events)"
   ],
   "id": "51465aa48883e947",
   "outputs": [
    {
     "name": "stdout",
     "output_type": "stream",
     "text": [
      "No force plate data for trial StressGaitDataset [1 groups/rows]\n",
      "\n",
      "     participant condition bout\n",
      "   0       VP_38       omc    1\n",
      "No force plate data for trial StressGaitDataset [1 groups/rows]\n",
      "\n",
      "     participant condition bout\n",
      "   0       VP_43       omc    1\n"
     ]
    }
   ],
   "execution_count": 40
  },
  {
   "metadata": {
    "ExecuteTime": {
     "end_time": "2025-03-25T16:47:06.064568Z",
     "start_time": "2025-03-25T16:47:06.054521Z"
    }
   },
   "cell_type": "code",
   "source": "all_differences  = np.concatenate(differences, axis=0)",
   "id": "6008251040fedefe",
   "outputs": [],
   "execution_count": 41
  },
  {
   "metadata": {
    "ExecuteTime": {
     "end_time": "2025-03-25T16:47:06.109238Z",
     "start_time": "2025-03-25T16:47:06.101366Z"
    }
   },
   "cell_type": "code",
   "source": [
    "r_pearson = np.corrcoef(all_differences[:, 0], all_differences[:, 1])[0, 1]\n",
    "print(\"Pearson correlation:\", r_pearson)"
   ],
   "id": "626ae1cd6746cc78",
   "outputs": [
    {
     "name": "stdout",
     "output_type": "stream",
     "text": [
      "Pearson correlation: 0.9999987052842167\n"
     ]
    }
   ],
   "execution_count": 42
  },
  {
   "metadata": {
    "ExecuteTime": {
     "end_time": "2025-03-25T16:47:06.210333Z",
     "start_time": "2025-03-25T16:47:06.202320Z"
    }
   },
   "cell_type": "code",
   "source": [
    "diff = all_differences[:, 0] - all_differences[:, 1]  #in seconds\n",
    "diff_fr = diff*50 #in frames\n",
    "mae = np.mean(np.abs(diff))\n",
    "rmse = np.sqrt(np.mean(diff**2))\n",
    "me = (np.mean(diff))\n",
    "\n",
    "print(\"MAE:\", mae)\n",
    "print(\"RMSE:\", rmse)\n",
    "print(\"ME:\", me)"
   ],
   "id": "4b610301c9b939f",
   "outputs": [
    {
     "name": "stdout",
     "output_type": "stream",
     "text": [
      "MAE: 0.026292258500893454\n",
      "RMSE: 0.1159039025585303\n",
      "ME: 7.434052757350586e-05\n"
     ]
    }
   ],
   "execution_count": 43
  },
  {
   "metadata": {
    "ExecuteTime": {
     "end_time": "2025-03-25T16:42:21.953938Z",
     "start_time": "2025-03-25T16:42:21.952148Z"
    }
   },
   "cell_type": "code",
   "source": "",
   "id": "924bcc9a991c290a",
   "outputs": [],
   "execution_count": null
  },
  {
   "metadata": {},
   "cell_type": "code",
   "outputs": [],
   "execution_count": null,
   "source": "",
   "id": "ebafdf5349d39883"
  }
 ],
 "metadata": {
  "kernelspec": {
   "display_name": "Python 3",
   "language": "python",
   "name": "python3"
  },
  "language_info": {
   "codemirror_mode": {
    "name": "ipython",
    "version": 2
   },
   "file_extension": ".py",
   "mimetype": "text/x-python",
   "name": "python",
   "nbconvert_exporter": "python",
   "pygments_lexer": "ipython2",
   "version": "2.7.6"
  }
 },
 "nbformat": 4,
 "nbformat_minor": 5
}

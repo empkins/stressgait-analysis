{
 "cells": [
  {
   "cell_type": "markdown",
   "metadata": {
    "cell_marker": "\"\"\""
   },
   "source": [
    "# StressGait Analysis - Saliva & Self-Reports"
   ]
  },
  {
   "cell_type": "markdown",
   "metadata": {},
   "source": [
    "## Setup and Helper Functions"
   ]
  },
  {
   "cell_type": "code",
   "execution_count": null,
   "metadata": {
    "jupyter": {
     "is_executing": true
    }
   },
   "outputs": [],
   "source": [
    "import json\n",
    "from pathlib import Path\n",
    "\n",
    "import biopsykit as bp\n",
    "import matplotlib.pyplot as plt\n",
    "import pandas as pd\n",
    "import pingouin as pg\n",
    "import seaborn as sns\n",
    "from biopsykit.stats import StatsPipeline\n",
    "from fau_colors import cmaps, register_fausans_font\n",
    "\n",
    "from IPython.display import Markdown\n",
    "\n",
    "from stressgait_analysis.dataset import StressGaitDataset\n",
    "\n",
    "%matplotlib widget\n",
    "%load_ext autoreload\n",
    "%autoreload 2"
   ]
  },
  {
   "cell_type": "code",
   "execution_count": null,
   "metadata": {},
   "outputs": [],
   "source": [
    "register_fausans_font()\n",
    "plt.close(\"all\")\n",
    "\n",
    "palette = sns.color_palette(cmaps.faculties_light)\n",
    "sns.set_theme(context=\"notebook\", style=\"ticks\", font=\"sans-serif\", palette=palette)\n",
    "\n",
    "plt.rcParams[\"figure.figsize\"] = (10, 5)\n",
    "plt.rcParams[\"pdf.fonttype\"] = 42\n",
    "plt.rcParams[\"mathtext.default\"] = \"regular\"\n",
    "plt.rcParams[\"font.family\"] = \"sans-serif\"\n",
    "plt.rcParams[\"font.sans-serif\"] = \"FAUSans Office\"\n",
    "\n",
    "palette"
   ]
  },
  {
   "cell_type": "code",
   "execution_count": null,
   "metadata": {},
   "outputs": [],
   "source": [
    "deploy_type = \"local\"\n",
    "\n",
    "config_dict = json.load(Path(\"../../config.json\").open(encoding=\"utf-8\"))\n",
    "\n",
    "base_path = Path(config_dict[deploy_type][\"base_path\"])\n",
    "base_path"
   ]
  },
  {
   "cell_type": "code",
   "execution_count": null,
   "metadata": {},
   "outputs": [],
   "source": [
    "export_path = Path(\"../../exports\")\n",
    "plot_path = export_path.joinpath(\"plots\")\n",
    "bp.utils.file_handling.mkdirs([export_path, plot_path])\n",
    "\n",
    "export_path"
   ]
  },
  {
   "cell_type": "code",
   "execution_count": null,
   "metadata": {},
   "outputs": [],
   "source": [
    "dataset = StressGaitDataset(base_path, coarse_condition=True)\n",
    "dataset"
   ]
  },
  {
   "cell_type": "code",
   "execution_count": null,
   "metadata": {},
   "outputs": [],
   "source": [
    "order = [\"Control\", \"OMC\"]\n",
    "hue_order = [\"Control\", \"OMC\"]"
   ]
  },
  {
   "cell_type": "code",
   "execution_count": null,
   "metadata": {},
   "outputs": [],
   "source": [
    "cortisol_samples = dataset.cortisol#.unstack().head()\n",
    "cortisol_samples"
   ]
  },
  {
   "cell_type": "markdown",
   "metadata": {},
   "source": [
    "## Compute S0S1 Increase"
   ]
  },
  {
   "cell_type": "markdown",
   "metadata": {},
   "source": [
    "The S0-S1 increase is computed as absolute increase (in nmol/l) and as increase relative to S0 (in percent)."
   ]
  },
  {
   "cell_type": "code",
   "execution_count": null,
   "metadata": {},
   "outputs": [],
   "source": [
    "s0s1_inc = dataset.cortisol.reindex([\"S0\", \"S1\"], level=\"sample\").unstack().diff(axis=1).dropna(axis=1, how=\"all\")\n",
    "s0s1_inc_percent = (s0s1_inc / dataset.cortisol.xs(\"S0\", level=\"sample\").values) * 100\n",
    "\n",
    "s0s1_inc.columns = pd.MultiIndex.from_tuples([(\"cortisol\", \"inc_S0S1\")], names=[None, \"saliva_feature\"])\n",
    "s0s1_inc_percent.columns = pd.MultiIndex.from_tuples([(\"cortisol\", \"inc_S0S1_percent\")], names=[None, \"saliva_feature\"])\n",
    "\n",
    "s0s1_inc.head()"
   ]
  },
  {
   "cell_type": "code",
   "execution_count": null,
   "metadata": {},
   "outputs": [],
   "source": [
    "cortisol_features = dataset.cortisol_features.unstack().join(s0s1_inc).join(s0s1_inc_percent)\n",
    "cortisol_features = cortisol_features.stack(future_stack=True)\n",
    "cortisol_features.unstack().head()"
   ]
  },
  {
   "cell_type": "code",
   "execution_count": null,
   "metadata": {},
   "outputs": [],
   "source": [
    "cortisol_normalized = (dataset.cortisol.unstack() - dataset.cortisol.unstack()[[(\"cortisol\", \"S0\")]].values).stack(\n",
    "    future_stack=True\n",
    ")\n",
    "cortisol_normalized.unstack().head()"
   ]
  },
  {
   "cell_type": "markdown",
   "metadata": {},
   "source": [
    "## Results"
   ]
  },
  {
   "cell_type": "markdown",
   "metadata": {},
   "source": [
    "### Cortisol Trajectories"
   ]
  },
  {
   "cell_type": "markdown",
   "metadata": {},
   "source": [
    "#### Statistics"
   ]
  },
  {
   "cell_type": "code",
   "execution_count": null,
   "metadata": {},
   "outputs": [],
   "source": [
    "pipeline = StatsPipeline(\n",
    "    steps=[(\"prep\", \"normality\"), (\"test\", \"mixed_anova\"), (\"posthoc\", \"pairwise_tests\")],\n",
    "    params={\n",
    "        \"dv\": \"cortisol\",\n",
    "        \"subject\": \"subject\",\n",
    "        \"within\": \"sample\",\n",
    "        \"between\": \"condition\",\n",
    "        \"parametric\": False,\n",
    "        \"multicomp\": {\"method\": \"bonf\", \"levels\": True},\n",
    "    },\n",
    ")\n",
    "\n",
    "pipeline.apply(dataset.cortisol)\n",
    "\n",
    "pipeline.display_results()"
   ]
  },
  {
   "cell_type": "markdown",
   "metadata": {},
   "source": [
    "#### Absolute"
   ]
  },
  {
   "cell_type": "code",
   "execution_count": null,
   "metadata": {},
   "outputs": [],
   "source": [
    "fig, ax = plt.subplots()\n",
    "\n",
    "bp.protocols.plotting.saliva_plot(\n",
    "    data=dataset.cortisol,\n",
    "    saliva_type=\"cortisol\",\n",
    "    sample_times=[0, 1, 1.5, 2, 4, 5],\n",
    "    test_times=[1, 2],\n",
    "    test_title=\"Gait Tests\",\n",
    "    sample_times_absolute=True,\n",
    "    x_offset=0,\n",
    "    ax=ax,\n",
    ")\n",
    "ax.set_ylim([2, 6])\n",
    "ax.set_xticklabels([f\"S{i}\" for i in range(0, 6)])\n",
    "ax.set_xlabel(\"Sample ID\")\n",
    "\n",
    "fig.tight_layout()\n",
    "fig.savefig(plot_path.joinpath(\"img_cortisol_response_absolute_sample_ids.pdf\"), transparent=True)"
   ]
  },
  {
   "cell_type": "code",
   "execution_count": null,
   "metadata": {},
   "outputs": [],
   "source": [
    "fig, ax = plt.subplots()\n",
    "\n",
    "bp.protocols.plotting.saliva_plot(\n",
    "    data=dataset.cortisol,\n",
    "    saliva_type=\"cortisol\",\n",
    "    sample_times=dataset.sample_times,\n",
    "    test_times=[30, 38],\n",
    "    test_title=\"Gait Tests\",\n",
    "    sample_times_absolute=True,\n",
    "    x_offset=0,\n",
    "    ax=ax,\n",
    ")\n",
    "ax.set_ylim([2, 6])\n",
    "\n",
    "fig.tight_layout()\n",
    "fig.savefig(plot_path.joinpath(\"img_cortisol_response_absolute_times.pdf\"), transparent=True)"
   ]
  },
  {
   "cell_type": "markdown",
   "metadata": {},
   "source": [
    "#### Increase to S0"
   ]
  },
  {
   "cell_type": "code",
   "execution_count": null,
   "metadata": {},
   "outputs": [],
   "source": [
    "fig, ax = plt.subplots()\n",
    "\n",
    "bp.protocols.plotting.saliva_plot(\n",
    "    data=cortisol_normalized,\n",
    "    saliva_type=\"cortisol\",\n",
    "    sample_times=[0, 1, 1.5, 2, 4, 5],\n",
    "    test_times=[1, 2],\n",
    "    test_title=\"Gait Tests\",\n",
    "    sample_times_absolute=True,\n",
    "    x_offset=0,\n",
    "    ax=ax,\n",
    ")\n",
    "ax.set_ylim([-1.1, 1.75])\n",
    "ax.set_xticklabels([f\"S{i}\" for i in range(0, 6)])\n",
    "ax.set_xlabel(\"Sample ID\")\n",
    "ax.set_ylabel(\"Cortisol Increase to S0 [nmol/l]\")\n",
    "\n",
    "fig.tight_layout()\n",
    "fig.savefig(plot_path.joinpath(\"img_cortisol_response_normalized_sample_ids.pdf\"), transparent=True)"
   ]
  },
  {
   "cell_type": "code",
   "execution_count": null,
   "metadata": {},
   "outputs": [],
   "source": [
    "fig, ax = plt.subplots()\n",
    "\n",
    "bp.protocols.plotting.saliva_plot(\n",
    "    data=cortisol_normalized,\n",
    "    saliva_type=\"cortisol\",\n",
    "    sample_times=dataset.sample_times,\n",
    "    test_times=[30, 38],\n",
    "    test_title=\"Gait Tests\",\n",
    "    sample_times_absolute=True,\n",
    "    x_offset=0,\n",
    "    ax=ax,\n",
    ")\n",
    "\n",
    "ax.set_ylim([-1.1, 1.75])\n",
    "ax.set_ylabel(\"Cortisol Increase to S0 [nmol/l]\")\n",
    "\n",
    "fig.tight_layout()\n",
    "fig.savefig(plot_path.joinpath(\"img_cortisol_response_normalized_times.pdf\"), transparent=True)"
   ]
  },
  {
   "cell_type": "code",
   "execution_count": null,
   "metadata": {},
   "outputs": [],
   "source": [
    "fig, ax = plt.subplots()\n",
    "\n",
    "bp.protocols.plotting.saliva_plot(\n",
    "    data=dataset.cortisol,\n",
    "    saliva_type=\"cortisol\",\n",
    "    sample_times=[0, 1, 1.5, 2, 4, 5],\n",
    "    test_times=[1, 2],\n",
    "    test_title=\"Gait Tests\",\n",
    "    sample_times_absolute=True,\n",
    "    x_offset=0,\n",
    "    ax=ax,\n",
    ")\n",
    "ax.set_ylim([2, 6])\n",
    "ax.set_xticklabels([f\"S{i}\" for i in range(0, 6)])\n",
    "ax.set_xlabel(\"Sample ID\")\n",
    "\n",
    "fig.tight_layout()\n",
    "fig.savefig(plot_path.joinpath(\"img_cortisol_response_absolute_sample_ids.pdf\"), transparent=True)"
   ]
  },
  {
   "cell_type": "markdown",
   "metadata": {},
   "source": [
    "#### Boxplot of Individual Cortisol Samples"
   ]
  },
  {
   "cell_type": "code",
   "execution_count": null,
   "metadata": {},
   "outputs": [],
   "source": [
    "fig, ax = plt.subplots()\n",
    "\n",
    "sns.boxplot(data=dataset.cortisol.reset_index(), x=\"sample\", y=\"cortisol\", hue=\"condition\", hue_order=hue_order, ax=ax)\n",
    "sns.swarmplot(\n",
    "    data=dataset.cortisol.reset_index(),\n",
    "    x=\"sample\",\n",
    "    y=\"cortisol\",\n",
    "    hue=\"condition\",\n",
    "    hue_order=hue_order,\n",
    "    ax=ax,\n",
    "    palette=cmaps.faculties[:2],\n",
    "    dodge=True,\n",
    "    legend=False,\n",
    ")\n",
    "\n",
    "ax.set_ylabel(\"Cortisol [nmol/l]\")\n",
    "\n",
    "fig.tight_layout()\n",
    "fig.savefig(plot_path.joinpath(\"img_boxplot_cortisol_samples.pdf\"), transparent=True)"
   ]
  },
  {
   "cell_type": "markdown",
   "metadata": {},
   "source": [
    "#### Individual Cortisol Trajectories"
   ]
  },
  {
   "cell_type": "code",
   "execution_count": null,
   "metadata": {},
   "outputs": [],
   "source": [
    "fig, axs = plt.subplots(figsize=(12, 5), ncols=2, sharey=True)\n",
    "\n",
    "dataset.cortisol.unstack()[\"cortisol\"].xs(\"Control\", level=\"condition\").T.plot(ax=axs[0], legend=False, title=\"Control\")\n",
    "dataset.cortisol.unstack()[\"cortisol\"].xs(\"OMC\", level=\"condition\").T.plot(ax=axs[1], legend=False, title=\"OMC\")\n",
    "\n",
    "axs[0].set_ylabel(\"Cortisol [nmol/l]\")\n",
    "\n",
    "# sns.lineplot(data=dataset.cortisol.reset_index(), x=\"sample\", y=\"cortisol\", ax=ax)\n",
    "\n",
    "fig.tight_layout()"
   ]
  },
  {
   "cell_type": "markdown",
   "metadata": {},
   "source": [
    "### Cortisol Features"
   ]
  },
  {
   "cell_type": "markdown",
   "metadata": {},
   "source": [
    "#### Mean and Standard Deviation per Condition"
   ]
  },
  {
   "cell_type": "code",
   "execution_count": null,
   "metadata": {},
   "outputs": [],
   "source": [
    "cortisol_features_agg = cortisol_features.groupby([\"condition\", \"saliva_feature\"]).agg([\"mean\", \"std\"]).unstack(\"condition\")\n",
    "cortisol_features_agg = cortisol_features_agg.reorder_levels([0, 2, 1], axis=1).sort_index(axis=1)\n",
    "cortisol_features_agg"
   ]
  },
  {
   "cell_type": "markdown",
   "metadata": {},
   "source": [
    "#### Statistical Analyses"
   ]
  },
  {
   "cell_type": "code",
   "execution_count": null,
   "metadata": {},
   "outputs": [],
   "source": [
    "cortisol_features_to_analyze = [\"inc_S0S1\", \"inc_S0S1_percent\", \"max_inc_percent\", \"auc_i\"]"
   ]
  },
  {
   "cell_type": "code",
   "execution_count": null,
   "metadata": {},
   "outputs": [],
   "source": [
    "cortisol_features_analysis = cortisol_features.reindex(cortisol_features_to_analyze, level=\"saliva_feature\")\n",
    "cortisol_features_analysis.unstack().head()"
   ]
  },
  {
   "cell_type": "code",
   "execution_count": null,
   "metadata": {},
   "outputs": [],
   "source": [
    "pipeline = StatsPipeline(\n",
    "    steps=[(\"prep\", \"normality\"), (\"test\", \"pairwise_tests\")],\n",
    "        params={\n",
    "            \"dv\": \"cortisol\",\n",
    "            \"subject\": \"subject\",\n",
    "            \"between\": \"condition\",\n",
    "            \"parametric\": False,\n",
    "            \"multicomp\": {\"method\": \"bonf\", \"levels\": True},\n",
    "            \"groupby\": \"saliva_feature\"\n",
    "        },\n",
    "    )\n",
    "\n",
    "pipeline.apply(cortisol_features_analysis)\n",
    "pipeline.display_results()"
   ]
  },
  {
   "cell_type": "markdown",
   "metadata": {},
   "source": [
    "#### Plots"
   ]
  },
  {
   "cell_type": "code",
   "execution_count": null,
   "metadata": {},
   "outputs": [],
   "source": [
    "fig, axs = plt.subplots(ncols=4)\n",
    "\n",
    "for key, ax in zip([\"inc_S0S1\", \"inc_S0S1_percent\", \"max_inc_percent\", \"auc_i\"], axs, strict=False):\n",
    "    data_slice = cortisol_features.xs(key, level=\"saliva_feature\")\n",
    "    sns.boxplot(\n",
    "        data=data_slice.reset_index(), x=\"condition\", y=\"cortisol\", hue=\"condition\", order=order, ax=ax, showmeans=True\n",
    "    )\n",
    "\n",
    "    ax.set_title(key)\n",
    "\n",
    "fig.tight_layout()\n",
    "fig.savefig(plot_path.joinpath(\"img_boxplot_cortisol_features.pdf\"), transparent=True)"
   ]
  },
  {
   "cell_type": "markdown",
   "metadata": {},
   "source": [
    "### Analysis Responder vs. Non-Responder"
   ]
  },
  {
   "cell_type": "markdown",
   "metadata": {},
   "source": [
    "#### Considering S0S1 increase"
   ]
  },
  {
   "cell_type": "code",
   "execution_count": null,
   "metadata": {},
   "outputs": [],
   "source": [
    "responder_list = cortisol_features.xs(\"inc_S0S1\", level=\"saliva_feature\") > 1.5\n",
    "\n",
    "# display(responder_list)\n",
    "\n",
    "pd.DataFrame(responder_list[\"cortisol\"].groupby(\"condition\").value_counts())"
   ]
  },
  {
   "cell_type": "markdown",
   "metadata": {},
   "source": [
    "#### Considering Maximum increase"
   ]
  },
  {
   "cell_type": "code",
   "execution_count": null,
   "metadata": {},
   "outputs": [],
   "source": [
    "responder_list = cortisol_features.xs(\"max_inc_percent\", level=\"saliva_feature\") > 1.5\n",
    "\n",
    "# display(responder_list)\n",
    "\n",
    "pd.DataFrame(responder_list[\"cortisol\"].groupby(\"condition\").value_counts())"
   ]
  },
  {
   "cell_type": "code",
   "execution_count": null,
   "metadata": {},
   "outputs": [],
   "source": []
  }
 ],
 "metadata": {
  "jupytext": {
   "encoding": "# -*- coding: utf-8 -*-",
   "text_representation": {
    "extension": ".py",
    "format_name": "sphinx",
    "format_version": "1.1",
    "jupytext_version": "1.13.0"
   }
  },
  "kernelspec": {
   "display_name": "stressgait_analysis",
   "language": "python",
   "name": "stressgait_analysis"
  },
  "language_info": {
   "codemirror_mode": {
    "name": "ipython",
    "version": 3
   },
   "file_extension": ".py",
   "mimetype": "text/x-python",
   "name": "python",
   "nbconvert_exporter": "python",
   "pygments_lexer": "ipython3",
   "version": "3.10.14"
  },
  "toc-showtags": false,
  "vscode": {
   "interpreter": {
    "hash": "7014e6a8beff3a47c7c0424a6c63a486addc0ee3d12468bf1ae9a85a56cca70c"
   }
  }
 },
 "nbformat": 4,
 "nbformat_minor": 4
}

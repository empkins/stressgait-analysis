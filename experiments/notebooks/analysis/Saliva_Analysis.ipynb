{
 "cells": [
  {
   "cell_type": "code",
   "execution_count": null,
   "metadata": {
    "ExecuteTime": {
     "end_time": "2025-06-23T11:09:43.204877Z",
     "start_time": "2025-06-23T11:09:43.190321Z"
    }
   },
   "outputs": [],
   "source": [
    "import json\n",
    "from pathlib import Path\n",
    "\n",
    "import biopsykit as bp\n",
    "import matplotlib.pyplot as plt\n",
    "import pandas as pd\n",
    "import pingouin as pg\n",
    "import seaborn as sns\n",
    "from biopsykit.stats import StatsPipeline\n",
    "from fau_colors.v2021 import register_cmaps\n",
    "\n",
    "from IPython.display import Markdown\n",
    "\n",
    "from stressgait_analysis.dataset import StressGaitDataset\n",
    "\n",
    "%matplotlib widget\n",
    "%load_ext autoreload\n",
    "%autoreload 2"
   ]
  },
  {
   "cell_type": "code",
   "execution_count": null,
   "metadata": {
    "ExecuteTime": {
     "end_time": "2025-06-23T10:42:43.068796Z",
     "start_time": "2025-06-23T10:42:42.567753Z"
    }
   },
   "outputs": [],
   "source": [
    "plt.close(\"all\")\n",
    "register_cmaps()\n",
    "palette = sns.color_palette(\"faculties_light\")\n",
    "sns.set_theme(context=\"notebook\", style=\"ticks\", font=\"sans-serif\", palette=palette)\n",
    "\n",
    "plt.rcParams[\"figure.figsize\"] = (10, 5)\n",
    "plt.rcParams[\"pdf.fonttype\"] = 42\n",
    "plt.rcParams[\"mathtext.default\"] = \"regular\"\n",
    "plt.rcParams[\"font.family\"] = \"sans-serif\"\n",
    "#plt.rcParams[\"font.sans-serif\"] = \"FAUSans Office\"\n",
    "\n",
    "palette\n",
    "\n",
    "controls_color = sns.color_palette(\"wiso\")[1]\n",
    "omc_color = sns.color_palette(\"med_dark\")[1]\n",
    "\n",
    "stressgait_palette = {\n",
    "    \"OMC\": omc_color,\n",
    "    \"Control\": controls_color\n",
    "}\n",
    "stressgait = [controls_color, omc_color]\n"
   ]
  },
  {
   "cell_type": "code",
   "execution_count": null,
   "metadata": {
    "ExecuteTime": {
     "end_time": "2025-06-23T10:42:43.148581Z",
     "start_time": "2025-06-23T10:42:43.137372Z"
    }
   },
   "outputs": [],
   "source": [
    "deploy_type = \"local\"\n",
    "\n",
    "config_dict = json.load(Path(\"../../config.json\").open(encoding=\"utf-8\"))\n",
    "\n",
    "base_path = Path(config_dict[deploy_type][\"base_path\"])\n",
    "base_path"
   ]
  },
  {
   "cell_type": "code",
   "execution_count": null,
   "metadata": {
    "ExecuteTime": {
     "end_time": "2025-06-23T10:42:43.205057Z",
     "start_time": "2025-06-23T10:42:43.192022Z"
    }
   },
   "outputs": [],
   "source": [
    "export_path = Path(\"../../exports\")\n",
    "plot_path = export_path.joinpath(\"plots\")\n",
    "bp.utils.file_handling.mkdirs([export_path, plot_path])\n",
    "\n",
    "export_path"
   ]
  },
  {
   "cell_type": "markdown",
   "metadata": {},
   "source": [
    "# Feature computation"
   ]
  },
  {
   "cell_type": "code",
   "execution_count": null,
   "metadata": {
    "ExecuteTime": {
     "end_time": "2025-06-23T10:42:43.248511Z",
     "start_time": "2025-06-23T10:42:43.237804Z"
    }
   },
   "outputs": [],
   "source": [
    "dataset = StressGaitDataset(base_path, coarse_condition=True)"
   ]
  },
  {
   "cell_type": "code",
   "execution_count": null,
   "metadata": {
    "ExecuteTime": {
     "end_time": "2025-06-23T10:42:43.295706Z",
     "start_time": "2025-06-23T10:42:43.286726Z"
    }
   },
   "outputs": [],
   "source": [
    "order = [\"Control\", \"OMC\"]\n",
    "hue_order = [\"Control\", \"OMC\"]"
   ]
  },
  {
   "cell_type": "code",
   "execution_count": null,
   "metadata": {
    "ExecuteTime": {
     "end_time": "2025-06-23T10:42:43.357954Z",
     "start_time": "2025-06-23T10:42:43.336030Z"
    }
   },
   "outputs": [],
   "source": [
    "cortisol_samples = dataset.cortisol#.unstack().head()\n",
    "cortisol_samples.head()"
   ]
  },
  {
   "cell_type": "markdown",
   "metadata": {},
   "source": [
    "## Compute S0S1 Increase"
   ]
  },
  {
   "cell_type": "markdown",
   "metadata": {},
   "source": [
    "The S0-S1 increase is computed as absolute increase (in nmol/l) and as increase relative to S0 (in percent)."
   ]
  },
  {
   "cell_type": "code",
   "execution_count": null,
   "metadata": {
    "ExecuteTime": {
     "end_time": "2025-06-23T10:42:43.421076Z",
     "start_time": "2025-06-23T10:42:43.401506Z"
    }
   },
   "outputs": [],
   "source": [
    "s0s1_inc = dataset.cortisol.reindex([\"S0\", \"S1\"], level=\"sample\").unstack().diff(axis=1).dropna(axis=1, how=\"all\")\n",
    "s0s1_inc_percent = (s0s1_inc / dataset.cortisol.xs(\"S0\", level=\"sample\").values) * 100\n",
    "\n",
    "s0s1_inc.columns = pd.MultiIndex.from_tuples([(\"cortisol\", \"inc_S0S1\")], names=[None, \"saliva_feature\"])\n",
    "s0s1_inc_percent.columns = pd.MultiIndex.from_tuples([(\"cortisol\", \"inc_S0S1_percent\")], names=[None, \"saliva_feature\"])\n",
    "\n",
    "len(s0s1_inc)"
   ]
  },
  {
   "cell_type": "code",
   "execution_count": null,
   "metadata": {
    "ExecuteTime": {
     "end_time": "2025-06-23T10:42:43.487934Z",
     "start_time": "2025-06-23T10:42:43.463543Z"
    }
   },
   "outputs": [],
   "source": [
    "cortisol_features = dataset.cortisol_features.unstack().join(s0s1_inc).join(s0s1_inc_percent)\n",
    "cortisol_features = cortisol_features.stack(future_stack=True)\n",
    "cortisol_features.unstack()"
   ]
  },
  {
   "cell_type": "code",
   "execution_count": null,
   "metadata": {
    "ExecuteTime": {
     "end_time": "2025-06-23T10:42:43.547141Z",
     "start_time": "2025-06-23T10:42:43.534831Z"
    }
   },
   "outputs": [],
   "source": [
    "cortisol_features.groupby([\"condition\", \"saliva_feature\"]).mean()"
   ]
  },
  {
   "cell_type": "code",
   "execution_count": null,
   "metadata": {
    "ExecuteTime": {
     "end_time": "2025-06-23T10:42:43.612660Z",
     "start_time": "2025-06-23T10:42:43.599672Z"
    }
   },
   "outputs": [],
   "source": [
    "cortisol_features.groupby([\"condition\", \"saliva_feature\"]).std()\n"
   ]
  },
  {
   "cell_type": "code",
   "execution_count": null,
   "metadata": {
    "ExecuteTime": {
     "end_time": "2025-06-23T10:42:43.696502Z",
     "start_time": "2025-06-23T10:42:43.672757Z"
    }
   },
   "outputs": [],
   "source": [
    "cortisol_normalized = (dataset.cortisol.unstack() - dataset.cortisol.unstack()[[(\"cortisol\", \"S0\")]].values).stack(\n",
    "    future_stack=True\n",
    ")\n",
    "cortisol_normalized.unstack().head()"
   ]
  },
  {
   "cell_type": "markdown",
   "metadata": {},
   "source": [
    "# Results"
   ]
  },
  {
   "cell_type": "markdown",
   "metadata": {},
   "source": [
    "## Paper"
   ]
  },
  {
   "cell_type": "markdown",
   "metadata": {},
   "source": [
    "### Cortisol Features"
   ]
  },
  {
   "cell_type": "markdown",
   "metadata": {},
   "source": [
    "#### Mean and Standard Deviation per Condition"
   ]
  },
  {
   "cell_type": "code",
   "execution_count": null,
   "metadata": {
    "ExecuteTime": {
     "end_time": "2025-06-23T10:42:43.778324Z",
     "start_time": "2025-06-23T10:42:43.762694Z"
    }
   },
   "outputs": [],
   "source": [
    "cortisol_features_agg = cortisol_features.groupby([\"condition\", \"saliva_feature\"]).agg([\"mean\", \"std\"]).unstack(\"condition\")\n",
    "cortisol_features_agg = cortisol_features_agg.reorder_levels([0, 2, 1], axis=1).sort_index(axis=1)\n",
    "cortisol_features_agg"
   ]
  },
  {
   "cell_type": "markdown",
   "metadata": {},
   "source": [
    "#### Statistical Analyses"
   ]
  },
  {
   "cell_type": "code",
   "execution_count": null,
   "metadata": {
    "ExecuteTime": {
     "end_time": "2025-06-23T10:42:43.911636Z",
     "start_time": "2025-06-23T10:42:43.835440Z"
    }
   },
   "outputs": [],
   "source": [
    "pipeline = StatsPipeline(\n",
    "    steps=[(\"prep\", \"normality\"), (\"test\", \"mixed_anova\"), (\"posthoc\", \"pairwise_tests\")],\n",
    "    params={\n",
    "        \"dv\": \"cortisol\",\n",
    "        \"subject\": \"subject\",\n",
    "        \"within\": \"sample\",\n",
    "        \"between\": \"condition\",\n",
    "        \"parametric\": False,\n",
    "        \"multicomp\": {\"method\": \"bonf\", \"levels\": True},\n",
    "    },\n",
    ")\n",
    "\n",
    "pipeline.apply(cortisol_normalized)\n",
    "\n",
    "pipeline.display_results()"
   ]
  },
  {
   "cell_type": "code",
   "execution_count": null,
   "metadata": {
    "ExecuteTime": {
     "end_time": "2025-06-23T10:42:44.096333Z",
     "start_time": "2025-06-23T10:42:44.081394Z"
    }
   },
   "outputs": [],
   "source": [
    "cortisol_features_to_analyze = [\"inc_S0S1\", \"max_inc\", \"max_inc_percent\", \"auc_i\"]"
   ]
  },
  {
   "cell_type": "code",
   "execution_count": null,
   "metadata": {
    "ExecuteTime": {
     "end_time": "2025-06-23T10:42:44.247475Z",
     "start_time": "2025-06-23T10:42:44.229489Z"
    }
   },
   "outputs": [],
   "source": [
    "cortisol_features_analysis = cortisol_features.reindex(cortisol_features_to_analyze, level=\"saliva_feature\")\n",
    "cortisol_features_analysis.unstack().head()"
   ]
  },
  {
   "cell_type": "code",
   "execution_count": null,
   "metadata": {
    "ExecuteTime": {
     "end_time": "2025-06-23T10:42:44.311299Z",
     "start_time": "2025-06-23T10:42:44.299051Z"
    }
   },
   "outputs": [],
   "source": [
    "cortisol_features_analysis = cortisol_features.reindex(cortisol_features_to_analyze, level=\"saliva_feature\")\n",
    "cortisol_features_analysis.unstack().mean()"
   ]
  },
  {
   "cell_type": "code",
   "execution_count": null,
   "metadata": {
    "ExecuteTime": {
     "end_time": "2025-06-23T10:42:44.415032Z",
     "start_time": "2025-06-23T10:42:44.372809Z"
    }
   },
   "outputs": [],
   "source": [
    "pipeline = StatsPipeline(\n",
    "    steps=[(\"prep\", \"normality\"), (\"test\", \"pairwise_tests\")],\n",
    "        params={\n",
    "            \"dv\": \"cortisol\",\n",
    "            \"subject\": \"subject\",\n",
    "            \"between\": \"condition\",\n",
    "            \"parametric\": False,\n",
    "            \"multicomp\": {\"method\": \"bonf\", \"levels\": True},\n",
    "            \"groupby\": \"saliva_feature\"\n",
    "        },\n",
    "    )\n",
    "\n",
    "pipeline.apply(cortisol_features_analysis)\n",
    "pipeline.display_results()"
   ]
  },
  {
   "cell_type": "code",
   "execution_count": null,
   "metadata": {
    "ExecuteTime": {
     "end_time": "2025-06-23T10:42:44.592588Z",
     "start_time": "2025-06-23T10:42:44.579537Z"
    }
   },
   "outputs": [],
   "source": [
    "controls_color = sns.color_palette(\"wiso\")[2]\n",
    "omc_color = sns.color_palette(\"med_dark\")[2]\n",
    "\n",
    "stressgait2 = {\n",
    "    \"OMC\": omc_color,\n",
    "    \"Control\": controls_color\n",
    "}"
   ]
  },
  {
   "cell_type": "code",
   "execution_count": null,
   "metadata": {
    "ExecuteTime": {
     "end_time": "2025-06-23T10:42:45.059543Z",
     "start_time": "2025-06-23T10:42:44.650790Z"
    }
   },
   "outputs": [],
   "source": [
    "fig, (ax, ax1) = plt.subplots(ncols=2, figsize=(12,5),gridspec_kw={'width_ratios': [4, 1]})\n",
    "\n",
    "bp.protocols.plotting.saliva_plot(\n",
    "    data=cortisol_normalized,\n",
    "    saliva_type=\"cortisol\",\n",
    "    sample_times=[0, 1, 1.5, 2, 3.5, 4.5],\n",
    "    test_times=[1, 2],\n",
    "    test_title=\"Walking bouts\",\n",
    "    sample_times_absolute=True,\n",
    "    x_offset=0,\n",
    "    ax=ax,\n",
    "    palette=stressgait\n",
    ")\n",
    "ax.set_ylim([-1.1, 1.75])\n",
    "ax.set_xticklabels([f\"S{i}\" for i in range(0, 6)])\n",
    "ax.set_xlabel(\"Sample ID\")\n",
    "ax.set_ylabel(\"Cortisol increase to S0 [nmol/l]\")\n",
    "#ax1.axhline(y=1.5, linestyle=\"--\", color=\"black\", linewidth=1)\n",
    "\n",
    "sns.boxplot(data =cortisol_features.xs(\"max_inc\",level=\"saliva_feature\").reset_index(), ax=ax1, palette=stressgait_palette, x=\"condition\", y=\"cortisol\", hue=\"condition\", order=order,showmeans=True, showfliers=True, meanprops={\"marker\":\"^\"})\n",
    "for line in ax1.lines:\n",
    "    if line.get_marker() == '^':  # Only move the triangle markers\n",
    "        xdata, ydata = line.get_data()\n",
    "        xdata_shifted = xdata + 0.3  # Move right by 0.1 (adjust as needed)\n",
    "        line.set_data(xdata_shifted, ydata)\n",
    "sns.swarmplot(data =cortisol_features.xs(\"max_inc\",level=\"saliva_feature\").reset_index(), ax=ax1, palette=stressgait2, x=\"condition\", y=\"cortisol\",  hue=\"condition\", order=order, dodge=False,size=7)\n",
    "ax1.set_ylabel(\"Max. cortisol increase Δc [nmol/l]\")\n",
    "ax.text(0.98, 0.96, 'a', transform = ax.transAxes, fontsize=16, fontweight='bold', va='top', ha='right')\n",
    "ax1.text(0.08, 0.96, 'b', transform = ax1.transAxes, fontsize=16, fontweight='bold', va='top', ha='left')\n",
    "\n",
    "fig.tight_layout()\n",
    "fig.savefig(plot_path.joinpath(\"cortisol_plot_paper.svg\"), transparent=True)\n",
    "fig.savefig(plot_path.joinpath(\"cortisol_plot_paper.pdf\"), transparent=True)"
   ]
  },
  {
   "cell_type": "markdown",
   "metadata": {},
   "source": [
    "## Additional "
   ]
  },
  {
   "cell_type": "code",
   "execution_count": null,
   "metadata": {
    "ExecuteTime": {
     "end_time": "2025-06-23T10:42:45.154345Z",
     "start_time": "2025-06-23T10:42:45.077594Z"
    }
   },
   "outputs": [],
   "source": [
    "pipeline = StatsPipeline(\n",
    "    steps=[(\"prep\", \"normality\"), (\"test\", \"mixed_anova\"), (\"posthoc\", \"pairwise_tests\")],\n",
    "    params={\n",
    "        \"dv\": \"cortisol\",\n",
    "        \"subject\": \"subject\",\n",
    "        \"within\": \"sample\",\n",
    "        \"between\": \"condition\",\n",
    "        \"parametric\": False,\n",
    "        \"multicomp\": {\"method\": \"bonf\", \"levels\": True},\n",
    "    },\n",
    ")\n",
    "\n",
    "pipeline.apply(dataset.cortisol)\n",
    "\n",
    "pipeline.display_results()"
   ]
  },
  {
   "cell_type": "code",
   "execution_count": null,
   "metadata": {
    "ExecuteTime": {
     "end_time": "2025-06-23T10:42:45.433456Z",
     "start_time": "2025-06-23T10:42:45.318332Z"
    }
   },
   "outputs": [],
   "source": [
    "fig, ax = plt.subplots()\n",
    "\n",
    "bp.protocols.plotting.saliva_plot(\n",
    "    data=dataset.cortisol,\n",
    "    saliva_type=\"cortisol\",\n",
    "    sample_times=[0, 1, 1.5, 2, 4, 5],\n",
    "    test_times=[1, 2],\n",
    "    test_title=\"Gait Tests\",\n",
    "    sample_times_absolute=True,\n",
    "    x_offset=0,\n",
    "    ax=ax,\n",
    "    palette=stressgait\n",
    ")\n",
    "ax.set_ylim([2, 6])\n",
    "ax.set_xticklabels([f\"S{i}\" for i in range(0, 6)])\n",
    "ax.set_xlabel(\"Sample ID\")\n",
    "\n",
    "fig.tight_layout()\n",
    "fig.savefig(plot_path.joinpath(\"img_cortisol_response_absolute_sample_ids.pdf\"), transparent=True)"
   ]
  },
  {
   "cell_type": "code",
   "execution_count": null,
   "metadata": {
    "ExecuteTime": {
     "end_time": "2025-06-23T10:42:45.655689Z",
     "start_time": "2025-06-23T10:42:45.444495Z"
    }
   },
   "outputs": [],
   "source": [
    "fig, ax = plt.subplots()\n",
    "\n",
    "bp.protocols.plotting.saliva_plot(\n",
    "    data=dataset.cortisol,\n",
    "    saliva_type=\"cortisol\",\n",
    "    sample_times=dataset.sample_times,\n",
    "    test_times=[30, 38],\n",
    "    test_title=\"Gait Tests\",\n",
    "    sample_times_absolute=True,\n",
    "    x_offset=0,\n",
    "    ax=ax,\n",
    "    palette=stressgait\n",
    ")\n",
    "ax.set_ylim([2, 6])\n",
    "\n",
    "fig.tight_layout()\n",
    "fig.savefig(plot_path.joinpath(\"img_cortisol_response_absolute_times.pdf\"), transparent=True)"
   ]
  },
  {
   "cell_type": "markdown",
   "metadata": {},
   "source": [
    "#### Increase to S0"
   ]
  },
  {
   "cell_type": "code",
   "execution_count": null,
   "metadata": {
    "ExecuteTime": {
     "end_time": "2025-06-23T10:42:45.774324Z",
     "start_time": "2025-06-23T10:42:45.667752Z"
    }
   },
   "outputs": [],
   "source": [
    "fig, ax = plt.subplots()\n",
    "\n",
    "bp.protocols.plotting.saliva_plot(\n",
    "    data=cortisol_normalized,\n",
    "    saliva_type=\"cortisol\",\n",
    "    sample_times=[0, 1, 1.5, 2, 4, 5],\n",
    "    test_times=[1, 2],\n",
    "    test_title=\"Walking bouts\",\n",
    "    sample_times_absolute=True,\n",
    "    x_offset=0,\n",
    "    ax=ax,\n",
    "    palette=stressgait\n",
    ")\n",
    "ax.set_ylim([-1.1, 1.75])\n",
    "ax.set_xticklabels([f\"S{i}\" for i in range(0, 6)])\n",
    "ax.set_xlabel(\"Sample time\")\n",
    "ax.set_ylabel(\"Cortisol Increase to S0 [nmol/l]\")\n",
    "\n",
    "fig.tight_layout()\n",
    "fig.savefig(plot_path.joinpath(\"img_cortisol_response_normalized_sample_ids.pdf\"), transparent=True)"
   ]
  },
  {
   "cell_type": "code",
   "execution_count": null,
   "metadata": {
    "ExecuteTime": {
     "end_time": "2025-06-23T10:42:45.893441Z",
     "start_time": "2025-06-23T10:42:45.787863Z"
    }
   },
   "outputs": [],
   "source": [
    "fig, ax = plt.subplots()\n",
    "\n",
    "bp.protocols.plotting.saliva_plot(\n",
    "    data=cortisol_normalized,\n",
    "    saliva_type=\"cortisol\",\n",
    "    sample_times=dataset.sample_times,\n",
    "    test_times=[30, 38],\n",
    "    test_title=\"Gait Tests\",\n",
    "    sample_times_absolute=True,\n",
    "    x_offset=0,\n",
    "    ax=ax,\n",
    "    palette=stressgait\n",
    ")\n",
    "\n",
    "ax.set_ylim([-1.1, 1.75])\n",
    "ax.set_ylabel(\"Cortisol Increase to S0 [nmol/l]\")\n",
    "\n",
    "fig.tight_layout()\n",
    "fig.savefig(plot_path.joinpath(\"img_cortisol_response_normalized_times.pdf\"), transparent=True)"
   ]
  },
  {
   "cell_type": "code",
   "execution_count": null,
   "metadata": {
    "ExecuteTime": {
     "end_time": "2025-06-23T10:42:46.017510Z",
     "start_time": "2025-06-23T10:42:45.906831Z"
    }
   },
   "outputs": [],
   "source": [
    "fig, ax = plt.subplots()\n",
    "\n",
    "bp.protocols.plotting.saliva_plot(\n",
    "    data=dataset.cortisol,\n",
    "    saliva_type=\"cortisol\",\n",
    "    sample_times=[0, 1, 1.5, 2, 4, 5],\n",
    "    test_times=[1, 2],\n",
    "    test_title=\"Gait Tests\",\n",
    "    sample_times_absolute=True,\n",
    "    x_offset=0,\n",
    "    ax=ax,\n",
    "    palette=stressgait\n",
    ")\n",
    "ax.set_ylim([2, 6])\n",
    "ax.set_xticklabels([f\"S{i}\" for i in range(0, 6)])\n",
    "ax.set_xlabel(\"Sample ID\")\n",
    "\n",
    "fig.tight_layout()\n",
    "fig.savefig(plot_path.joinpath(\"img_cortisol_response_absolute_sample_ids.pdf\"), transparent=True)"
   ]
  },
  {
   "cell_type": "markdown",
   "metadata": {},
   "source": [
    "#### Boxplot of Individual Cortisol Samples"
   ]
  },
  {
   "cell_type": "code",
   "execution_count": null,
   "metadata": {
    "ExecuteTime": {
     "end_time": "2025-06-23T10:42:46.426176Z",
     "start_time": "2025-06-23T10:42:46.029716Z"
    }
   },
   "outputs": [],
   "source": [
    "fig, ax = plt.subplots()\n",
    "\n",
    "sns.boxplot(data=dataset.cortisol.reset_index(), x=\"sample\", y=\"cortisol\", hue=\"condition\", hue_order=hue_order, ax=ax, palette=stressgait\n",
    "                )\n",
    "sns.swarmplot(\n",
    "    data=dataset.cortisol.reset_index(),\n",
    "    x=\"sample\",\n",
    "    y=\"cortisol\",\n",
    "    hue=\"condition\",\n",
    "    hue_order=hue_order,\n",
    "    ax=ax,\n",
    "    palette=stressgait,\n",
    "    dodge=True,\n",
    "    legend=False,\n",
    "\n",
    ")\n",
    "\n",
    "ax.set_ylabel(\"Cortisol [nmol/l]\")\n",
    "\n",
    "fig.tight_layout()\n",
    "fig.savefig(plot_path.joinpath(\"img_boxplot_cortisol_samples.pdf\"), transparent=True)\n"
   ]
  },
  {
   "cell_type": "markdown",
   "metadata": {},
   "source": [
    "#### Plots"
   ]
  },
  {
   "cell_type": "code",
   "execution_count": null,
   "metadata": {
    "ExecuteTime": {
     "end_time": "2025-06-23T10:42:47.006339Z",
     "start_time": "2025-06-23T10:42:46.565774Z"
    }
   },
   "outputs": [],
   "source": [
    "fig, axs = plt.subplots(ncols=4)\n",
    "feature_names = [\"ΔS1\", \"Δc\", \"Δc\", \"auc\"]\n",
    "for key, ax in zip([\"inc_S0S1\", \"max_inc\", \"max_inc_percent\", \"auc_i\"], axs, strict=False):\n",
    "    data_slice = cortisol_features.xs(key, level=\"saliva_feature\")\n",
    "    sns.boxplot(\n",
    "        data=data_slice.reset_index(), x=\"condition\", y=\"cortisol\", hue=\"condition\", order=order, ax=ax, showmeans=True, palette=stressgait_palette)\n",
    "    sns.swarmplot(\n",
    "        data=data_slice.reset_index(), x=\"condition\", y=\"cortisol\", hue=\"condition\", order=order, ax=ax, palette=stressgait_palette, dodge=True)\n",
    "\n",
    "    ax.set_title(key)\n",
    "\n",
    "axs[0].set_ylabel(\"Cortisol [nmol/l]\")\n",
    "\n",
    "\n",
    "fig.tight_layout()\n",
    "fig.savefig(plot_path.joinpath(\"img_boxplot_cortisol_features.pdf\"), transparent=True)"
   ]
  }
 ],
 "metadata": {
  "jupytext": {
   "encoding": "# -*- coding: utf-8 -*-",
   "text_representation": {
    "extension": ".py",
    "format_name": "sphinx",
    "format_version": "1.1",
    "jupytext_version": "1.13.0"
   }
  },
  "kernelspec": {
   "display_name": "stressgait_analysis",
   "language": "python",
   "name": "stressgait_analysis"
  },
  "language_info": {
   "codemirror_mode": {
    "name": "ipython",
    "version": 3
   },
   "file_extension": ".py",
   "mimetype": "text/x-python",
   "name": "python",
   "nbconvert_exporter": "python",
   "pygments_lexer": "ipython3",
   "version": "3.11.11"
  },
  "toc-showtags": false,
  "vscode": {
   "interpreter": {
    "hash": "7014e6a8beff3a47c7c0424a6c63a486addc0ee3d12468bf1ae9a85a56cca70c"
   }
  }
 },
 "nbformat": 4,
 "nbformat_minor": 4
}

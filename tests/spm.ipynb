{
 "cells": [
  {
   "cell_type": "code",
   "id": "initial_id",
   "metadata": {
    "collapsed": true,
    "ExecuteTime": {
     "end_time": "2025-03-26T15:52:49.707111Z",
     "start_time": "2025-03-26T15:52:49.694982Z"
    }
   },
   "source": "",
   "outputs": [
    {
     "ename": "AttributeError",
     "evalue": "module 'spm1d.data.uv1d.anova1' has no attribute 'Cars'",
     "output_type": "error",
     "traceback": [
      "\u001B[0;31m---------------------------------------------------------------------------\u001B[0m",
      "\u001B[0;31mAttributeError\u001B[0m                            Traceback (most recent call last)",
      "Cell \u001B[0;32mIn[4], line 2\u001B[0m\n\u001B[1;32m      1\u001B[0m \u001B[38;5;28;01mimport\u001B[39;00m\u001B[38;5;250m \u001B[39m\u001B[38;5;21;01mspm1d\u001B[39;00m\n\u001B[0;32m----> 2\u001B[0m dataset \u001B[38;5;241m=\u001B[39m \u001B[43mspm1d\u001B[49m\u001B[38;5;241;43m.\u001B[39;49m\u001B[43mdata\u001B[49m\u001B[38;5;241;43m.\u001B[39;49m\u001B[43muv1d\u001B[49m\u001B[38;5;241;43m.\u001B[39;49m\u001B[43manova1\u001B[49m\u001B[38;5;241;43m.\u001B[39;49m\u001B[43mCars\u001B[49m()\n",
      "\u001B[0;31mAttributeError\u001B[0m: module 'spm1d.data.uv1d.anova1' has no attribute 'Cars'"
     ]
    }
   ],
   "execution_count": 4
  },
  {
   "metadata": {
    "ExecuteTime": {
     "end_time": "2025-03-26T15:52:41.069871Z",
     "start_time": "2025-03-26T15:52:41.066836Z"
    }
   },
   "cell_type": "code",
   "source": "",
   "id": "d30ae7f67591e146",
   "outputs": [
    {
     "data": {
      "text/plain": [
       "Dataset\n",
       "   Name      : \"Cars\"\n",
       "   Design    :  One-way ANOVA\n",
       "   Data dim  :  0\n",
       "   Web       :  http://cba.ualr.edu/smartstat/topics/anova/example.pdf\n",
       "  (Expected results)\n",
       "  F          :  25.17\n",
       "  df         :  (2, 6)\n",
       "  p          :  0.001207"
      ]
     },
     "execution_count": 3,
     "metadata": {},
     "output_type": "execute_result"
    }
   ],
   "execution_count": 3
  },
  {
   "metadata": {},
   "cell_type": "code",
   "outputs": [],
   "execution_count": null,
   "source": "",
   "id": "7c4cb4e1c77c9771"
  }
 ],
 "metadata": {
  "kernelspec": {
   "display_name": "Python 3",
   "language": "python",
   "name": "python3"
  },
  "language_info": {
   "codemirror_mode": {
    "name": "ipython",
    "version": 2
   },
   "file_extension": ".py",
   "mimetype": "text/x-python",
   "name": "python",
   "nbconvert_exporter": "python",
   "pygments_lexer": "ipython2",
   "version": "2.7.6"
  }
 },
 "nbformat": 4,
 "nbformat_minor": 5
}
